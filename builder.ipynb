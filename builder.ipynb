{
 "cells": [
  {
   "cell_type": "code",
   "execution_count": 5,
   "metadata": {},
   "outputs": [
    {
     "name": "stdout",
     "output_type": "stream",
     "text": [
      "Filtered posts saved to ./Data/trading_posts.jsonl\n"
     ]
    }
   ],
   "source": [
    "import json\n",
    "\n",
    "# File paths\n",
    "input_file = \"./Data/corpus-webis-tldr-17/corpus-webis-tldr-17.json\"\n",
    "output_file = \"./Data/trading_posts.jsonl\"  # Output filtered file\n",
    "\n",
    "# List of trading-related subreddits to filter\n",
    "trading_subreddits = {\n",
    "    \"stocks\",\n",
    "    \"investing\",\n",
    "    \"Daytrading\",\n",
    "    \"StockMarket\",\n",
    "    \"WallStreetBets\",\n",
    "    \"Trading\",\n",
    "    \"Forex\",\n",
    "    \"cryptocurrency\",\n",
    "    \"CryptoMarkets\",\n",
    "    \"options\",\n",
    "    \"thetagang\",\n",
    "    \"algotrading\",\n",
    "    \"TechnicalAnalysis\",\n",
    "}\n",
    "\n",
    "# Process the large JSONL file line by line\n",
    "with open(input_file, \"r\", encoding=\"utf-8\") as infile, open(output_file, \"w\", encoding=\"utf-8\") as outfile:\n",
    "    for line in infile:\n",
    "        try:\n",
    "            post = json.loads(line)  # Load one JSON object at a time\n",
    "            subreddit = post.get(\"subreddit\", \"\").lower()  # Normalize to lowercase\n",
    "            \n",
    "            if subreddit in trading_subreddits:  # Check if it's a trading-related post\n",
    "                outfile.write(json.dumps(post) + \"\\n\")  # Write the filtered post to file\n",
    "\n",
    "        except json.JSONDecodeError:\n",
    "            continue  # Skip malformed lines\n",
    "        except UnicodeDecodeError:\n",
    "            print(\"Skipping a problematic line due to encoding issue.\")\n",
    "\n",
    "print(f\"Filtered posts saved to {output_file}\")\n"
   ]
  }
 ],
 "metadata": {
  "kernelspec": {
   "display_name": "venv",
   "language": "python",
   "name": "python3"
  },
  "language_info": {
   "codemirror_mode": {
    "name": "ipython",
    "version": 3
   },
   "file_extension": ".py",
   "mimetype": "text/x-python",
   "name": "python",
   "nbconvert_exporter": "python",
   "pygments_lexer": "ipython3",
   "version": "3.11.1"
  }
 },
 "nbformat": 4,
 "nbformat_minor": 2
}
