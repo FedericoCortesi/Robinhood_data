{
 "cells": [
  {
   "cell_type": "code",
   "execution_count": 1,
   "id": "c44be699",
   "metadata": {},
   "outputs": [],
   "source": [
    "%load_ext autoreload\n",
    "%autoreload 2"
   ]
  },
  {
   "cell_type": "code",
   "execution_count": 2,
   "id": "f0909e6a",
   "metadata": {},
   "outputs": [],
   "source": [
    "import logging\n",
    "from src.utils.custom_formatter import setup_custom_logger\n",
    "logger = setup_custom_logger(__name__, level=logging.DEBUG)"
   ]
  },
  {
   "cell_type": "markdown",
   "id": "2a40624f",
   "metadata": {},
   "source": [
    "- Load dataset to have actual returns and market returns"
   ]
  },
  {
   "cell_type": "code",
   "execution_count": 3,
   "id": "149393dd",
   "metadata": {},
   "outputs": [
    {
     "name": "stderr",
     "output_type": "stream",
     "text": [
      "\u001b[38;20m2025-04-30 20:41:30,778 - src.analyzer - INFO - ############################## Analysis Started ############################## (analyzer.py:80)\u001b[0m\n",
      "\u001b[33;20m2025-04-30 20:41:39,801 - src.analyzer - WARNING - Empty dataframe produced for tickers: [] (analyzer.py:172)\u001b[0m\n"
     ]
    },
    {
     "data": {
      "application/vnd.microsoft.datawrangler.viewer.v0+json": {
       "columns": [
        {
         "name": "date",
         "rawType": "datetime64[ns]",
         "type": "datetime"
        },
        {
         "name": "rh_portfolio",
         "rawType": "float64",
         "type": "float"
        }
       ],
       "conversionMethod": "pd.DataFrame",
       "ref": "9a21af7e-f31b-4180-bc03-b83ce362aafa",
       "rows": [
        [
         "2018-05-03 00:00:00",
         "-0.6027449786679018"
        ],
        [
         "2018-05-04 00:00:00",
         "1.6831617379601482"
        ],
        [
         "2018-05-07 00:00:00",
         "0.8523299198677892"
        ],
        [
         "2018-05-08 00:00:00",
         "0.4133298025815524"
        ],
        [
         "2018-05-09 00:00:00",
         "1.028846300932429"
        ],
        [
         "2018-05-10 00:00:00",
         "0.7781732131851404"
        ],
        [
         "2018-05-11 00:00:00",
         "0.09818888909871593"
        ],
        [
         "2018-05-14 00:00:00",
         "0.3002320307563533"
        ],
        [
         "2018-05-15 00:00:00",
         "-0.40252147169371755"
        ],
        [
         "2018-05-16 00:00:00",
         "0.789473793117712"
        ],
        [
         "2018-05-17 00:00:00",
         "-0.03640765398689183"
        ],
        [
         "2018-05-18 00:00:00",
         "-0.41107704837265446"
        ],
        [
         "2018-05-21 00:00:00",
         "0.6725534946249834"
        ],
        [
         "2018-05-22 00:00:00",
         "-0.44496890300599334"
        ],
        [
         "2018-05-23 00:00:00",
         "0.3724844129062932"
        ],
        [
         "2018-05-24 00:00:00",
         "0.16800753381884803"
        ],
        [
         "2018-05-25 00:00:00",
         "-0.0055948595419574865"
        ],
        [
         "2018-05-29 00:00:00",
         "-0.575179581107732"
        ],
        [
         "2018-05-30 00:00:00",
         "1.2817397749160797"
        ],
        [
         "2018-05-31 00:00:00",
         "-0.3325931212497468"
        ],
        [
         "2018-06-01 00:00:00",
         "1.2836946964869922"
        ],
        [
         "2018-06-04 00:00:00",
         "0.79789566275974"
        ],
        [
         "2018-06-05 00:00:00",
         "0.766696692467006"
        ],
        [
         "2018-06-06 00:00:00",
         "0.9566548392276664"
        ],
        [
         "2018-06-07 00:00:00",
         "-0.4559101860602599"
        ],
        [
         "2018-06-08 00:00:00",
         "0.347463104253376"
        ],
        [
         "2018-06-11 00:00:00",
         "0.7348001542567539"
        ],
        [
         "2018-06-12 00:00:00",
         "0.8143432564813979"
        ],
        [
         "2018-06-13 00:00:00",
         "-0.06753245415543896"
        ],
        [
         "2018-06-14 00:00:00",
         "0.6711715280115271"
        ],
        [
         "2018-06-15 00:00:00",
         "-0.2619219740046863"
        ],
        [
         "2018-06-18 00:00:00",
         "0.7453900335855135"
        ],
        [
         "2018-06-19 00:00:00",
         "-0.8453917133883215"
        ],
        [
         "2018-06-20 00:00:00",
         "0.6229305711595634"
        ],
        [
         "2018-06-21 00:00:00",
         "-1.2924797996134996"
        ],
        [
         "2018-06-22 00:00:00",
         "0.00817064834173209"
        ],
        [
         "2018-06-25 00:00:00",
         "-2.4453559779373912"
        ],
        [
         "2018-06-26 00:00:00",
         "0.9528151591860823"
        ],
        [
         "2018-06-27 00:00:00",
         "-1.6147218561460175"
        ],
        [
         "2018-06-28 00:00:00",
         "0.8589124451778174"
        ],
        [
         "2018-06-29 00:00:00",
         "-0.26402925176266523"
        ],
        [
         "2018-07-02 00:00:00",
         "0.6406424636631991"
        ],
        [
         "2018-07-03 00:00:00",
         "-0.5458134053743846"
        ],
        [
         "2018-07-05 00:00:00",
         "0.9993596198057286"
        ],
        [
         "2018-07-06 00:00:00",
         "1.311566459557123"
        ],
        [
         "2018-07-09 00:00:00",
         "0.8808136421405655"
        ],
        [
         "2018-07-10 00:00:00",
         "-0.2225900378629797"
        ],
        [
         "2018-07-11 00:00:00",
         "-0.8315717168457026"
        ],
        [
         "2018-07-12 00:00:00",
         "1.1374871766059558"
        ],
        [
         "2018-07-13 00:00:00",
         "-0.2422676417241698"
        ]
       ],
       "shape": {
        "columns": 1,
        "rows": 429
       }
      },
      "text/html": [
       "<div>\n",
       "<style scoped>\n",
       "    .dataframe tbody tr th:only-of-type {\n",
       "        vertical-align: middle;\n",
       "    }\n",
       "\n",
       "    .dataframe tbody tr th {\n",
       "        vertical-align: top;\n",
       "    }\n",
       "\n",
       "    .dataframe thead th {\n",
       "        text-align: right;\n",
       "    }\n",
       "</style>\n",
       "<table border=\"1\" class=\"dataframe\">\n",
       "  <thead>\n",
       "    <tr style=\"text-align: right;\">\n",
       "      <th></th>\n",
       "      <th>rh_portfolio</th>\n",
       "    </tr>\n",
       "    <tr>\n",
       "      <th>date</th>\n",
       "      <th></th>\n",
       "    </tr>\n",
       "  </thead>\n",
       "  <tbody>\n",
       "    <tr>\n",
       "      <th>2018-05-03</th>\n",
       "      <td>-0.602745</td>\n",
       "    </tr>\n",
       "    <tr>\n",
       "      <th>2018-05-04</th>\n",
       "      <td>1.683162</td>\n",
       "    </tr>\n",
       "    <tr>\n",
       "      <th>2018-05-07</th>\n",
       "      <td>0.852330</td>\n",
       "    </tr>\n",
       "    <tr>\n",
       "      <th>2018-05-08</th>\n",
       "      <td>0.413330</td>\n",
       "    </tr>\n",
       "    <tr>\n",
       "      <th>2018-05-09</th>\n",
       "      <td>1.028846</td>\n",
       "    </tr>\n",
       "    <tr>\n",
       "      <th>...</th>\n",
       "      <td>...</td>\n",
       "    </tr>\n",
       "    <tr>\n",
       "      <th>2020-01-28</th>\n",
       "      <td>1.713913</td>\n",
       "    </tr>\n",
       "    <tr>\n",
       "      <th>2020-01-29</th>\n",
       "      <td>-0.579647</td>\n",
       "    </tr>\n",
       "    <tr>\n",
       "      <th>2020-01-30</th>\n",
       "      <td>-0.322621</td>\n",
       "    </tr>\n",
       "    <tr>\n",
       "      <th>2020-01-31</th>\n",
       "      <td>-1.829561</td>\n",
       "    </tr>\n",
       "    <tr>\n",
       "      <th>2020-02-03</th>\n",
       "      <td>1.156818</td>\n",
       "    </tr>\n",
       "  </tbody>\n",
       "</table>\n",
       "<p>429 rows × 1 columns</p>\n",
       "</div>"
      ],
      "text/plain": [
       "            rh_portfolio\n",
       "date                    \n",
       "2018-05-03     -0.602745\n",
       "2018-05-04      1.683162\n",
       "2018-05-07      0.852330\n",
       "2018-05-08      0.413330\n",
       "2018-05-09      1.028846\n",
       "...                  ...\n",
       "2020-01-28      1.713913\n",
       "2020-01-29     -0.579647\n",
       "2020-01-30     -0.322621\n",
       "2020-01-31     -1.829561\n",
       "2020-02-03      1.156818\n",
       "\n",
       "[429 rows x 1 columns]"
      ]
     },
     "execution_count": 3,
     "metadata": {},
     "output_type": "execute_result"
    }
   ],
   "source": [
    "from src import Analyzer\n",
    "from src.utils.params import ReturnParams\n",
    "\n",
    "import numpy as np\n",
    "\n",
    "return_params = ReturnParams(\n",
    "    horizons={},  \n",
    "    start_date=None,\n",
    "    end_date=\"2020-02-03\",\n",
    "    cumulative=False,\n",
    "    append_start=False\n",
    ")\n",
    "\n",
    "an = Analyzer(compare_tickers=[], return_params=return_params, stocks_only=False, weights_application=\"wealth\", dl_kwargs={\"weights_method\":\"dollar\"})\n",
    "\n",
    "\n",
    "ret, hor = an.build_returns()\n",
    "\n",
    "ret = (np.exp(ret) -1)*100\n",
    "ret"
   ]
  },
  {
   "cell_type": "code",
   "execution_count": 4,
   "id": "a4359e74",
   "metadata": {},
   "outputs": [
    {
     "data": {
      "application/vnd.microsoft.datawrangler.viewer.v0+json": {
       "columns": [
        {
         "name": "index",
         "rawType": "datetime64[ns]",
         "type": "datetime"
        },
        {
         "name": "xr",
         "rawType": "float64",
         "type": "float"
        },
        {
         "name": "xmkt",
         "rawType": "float64",
         "type": "float"
        }
       ],
       "conversionMethod": "pd.DataFrame",
       "ref": "806e648e-e528-40e6-92a9-4e65df697f20",
       "rows": [
        [
         "2018-06-04 00:00:00",
         "1.0079189566275975",
         "1.0048"
        ],
        [
         "2018-06-05 00:00:00",
         "1.0076069669246701",
         "1.0016"
        ],
        [
         "2018-06-06 00:00:00",
         "1.0095065483922767",
         "1.0086"
        ],
        [
         "2018-06-07 00:00:00",
         "0.9953808981393975",
         "0.9986"
        ],
        [
         "2018-06-08 00:00:00",
         "1.0034146310425338",
         "1.0031"
        ],
        [
         "2018-06-11 00:00:00",
         "1.0072880015425676",
         "1.0012"
        ],
        [
         "2018-06-12 00:00:00",
         "1.008083432564814",
         "1.0023"
        ],
        [
         "2018-06-13 00:00:00",
         "0.9992646754584457",
         "0.9967"
        ],
        [
         "2018-06-14 00:00:00",
         "1.0066517152801153",
         "1.0027"
        ],
        [
         "2018-06-15 00:00:00",
         "0.9973207802599532",
         "0.9992"
        ],
        [
         "2018-06-18 00:00:00",
         "1.0073939003358552",
         "0.9991"
        ],
        [
         "2018-06-19 00:00:00",
         "0.9914860828661168",
         "0.9962"
        ],
        [
         "2018-06-20 00:00:00",
         "1.0061693057115957",
         "1.0023"
        ],
        [
         "2018-06-21 00:00:00",
         "0.987015202003865",
         "0.9927"
        ],
        [
         "2018-06-22 00:00:00",
         "1.0000217064834174",
         "1.0011"
        ],
        [
         "2018-06-25 00:00:00",
         "0.9754864402206261",
         "0.9852"
        ],
        [
         "2018-06-26 00:00:00",
         "1.0094681515918609",
         "1.0027"
        ],
        [
         "2018-06-27 00:00:00",
         "0.9837927814385399",
         "0.9898"
        ],
        [
         "2018-06-28 00:00:00",
         "1.0085291244517782",
         "1.0058"
        ],
        [
         "2018-06-29 00:00:00",
         "0.9972997074823734",
         "1.0007"
        ],
        [
         "2018-07-02 00:00:00",
         "1.006326424636632",
         "1.0036"
        ],
        [
         "2018-07-03 00:00:00",
         "0.9944618659462562",
         "0.9956"
        ],
        [
         "2018-07-05 00:00:00",
         "1.0099135961980572",
         "1.0087"
        ],
        [
         "2018-07-06 00:00:00",
         "1.0130356645955712",
         "1.0088"
        ],
        [
         "2018-07-09 00:00:00",
         "1.0087281364214056",
         "1.0093"
        ],
        [
         "2018-07-10 00:00:00",
         "0.9976940996213702",
         "1.0021"
        ],
        [
         "2018-07-11 00:00:00",
         "0.991604282831543",
         "0.9931"
        ],
        [
         "2018-07-12 00:00:00",
         "1.0112948717660595",
         "1.0086"
        ],
        [
         "2018-07-13 00:00:00",
         "0.9974973235827583",
         "1.0008"
        ],
        [
         "2018-07-16 00:00:00",
         "0.9957604907886554",
         "0.9984"
        ],
        [
         "2018-07-17 00:00:00",
         "1.005770137202771",
         "1.0048"
        ],
        [
         "2018-07-18 00:00:00",
         "0.9992596816735199",
         "1.0027"
        ],
        [
         "2018-07-19 00:00:00",
         "0.9970501403849312",
         "0.9966"
        ],
        [
         "2018-07-20 00:00:00",
         "0.992408682141699",
         "0.999"
        ],
        [
         "2018-07-23 00:00:00",
         "0.9996782150207657",
         "1.0015"
        ],
        [
         "2018-07-24 00:00:00",
         "0.9937482896567358",
         "1.0022"
        ],
        [
         "2018-07-25 00:00:00",
         "1.0105605067366945",
         "1.0083"
        ],
        [
         "2018-07-26 00:00:00",
         "0.9974471645621661",
         "0.998"
        ],
        [
         "2018-07-27 00:00:00",
         "0.9818924660105124",
         "0.9918"
        ],
        [
         "2018-07-30 00:00:00",
         "0.9861145116712784",
         "0.993"
        ],
        [
         "2018-07-31 00:00:00",
         "1.0063507356778019",
         "1.0051"
        ],
        [
         "2018-08-01 00:00:00",
         "1.000479039029362",
         "0.9987"
        ],
        [
         "2018-08-02 00:00:00",
         "1.0088083981067797",
         "1.0067"
        ],
        [
         "2018-08-03 00:00:00",
         "1.001271850232699",
         "1.0031"
        ],
        [
         "2018-08-06 00:00:00",
         "1.0064692943202025",
         "1.0046"
        ],
        [
         "2018-08-07 00:00:00",
         "1.00322523691758",
         "1.0029"
        ],
        [
         "2018-08-08 00:00:00",
         "0.9973858229877555",
         "0.9996"
        ],
        [
         "2018-08-13 00:00:00",
         "0.9931099382526583",
         "0.9954"
        ],
        [
         "2018-08-14 00:00:00",
         "1.0019590652832575",
         "1.0069"
        ],
        [
         "2018-08-15 00:00:00",
         "0.9867622789056583",
         "0.9909"
        ]
       ],
       "shape": {
        "columns": 2,
        "rows": 405
       }
      },
      "text/html": [
       "<div>\n",
       "<style scoped>\n",
       "    .dataframe tbody tr th:only-of-type {\n",
       "        vertical-align: middle;\n",
       "    }\n",
       "\n",
       "    .dataframe tbody tr th {\n",
       "        vertical-align: top;\n",
       "    }\n",
       "\n",
       "    .dataframe thead th {\n",
       "        text-align: right;\n",
       "    }\n",
       "</style>\n",
       "<table border=\"1\" class=\"dataframe\">\n",
       "  <thead>\n",
       "    <tr style=\"text-align: right;\">\n",
       "      <th></th>\n",
       "      <th>xr</th>\n",
       "      <th>xmkt</th>\n",
       "    </tr>\n",
       "  </thead>\n",
       "  <tbody>\n",
       "    <tr>\n",
       "      <th>2018-06-04</th>\n",
       "      <td>1.007919</td>\n",
       "      <td>1.0048</td>\n",
       "    </tr>\n",
       "    <tr>\n",
       "      <th>2018-06-05</th>\n",
       "      <td>1.007607</td>\n",
       "      <td>1.0016</td>\n",
       "    </tr>\n",
       "    <tr>\n",
       "      <th>2018-06-06</th>\n",
       "      <td>1.009507</td>\n",
       "      <td>1.0086</td>\n",
       "    </tr>\n",
       "    <tr>\n",
       "      <th>2018-06-07</th>\n",
       "      <td>0.995381</td>\n",
       "      <td>0.9986</td>\n",
       "    </tr>\n",
       "    <tr>\n",
       "      <th>2018-06-08</th>\n",
       "      <td>1.003415</td>\n",
       "      <td>1.0031</td>\n",
       "    </tr>\n",
       "    <tr>\n",
       "      <th>...</th>\n",
       "      <td>...</td>\n",
       "      <td>...</td>\n",
       "    </tr>\n",
       "    <tr>\n",
       "      <th>2020-01-28</th>\n",
       "      <td>1.017079</td>\n",
       "      <td>1.0102</td>\n",
       "    </tr>\n",
       "    <tr>\n",
       "      <th>2020-01-29</th>\n",
       "      <td>0.994144</td>\n",
       "      <td>0.9990</td>\n",
       "    </tr>\n",
       "    <tr>\n",
       "      <th>2020-01-30</th>\n",
       "      <td>0.996714</td>\n",
       "      <td>1.0034</td>\n",
       "    </tr>\n",
       "    <tr>\n",
       "      <th>2020-01-31</th>\n",
       "      <td>0.981644</td>\n",
       "      <td>0.9826</td>\n",
       "    </tr>\n",
       "    <tr>\n",
       "      <th>2020-02-03</th>\n",
       "      <td>1.011508</td>\n",
       "      <td>1.0084</td>\n",
       "    </tr>\n",
       "  </tbody>\n",
       "</table>\n",
       "<p>405 rows × 2 columns</p>\n",
       "</div>"
      ],
      "text/plain": [
       "                  xr    xmkt\n",
       "2018-06-04  1.007919  1.0048\n",
       "2018-06-05  1.007607  1.0016\n",
       "2018-06-06  1.009507  1.0086\n",
       "2018-06-07  0.995381  0.9986\n",
       "2018-06-08  1.003415  1.0031\n",
       "...              ...     ...\n",
       "2020-01-28  1.017079  1.0102\n",
       "2020-01-29  0.994144  0.9990\n",
       "2020-01-30  0.996714  1.0034\n",
       "2020-01-31  0.981644  0.9826\n",
       "2020-02-03  1.011508  1.0084\n",
       "\n",
       "[405 rows x 2 columns]"
      ]
     },
     "execution_count": 4,
     "metadata": {},
     "output_type": "execute_result"
    }
   ],
   "source": [
    "import pandas as pd\n",
    "from config.constants import PROJECT_ROOT\n",
    "\n",
    "daily_factors = pd.read_csv(f\"{PROJECT_ROOT}/jf-datashare/gabriel-cuevas/data/18_rwarh_d_1.csv\", index_col=0)\n",
    "daily_factors.index = pd.to_datetime(daily_factors.index, format=\"%Y%m%d\")\n",
    "daily_factors[[\"pfioret100\", \"xmkt\", \"rf\"]]\n",
    "\n",
    "\n",
    "\n",
    "daily_factors = daily_factors.merge(ret[\"rh_portfolio\"], left_index=True, right_index=True, how=\"inner\")\n",
    "daily_factors /= 100 \n",
    "\n",
    "daily_factors[\"xr\"] = daily_factors[\"rh_portfolio\"] - daily_factors[\"rf\"]\n",
    "daily_factors += 1\n",
    "\n",
    "daily_factors = daily_factors[[\"xr\", \"xmkt\"]]\n",
    "daily_factors\n"
   ]
  },
  {
   "cell_type": "code",
   "execution_count": 5,
   "id": "de74912f",
   "metadata": {},
   "outputs": [
    {
     "data": {
      "application/vnd.microsoft.datawrangler.viewer.v0+json": {
       "columns": [
        {
         "name": "index",
         "rawType": "datetime64[ns]",
         "type": "datetime"
        },
        {
         "name": "xr",
         "rawType": "float64",
         "type": "float"
        },
        {
         "name": "xmkt",
         "rawType": "float64",
         "type": "float"
        }
       ],
       "conversionMethod": "pd.DataFrame",
       "ref": "9184e873-2c49-404b-813e-9bc14de3eb95",
       "rows": [
        [
         "2018-06-30 00:00:00",
         "1.0082362896506436",
         "0.9941279328539568"
        ],
        [
         "2018-07-31 00:00:00",
         "0.9958741922341571",
         "1.0321743998803463"
        ],
        [
         "2018-08-31 00:00:00",
         "1.0709415854701694",
         "1.0411841968307067"
        ],
        [
         "2018-09-30 00:00:00",
         "1.0060361338504018",
         "1.0008710142474015"
        ],
        [
         "2018-10-31 00:00:00",
         "0.8931393230040328",
         "0.923332636181443"
        ],
        [
         "2018-11-30 00:00:00",
         "0.9999904521203391",
         "1.0169959335867849"
        ],
        [
         "2018-12-31 00:00:00",
         "0.8906038147843354",
         "0.9047173998749777"
        ],
        [
         "2019-01-31 00:00:00",
         "1.131084229407665",
         "1.0664207623398392"
        ],
        [
         "2019-02-28 00:00:00",
         "1.0549404735304615",
         "1.0338776256185285"
        ],
        [
         "2019-03-31 00:00:00",
         "1.0088456662405567",
         "1.0108077323315248"
        ],
        [
         "2019-04-30 00:00:00",
         "1.0284592520480313",
         "1.0394409307905605"
        ],
        [
         "2019-05-31 00:00:00",
         "0.9073716078755323",
         "0.9307417626581141"
        ],
        [
         "2019-06-30 00:00:00",
         "1.069796469884897",
         "1.0694033714025206"
        ],
        [
         "2019-07-31 00:00:00",
         "0.9836477071211068",
         "1.0122592781266846"
        ],
        [
         "2019-08-31 00:00:00",
         "0.9333254981407565",
         "0.9744240598985753"
        ],
        [
         "2019-09-30 00:00:00",
         "0.9915085771544249",
         "1.0141291896377103"
        ],
        [
         "2019-10-31 00:00:00",
         "1.002177359153638",
         "1.0206134485108098"
        ],
        [
         "2019-11-30 00:00:00",
         "1.030156210268638",
         "1.0387516490201925"
        ],
        [
         "2019-12-31 00:00:00",
         "1.0385825431834488",
         "1.027623501156025"
        ],
        [
         "2020-01-31 00:00:00",
         "0.9575302570669055",
         "0.9764254552612704"
        ],
        [
         "2020-02-29 00:00:00",
         "1.011508176393569",
         "1.0084"
        ]
       ],
       "shape": {
        "columns": 2,
        "rows": 21
       }
      },
      "text/html": [
       "<div>\n",
       "<style scoped>\n",
       "    .dataframe tbody tr th:only-of-type {\n",
       "        vertical-align: middle;\n",
       "    }\n",
       "\n",
       "    .dataframe tbody tr th {\n",
       "        vertical-align: top;\n",
       "    }\n",
       "\n",
       "    .dataframe thead th {\n",
       "        text-align: right;\n",
       "    }\n",
       "</style>\n",
       "<table border=\"1\" class=\"dataframe\">\n",
       "  <thead>\n",
       "    <tr style=\"text-align: right;\">\n",
       "      <th></th>\n",
       "      <th>xr</th>\n",
       "      <th>xmkt</th>\n",
       "    </tr>\n",
       "  </thead>\n",
       "  <tbody>\n",
       "    <tr>\n",
       "      <th>2018-06-30</th>\n",
       "      <td>1.008236</td>\n",
       "      <td>0.994128</td>\n",
       "    </tr>\n",
       "    <tr>\n",
       "      <th>2018-07-31</th>\n",
       "      <td>0.995874</td>\n",
       "      <td>1.032174</td>\n",
       "    </tr>\n",
       "    <tr>\n",
       "      <th>2018-08-31</th>\n",
       "      <td>1.070942</td>\n",
       "      <td>1.041184</td>\n",
       "    </tr>\n",
       "    <tr>\n",
       "      <th>2018-09-30</th>\n",
       "      <td>1.006036</td>\n",
       "      <td>1.000871</td>\n",
       "    </tr>\n",
       "    <tr>\n",
       "      <th>2018-10-31</th>\n",
       "      <td>0.893139</td>\n",
       "      <td>0.923333</td>\n",
       "    </tr>\n",
       "    <tr>\n",
       "      <th>2018-11-30</th>\n",
       "      <td>0.999990</td>\n",
       "      <td>1.016996</td>\n",
       "    </tr>\n",
       "    <tr>\n",
       "      <th>2018-12-31</th>\n",
       "      <td>0.890604</td>\n",
       "      <td>0.904717</td>\n",
       "    </tr>\n",
       "    <tr>\n",
       "      <th>2019-01-31</th>\n",
       "      <td>1.131084</td>\n",
       "      <td>1.066421</td>\n",
       "    </tr>\n",
       "    <tr>\n",
       "      <th>2019-02-28</th>\n",
       "      <td>1.054940</td>\n",
       "      <td>1.033878</td>\n",
       "    </tr>\n",
       "    <tr>\n",
       "      <th>2019-03-31</th>\n",
       "      <td>1.008846</td>\n",
       "      <td>1.010808</td>\n",
       "    </tr>\n",
       "    <tr>\n",
       "      <th>2019-04-30</th>\n",
       "      <td>1.028459</td>\n",
       "      <td>1.039441</td>\n",
       "    </tr>\n",
       "    <tr>\n",
       "      <th>2019-05-31</th>\n",
       "      <td>0.907372</td>\n",
       "      <td>0.930742</td>\n",
       "    </tr>\n",
       "    <tr>\n",
       "      <th>2019-06-30</th>\n",
       "      <td>1.069796</td>\n",
       "      <td>1.069403</td>\n",
       "    </tr>\n",
       "    <tr>\n",
       "      <th>2019-07-31</th>\n",
       "      <td>0.983648</td>\n",
       "      <td>1.012259</td>\n",
       "    </tr>\n",
       "    <tr>\n",
       "      <th>2019-08-31</th>\n",
       "      <td>0.933325</td>\n",
       "      <td>0.974424</td>\n",
       "    </tr>\n",
       "    <tr>\n",
       "      <th>2019-09-30</th>\n",
       "      <td>0.991509</td>\n",
       "      <td>1.014129</td>\n",
       "    </tr>\n",
       "    <tr>\n",
       "      <th>2019-10-31</th>\n",
       "      <td>1.002177</td>\n",
       "      <td>1.020613</td>\n",
       "    </tr>\n",
       "    <tr>\n",
       "      <th>2019-11-30</th>\n",
       "      <td>1.030156</td>\n",
       "      <td>1.038752</td>\n",
       "    </tr>\n",
       "    <tr>\n",
       "      <th>2019-12-31</th>\n",
       "      <td>1.038583</td>\n",
       "      <td>1.027624</td>\n",
       "    </tr>\n",
       "    <tr>\n",
       "      <th>2020-01-31</th>\n",
       "      <td>0.957530</td>\n",
       "      <td>0.976425</td>\n",
       "    </tr>\n",
       "    <tr>\n",
       "      <th>2020-02-29</th>\n",
       "      <td>1.011508</td>\n",
       "      <td>1.008400</td>\n",
       "    </tr>\n",
       "  </tbody>\n",
       "</table>\n",
       "</div>"
      ],
      "text/plain": [
       "                  xr      xmkt\n",
       "2018-06-30  1.008236  0.994128\n",
       "2018-07-31  0.995874  1.032174\n",
       "2018-08-31  1.070942  1.041184\n",
       "2018-09-30  1.006036  1.000871\n",
       "2018-10-31  0.893139  0.923333\n",
       "2018-11-30  0.999990  1.016996\n",
       "2018-12-31  0.890604  0.904717\n",
       "2019-01-31  1.131084  1.066421\n",
       "2019-02-28  1.054940  1.033878\n",
       "2019-03-31  1.008846  1.010808\n",
       "2019-04-30  1.028459  1.039441\n",
       "2019-05-31  0.907372  0.930742\n",
       "2019-06-30  1.069796  1.069403\n",
       "2019-07-31  0.983648  1.012259\n",
       "2019-08-31  0.933325  0.974424\n",
       "2019-09-30  0.991509  1.014129\n",
       "2019-10-31  1.002177  1.020613\n",
       "2019-11-30  1.030156  1.038752\n",
       "2019-12-31  1.038583  1.027624\n",
       "2020-01-31  0.957530  0.976425\n",
       "2020-02-29  1.011508  1.008400"
      ]
     },
     "execution_count": 5,
     "metadata": {},
     "output_type": "execute_result"
    }
   ],
   "source": [
    "#monthly_factors = pd.read_csv(f\"{PROJECT_ROOT}/jf-datashare/gabriel-cuevas/data/20_rwarh_m_1.csv\", index_col=0)\n",
    "#monthly_factors[\"xr\"] = monthly_factors[\"pfioret100\"] - monthly_factors[\"rf\"]\n",
    "#monthly_factors = monthly_factors[[\"xr\", \"xmkt\"]]\n",
    "#monthly_factors.index = pd.to_datetime(monthly_factors.index, format=\"%Y%m\")\n",
    "monthly_returns = (daily_factors).resample(\"M\").prod() - 1\n",
    "monthly_returns += 1\n",
    "monthly_returns\n",
    "\n"
   ]
  },
  {
   "cell_type": "code",
   "execution_count": 6,
   "id": "3a7fd741",
   "metadata": {},
   "outputs": [
    {
     "name": "stdout",
     "output_type": "stream",
     "text": [
      "Gamma: -7.0344\n"
     ]
    },
    {
     "data": {
      "image/png": "[encoded data removed]",
      "text/plain": [
       "<Figure size 1800x1000 with 1 Axes>"
      ]
     },
     "metadata": {},
     "output_type": "display_data"
    }
   ],
   "source": [
    "from src.utils.metrics import find_gamma_certainty_equivalent, paramteric_expected_utility_crra, compute_crra_utility\n",
    "\n",
    "\n",
    "df = monthly_returns\n",
    "parametric = False\n",
    "\n",
    "\n",
    "\n",
    "import numpy as np\n",
    "import matplotlib.pyplot as plt\n",
    "\n",
    "# keep the scalar returned by the CE condition\n",
    "gamma_hat = find_gamma_certainty_equivalent(df[\"xr\"],\n",
    "                                            df[\"xmkt\"],\n",
    "                                            parametric=parametric)\n",
    "\n",
    "print(f\"Gamma: {gamma_hat:.4f}\")\n",
    "\n",
    "gap = 5\n",
    "gammas = np.linspace(-11, 11, 1000)\n",
    "\n",
    "if parametric:\n",
    "    utilities_xr   = [paramteric_expected_utility_crra(g, df[\"xr\"].values)   for g in gammas]\n",
    "    utilities_xmkt = [paramteric_expected_utility_crra(g, df[\"xmkt\"].values) for g in gammas]\n",
    "    plt.figure(figsize=(10, 6))\n",
    "    plt.plot(gammas, utilities_xr,   label='Portfolio')\n",
    "    plt.plot(gammas, utilities_xmkt, label='Market')\n",
    "    plt.axvline(gamma_hat, color='red', linestyle='--', alpha=0.6,\n",
    "                label=f'γ* = {gamma_hat:.3f}')\n",
    "    plt.xlabel('Gamma (relative risk-aversion parameter)')\n",
    "    plt.ylabel('Expected CRRA utility')\n",
    "    plt.title('Expected utility as a function of gamma')\n",
    "    plt.legend()\n",
    "    plt.grid(True)\n",
    "    plt.show()\n",
    "else:\n",
    "    utilities_xr   = [compute_crra_utility(df[\"xr\"],   g, confint=True) for g in gammas]\n",
    "    utilities_xmkt = [compute_crra_utility(df[\"xmkt\"], g, confint=True) for g in gammas]\n",
    "\n",
    "    means_xr, lo_xr, hi_xr = zip(*utilities_xr)\n",
    "    means_mk, lo_mk, hi_mk = zip(*utilities_xmkt)\n",
    "\n",
    "    # Plot\n",
    "    import matplotlib.pyplot as plt\n",
    "\n",
    "    plt.figure(figsize=(18,10))\n",
    "    plt.plot(gammas, means_xr, label='XR mean utility', color='C0')\n",
    "    plt.fill_between(gammas, lo_xr, hi_xr, color='C0', alpha=0.2)\n",
    "\n",
    "    plt.plot(gammas, means_mk, label='MKT mean utility', color='C1')\n",
    "    plt.fill_between(gammas, lo_mk, hi_mk, color='C1', alpha=0.2)\n",
    "\n",
    "    plt.axvline(gamma_hat, color='red', linestyle='--', label=f'γ* = {gamma_hat:.2f}')\n",
    "    plt.xlabel('Gamma')\n",
    "    plt.xlim((-10,10))\n",
    "    plt.ylabel('Expected utility')\n",
    "    plt.title('Expected utility vs gamma with 95% CI')\n",
    "    plt.legend()\n",
    "    plt.grid(True)\n",
    "    plt.show()\n",
    "\n",
    "\n"
   ]
  },
  {
   "cell_type": "markdown",
   "id": "98841972",
   "metadata": {},
   "source": [
    "### All possible timeframes"
   ]
  },
  {
   "cell_type": "code",
   "execution_count": 105,
   "id": "d1561ffa",
   "metadata": {},
   "outputs": [
    {
     "name": "stderr",
     "output_type": "stream",
     "text": [
      "\u001b[38;20m2025-05-01 13:52:45,907 - src.analyzer - INFO - ############################## Analysis Started ############################## (analyzer.py:80)\u001b[0m\n",
      "\u001b[33;20m2025-05-01 13:52:56,237 - src.analyzer - WARNING - Empty dataframe produced for tickers: [] (analyzer.py:172)\u001b[0m\n"
     ]
    }
   ],
   "source": [
    "from src import Analyzer\n",
    "from src.utils.params import ReturnParams\n",
    "\n",
    "import numpy as np\n",
    "\n",
    "return_params = ReturnParams(\n",
    "    horizons={},  \n",
    "    start_date=None,\n",
    "#    end_date=\"2020-02-03\",\n",
    "    cumulative=False,\n",
    "    append_start=False\n",
    ")\n",
    "\n",
    "an = Analyzer(compare_tickers=[], return_params=return_params, stocks_only=False, weights_application=\"number\", dl_kwargs={\"weights_method\":\"dollar\"})\n",
    "\n",
    "\n",
    "ret, hor = an.build_returns()\n",
    "\n",
    "ret = (np.exp(ret) -1)*100\n"
   ]
  },
  {
   "cell_type": "code",
   "execution_count": 106,
   "id": "b3ed34a1",
   "metadata": {},
   "outputs": [],
   "source": [
    "import pandas as pd\n",
    "from config.constants import PROJECT_ROOT\n",
    "\n",
    "daily_factors = pd.read_csv(f\"{PROJECT_ROOT}/jf-datashare/gabriel-cuevas/data/18_rwarh_d_1.csv\", index_col=0)\n",
    "daily_factors.index = pd.to_datetime(daily_factors.index, format=\"%Y%m%d\")\n",
    "daily_factors[[\"pfioret100\", \"xmkt\", \"rf\"]]\n",
    "\n",
    "\n",
    "\n",
    "daily_factors = daily_factors.merge(ret[\"rh_portfolio\"], left_index=True, right_index=True, how=\"inner\")\n",
    "daily_factors /= 100 \n",
    "\n",
    "daily_factors[\"xr\"] = daily_factors[\"rh_portfolio\"] - daily_factors[\"rf\"]\n",
    "daily_factors += 1\n",
    "\n",
    "daily_factors = daily_factors[[\"xr\", \"xmkt\", \"rf\", \"rh_portfolio\"]]\n"
   ]
  },
  {
   "cell_type": "code",
   "execution_count": 107,
   "id": "d3ff842d",
   "metadata": {},
   "outputs": [
    {
     "data": {
      "application/vnd.microsoft.datawrangler.viewer.v0+json": {
       "columns": [
        {
         "name": "index",
         "rawType": "datetime64[ns]",
         "type": "datetime"
        },
        {
         "name": "xr",
         "rawType": "float64",
         "type": "float"
        },
        {
         "name": "xmkt",
         "rawType": "float64",
         "type": "float"
        },
        {
         "name": "rf",
         "rawType": "float64",
         "type": "float"
        },
        {
         "name": "rh_portfolio",
         "rawType": "float64",
         "type": "float"
        }
       ],
       "conversionMethod": "pd.DataFrame",
       "ref": "57f73768-dfd1-4150-9297-ce57d65ee74d",
       "rows": [
        [
         "2018-06-04 00:00:00",
         "1.0070660986570024",
         "1.0048",
         "1.00006",
         "1.0071260986570023"
        ],
        [
         "2018-06-05 00:00:00",
         "1.0169702919211376",
         "1.00640768",
         "1.0001200036",
         "1.017091309569075"
        ],
        [
         "2018-06-06 00:00:00",
         "1.0184675312577085",
         "1.015062786048",
         "1.000180010800216",
         "1.018649752553026"
        ],
        [
         "2018-06-07 00:00:00",
         "1.016224258863861",
         "1.0136416981475327",
         "1.0002400216008638",
         "1.0164671977844564"
        ],
        [
         "2018-06-08 00:00:00",
         "1.0109107733787603",
         "1.01678398741179",
         "1.0003000360021599",
         "1.0112134300875564"
        ],
        [
         "2018-06-11 00:00:00",
         "1.0222493663138028",
         "1.0180041281966843",
         "1.00036005400432",
         "1.0226160904912274"
        ],
        [
         "2018-06-12 00:00:00",
         "1.0270801804461345",
         "1.0203455376915367",
         "1.0004200756075603",
         "1.0275099946067798"
        ],
        [
         "2018-06-13 00:00:00",
         "1.0254567423039804",
         "1.0169783974171547",
         "1.0004801008120967",
         "1.0259475276853056"
        ],
        [
         "2018-06-14 00:00:00",
         "1.0353658926608387",
         "1.0197242390901808",
         "1.0005401296181453",
         "1.035922977430429"
        ],
        [
         "2018-06-15 00:00:00",
         "1.0310565680103174",
         "1.0189084596989086",
         "1.0006001620259224",
         "1.031673489500824"
        ],
        [
         "2018-06-18 00:00:00",
         "1.0265883241403029",
         "1.0179914420851797",
         "1.000660198035644",
         "1.0272644725150268"
        ],
        [
         "2018-06-19 00:00:00",
         "1.0182592326508053",
         "1.0141230746052559",
         "1.0007202376475262",
         "1.0189915310515603"
        ],
        [
         "2018-06-20 00:00:00",
         "1.0253369864715784",
         "1.016455557676848",
         "1.000780280861785",
         "1.0261355144509225"
        ],
        [
         "2018-06-21 00:00:00",
         "1.014065552147593",
         "1.009035432105807",
         "1.0008403276786366",
         "1.0149168701138438"
        ],
        [
         "2018-06-22 00:00:00",
         "1.0100734034163292",
         "1.0101453710811235",
         "1.0009003780982972",
         "1.0109822649468143"
        ],
        [
         "2018-06-25 00:00:00",
         "0.9835510311853682",
         "0.9951952195891228",
         "1.000960432120983",
         "0.9844966868873315"
        ],
        [
         "2018-06-26 00:00:00",
         "0.9962484902974554",
         "0.9978822466820134",
         "1.0010204897469104",
         "0.99726542403816"
        ],
        [
         "2018-06-27 00:00:00",
         "0.9923303389316431",
         "0.9877038477658568",
         "1.0010805509762952",
         "0.9934031090932849"
        ],
        [
         "2018-06-28 00:00:00",
         "1.0057796968931927",
         "0.9934325300828989",
         "1.0011406158093537",
         "1.0069266108249726"
        ],
        [
         "2018-06-29 00:00:00",
         "1.0046040575358584",
         "0.9941279328539568",
         "1.0012006842463022",
         "1.0058100464554427"
        ],
        [
         "2018-07-02 00:00:00",
         "1.0115492949593485",
         "0.9977067934122311",
         "1.001280780301042",
         "1.012844086175728"
        ],
        [
         "2018-07-03 00:00:00",
         "0.9965024225112322",
         "0.9933168835212174",
         "1.0013608827634661",
         "0.9978589811370039"
        ],
        [
         "2018-07-05 00:00:00",
         "1.0074298544931297",
         "1.0019587404078518",
         "1.0014409916340874",
         "1.0088811175685275"
        ],
        [
         "2018-07-06 00:00:00",
         "1.0197295617700437",
         "1.0107759773234408",
         "1.0015211069134182",
         "1.0212792538002367"
        ],
        [
         "2018-07-09 00:00:00",
         "1.0322717590243211",
         "1.0201761939125489",
         "1.0016012286019713",
         "1.0339222138828679"
        ],
        [
         "2018-07-10 00:00:00",
         "1.030308524057068",
         "1.0223185639197652",
         "1.0016813567002596",
         "1.032038553760887"
        ],
        [
         "2018-07-11 00:00:00",
         "1.0269262621026019",
         "1.0152645658287187",
         "1.0017614912087958",
         "1.0287331756077587"
        ],
        [
         "2018-07-12 00:00:00",
         "1.0389248972799456",
         "1.0239958410948455",
         "1.0018416321280925",
         "1.0408352214670986"
        ],
        [
         "2018-07-13 00:00:00",
         "1.0403672122200214",
         "1.0248150377677214",
         "1.0019217794586628",
         "1.042363455282921"
        ],
        [
         "2018-07-16 00:00:00",
         "1.0416958815790782",
         "1.023175333707293",
         "1.0020019332010195",
         "1.0437780631518696"
        ],
        [
         "2018-07-17 00:00:00",
         "1.0511566940660826",
         "1.028086575309088",
         "1.0020820933556756",
         "1.0533412885177997"
        ],
        [
         "2018-07-18 00:00:00",
         "1.0535141894527535",
         "1.0308624090624225",
         "1.0021622599231441",
         "1.0557879507352543"
        ],
        [
         "2018-07-19 00:00:00",
         "1.044325705885248",
         "1.0273574768716103",
         "1.002242432903938",
         "1.0466640990345741"
        ],
        [
         "2018-07-20 00:00:00",
         "1.0424000026353475",
         "1.0263301193947387",
         "1.0023226122985704",
         "1.0448178169903084"
        ],
        [
         "2018-07-23 00:00:00",
         "1.042848640942578",
         "1.0278696145738309",
         "1.0024027981075545",
         "1.045351081325485"
        ],
        [
         "2018-07-24 00:00:00",
         "1.0487266953207623",
         "1.0301309277258932",
         "1.0024829903314032",
         "1.0513268688866118"
        ],
        [
         "2018-07-25 00:00:00",
         "1.066010339192839",
         "1.0386810144260181",
         "1.00256318897063",
         "1.0687374713254385"
        ],
        [
         "2018-07-26 00:00:00",
         "1.0513267698087776",
         "1.036603652397166",
         "1.0026433940257475",
         "1.054101836543677"
        ],
        [
         "2018-07-27 00:00:00",
         "1.0487991955601677",
         "1.0281035024475094",
         "1.0027236054972697",
         "1.0516519186940443"
        ],
        [
         "2018-07-30 00:00:00",
         "1.0278551197202357",
         "1.0209067779303769",
         "1.0028038233857095",
         "1.0307350073345594"
        ],
        [
         "2018-07-31 00:00:00",
         "1.0304351992355072",
         "1.026113402497822",
         "1.0028840476915803",
         "1.0334047746254915"
        ],
        [
         "2018-08-01 00:00:00",
         "1.0375337807150735",
         "1.0247794550745748",
         "1.0029542495749189",
         "1.0405961515945508"
        ],
        [
         "2018-08-02 00:00:00",
         "1.0571939743219938",
         "1.0316454774235744",
         "1.0030244563723891",
         "1.0603872156975127"
        ],
        [
         "2018-08-03 00:00:00",
         "1.0531779356576156",
         "1.0348435784035876",
         "1.0030946680843351",
         "1.0564332737429225"
        ],
        [
         "2018-08-06 00:00:00",
         "1.0596722225615018",
         "1.039603858864244",
         "1.003164884711101",
         "1.0630215846014992"
        ],
        [
         "2018-08-07 00:00:00",
         "1.065769128720688",
         "1.0426187100549502",
         "1.0032351062530307",
         "1.0692121730853708"
        ],
        [
         "2018-08-08 00:00:00",
         "1.067064485350826",
         "1.0422016625709283",
         "1.0033053327104684",
         "1.0705865593110417"
        ],
        [
         "2018-08-13 00:00:00",
         "1.0660117673578748",
         "1.037407534923102",
         "1.003375564083758",
         "1.0696053076569407"
        ],
        [
         "2018-08-14 00:00:00",
         "1.0711497242786143",
         "1.0445656469140714",
         "1.0034458003732438",
         "1.0748354570725158"
        ],
        [
         "2018-08-15 00:00:00",
         "1.0552722877759049",
         "1.0350600995271533",
         "1.0035160415792699",
         "1.058978626177354"
        ]
       ],
       "shape": {
        "columns": 4,
        "rows": 539
       }
      },
      "text/html": [
       "<div>\n",
       "<style scoped>\n",
       "    .dataframe tbody tr th:only-of-type {\n",
       "        vertical-align: middle;\n",
       "    }\n",
       "\n",
       "    .dataframe tbody tr th {\n",
       "        vertical-align: top;\n",
       "    }\n",
       "\n",
       "    .dataframe thead th {\n",
       "        text-align: right;\n",
       "    }\n",
       "</style>\n",
       "<table border=\"1\" class=\"dataframe\">\n",
       "  <thead>\n",
       "    <tr style=\"text-align: right;\">\n",
       "      <th></th>\n",
       "      <th>xr</th>\n",
       "      <th>xmkt</th>\n",
       "      <th>rf</th>\n",
       "      <th>rh_portfolio</th>\n",
       "    </tr>\n",
       "  </thead>\n",
       "  <tbody>\n",
       "    <tr>\n",
       "      <th>2018-06-04</th>\n",
       "      <td>1.007066</td>\n",
       "      <td>1.004800</td>\n",
       "      <td>1.000060</td>\n",
       "      <td>1.007126</td>\n",
       "    </tr>\n",
       "    <tr>\n",
       "      <th>2018-06-05</th>\n",
       "      <td>1.016970</td>\n",
       "      <td>1.006408</td>\n",
       "      <td>1.000120</td>\n",
       "      <td>1.017091</td>\n",
       "    </tr>\n",
       "    <tr>\n",
       "      <th>2018-06-06</th>\n",
       "      <td>1.018468</td>\n",
       "      <td>1.015063</td>\n",
       "      <td>1.000180</td>\n",
       "      <td>1.018650</td>\n",
       "    </tr>\n",
       "    <tr>\n",
       "      <th>2018-06-07</th>\n",
       "      <td>1.016224</td>\n",
       "      <td>1.013642</td>\n",
       "      <td>1.000240</td>\n",
       "      <td>1.016467</td>\n",
       "    </tr>\n",
       "    <tr>\n",
       "      <th>2018-06-08</th>\n",
       "      <td>1.010911</td>\n",
       "      <td>1.016784</td>\n",
       "      <td>1.000300</td>\n",
       "      <td>1.011213</td>\n",
       "    </tr>\n",
       "    <tr>\n",
       "      <th>...</th>\n",
       "      <td>...</td>\n",
       "      <td>...</td>\n",
       "      <td>...</td>\n",
       "      <td>...</td>\n",
       "    </tr>\n",
       "    <tr>\n",
       "      <th>2020-08-07</th>\n",
       "      <td>1.092819</td>\n",
       "      <td>1.184561</td>\n",
       "      <td>1.036033</td>\n",
       "      <td>1.132254</td>\n",
       "    </tr>\n",
       "    <tr>\n",
       "      <th>2020-08-10</th>\n",
       "      <td>1.091944</td>\n",
       "      <td>1.187404</td>\n",
       "      <td>1.036033</td>\n",
       "      <td>1.131347</td>\n",
       "    </tr>\n",
       "    <tr>\n",
       "      <th>2020-08-11</th>\n",
       "      <td>1.070693</td>\n",
       "      <td>1.177548</td>\n",
       "      <td>1.036033</td>\n",
       "      <td>1.109329</td>\n",
       "    </tr>\n",
       "    <tr>\n",
       "      <th>2020-08-12</th>\n",
       "      <td>1.115996</td>\n",
       "      <td>1.194034</td>\n",
       "      <td>1.036033</td>\n",
       "      <td>1.156266</td>\n",
       "    </tr>\n",
       "    <tr>\n",
       "      <th>2020-08-13</th>\n",
       "      <td>1.137457</td>\n",
       "      <td>1.193914</td>\n",
       "      <td>1.036033</td>\n",
       "      <td>1.178502</td>\n",
       "    </tr>\n",
       "  </tbody>\n",
       "</table>\n",
       "<p>539 rows × 4 columns</p>\n",
       "</div>"
      ],
      "text/plain": [
       "                  xr      xmkt        rf  rh_portfolio\n",
       "2018-06-04  1.007066  1.004800  1.000060      1.007126\n",
       "2018-06-05  1.016970  1.006408  1.000120      1.017091\n",
       "2018-06-06  1.018468  1.015063  1.000180      1.018650\n",
       "2018-06-07  1.016224  1.013642  1.000240      1.016467\n",
       "2018-06-08  1.010911  1.016784  1.000300      1.011213\n",
       "...              ...       ...       ...           ...\n",
       "2020-08-07  1.092819  1.184561  1.036033      1.132254\n",
       "2020-08-10  1.091944  1.187404  1.036033      1.131347\n",
       "2020-08-11  1.070693  1.177548  1.036033      1.109329\n",
       "2020-08-12  1.115996  1.194034  1.036033      1.156266\n",
       "2020-08-13  1.137457  1.193914  1.036033      1.178502\n",
       "\n",
       "[539 rows x 4 columns]"
      ]
     },
     "execution_count": 107,
     "metadata": {},
     "output_type": "execute_result"
    }
   ],
   "source": [
    "df_merged = daily_factors\n",
    "levels = df_merged.cumprod()\n",
    "levels"
   ]
  },
  {
   "cell_type": "code",
   "execution_count": 108,
   "id": "5f71148f",
   "metadata": {},
   "outputs": [],
   "source": [
    "# Set doesnt allow to duplicate items\n",
    "all_windows = set()\n",
    "\n",
    "# get dates to iterate on\n",
    "dates = df_merged.index.unique()\n",
    "\n",
    "\n",
    "for date1 in dates:\n",
    "    for date2 in dates:\n",
    "        # Order the dates so that i dont have problems in computing reteurns and i dont have tuples with the same value in different order \n",
    "        if date2>date1:\n",
    "\n",
    "            inner_tuple = (date1, date2)\n",
    "            all_windows.add(inner_tuple)\n",
    "\n",
    "\n",
    "all_windows = list(all_windows)\n"
   ]
  },
  {
   "cell_type": "code",
   "execution_count": 109,
   "id": "893ccfd1",
   "metadata": {},
   "outputs": [
    {
     "name": "stderr",
     "output_type": "stream",
     "text": [
      "100%|██████████| 144991/144991 [00:19<00:00, 7542.74it/s]\n"
     ]
    }
   ],
   "source": [
    "from tqdm import tqdm\n",
    "import pandas as pd\n",
    "import numpy as np\n",
    "\n",
    "all_ret = []\n",
    "for window in tqdm(all_windows):\n",
    "\n",
    "    # get first and last value (days)\n",
    "    beg = window[0]\n",
    "    end = window[1]\n",
    "    \n",
    "    # Compute days between them\n",
    "\n",
    "    # compute gross returns\n",
    "    ret = levels.loc[end]/levels.loc[beg]\n",
    "\n",
    "    all_ret.append(ret)\n",
    "\n",
    "\n",
    "# Create DataFrame from the list of Series\n",
    "all_ret_df = pd.DataFrame(all_ret)\n",
    "\n",
    "# Assign MultiIndex with start and end dates\n",
    "all_ret_df.index = pd.MultiIndex.from_tuples(all_windows, names=[\"start_date\", \"end_date\"])\n",
    "\n",
    "all_ret_df['date_difference'] = all_ret_df.index.map(lambda x: (x[1] - x[0]).days)\n",
    "\n"
   ]
  },
  {
   "cell_type": "code",
   "execution_count": 110,
   "id": "eff69410",
   "metadata": {},
   "outputs": [
    {
     "data": {
      "application/vnd.microsoft.datawrangler.viewer.v0+json": {
       "columns": [
        {
         "name": "('start_date', 'end_date')",
         "rawType": "object",
         "type": "unknown"
        },
        {
         "name": "xr",
         "rawType": "float64",
         "type": "float"
        },
        {
         "name": "xmkt",
         "rawType": "float64",
         "type": "float"
        },
        {
         "name": "rf",
         "rawType": "float64",
         "type": "float"
        },
        {
         "name": "rh_portfolio",
         "rawType": "float64",
         "type": "float"
        },
        {
         "name": "date_difference",
         "rawType": "int64",
         "type": "integer"
        },
        {
         "name": "zero",
         "rawType": "int64",
         "type": "integer"
        }
       ],
       "conversionMethod": "pd.DataFrame",
       "ref": "197739cb-0b1f-4f3d-9a33-acdb1c0a77b3",
       "rows": [
        [
         "(Timestamp('2018-11-29 00:00:00'), Timestamp('2019-07-29 00:00:00'))",
         "0.8736854907071264",
         "1.0777415802763026",
         "1.0151630964018616",
         "0.8869460987836789",
         "242",
         "0"
        ],
        [
         "(Timestamp('2018-07-02 00:00:00'), Timestamp('2020-02-11 00:00:00'))",
         "0.7842148318323005",
         "1.163708198264796",
         "1.0325987150479041",
         "0.8098007909661956",
         "589",
         "0"
        ],
        [
         "(Timestamp('2018-06-26 00:00:00'), Timestamp('2020-06-09 00:00:00'))",
         "0.7143075384700361",
         "1.1251904086696125",
         "1.034976353172838",
         "0.7393287411936735",
         "714",
         "0"
        ],
        [
         "(Timestamp('2019-12-23 00:00:00'), Timestamp('2020-07-30 00:00:00'))",
         "1.3631544789064711",
         "1.0052450081614925",
         "1.0035963419291523",
         "1.3680874647720518",
         "220",
         "0"
        ],
        [
         "(Timestamp('2018-07-23 00:00:00'), Timestamp('2019-04-10 00:00:00'))",
         "0.8415047052170196",
         "1.0050385085602718",
         "1.0151935995109749",
         "0.8543057286553756",
         "261",
         "0"
        ],
        [
         "(Timestamp('2019-02-25 00:00:00'), Timestamp('2019-08-16 00:00:00'))",
         "0.8825725954321595",
         "1.01643461500281",
         "1.0109490128571872",
         "0.8922456308632253",
         "172",
         "0"
        ],
        [
         "(Timestamp('2019-02-21 00:00:00'), Timestamp('2020-02-11 00:00:00'))",
         "0.9157246618239001",
         "1.1640442754650904",
         "1.019252189735985",
         "0.9333634145855585",
         "355",
         "0"
        ],
        [
         "(Timestamp('2019-11-04 00:00:00'), Timestamp('2020-06-01 00:00:00'))",
         "0.8947865034213998",
         "0.9854259434313043",
         "1.0058066123539593",
         "0.9000017991191913",
         "210",
         "0"
        ],
        [
         "(Timestamp('2018-08-24 00:00:00'), Timestamp('2020-05-18 00:00:00'))",
         "0.5798694551032679",
         "0.9729654819849244",
         "1.031896829941169",
         "0.5983991620527528",
         "633",
         "0"
        ],
        [
         "(Timestamp('2018-06-05 00:00:00'), Timestamp('2018-12-03 00:00:00'))",
         "0.9555137412832782",
         "1.008984530410047",
         "1.0094136748829523",
         "0.9645131878444493",
         "181",
         "0"
        ],
        [
         "(Timestamp('2019-05-14 00:00:00'), Timestamp('2019-07-18 00:00:00'))",
         "0.9945683676567022",
         "1.0518634315904687",
         "1.0040580293542891",
         "0.9986050985959144",
         "65",
         "0"
        ],
        [
         "(Timestamp('2018-06-25 00:00:00'), Timestamp('2019-06-26 00:00:00'))",
         "0.8373179341126146",
         "1.0391512526747877",
         "1.0216500849844719",
         "0.8554630318416244",
         "366",
         "0"
        ],
        [
         "(Timestamp('2018-08-01 00:00:00'), Timestamp('2019-04-22 00:00:00'))",
         "0.8502939792229667",
         "1.014005303604889",
         "1.0153458764187457",
         "0.8633572942363108",
         "264",
         "0"
        ],
        [
         "(Timestamp('2019-04-12 00:00:00'), Timestamp('2020-06-30 00:00:00'))",
         "0.8999145198120844",
         "1.0488463690720746",
         "1.0178772282649513",
         "0.9160350893257775",
         "445",
         "0"
        ],
        [
         "(Timestamp('2019-01-07 00:00:00'), Timestamp('2019-12-06 00:00:00'))",
         "0.8481568443787679",
         "1.1976506836925969",
         "1.0195375644423692",
         "0.8647406560943",
         "333",
         "0"
        ],
        [
         "(Timestamp('2020-02-18 00:00:00'), Timestamp('2020-05-22 00:00:00'))",
         "0.7965769372528013",
         "0.8851054205285064",
         "1.0018015668773137",
         "0.7980326354607471",
         "94",
         "0"
        ],
        [
         "(Timestamp('2019-12-09 00:00:00'), Timestamp('2020-07-27 00:00:00'))",
         "1.3966426519206283",
         "1.0319654647180254",
         "1.0042990807028096",
         "1.4026760608202073",
         "231",
         "0"
        ],
        [
         "(Timestamp('2019-03-08 00:00:00'), Timestamp('2020-06-26 00:00:00'))",
         "0.8965737141524591",
         "1.0757802115869795",
         "1.0202719395798063",
         "0.914778211345874",
         "476",
         "0"
        ],
        [
         "(Timestamp('2019-08-09 00:00:00'), Timestamp('2020-01-28 00:00:00'))",
         "0.9468247761491668",
         "1.0944752683346965",
         "1.0077596718752635",
         "0.9541765391020599",
         "172",
         "0"
        ],
        [
         "(Timestamp('2018-07-27 00:00:00'), Timestamp('2019-11-15 00:00:00'))",
         "0.7121021639671713",
         "1.0704003286497379",
         "1.0278084431485053",
         "0.7319287719532074",
         "476",
         "0"
        ],
        [
         "(Timestamp('2019-05-24 00:00:00'), Timestamp('2019-11-29 00:00:00'))",
         "0.9168814457305494",
         "1.1034914269381388",
         "1.0103427063048742",
         "0.9263716206932306",
         "189",
         "0"
        ],
        [
         "(Timestamp('2019-09-04 00:00:00'), Timestamp('2020-05-28 00:00:00'))",
         "0.846586543074875",
         "1.0215431304824285",
         "1.0091815805826898",
         "0.8543804209048791",
         "267",
         "0"
        ],
        [
         "(Timestamp('2018-06-19 00:00:00'), Timestamp('2018-11-29 00:00:00'))",
         "0.9273891902145296",
         "0.9824567126307968",
         "1.0086266656251464",
         "0.9353964856647473",
         "163",
         "0"
        ],
        [
         "(Timestamp('2019-04-26 00:00:00'), Timestamp('2019-04-29 00:00:00'))",
         "0.9981651365648596",
         "1.0018",
         "1.0001",
         "0.9982651365648596",
         "3",
         "0"
        ],
        [
         "(Timestamp('2019-06-17 00:00:00'), Timestamp('2020-07-28 00:00:00'))",
         "1.2237375822361847",
         "1.1040012909687662",
         "1.0137430782681591",
         "1.2405939066755014",
         "407",
         "0"
        ],
        [
         "(Timestamp('2018-08-30 00:00:00'), Timestamp('2018-09-12 00:00:00'))",
         "0.9967762149611085",
         "0.995679163931029",
         "1.000630173627331",
         "0.9974046747436915",
         "13",
         "0"
        ],
        [
         "(Timestamp('2019-09-17 00:00:00'), Timestamp('2020-02-19 00:00:00'))",
         "1.0569769627910413",
         "1.1043892337355072",
         "1.0066115350984661",
         "1.063963231082781",
         "155",
         "0"
        ],
        [
         "(Timestamp('2018-10-09 00:00:00'), Timestamp('2018-11-27 00:00:00'))",
         "0.9041931984379534",
         "0.9280969281747576",
         "1.0027235934657117",
         "0.9066638937287447",
         "49",
         "0"
        ],
        [
         "(Timestamp('2019-02-05 00:00:00'), Timestamp('2019-03-19 00:00:00'))",
         "0.9747026492808678",
         "1.0339443026525754",
         "1.0027737069853493",
         "0.9774089263808511",
         "42",
         "0"
        ],
        [
         "(Timestamp('2019-06-03 00:00:00'), Timestamp('2019-09-11 00:00:00'))",
         "1.0134439611712553",
         "1.0882259988473046",
         "1.0058769536425134",
         "1.019397989551142",
         "100",
         "0"
        ],
        [
         "(Timestamp('2018-07-16 00:00:00'), Timestamp('2020-03-23 00:00:00'))",
         "0.4923716159872547",
         "0.753267676898639",
         "1.033590463463077",
         "0.5089396101804072",
         "616",
         "0"
        ],
        [
         "(Timestamp('2018-07-23 00:00:00'), Timestamp('2019-11-14 00:00:00'))",
         "0.7146631824100069",
         "1.0627793272064785",
         "1.0280756967784557",
         "0.7347518704712018",
         "479",
         "0"
        ],
        [
         "(Timestamp('2018-09-12 00:00:00'), Timestamp('2019-05-10 00:00:00'))",
         "0.7884483052976146",
         "0.9693287840111356",
         "1.0146962720890544",
         "0.8000538703682187",
         "240",
         "0"
        ],
        [
         "(Timestamp('2018-06-25 00:00:00'), Timestamp('2019-02-28 00:00:00'))",
         "0.8802441688737037",
         "1.006423648485841",
         "1.0139254711189272",
         "0.8925155451093842",
         "248",
         "0"
        ],
        [
         "(Timestamp('2018-12-06 00:00:00'), Timestamp('2019-10-22 00:00:00'))",
         "0.7855764674437113",
         "1.077437805184965",
         "1.019496748484753",
         "0.8009108008034738",
         "320",
         "0"
        ],
        [
         "(Timestamp('2018-06-13 00:00:00'), Timestamp('2020-08-13 00:00:00'))",
         "1.1092196849748561",
         "1.1739819906624798",
         "1.0355353745552667",
         "1.1486962563791612",
         "792",
         "0"
        ],
        [
         "(Timestamp('2018-07-16 00:00:00'), Timestamp('2019-12-26 00:00:00'))",
         "0.7378951584865853",
         "1.1200076996433919",
         "1.03040169486125",
         "0.760351649963425",
         "528",
         "0"
        ],
        [
         "(Timestamp('2019-03-06 00:00:00'), Timestamp('2019-11-21 00:00:00'))",
         "0.8695409833596084",
         "1.1029976715379084",
         "1.0153560597255415",
         "0.8829046067187903",
         "260",
         "0"
        ],
        [
         "(Timestamp('2019-02-04 00:00:00'), Timestamp('2019-10-07 00:00:00'))",
         "0.8243422849416935",
         "1.0584820393996641",
         "1.0152544986405732",
         "0.8369315463706922",
         "245",
         "0"
        ],
        [
         "(Timestamp('2019-12-11 00:00:00'), Timestamp('2020-01-31 00:00:00'))",
         "1.0139976131828023",
         "1.0037284794426955",
         "1.001691373513784",
         "1.0157116721232329",
         "51",
         "0"
        ],
        [
         "(Timestamp('2018-07-26 00:00:00'), Timestamp('2020-05-28 00:00:00'))",
         "0.6194324153162873",
         "1.0201929347444505",
         "1.0333011139381632",
         "0.6400951304429944",
         "672",
         "0"
        ],
        [
         "(Timestamp('2020-03-03 00:00:00'), Timestamp('2020-03-06 00:00:00'))",
         "0.9788188079877393",
         "0.9872464060920001",
         "1.000180010800216",
         "0.9789963425660296",
         "3",
         "0"
        ],
        [
         "(Timestamp('2018-10-22 00:00:00'), Timestamp('2019-12-27 00:00:00'))",
         "0.7848995278178795",
         "1.1402599251036902",
         "1.0251807283754335",
         "0.8046836103848104",
         "431",
         "0"
        ],
        [
         "(Timestamp('2018-11-12 00:00:00'), Timestamp('2019-06-03 00:00:00'))",
         "0.8217346873799654",
         "0.984039274089472",
         "1.0125778492975321",
         "0.832087049041086",
         "203",
         "0"
        ],
        [
         "(Timestamp('2018-11-15 00:00:00'), Timestamp('2019-12-18 00:00:00'))",
         "0.793529845232087",
         "1.1357023951895888",
         "1.0232757384582951",
         "0.8120185229809993",
         "398",
         "0"
        ],
        [
         "(Timestamp('2018-07-11 00:00:00'), Timestamp('2019-10-15 00:00:00'))",
         "0.7241745757320774",
         "1.0387420474481583",
         "1.027253587510927",
         "0.7439344136089738",
         "461",
         "0"
        ],
        [
         "(Timestamp('2019-04-10 00:00:00'), Timestamp('2020-04-07 00:00:00'))",
         "0.6196672339340791",
         "0.8806857260018438",
         "1.0180808138893764",
         "0.630893875093842",
         "363",
         "0"
        ],
        [
         "(Timestamp('2019-05-07 00:00:00'), Timestamp('2020-04-09 00:00:00'))",
         "0.650481405577182",
         "0.9261688570702047",
         "1.0163008171263377",
         "0.6611078332778196",
         "338",
         "0"
        ],
        [
         "(Timestamp('2019-09-27 00:00:00'), Timestamp('2019-11-14 00:00:00'))",
         "1.01137912099186",
         "1.0478181220973874",
         "1.0023025684520757",
         "1.0137071299145928",
         "48",
         "0"
        ],
        [
         "(Timestamp('2019-11-29 00:00:00'), Timestamp('2020-04-17 00:00:00'))",
         "0.8071750656627755",
         "0.888150548901999",
         "1.0047209601395772",
         "0.8110032624454134",
         "140",
         "0"
        ]
       ],
       "shape": {
        "columns": 6,
        "rows": 144991
       }
      },
      "text/html": [
       "<div>\n",
       "<style scoped>\n",
       "    .dataframe tbody tr th:only-of-type {\n",
       "        vertical-align: middle;\n",
       "    }\n",
       "\n",
       "    .dataframe tbody tr th {\n",
       "        vertical-align: top;\n",
       "    }\n",
       "\n",
       "    .dataframe thead th {\n",
       "        text-align: right;\n",
       "    }\n",
       "</style>\n",
       "<table border=\"1\" class=\"dataframe\">\n",
       "  <thead>\n",
       "    <tr style=\"text-align: right;\">\n",
       "      <th></th>\n",
       "      <th></th>\n",
       "      <th>xr</th>\n",
       "      <th>xmkt</th>\n",
       "      <th>rf</th>\n",
       "      <th>rh_portfolio</th>\n",
       "      <th>date_difference</th>\n",
       "      <th>zero</th>\n",
       "    </tr>\n",
       "    <tr>\n",
       "      <th>start_date</th>\n",
       "      <th>end_date</th>\n",
       "      <th></th>\n",
       "      <th></th>\n",
       "      <th></th>\n",
       "      <th></th>\n",
       "      <th></th>\n",
       "      <th></th>\n",
       "    </tr>\n",
       "  </thead>\n",
       "  <tbody>\n",
       "    <tr>\n",
       "      <th>2018-11-29</th>\n",
       "      <th>2019-07-29</th>\n",
       "      <td>0.873685</td>\n",
       "      <td>1.077742</td>\n",
       "      <td>1.015163</td>\n",
       "      <td>0.886946</td>\n",
       "      <td>242</td>\n",
       "      <td>0</td>\n",
       "    </tr>\n",
       "    <tr>\n",
       "      <th>2018-07-02</th>\n",
       "      <th>2020-02-11</th>\n",
       "      <td>0.784215</td>\n",
       "      <td>1.163708</td>\n",
       "      <td>1.032599</td>\n",
       "      <td>0.809801</td>\n",
       "      <td>589</td>\n",
       "      <td>0</td>\n",
       "    </tr>\n",
       "    <tr>\n",
       "      <th>2018-06-26</th>\n",
       "      <th>2020-06-09</th>\n",
       "      <td>0.714308</td>\n",
       "      <td>1.125190</td>\n",
       "      <td>1.034976</td>\n",
       "      <td>0.739329</td>\n",
       "      <td>714</td>\n",
       "      <td>0</td>\n",
       "    </tr>\n",
       "    <tr>\n",
       "      <th>2019-12-23</th>\n",
       "      <th>2020-07-30</th>\n",
       "      <td>1.363154</td>\n",
       "      <td>1.005245</td>\n",
       "      <td>1.003596</td>\n",
       "      <td>1.368087</td>\n",
       "      <td>220</td>\n",
       "      <td>0</td>\n",
       "    </tr>\n",
       "    <tr>\n",
       "      <th>2018-07-23</th>\n",
       "      <th>2019-04-10</th>\n",
       "      <td>0.841505</td>\n",
       "      <td>1.005039</td>\n",
       "      <td>1.015194</td>\n",
       "      <td>0.854306</td>\n",
       "      <td>261</td>\n",
       "      <td>0</td>\n",
       "    </tr>\n",
       "    <tr>\n",
       "      <th>...</th>\n",
       "      <th>...</th>\n",
       "      <td>...</td>\n",
       "      <td>...</td>\n",
       "      <td>...</td>\n",
       "      <td>...</td>\n",
       "      <td>...</td>\n",
       "      <td>...</td>\n",
       "    </tr>\n",
       "    <tr>\n",
       "      <th>2018-08-16</th>\n",
       "      <th>2020-07-24</th>\n",
       "      <td>0.944005</td>\n",
       "      <td>1.085925</td>\n",
       "      <td>1.032330</td>\n",
       "      <td>0.974579</td>\n",
       "      <td>708</td>\n",
       "      <td>0</td>\n",
       "    </tr>\n",
       "    <tr>\n",
       "      <th>2018-09-11</th>\n",
       "      <th>2020-02-06</th>\n",
       "      <td>0.724152</td>\n",
       "      <td>1.087688</td>\n",
       "      <td>1.028754</td>\n",
       "      <td>0.744998</td>\n",
       "      <td>513</td>\n",
       "      <td>0</td>\n",
       "    </tr>\n",
       "    <tr>\n",
       "      <th>2018-09-04</th>\n",
       "      <th>2018-10-10</th>\n",
       "      <td>0.877994</td>\n",
       "      <td>0.951545</td>\n",
       "      <td>1.002082</td>\n",
       "      <td>0.879831</td>\n",
       "      <td>36</td>\n",
       "      <td>0</td>\n",
       "    </tr>\n",
       "    <tr>\n",
       "      <th>2019-10-24</th>\n",
       "      <th>2020-06-23</th>\n",
       "      <td>1.037795</td>\n",
       "      <td>1.038452</td>\n",
       "      <td>1.006279</td>\n",
       "      <td>1.044334</td>\n",
       "      <td>243</td>\n",
       "      <td>0</td>\n",
       "    </tr>\n",
       "    <tr>\n",
       "      <th>2019-04-15</th>\n",
       "      <th>2020-06-16</th>\n",
       "      <td>0.839948</td>\n",
       "      <td>1.054739</td>\n",
       "      <td>1.017775</td>\n",
       "      <td>0.854908</td>\n",
       "      <td>428</td>\n",
       "      <td>0</td>\n",
       "    </tr>\n",
       "  </tbody>\n",
       "</table>\n",
       "<p>144991 rows × 6 columns</p>\n",
       "</div>"
      ],
      "text/plain": [
       "                             xr      xmkt        rf  rh_portfolio  \\\n",
       "start_date end_date                                                 \n",
       "2018-11-29 2019-07-29  0.873685  1.077742  1.015163      0.886946   \n",
       "2018-07-02 2020-02-11  0.784215  1.163708  1.032599      0.809801   \n",
       "2018-06-26 2020-06-09  0.714308  1.125190  1.034976      0.739329   \n",
       "2019-12-23 2020-07-30  1.363154  1.005245  1.003596      1.368087   \n",
       "2018-07-23 2019-04-10  0.841505  1.005039  1.015194      0.854306   \n",
       "...                         ...       ...       ...           ...   \n",
       "2018-08-16 2020-07-24  0.944005  1.085925  1.032330      0.974579   \n",
       "2018-09-11 2020-02-06  0.724152  1.087688  1.028754      0.744998   \n",
       "2018-09-04 2018-10-10  0.877994  0.951545  1.002082      0.879831   \n",
       "2019-10-24 2020-06-23  1.037795  1.038452  1.006279      1.044334   \n",
       "2019-04-15 2020-06-16  0.839948  1.054739  1.017775      0.854908   \n",
       "\n",
       "                       date_difference  zero  \n",
       "start_date end_date                           \n",
       "2018-11-29 2019-07-29              242     0  \n",
       "2018-07-02 2020-02-11              589     0  \n",
       "2018-06-26 2020-06-09              714     0  \n",
       "2019-12-23 2020-07-30              220     0  \n",
       "2018-07-23 2019-04-10              261     0  \n",
       "...                                ...   ...  \n",
       "2018-08-16 2020-07-24              708     0  \n",
       "2018-09-11 2020-02-06              513     0  \n",
       "2018-09-04 2018-10-10               36     0  \n",
       "2019-10-24 2020-06-23              243     0  \n",
       "2019-04-15 2020-06-16              428     0  \n",
       "\n",
       "[144991 rows x 6 columns]"
      ]
     },
     "execution_count": 110,
     "metadata": {},
     "output_type": "execute_result"
    }
   ],
   "source": [
    "all_ret_df[\"zero\"] = 0\n",
    "all_ret_df"
   ]
  },
  {
   "cell_type": "code",
   "execution_count": 111,
   "id": "0ce07718",
   "metadata": {},
   "outputs": [
    {
     "name": "stdout",
     "output_type": "stream",
     "text": [
      "Gamma: -5.4373\n"
     ]
    },
    {
     "data": {
      "image/png": "[encoded data removed]",
      "text/plain": [
       "<Figure size 1800x1000 with 1 Axes>"
      ]
     },
     "metadata": {},
     "output_type": "display_data"
    }
   ],
   "source": [
    "from src.utils.metrics import find_gamma_certainty_equivalent, paramteric_expected_utility_crra, compute_crra_utility\n",
    "\n",
    "\n",
    "df = all_ret_df\n",
    "parametric = False\n",
    "mkt = \"xmkt\"\n",
    "\n",
    "\n",
    "\n",
    "import numpy as np\n",
    "import matplotlib.pyplot as plt\n",
    "import seaborn as sns \n",
    "\n",
    "sns.set_style(\"whitegrid\")\n",
    "\n",
    "# keep the scalar returned by the CE condition\n",
    "gamma_hat = find_gamma_certainty_equivalent(df[\"xr\"],\n",
    "                                            df[mkt],\n",
    "                                            parametric=parametric)\n",
    "\n",
    "print(f\"Gamma: {gamma_hat:.4f}\")\n",
    "\n",
    "gamma_hat = gamma_hat if gamma_hat is not np.nan else 0\n",
    "\n",
    "gap = 2\n",
    "gammas = np.linspace(gamma_hat-gap, gamma_hat+gap, 250)\n",
    "\n",
    "if parametric:\n",
    "    utilities_rh_portfolio   = [paramteric_expected_utility_crra(g, df[\"xr\"].values)   for g in gammas]\n",
    "    utilities_xmkt = [paramteric_expected_utility_crra(g, df[mkt].values) for g in gammas]\n",
    "\n",
    "    plt.figure(figsize=(10, 6))\n",
    "    plt.plot(gammas, utilities_rh_portfolio,   label='Portfolio')\n",
    "    plt.plot(gammas, utilities_xmkt, label='Market')\n",
    "    plt.axvline(gamma_hat, color='red', linestyle='--', alpha=0.6,\n",
    "                label=f'γ* = {gamma_hat:.3f}')\n",
    "    plt.xlabel('Gamma (relative risk-aversion parameter)')\n",
    "    plt.ylabel('Expected CRRA utility')\n",
    "    plt.title('Expected utility as a function of gamma')\n",
    "    plt.legend()\n",
    "    plt.grid(True)\n",
    "    plt.show()\n",
    "else:\n",
    "    utilities_rh_portfolio   = [compute_crra_utility(df[\"xr\"],   g, confint=True) for g in gammas]\n",
    "    utilities_xmkt = [compute_crra_utility(df[mkt], g, confint=True) for g in gammas]\n",
    "\n",
    "    means_rh_portfolio, lo_rh_portfolio, hi_rh_portfolio = zip(*utilities_rh_portfolio)\n",
    "    means_mk, lo_mk, hi_mk = zip(*utilities_xmkt)\n",
    "\n",
    "    plt.figure(figsize=(18,10))\n",
    "    plt.plot(gammas, means_rh_portfolio, label='rh_portfolio mean utility', color='C0')\n",
    "    plt.fill_between(gammas, lo_rh_portfolio, hi_rh_portfolio, color='C0', alpha=0.2)\n",
    "\n",
    "    plt.plot(gammas, means_mk, label='MKT mean utility', color='C1')\n",
    "    plt.fill_between(gammas, lo_mk, hi_mk, color='C1', alpha=0.2)\n",
    "\n",
    "    plt.axvline(gamma_hat, color='red', linestyle='--', label=f'γ* = {gamma_hat:.2f}')\n",
    "    plt.xlabel('Gamma')\n",
    "    plt.ylabel('Expected utility')\n",
    "    plt.title('Expected utility vs gamma with 95% CI')\n",
    "    plt.legend()\n",
    "    plt.grid(True)\n",
    "    plt.show()\n",
    "\n",
    "\n"
   ]
  },
  {
   "cell_type": "markdown",
   "id": "8e52a10e",
   "metadata": {},
   "source": [
    "## Euler"
   ]
  },
  {
   "cell_type": "code",
   "execution_count": 1,
   "id": "eff18bb0",
   "metadata": {},
   "outputs": [],
   "source": [
    "%load_ext autoreload\n",
    "%autoreload 2"
   ]
  },
  {
   "cell_type": "code",
   "execution_count": 2,
   "id": "ccb5ce40",
   "metadata": {},
   "outputs": [
    {
     "name": "stderr",
     "output_type": "stream",
     "text": [
      "\u001b[38;20m2025-05-01 19:28:48,516 - src.analyzer - INFO - ############################## Analysis Started ############################## (analyzer.py:80)\u001b[0m\n"
     ]
    },
    {
     "data": {
      "application/vnd.microsoft.datawrangler.viewer.v0+json": {
       "columns": [
        {
         "name": "index",
         "rawType": "object",
         "type": "string"
        },
        {
         "name": "rh_portfolio",
         "rawType": "float64",
         "type": "float"
        },
        {
         "name": "rf",
         "rawType": "float64",
         "type": "float"
        },
        {
         "name": "mkt",
         "rawType": "float64",
         "type": "float"
        },
        {
         "name": "xr",
         "rawType": "float64",
         "type": "float"
        },
        {
         "name": "xmkt",
         "rawType": "float64",
         "type": "float"
        }
       ],
       "conversionMethod": "pd.DataFrame",
       "ref": "e707e1fa-1cb2-4915-b49a-3a487f5997b4",
       "rows": [
        [
         "count",
         "539.0",
         "539.0",
         "539.0",
         "539.0",
         "539.0"
        ],
        [
         "mean",
         "0.0004828386091128049",
         "6.567717996289425e-05",
         "0.0004578654968871341",
         "0.0004171614291499107",
         "0.00039218831692423964"
        ],
        [
         "std",
         "0.01879504669592212",
         "3.277238811127258e-05",
         "0.01597026663906559",
         "0.018800435599526388",
         "0.015972040627519786"
        ],
        [
         "min",
         "-0.11880386357563655",
         "0.0",
         "-0.11738810369891774",
         "-0.11886386357563655",
         "-0.11744810369891774"
        ],
        [
         "25%",
         "-0.006698965375913246",
         "6e-05",
         "-0.003947293101353444",
         "-0.006788965375913246",
         "-0.004020818773202335"
        ],
        [
         "50%",
         "0.0006064460979320341",
         "7.000000000000001e-05",
         "0.000907856176950439",
         "0.0005264460979320341",
         "0.0008762333858978067"
        ],
        [
         "75%",
         "0.008930011168244878",
         "8.999999999999999e-05",
         "0.006567868173564473",
         "0.008845011168244878",
         "0.006482868173564473"
        ],
        [
         "max",
         "0.07552453253365377",
         "0.0001",
         "0.09536397904733927",
         "0.07546453253365376",
         "0.09530397904733927"
        ]
       ],
       "shape": {
        "columns": 5,
        "rows": 8
       }
      },
      "text/html": [
       "<div>\n",
       "<style scoped>\n",
       "    .dataframe tbody tr th:only-of-type {\n",
       "        vertical-align: middle;\n",
       "    }\n",
       "\n",
       "    .dataframe tbody tr th {\n",
       "        vertical-align: top;\n",
       "    }\n",
       "\n",
       "    .dataframe thead th {\n",
       "        text-align: right;\n",
       "    }\n",
       "</style>\n",
       "<table border=\"1\" class=\"dataframe\">\n",
       "  <thead>\n",
       "    <tr style=\"text-align: right;\">\n",
       "      <th></th>\n",
       "      <th>rh_portfolio</th>\n",
       "      <th>rf</th>\n",
       "      <th>mkt</th>\n",
       "      <th>xr</th>\n",
       "      <th>xmkt</th>\n",
       "    </tr>\n",
       "  </thead>\n",
       "  <tbody>\n",
       "    <tr>\n",
       "      <th>count</th>\n",
       "      <td>539.000000</td>\n",
       "      <td>539.000000</td>\n",
       "      <td>539.000000</td>\n",
       "      <td>539.000000</td>\n",
       "      <td>539.000000</td>\n",
       "    </tr>\n",
       "    <tr>\n",
       "      <th>mean</th>\n",
       "      <td>0.000483</td>\n",
       "      <td>0.000066</td>\n",
       "      <td>0.000458</td>\n",
       "      <td>0.000417</td>\n",
       "      <td>0.000392</td>\n",
       "    </tr>\n",
       "    <tr>\n",
       "      <th>std</th>\n",
       "      <td>0.018795</td>\n",
       "      <td>0.000033</td>\n",
       "      <td>0.015970</td>\n",
       "      <td>0.018800</td>\n",
       "      <td>0.015972</td>\n",
       "    </tr>\n",
       "    <tr>\n",
       "      <th>min</th>\n",
       "      <td>-0.118804</td>\n",
       "      <td>0.000000</td>\n",
       "      <td>-0.117388</td>\n",
       "      <td>-0.118864</td>\n",
       "      <td>-0.117448</td>\n",
       "    </tr>\n",
       "    <tr>\n",
       "      <th>25%</th>\n",
       "      <td>-0.006699</td>\n",
       "      <td>0.000060</td>\n",
       "      <td>-0.003947</td>\n",
       "      <td>-0.006789</td>\n",
       "      <td>-0.004021</td>\n",
       "    </tr>\n",
       "    <tr>\n",
       "      <th>50%</th>\n",
       "      <td>0.000606</td>\n",
       "      <td>0.000070</td>\n",
       "      <td>0.000908</td>\n",
       "      <td>0.000526</td>\n",
       "      <td>0.000876</td>\n",
       "    </tr>\n",
       "    <tr>\n",
       "      <th>75%</th>\n",
       "      <td>0.008930</td>\n",
       "      <td>0.000090</td>\n",
       "      <td>0.006568</td>\n",
       "      <td>0.008845</td>\n",
       "      <td>0.006483</td>\n",
       "    </tr>\n",
       "    <tr>\n",
       "      <th>max</th>\n",
       "      <td>0.075525</td>\n",
       "      <td>0.000100</td>\n",
       "      <td>0.095364</td>\n",
       "      <td>0.075465</td>\n",
       "      <td>0.095304</td>\n",
       "    </tr>\n",
       "  </tbody>\n",
       "</table>\n",
       "</div>"
      ],
      "text/plain": [
       "       rh_portfolio          rf         mkt          xr        xmkt\n",
       "count    539.000000  539.000000  539.000000  539.000000  539.000000\n",
       "mean       0.000483    0.000066    0.000458    0.000417    0.000392\n",
       "std        0.018795    0.000033    0.015970    0.018800    0.015972\n",
       "min       -0.118804    0.000000   -0.117388   -0.118864   -0.117448\n",
       "25%       -0.006699    0.000060   -0.003947   -0.006789   -0.004021\n",
       "50%        0.000606    0.000070    0.000908    0.000526    0.000876\n",
       "75%        0.008930    0.000090    0.006568    0.008845    0.006483\n",
       "max        0.075525    0.000100    0.095364    0.075465    0.095304"
      ]
     },
     "execution_count": 2,
     "metadata": {},
     "output_type": "execute_result"
    }
   ],
   "source": [
    "from src import Analyzer\n",
    "from src import RiskTests\n",
    "from src.utils.params import ReturnParams\n",
    "\n",
    "import numpy as np\n",
    "\n",
    "return_params = ReturnParams(\n",
    "    horizons={},  \n",
    "    start_date=None,\n",
    "#    end_date=\"2020-02-03\",\n",
    "    cumulative=False,\n",
    "    append_start=False\n",
    ")\n",
    "\n",
    "an = Analyzer(compare_tickers=[\"VOO\"], return_params=return_params, stocks_only=False, weights_application=\"number\", dl_kwargs={\"weights_method\":\"dollar\"})\n",
    "\n",
    "\n",
    "rt = RiskTests(an)\n",
    "daily_factors = rt.factors\n",
    "daily_factors.describe()"
   ]
  },
  {
   "cell_type": "code",
   "execution_count": 43,
   "id": "fb56960e",
   "metadata": {},
   "outputs": [
    {
     "data": {
      "application/vnd.microsoft.datawrangler.viewer.v0+json": {
       "columns": [
        {
         "name": "index",
         "rawType": "datetime64[ns]",
         "type": "datetime"
        },
        {
         "name": "rh_portfolio",
         "rawType": "float64",
         "type": "float"
        },
        {
         "name": "rf",
         "rawType": "float64",
         "type": "float"
        },
        {
         "name": "mkt",
         "rawType": "float64",
         "type": "float"
        },
        {
         "name": "xr",
         "rawType": "float64",
         "type": "float"
        },
        {
         "name": "xmkt",
         "rawType": "float64",
         "type": "float"
        }
       ],
       "conversionMethod": "pd.DataFrame",
       "ref": "eed9d364-99ca-4070-a381-9c0fd1e1bfbd",
       "rows": [
        [
         "2018-06-30 00:00:00",
         "0.005810046455442697",
         "0.0012006842463021528",
         "-0.007557416172785492",
         "0.004604057535858352",
         "-0.008748133817250592"
        ],
        [
         "2018-07-31 00:00:00",
         "0.027435327641928797",
         "0.0016813446812071753",
         "0.035629835903564055",
         "0.025712758679283354",
         "0.03389423905686351"
        ],
        [
         "2018-08-31 00:00:00",
         "0.06435434879065927",
         "0.0014710294563338167",
         "0.04057104291252056",
         "0.06279543420329414",
         "0.0390453514910305"
        ],
        [
         "2018-09-30 00:00:00",
         "-0.030531613311633787",
         "0.0015210948962884885",
         "0.0012372150569885942",
         "-0.03200661674361438",
         "-0.0002834824660810087"
        ],
        [
         "2018-10-31 00:00:00",
         "-0.09845794733552837",
         "0.0018416201071167482",
         "-0.06837671104200371",
         "-0.10012328062547649",
         "-0.07009482683894164"
        ],
        [
         "2018-11-30 00:00:00",
         "-0.0028432157784050727",
         "0.0016813446812071753",
         "0.01885128095386812",
         "-0.004517679671429242",
         "0.017142385601111476"
        ],
        [
         "2018-12-31 00:00:00",
         "-0.11408549620210995",
         "0.0019017109693872936",
         "-0.09338014833517416",
         "-0.11577852629873009",
         "-0.09511036846436172"
        ],
        [
         "2019-01-31 00:00:00",
         "0.05948780694754996",
         "0.0016012005601815371",
         "0.06190827886258865",
         "0.05779974913513852",
         "0.060216737194218384"
        ],
        [
         "2019-02-28 00:00:00",
         "-0.02343201872264289",
         "0.0019017109693872936",
         "0.03249877152126013",
         "-0.02528821873494469",
         "0.03054205700642254"
        ],
        [
         "2019-03-31 00:00:00",
         "0.0026858950217942823",
         "0.0018917019699613569",
         "0.013550981624126601",
         "0.0007926545138472463",
         "0.011638272304586916"
        ],
        [
         "2019-04-30 00:00:00",
         "0.0234140086180068",
         "0.002102101330598183",
         "0.040340601050296465",
         "0.02126930654618686",
         "0.03816215650132615"
        ],
        [
         "2019-05-31 00:00:00",
         "-0.1020319023374513",
         "0.0019818722231386143",
         "-0.06347916508725038",
         "-0.10381706136118252",
         "-0.06533732254823132"
        ],
        [
         "2019-06-30 00:00:00",
         "0.048899242923787556",
         "0.0018015398313766529",
         "0.06438086763949857",
         "0.04701718456754955",
         "0.06247253502707717"
        ],
        [
         "2019-07-31 00:00:00",
         "-0.02075676239897195",
         "0.0019818722231386143",
         "0.01460152385664193",
         "-0.022695725258172872",
         "0.012595803821262352"
        ],
        [
         "2019-08-31 00:00:00",
         "-0.052370768153588876",
         "0.0015411324283958194",
         "-0.016405376314829856",
         "-0.053832820919601065",
         "-0.017920289838225356"
        ],
        [
         "2019-09-30 00:00:00",
         "-0.03553548278071128",
         "0.0018015398313766529",
         "0.014892032208040362",
         "-0.03727324819556033",
         "0.013068106709437144"
        ],
        [
         "2019-10-31 00:00:00",
         "0.008376734054602597",
         "0.0016112403076657955",
         "0.021826778362920685",
         "0.006755001340073674",
         "0.020184392351193292"
        ],
        [
         "2019-11-30 00:00:00",
         "0.009622456047301498",
         "0.0012006842463021528",
         "0.03625920072730948",
         "0.008412167518834224",
         "0.03501860065473705"
        ],
        [
         "2019-12-31 00:00:00",
         "0.009739940241410672",
         "0.0014710294563338167",
         "0.02477048414240346",
         "0.008257313613422745",
         "0.02326686031872205"
        ],
        [
         "2020-01-31 00:00:00",
         "-0.005600036500825523",
         "0.0007802808617849433",
         "-0.022335152314017614",
         "-0.006375766821659967",
         "-0.023098808650962144"
        ],
        [
         "2020-02-29 00:00:00",
         "0.022658240000230645",
         "5.999999999994898e-05",
         "0.0072711285467887965",
         "0.022598240000230696",
         "0.0072111285467888475"
        ]
       ],
       "shape": {
        "columns": 5,
        "rows": 21
       }
      },
      "text/html": [
       "<div>\n",
       "<style scoped>\n",
       "    .dataframe tbody tr th:only-of-type {\n",
       "        vertical-align: middle;\n",
       "    }\n",
       "\n",
       "    .dataframe tbody tr th {\n",
       "        vertical-align: top;\n",
       "    }\n",
       "\n",
       "    .dataframe thead th {\n",
       "        text-align: right;\n",
       "    }\n",
       "</style>\n",
       "<table border=\"1\" class=\"dataframe\">\n",
       "  <thead>\n",
       "    <tr style=\"text-align: right;\">\n",
       "      <th></th>\n",
       "      <th>rh_portfolio</th>\n",
       "      <th>rf</th>\n",
       "      <th>mkt</th>\n",
       "      <th>xr</th>\n",
       "      <th>xmkt</th>\n",
       "    </tr>\n",
       "  </thead>\n",
       "  <tbody>\n",
       "    <tr>\n",
       "      <th>2018-06-30</th>\n",
       "      <td>0.005810</td>\n",
       "      <td>0.001201</td>\n",
       "      <td>-0.007557</td>\n",
       "      <td>0.004604</td>\n",
       "      <td>-0.008748</td>\n",
       "    </tr>\n",
       "    <tr>\n",
       "      <th>2018-07-31</th>\n",
       "      <td>0.027435</td>\n",
       "      <td>0.001681</td>\n",
       "      <td>0.035630</td>\n",
       "      <td>0.025713</td>\n",
       "      <td>0.033894</td>\n",
       "    </tr>\n",
       "    <tr>\n",
       "      <th>2018-08-31</th>\n",
       "      <td>0.064354</td>\n",
       "      <td>0.001471</td>\n",
       "      <td>0.040571</td>\n",
       "      <td>0.062795</td>\n",
       "      <td>0.039045</td>\n",
       "    </tr>\n",
       "    <tr>\n",
       "      <th>2018-09-30</th>\n",
       "      <td>-0.030532</td>\n",
       "      <td>0.001521</td>\n",
       "      <td>0.001237</td>\n",
       "      <td>-0.032007</td>\n",
       "      <td>-0.000283</td>\n",
       "    </tr>\n",
       "    <tr>\n",
       "      <th>2018-10-31</th>\n",
       "      <td>-0.098458</td>\n",
       "      <td>0.001842</td>\n",
       "      <td>-0.068377</td>\n",
       "      <td>-0.100123</td>\n",
       "      <td>-0.070095</td>\n",
       "    </tr>\n",
       "    <tr>\n",
       "      <th>2018-11-30</th>\n",
       "      <td>-0.002843</td>\n",
       "      <td>0.001681</td>\n",
       "      <td>0.018851</td>\n",
       "      <td>-0.004518</td>\n",
       "      <td>0.017142</td>\n",
       "    </tr>\n",
       "    <tr>\n",
       "      <th>2018-12-31</th>\n",
       "      <td>-0.114085</td>\n",
       "      <td>0.001902</td>\n",
       "      <td>-0.093380</td>\n",
       "      <td>-0.115779</td>\n",
       "      <td>-0.095110</td>\n",
       "    </tr>\n",
       "    <tr>\n",
       "      <th>2019-01-31</th>\n",
       "      <td>0.059488</td>\n",
       "      <td>0.001601</td>\n",
       "      <td>0.061908</td>\n",
       "      <td>0.057800</td>\n",
       "      <td>0.060217</td>\n",
       "    </tr>\n",
       "    <tr>\n",
       "      <th>2019-02-28</th>\n",
       "      <td>-0.023432</td>\n",
       "      <td>0.001902</td>\n",
       "      <td>0.032499</td>\n",
       "      <td>-0.025288</td>\n",
       "      <td>0.030542</td>\n",
       "    </tr>\n",
       "    <tr>\n",
       "      <th>2019-03-31</th>\n",
       "      <td>0.002686</td>\n",
       "      <td>0.001892</td>\n",
       "      <td>0.013551</td>\n",
       "      <td>0.000793</td>\n",
       "      <td>0.011638</td>\n",
       "    </tr>\n",
       "    <tr>\n",
       "      <th>2019-04-30</th>\n",
       "      <td>0.023414</td>\n",
       "      <td>0.002102</td>\n",
       "      <td>0.040341</td>\n",
       "      <td>0.021269</td>\n",
       "      <td>0.038162</td>\n",
       "    </tr>\n",
       "    <tr>\n",
       "      <th>2019-05-31</th>\n",
       "      <td>-0.102032</td>\n",
       "      <td>0.001982</td>\n",
       "      <td>-0.063479</td>\n",
       "      <td>-0.103817</td>\n",
       "      <td>-0.065337</td>\n",
       "    </tr>\n",
       "    <tr>\n",
       "      <th>2019-06-30</th>\n",
       "      <td>0.048899</td>\n",
       "      <td>0.001802</td>\n",
       "      <td>0.064381</td>\n",
       "      <td>0.047017</td>\n",
       "      <td>0.062473</td>\n",
       "    </tr>\n",
       "    <tr>\n",
       "      <th>2019-07-31</th>\n",
       "      <td>-0.020757</td>\n",
       "      <td>0.001982</td>\n",
       "      <td>0.014602</td>\n",
       "      <td>-0.022696</td>\n",
       "      <td>0.012596</td>\n",
       "    </tr>\n",
       "    <tr>\n",
       "      <th>2019-08-31</th>\n",
       "      <td>-0.052371</td>\n",
       "      <td>0.001541</td>\n",
       "      <td>-0.016405</td>\n",
       "      <td>-0.053833</td>\n",
       "      <td>-0.017920</td>\n",
       "    </tr>\n",
       "    <tr>\n",
       "      <th>2019-09-30</th>\n",
       "      <td>-0.035535</td>\n",
       "      <td>0.001802</td>\n",
       "      <td>0.014892</td>\n",
       "      <td>-0.037273</td>\n",
       "      <td>0.013068</td>\n",
       "    </tr>\n",
       "    <tr>\n",
       "      <th>2019-10-31</th>\n",
       "      <td>0.008377</td>\n",
       "      <td>0.001611</td>\n",
       "      <td>0.021827</td>\n",
       "      <td>0.006755</td>\n",
       "      <td>0.020184</td>\n",
       "    </tr>\n",
       "    <tr>\n",
       "      <th>2019-11-30</th>\n",
       "      <td>0.009622</td>\n",
       "      <td>0.001201</td>\n",
       "      <td>0.036259</td>\n",
       "      <td>0.008412</td>\n",
       "      <td>0.035019</td>\n",
       "    </tr>\n",
       "    <tr>\n",
       "      <th>2019-12-31</th>\n",
       "      <td>0.009740</td>\n",
       "      <td>0.001471</td>\n",
       "      <td>0.024770</td>\n",
       "      <td>0.008257</td>\n",
       "      <td>0.023267</td>\n",
       "    </tr>\n",
       "    <tr>\n",
       "      <th>2020-01-31</th>\n",
       "      <td>-0.005600</td>\n",
       "      <td>0.000780</td>\n",
       "      <td>-0.022335</td>\n",
       "      <td>-0.006376</td>\n",
       "      <td>-0.023099</td>\n",
       "    </tr>\n",
       "    <tr>\n",
       "      <th>2020-02-29</th>\n",
       "      <td>0.022658</td>\n",
       "      <td>0.000060</td>\n",
       "      <td>0.007271</td>\n",
       "      <td>0.022598</td>\n",
       "      <td>0.007211</td>\n",
       "    </tr>\n",
       "  </tbody>\n",
       "</table>\n",
       "</div>"
      ],
      "text/plain": [
       "            rh_portfolio        rf       mkt        xr      xmkt\n",
       "2018-06-30      0.005810  0.001201 -0.007557  0.004604 -0.008748\n",
       "2018-07-31      0.027435  0.001681  0.035630  0.025713  0.033894\n",
       "2018-08-31      0.064354  0.001471  0.040571  0.062795  0.039045\n",
       "2018-09-30     -0.030532  0.001521  0.001237 -0.032007 -0.000283\n",
       "2018-10-31     -0.098458  0.001842 -0.068377 -0.100123 -0.070095\n",
       "2018-11-30     -0.002843  0.001681  0.018851 -0.004518  0.017142\n",
       "2018-12-31     -0.114085  0.001902 -0.093380 -0.115779 -0.095110\n",
       "2019-01-31      0.059488  0.001601  0.061908  0.057800  0.060217\n",
       "2019-02-28     -0.023432  0.001902  0.032499 -0.025288  0.030542\n",
       "2019-03-31      0.002686  0.001892  0.013551  0.000793  0.011638\n",
       "2019-04-30      0.023414  0.002102  0.040341  0.021269  0.038162\n",
       "2019-05-31     -0.102032  0.001982 -0.063479 -0.103817 -0.065337\n",
       "2019-06-30      0.048899  0.001802  0.064381  0.047017  0.062473\n",
       "2019-07-31     -0.020757  0.001982  0.014602 -0.022696  0.012596\n",
       "2019-08-31     -0.052371  0.001541 -0.016405 -0.053833 -0.017920\n",
       "2019-09-30     -0.035535  0.001802  0.014892 -0.037273  0.013068\n",
       "2019-10-31      0.008377  0.001611  0.021827  0.006755  0.020184\n",
       "2019-11-30      0.009622  0.001201  0.036259  0.008412  0.035019\n",
       "2019-12-31      0.009740  0.001471  0.024770  0.008257  0.023267\n",
       "2020-01-31     -0.005600  0.000780 -0.022335 -0.006376 -0.023099\n",
       "2020-02-29      0.022658  0.000060  0.007271  0.022598  0.007211"
      ]
     },
     "execution_count": 43,
     "metadata": {},
     "output_type": "execute_result"
    }
   ],
   "source": [
    "monnthly_factors = rt.resample_factors()\n",
    "monnthly_factors"
   ]
  },
  {
   "cell_type": "code",
   "execution_count": 4,
   "id": "15272c5b",
   "metadata": {},
   "outputs": [
    {
     "data": {
      "text/plain": [
       "np.float64(2.8753855998809206)"
      ]
     },
     "execution_count": 4,
     "metadata": {},
     "output_type": "execute_result"
    }
   ],
   "source": [
    "gamma_gmm = rt.estimate_euler_gamma(df_returns=daily_factors)\n",
    "gamma_gmm"
   ]
  },
  {
   "cell_type": "code",
   "execution_count": 45,
   "id": "aea6cb55",
   "metadata": {},
   "outputs": [
    {
     "name": "stdout",
     "output_type": "stream",
     "text": [
      "Gamma: -10.0000\n"
     ]
    },
    {
     "data": {
      "image/png": "[encoded data removed]",
      "text/plain": [
       "<Figure size 1800x1000 with 1 Axes>"
      ]
     },
     "metadata": {},
     "output_type": "display_data"
    },
    {
     "data": {
      "text/plain": [
       "np.float64(-9.999999980286672)"
      ]
     },
     "execution_count": 45,
     "metadata": {},
     "output_type": "execute_result"
    }
   ],
   "source": [
    "rt.find_cutoff_gamma()"
   ]
  },
  {
   "cell_type": "code",
   "execution_count": 46,
   "id": "7da7cf04",
   "metadata": {},
   "outputs": [
    {
     "data": {
      "application/vnd.microsoft.datawrangler.viewer.v0+json": {
       "columns": [
        {
         "name": "index",
         "rawType": "datetime64[ns]",
         "type": "datetime"
        },
        {
         "name": "rh_portfolio",
         "rawType": "float64",
         "type": "float"
        },
        {
         "name": "rf",
         "rawType": "float64",
         "type": "float"
        },
        {
         "name": "mkt",
         "rawType": "float64",
         "type": "float"
        },
        {
         "name": "xr",
         "rawType": "float64",
         "type": "float"
        },
        {
         "name": "xmkt",
         "rawType": "float64",
         "type": "float"
        }
       ],
       "conversionMethod": "pd.DataFrame",
       "ref": "e6da4004-0b3c-4150-87d2-173cf099d8d3",
       "rows": [
        [
         "2018-06-04 00:00:00",
         "1.0071260986570023",
         "1.00006",
         "1.0044150988425282",
         "1.0070660986570024",
         "1.0043550988425283"
        ],
        [
         "2018-06-05 00:00:00",
         "1.0098947003015424",
         "1.00006",
         "1.0013860288293996",
         "1.0098347003015424",
         "1.0013260288293997"
        ],
        [
         "2018-06-06 00:00:00",
         "1.0015322547437864",
         "1.00006",
         "1.0079882943805116",
         "1.0014722547437864",
         "1.0079282943805117"
        ],
        [
         "2018-06-07 00:00:00",
         "0.9978574041145158",
         "1.00006",
         "0.9995292086782535",
         "0.9977974041145159",
         "0.9994692086782535"
        ],
        [
         "2018-06-08 00:00:00",
         "0.9948313455580747",
         "1.00006",
         "1.0031401263885071",
         "0.9947713455580748",
         "1.0030801263885072"
        ],
        [
         "2018-06-11 00:00:00",
         "1.0112762153511783",
         "1.00006",
         "1.001291153058217",
         "1.0112162153511783",
         "1.001231153058217"
        ],
        [
         "2018-06-12 00:00:00",
         "1.0047856709483238",
         "1.00006",
         "1.001680343949994",
         "1.0047256709483239",
         "1.001620343949994"
        ],
        [
         "2018-06-13 00:00:00",
         "0.9984793657193843",
         "1.00006",
         "0.9960207933531304",
         "0.9984193657193844",
         "0.9959607933531305"
        ],
        [
         "2018-06-14 00:00:00",
         "1.009723157837935",
         "1.00006",
         "1.0028983980259292",
         "1.0096631578379351",
         "1.0028383980259292"
        ],
        [
         "2018-06-15 00:00:00",
         "0.9958978726969201",
         "1.00006",
         "0.9991408318352211",
         "0.9958378726969201",
         "0.9990808318352211"
        ],
        [
         "2018-06-18 00:00:00",
         "0.99572634459384",
         "1.00006",
         "0.9976156041121056",
         "0.9956663445938401",
         "0.9975556041121056"
        ],
        [
         "2018-06-19 00:00:00",
         "0.9919466294369043",
         "1.00006",
         "0.9961993574171303",
         "0.9918866294369043",
         "0.9961393574171303"
        ],
        [
         "2018-06-20 00:00:00",
         "1.0070108368731878",
         "1.00006",
         "1.0018092822025566",
         "1.0069508368731879",
         "1.0017492822025567"
        ],
        [
         "2018-06-21 00:00:00",
         "0.9890670928166035",
         "1.00006",
         "0.9937575676747058",
         "0.9890070928166036",
         "0.9936975676747059"
        ],
        [
         "2018-06-22 00:00:00",
         "0.9961232241941271",
         "1.00006",
         "1.0017778524020227",
         "0.9960632241941272",
         "1.0017178524020227"
        ],
        [
         "2018-06-25 00:00:00",
         "0.9738021338476436",
         "1.00006",
         "0.9861576296029645",
         "0.9737421338476436",
         "0.9860976296029645"
        ],
        [
         "2018-06-26 00:00:00",
         "1.012969812210541",
         "1.00006",
         "1.0021994721266896",
         "1.012909812210541",
         "1.0021394721266896"
        ],
        [
         "2018-06-27 00:00:00",
         "0.996127094300296",
         "1.00006",
         "0.9917002513866167",
         "0.996067094300296",
         "0.9916402513866167"
        ],
        [
         "2018-06-28 00:00:00",
         "1.0136133072343927",
         "1.00006",
         "1.0014082806904598",
         "1.0135533072343927",
         "1.00134828069046"
        ],
        [
         "2018-06-29 00:00:00",
         "0.9988911164353725",
         "1.00006",
         "1.002531300225008",
         "0.9988311164353726",
         "1.002471300225008"
        ],
        [
         "2018-07-02 00:00:00",
         "1.0069934076966858",
         "1.00008",
         "1.0011623181901455",
         "1.0069134076966857",
         "1.0010823181901454"
        ],
        [
         "2018-07-03 00:00:00",
         "0.9852049241899565",
         "1.00008",
         "0.9959567253803041",
         "0.9851249241899566",
         "0.9958767253803041"
        ],
        [
         "2018-07-05 00:00:00",
         "1.0110457856669932",
         "1.00008",
         "1.0085614778954732",
         "1.0109657856669931",
         "1.0084814778954732"
        ],
        [
         "2018-07-06 00:00:00",
         "1.012288996211555",
         "1.00008",
         "1.0083293081460227",
         "1.012208996211555",
         "1.0082493081460226"
        ],
        [
         "2018-07-09 00:00:00",
         "1.0123795328609546",
         "1.00008",
         "1.008853444877809",
         "1.0122995328609545",
         "1.008773444877809"
        ],
        [
         "2018-07-10 00:00:00",
         "0.9981781413565853",
         "1.00008",
         "1.0034868168462292",
         "0.9980981413565854",
         "1.0034068168462291"
        ],
        [
         "2018-07-11 00:00:00",
         "0.9967972338425894",
         "1.00008",
         "0.9931677600855875",
         "0.9967172338425895",
         "0.9930877600855875"
        ],
        [
         "2018-07-12 00:00:00",
         "1.0117640279776048",
         "1.00008",
         "1.00856955855183",
         "1.0116840279776047",
         "1.0084895585518299"
        ],
        [
         "2018-07-13 00:00:00",
         "1.0014682764229177",
         "1.00008",
         "1.0008574657653868",
         "1.0013882764229176",
         "1.0007774657653867"
        ],
        [
         "2018-07-16 00:00:00",
         "1.001357115756293",
         "1.00008",
         "0.9993768838593059",
         "1.001277115756293",
         "0.9992968838593059"
        ],
        [
         "2018-07-17 00:00:00",
         "1.00916212526737",
         "1.00008",
         "1.0042863655846939",
         "1.0090821252673698",
         "1.0042063655846938"
        ],
        [
         "2018-07-18 00:00:00",
         "1.0023227630437779",
         "1.00008",
         "1.0018236137887087",
         "1.0022427630437778",
         "1.0017436137887086"
        ],
        [
         "2018-07-19 00:00:00",
         "0.9913582536206004",
         "1.00008",
         "0.9962044540586966",
         "0.9912782536206004",
         "0.9961244540586967"
        ],
        [
         "2018-07-20 00:00:00",
         "0.9982360319361592",
         "1.00008",
         "0.9990669854599175",
         "0.9981560319361592",
         "0.9989869854599175"
        ],
        [
         "2018-07-23 00:00:00",
         "1.0005103897794476",
         "1.00008",
         "1.0019067241844999",
         "1.0004303897794475",
         "1.0018267241844998"
        ],
        [
         "2018-07-24 00:00:00",
         "1.0057165364516099",
         "1.00008",
         "1.0046995378102301",
         "1.0056365364516098",
         "1.00461953781023"
        ],
        [
         "2018-07-25 00:00:00",
         "1.0165605987577062",
         "1.00008",
         "1.009161899225371",
         "1.0164805987577061",
         "1.009081899225371"
        ],
        [
         "2018-07-26 00:00:00",
         "0.9863056782657665",
         "1.00008",
         "0.9970504116855166",
         "0.9862256782657666",
         "0.9969704116855166"
        ],
        [
         "2018-07-27 00:00:00",
         "0.9976758243229461",
         "1.00008",
         "0.9935069924696481",
         "0.9975958243229461",
         "0.9934269924696482"
        ],
        [
         "2018-07-30 00:00:00",
         "0.9801104234322513",
         "1.00008",
         "0.9942380215785608",
         "0.9800304234322513",
         "0.9941580215785608"
        ],
        [
         "2018-07-31 00:00:00",
         "1.0025901587429693",
         "1.00008",
         "1.0050563203011933",
         "1.0025101587429692",
         "1.0049763203011932"
        ],
        [
         "2018-08-01 00:00:00",
         "1.0069589159501082",
         "1.00007",
         "0.9987616098591955",
         "1.0068889159501082",
         "0.9986916098591955"
        ],
        [
         "2018-08-02 00:00:00",
         "1.0190189672262724",
         "1.00007",
         "1.0050760231353078",
         "1.0189489672262724",
         "1.0050060231353077"
        ],
        [
         "2018-08-03 00:00:00",
         "0.996271228192817",
         "1.00007",
         "1.0048960636533382",
         "0.996201228192817",
         "1.0048260636533382"
        ],
        [
         "2018-08-06 00:00:00",
         "1.0062363719719225",
         "1.00007",
         "1.0037597253126678",
         "1.0061663719719225",
         "1.0036897253126678"
        ],
        [
         "2018-08-07 00:00:00",
         "1.0058235774075954",
         "1.00007",
         "1.0027900549308189",
         "1.0057535774075954",
         "1.0027200549308188"
        ],
        [
         "2018-08-08 00:00:00",
         "1.001285419545594",
         "1.00007",
         "0.9994664405229255",
         "1.001215419545594",
         "0.9993964405229255"
        ],
        [
         "2018-08-13 00:00:00",
         "0.9990834448223108",
         "1.00007",
         "0.9962325465169922",
         "0.9990134448223108",
         "0.9961625465169922"
        ],
        [
         "2018-08-14 00:00:00",
         "1.0048897938128525",
         "1.00007",
         "1.006444354154343",
         "1.0048197938128525",
         "1.006374354154343"
        ],
        [
         "2018-08-15 00:00:00",
         "0.9852472015220353",
         "1.00007",
         "0.9926383574249454",
         "0.9851772015220353",
         "0.9925683574249454"
        ]
       ],
       "shape": {
        "columns": 5,
        "rows": 405
       }
      },
      "text/html": [
       "<div>\n",
       "<style scoped>\n",
       "    .dataframe tbody tr th:only-of-type {\n",
       "        vertical-align: middle;\n",
       "    }\n",
       "\n",
       "    .dataframe tbody tr th {\n",
       "        vertical-align: top;\n",
       "    }\n",
       "\n",
       "    .dataframe thead th {\n",
       "        text-align: right;\n",
       "    }\n",
       "</style>\n",
       "<table border=\"1\" class=\"dataframe\">\n",
       "  <thead>\n",
       "    <tr style=\"text-align: right;\">\n",
       "      <th></th>\n",
       "      <th>rh_portfolio</th>\n",
       "      <th>rf</th>\n",
       "      <th>mkt</th>\n",
       "      <th>xr</th>\n",
       "      <th>xmkt</th>\n",
       "    </tr>\n",
       "  </thead>\n",
       "  <tbody>\n",
       "    <tr>\n",
       "      <th>2018-06-04</th>\n",
       "      <td>1.007126</td>\n",
       "      <td>1.00006</td>\n",
       "      <td>1.004415</td>\n",
       "      <td>1.007066</td>\n",
       "      <td>1.004355</td>\n",
       "    </tr>\n",
       "    <tr>\n",
       "      <th>2018-06-05</th>\n",
       "      <td>1.009895</td>\n",
       "      <td>1.00006</td>\n",
       "      <td>1.001386</td>\n",
       "      <td>1.009835</td>\n",
       "      <td>1.001326</td>\n",
       "    </tr>\n",
       "    <tr>\n",
       "      <th>2018-06-06</th>\n",
       "      <td>1.001532</td>\n",
       "      <td>1.00006</td>\n",
       "      <td>1.007988</td>\n",
       "      <td>1.001472</td>\n",
       "      <td>1.007928</td>\n",
       "    </tr>\n",
       "    <tr>\n",
       "      <th>2018-06-07</th>\n",
       "      <td>0.997857</td>\n",
       "      <td>1.00006</td>\n",
       "      <td>0.999529</td>\n",
       "      <td>0.997797</td>\n",
       "      <td>0.999469</td>\n",
       "    </tr>\n",
       "    <tr>\n",
       "      <th>2018-06-08</th>\n",
       "      <td>0.994831</td>\n",
       "      <td>1.00006</td>\n",
       "      <td>1.003140</td>\n",
       "      <td>0.994771</td>\n",
       "      <td>1.003080</td>\n",
       "    </tr>\n",
       "    <tr>\n",
       "      <th>...</th>\n",
       "      <td>...</td>\n",
       "      <td>...</td>\n",
       "      <td>...</td>\n",
       "      <td>...</td>\n",
       "      <td>...</td>\n",
       "    </tr>\n",
       "    <tr>\n",
       "      <th>2020-01-28</th>\n",
       "      <td>1.012218</td>\n",
       "      <td>1.00006</td>\n",
       "      <td>1.010833</td>\n",
       "      <td>1.012158</td>\n",
       "      <td>1.010773</td>\n",
       "    </tr>\n",
       "    <tr>\n",
       "      <th>2020-01-29</th>\n",
       "      <td>1.003558</td>\n",
       "      <td>1.00006</td>\n",
       "      <td>0.999001</td>\n",
       "      <td>1.003498</td>\n",
       "      <td>0.998941</td>\n",
       "    </tr>\n",
       "    <tr>\n",
       "      <th>2020-01-30</th>\n",
       "      <td>1.008771</td>\n",
       "      <td>1.00006</td>\n",
       "      <td>1.003132</td>\n",
       "      <td>1.008711</td>\n",
       "      <td>1.003072</td>\n",
       "    </tr>\n",
       "    <tr>\n",
       "      <th>2020-01-31</th>\n",
       "      <td>0.992740</td>\n",
       "      <td>1.00006</td>\n",
       "      <td>0.982065</td>\n",
       "      <td>0.992680</td>\n",
       "      <td>0.982005</td>\n",
       "    </tr>\n",
       "    <tr>\n",
       "      <th>2020-02-03</th>\n",
       "      <td>1.022658</td>\n",
       "      <td>1.00006</td>\n",
       "      <td>1.007271</td>\n",
       "      <td>1.022598</td>\n",
       "      <td>1.007211</td>\n",
       "    </tr>\n",
       "  </tbody>\n",
       "</table>\n",
       "<p>405 rows × 5 columns</p>\n",
       "</div>"
      ],
      "text/plain": [
       "            rh_portfolio       rf       mkt        xr      xmkt\n",
       "2018-06-04      1.007126  1.00006  1.004415  1.007066  1.004355\n",
       "2018-06-05      1.009895  1.00006  1.001386  1.009835  1.001326\n",
       "2018-06-06      1.001532  1.00006  1.007988  1.001472  1.007928\n",
       "2018-06-07      0.997857  1.00006  0.999529  0.997797  0.999469\n",
       "2018-06-08      0.994831  1.00006  1.003140  0.994771  1.003080\n",
       "...                  ...      ...       ...       ...       ...\n",
       "2020-01-28      1.012218  1.00006  1.010833  1.012158  1.010773\n",
       "2020-01-29      1.003558  1.00006  0.999001  1.003498  0.998941\n",
       "2020-01-30      1.008771  1.00006  1.003132  1.008711  1.003072\n",
       "2020-01-31      0.992740  1.00006  0.982065  0.992680  0.982005\n",
       "2020-02-03      1.022658  1.00006  1.007271  1.022598  1.007211\n",
       "\n",
       "[405 rows x 5 columns]"
      ]
     },
     "execution_count": 46,
     "metadata": {},
     "output_type": "execute_result"
    }
   ],
   "source": [
    "df = daily_factors +1\n",
    "df"
   ]
  },
  {
   "cell_type": "code",
   "execution_count": 5,
   "id": "6adb5f65",
   "metadata": {},
   "outputs": [
    {
     "name": "stderr",
     "output_type": "stream",
     "text": [
      "100%|██████████| 5000/5000 [00:02<00:00, 1906.14it/s]"
     ]
    },
    {
     "name": "stdout",
     "output_type": "stream",
     "text": [
      "ΔU (market - RH) at γ=2.875: 0.00012 [-0.00061, 0.00084]\n"
     ]
    },
    {
     "name": "stderr",
     "output_type": "stream",
     "text": [
      "\n"
     ]
    },
    {
     "data": {
      "text/plain": [
       "(np.float64(0.00011600533526851455),\n",
       " np.float64(-0.0006076360989113567),\n",
       " np.float64(0.000843054899359506))"
      ]
     },
     "execution_count": 5,
     "metadata": {},
     "output_type": "execute_result"
    }
   ],
   "source": [
    "rt.bootstrap_difference_utility(gamma0=gamma_gmm)"
   ]
  },
  {
   "cell_type": "code",
   "execution_count": 65,
   "id": "e9044f28",
   "metadata": {},
   "outputs": [
    {
     "data": {
      "application/vnd.microsoft.datawrangler.viewer.v0+json": {
       "columns": [
        {
         "name": "index",
         "rawType": "datetime64[ns]",
         "type": "datetime"
        },
        {
         "name": "rh_portfolio",
         "rawType": "float64",
         "type": "float"
        },
        {
         "name": "rf",
         "rawType": "float64",
         "type": "float"
        },
        {
         "name": "mkt",
         "rawType": "float64",
         "type": "float"
        },
        {
         "name": "xr",
         "rawType": "float64",
         "type": "float"
        },
        {
         "name": "xmkt",
         "rawType": "float64",
         "type": "float"
        }
       ],
       "conversionMethod": "pd.DataFrame",
       "ref": "4bf097f4-d3a2-4754-ab71-0d6a5087691c",
       "rows": [
        [
         "2018-06-04 00:00:00",
         "0.007126098657002311",
         "6e-05",
         "0.00441509884252822",
         "0.007066098657002311",
         "0.00435509884252822"
        ],
        [
         "2018-06-05 00:00:00",
         "0.00989470030154238",
         "6e-05",
         "0.0013860288293996437",
         "0.009834700301542381",
         "0.0013260288293996437"
        ],
        [
         "2018-06-06 00:00:00",
         "0.0015322547437863765",
         "6e-05",
         "0.007988294380511629",
         "0.0014722547437863766",
         "0.00792829438051163"
        ],
        [
         "2018-06-07 00:00:00",
         "-0.0021425958854841554",
         "6e-05",
         "-0.00047079132174654426",
         "-0.0022025958854841555",
         "-0.0005307913217465443"
        ],
        [
         "2018-06-08 00:00:00",
         "-0.005168654441925269",
         "6e-05",
         "0.003140126388507136",
         "-0.005228654441925269",
         "0.003080126388507136"
        ],
        [
         "2018-06-11 00:00:00",
         "0.011276215351178287",
         "6e-05",
         "0.0012911530582169206",
         "0.011216215351178288",
         "0.0012311530582169207"
        ],
        [
         "2018-06-12 00:00:00",
         "0.004785670948323828",
         "6e-05",
         "0.0016803439499939454",
         "0.004725670948323828",
         "0.0016203439499939455"
        ],
        [
         "2018-06-13 00:00:00",
         "-0.0015206342806156625",
         "6e-05",
         "-0.003979206646869571",
         "-0.0015806342806156625",
         "-0.004039206646869571"
        ],
        [
         "2018-06-14 00:00:00",
         "0.009723157837935092",
         "6e-05",
         "0.002898398025929172",
         "0.009663157837935093",
         "0.002838398025929172"
        ],
        [
         "2018-06-15 00:00:00",
         "-0.0041021273030799055",
         "6e-05",
         "-0.000859168164778934",
         "-0.004162127303079906",
         "-0.000919168164778934"
        ],
        [
         "2018-06-18 00:00:00",
         "-0.004273655406159982",
         "6e-05",
         "-0.0023843958878944083",
         "-0.004333655406159982",
         "-0.0024443958878944084"
        ],
        [
         "2018-06-19 00:00:00",
         "-0.00805337056309574",
         "6e-05",
         "-0.0038006425828697177",
         "-0.00811337056309574",
         "-0.003860642582869718"
        ],
        [
         "2018-06-20 00:00:00",
         "0.00701083687318782",
         "6e-05",
         "0.0018092822025566058",
         "0.00695083687318782",
         "0.0017492822025566058"
        ],
        [
         "2018-06-21 00:00:00",
         "-0.010932907183396456",
         "6e-05",
         "-0.0062424323252942004",
         "-0.010992907183396456",
         "-0.006302432325294201"
        ],
        [
         "2018-06-22 00:00:00",
         "-0.0038767758058728674",
         "6e-05",
         "0.0017778524020226616",
         "-0.0039367758058728676",
         "0.0017178524020226617"
        ],
        [
         "2018-06-25 00:00:00",
         "-0.02619786615235642",
         "6e-05",
         "-0.013842370397035508",
         "-0.02625786615235642",
         "-0.013902370397035508"
        ],
        [
         "2018-06-26 00:00:00",
         "0.012969812210541054",
         "6e-05",
         "0.0021994721266895834",
         "0.012909812210541055",
         "0.002139472126689583"
        ],
        [
         "2018-06-27 00:00:00",
         "-0.003872905699703999",
         "6e-05",
         "-0.00829974861338334",
         "-0.003932905699703999",
         "-0.008359748613383339"
        ],
        [
         "2018-06-28 00:00:00",
         "0.01361330723439269",
         "6e-05",
         "0.00140828069045984",
         "0.013553307234392692",
         "0.00134828069045984"
        ],
        [
         "2018-06-29 00:00:00",
         "-0.0011088835646274608",
         "6e-05",
         "0.0025313002250080263",
         "-0.0011688835646274608",
         "0.002471300225008026"
        ],
        [
         "2018-07-02 00:00:00",
         "0.006993407696685772",
         "8e-05",
         "0.0011623181901454505",
         "0.0069134076966857715",
         "0.0010823181901454505"
        ],
        [
         "2018-07-03 00:00:00",
         "-0.014795075810043468",
         "8e-05",
         "-0.004043274619695891",
         "-0.014875075810043468",
         "-0.0041232746196958915"
        ],
        [
         "2018-07-05 00:00:00",
         "0.011045785666993213",
         "8e-05",
         "0.008561477895473235",
         "0.010965785666993213",
         "0.008481477895473235"
        ],
        [
         "2018-07-06 00:00:00",
         "0.012288996211555103",
         "8e-05",
         "0.00832930814602273",
         "0.012208996211555103",
         "0.008249308146022729"
        ],
        [
         "2018-07-09 00:00:00",
         "0.012379532860954612",
         "8e-05",
         "0.008853444877809036",
         "0.012299532860954612",
         "0.008773444877809036"
        ],
        [
         "2018-07-10 00:00:00",
         "-0.0018218586434146644",
         "8e-05",
         "0.0034868168462292015",
         "-0.0019018586434146644",
         "0.0034068168462292013"
        ],
        [
         "2018-07-11 00:00:00",
         "-0.0032027661574105526",
         "8e-05",
         "-0.006832239914412508",
         "-0.003282766157410553",
         "-0.006912239914412508"
        ],
        [
         "2018-07-12 00:00:00",
         "0.011764027977604785",
         "8e-05",
         "0.008569558551829948",
         "0.011684027977604785",
         "0.008489558551829948"
        ],
        [
         "2018-07-13 00:00:00",
         "0.0014682764229176914",
         "8e-05",
         "0.0008574657653868112",
         "0.0013882764229176915",
         "0.0007774657653868112"
        ],
        [
         "2018-07-16 00:00:00",
         "0.001357115756293048",
         "8e-05",
         "-0.0006231161406941021",
         "0.001277115756293048",
         "-0.0007031161406941021"
        ],
        [
         "2018-07-17 00:00:00",
         "0.009162125267369925",
         "8e-05",
         "0.004286365584693863",
         "0.009082125267369925",
         "0.004206365584693863"
        ],
        [
         "2018-07-18 00:00:00",
         "0.0023227630437778757",
         "8e-05",
         "0.0018236137887086556",
         "0.0022427630437778755",
         "0.0017436137887086557"
        ],
        [
         "2018-07-19 00:00:00",
         "-0.008641746379399629",
         "8e-05",
         "-0.00379554594130338",
         "-0.008721746379399629",
         "-0.00387554594130338"
        ],
        [
         "2018-07-20 00:00:00",
         "-0.0017639680638408262",
         "8e-05",
         "-0.000933014540082544",
         "-0.0018439680638408262",
         "-0.001013014540082544"
        ],
        [
         "2018-07-23 00:00:00",
         "0.0005103897794476175",
         "8e-05",
         "0.0019067241844998861",
         "0.00043038977944761755",
         "0.0018267241844998861"
        ],
        [
         "2018-07-24 00:00:00",
         "0.005716536451609855",
         "8e-05",
         "0.004699537810230137",
         "0.005636536451609855",
         "0.004619537810230136"
        ],
        [
         "2018-07-25 00:00:00",
         "0.016560598757706213",
         "8e-05",
         "0.009161899225371029",
         "0.016480598757706213",
         "0.009081899225371028"
        ],
        [
         "2018-07-26 00:00:00",
         "-0.013694321734233461",
         "8e-05",
         "-0.0029495883144834423",
         "-0.013774321734233461",
         "-0.0030295883144834425"
        ],
        [
         "2018-07-27 00:00:00",
         "-0.002324175677053897",
         "8e-05",
         "-0.006493007530351869",
         "-0.002404175677053897",
         "-0.006573007530351869"
        ],
        [
         "2018-07-30 00:00:00",
         "-0.0198895765677487",
         "8e-05",
         "-0.005761978421439218",
         "-0.0199695765677487",
         "-0.005841978421439218"
        ],
        [
         "2018-07-31 00:00:00",
         "0.0025901587429693063",
         "8e-05",
         "0.0050563203011932956",
         "0.002510158742969306",
         "0.004976320301193295"
        ],
        [
         "2018-08-01 00:00:00",
         "0.006958915950108224",
         "7.000000000000001e-05",
         "-0.0012383901408045128",
         "0.0068889159501082245",
         "-0.0013083901408045128"
        ],
        [
         "2018-08-02 00:00:00",
         "0.019018967226272387",
         "7.000000000000001e-05",
         "0.00507602313530775",
         "0.018948967226272387",
         "0.00500602313530775"
        ],
        [
         "2018-08-03 00:00:00",
         "-0.0037287718071830067",
         "7.000000000000001e-05",
         "0.004896063653338167",
         "-0.003798771807183007",
         "0.004826063653338168"
        ],
        [
         "2018-08-06 00:00:00",
         "0.006236371971922505",
         "7.000000000000001e-05",
         "0.003759725312667772",
         "0.0061663719719225055",
         "0.003689725312667772"
        ],
        [
         "2018-08-07 00:00:00",
         "0.005823577407595426",
         "7.000000000000001e-05",
         "0.0027900549308188527",
         "0.005753577407595426",
         "0.0027200549308188525"
        ],
        [
         "2018-08-08 00:00:00",
         "0.0012854195455940243",
         "7.000000000000001e-05",
         "-0.0005335594770744523",
         "0.0012154195455940243",
         "-0.0006035594770744522"
        ],
        [
         "2018-08-13 00:00:00",
         "-0.0009165551776891823",
         "7.000000000000001e-05",
         "-0.0037674534830077766",
         "-0.0009865551776891822",
         "-0.003837453483007777"
        ],
        [
         "2018-08-14 00:00:00",
         "0.004889793812852483",
         "7.000000000000001e-05",
         "0.006444354154343079",
         "0.004819793812852483",
         "0.00637435415434308"
        ],
        [
         "2018-08-15 00:00:00",
         "-0.014752798477964735",
         "7.000000000000001e-05",
         "-0.007361642575054561",
         "-0.014822798477964735",
         "-0.007431642575054561"
        ]
       ],
       "shape": {
        "columns": 5,
        "rows": 539
       }
      },
      "text/html": [
       "<div>\n",
       "<style scoped>\n",
       "    .dataframe tbody tr th:only-of-type {\n",
       "        vertical-align: middle;\n",
       "    }\n",
       "\n",
       "    .dataframe tbody tr th {\n",
       "        vertical-align: top;\n",
       "    }\n",
       "\n",
       "    .dataframe thead th {\n",
       "        text-align: right;\n",
       "    }\n",
       "</style>\n",
       "<table border=\"1\" class=\"dataframe\">\n",
       "  <thead>\n",
       "    <tr style=\"text-align: right;\">\n",
       "      <th></th>\n",
       "      <th>rh_portfolio</th>\n",
       "      <th>rf</th>\n",
       "      <th>mkt</th>\n",
       "      <th>xr</th>\n",
       "      <th>xmkt</th>\n",
       "    </tr>\n",
       "  </thead>\n",
       "  <tbody>\n",
       "    <tr>\n",
       "      <th>2018-06-04</th>\n",
       "      <td>0.007126</td>\n",
       "      <td>0.00006</td>\n",
       "      <td>0.004415</td>\n",
       "      <td>0.007066</td>\n",
       "      <td>0.004355</td>\n",
       "    </tr>\n",
       "    <tr>\n",
       "      <th>2018-06-05</th>\n",
       "      <td>0.009895</td>\n",
       "      <td>0.00006</td>\n",
       "      <td>0.001386</td>\n",
       "      <td>0.009835</td>\n",
       "      <td>0.001326</td>\n",
       "    </tr>\n",
       "    <tr>\n",
       "      <th>2018-06-06</th>\n",
       "      <td>0.001532</td>\n",
       "      <td>0.00006</td>\n",
       "      <td>0.007988</td>\n",
       "      <td>0.001472</td>\n",
       "      <td>0.007928</td>\n",
       "    </tr>\n",
       "    <tr>\n",
       "      <th>2018-06-07</th>\n",
       "      <td>-0.002143</td>\n",
       "      <td>0.00006</td>\n",
       "      <td>-0.000471</td>\n",
       "      <td>-0.002203</td>\n",
       "      <td>-0.000531</td>\n",
       "    </tr>\n",
       "    <tr>\n",
       "      <th>2018-06-08</th>\n",
       "      <td>-0.005169</td>\n",
       "      <td>0.00006</td>\n",
       "      <td>0.003140</td>\n",
       "      <td>-0.005229</td>\n",
       "      <td>0.003080</td>\n",
       "    </tr>\n",
       "    <tr>\n",
       "      <th>...</th>\n",
       "      <td>...</td>\n",
       "      <td>...</td>\n",
       "      <td>...</td>\n",
       "      <td>...</td>\n",
       "      <td>...</td>\n",
       "    </tr>\n",
       "    <tr>\n",
       "      <th>2020-08-07</th>\n",
       "      <td>-0.014506</td>\n",
       "      <td>0.00000</td>\n",
       "      <td>0.000521</td>\n",
       "      <td>-0.014506</td>\n",
       "      <td>0.000521</td>\n",
       "    </tr>\n",
       "    <tr>\n",
       "      <th>2020-08-10</th>\n",
       "      <td>-0.000801</td>\n",
       "      <td>0.00000</td>\n",
       "      <td>0.003188</td>\n",
       "      <td>-0.000801</td>\n",
       "      <td>0.003188</td>\n",
       "    </tr>\n",
       "    <tr>\n",
       "      <th>2020-08-11</th>\n",
       "      <td>-0.019462</td>\n",
       "      <td>0.00000</td>\n",
       "      <td>-0.008075</td>\n",
       "      <td>-0.019462</td>\n",
       "      <td>-0.008075</td>\n",
       "    </tr>\n",
       "    <tr>\n",
       "      <th>2020-08-12</th>\n",
       "      <td>0.042312</td>\n",
       "      <td>0.00000</td>\n",
       "      <td>0.013700</td>\n",
       "      <td>0.042312</td>\n",
       "      <td>0.013700</td>\n",
       "    </tr>\n",
       "    <tr>\n",
       "      <th>2020-08-13</th>\n",
       "      <td>0.019231</td>\n",
       "      <td>0.00000</td>\n",
       "      <td>-0.001709</td>\n",
       "      <td>0.019231</td>\n",
       "      <td>-0.001709</td>\n",
       "    </tr>\n",
       "  </tbody>\n",
       "</table>\n",
       "<p>539 rows × 5 columns</p>\n",
       "</div>"
      ],
      "text/plain": [
       "            rh_portfolio       rf       mkt        xr      xmkt\n",
       "2018-06-04      0.007126  0.00006  0.004415  0.007066  0.004355\n",
       "2018-06-05      0.009895  0.00006  0.001386  0.009835  0.001326\n",
       "2018-06-06      0.001532  0.00006  0.007988  0.001472  0.007928\n",
       "2018-06-07     -0.002143  0.00006 -0.000471 -0.002203 -0.000531\n",
       "2018-06-08     -0.005169  0.00006  0.003140 -0.005229  0.003080\n",
       "...                  ...      ...       ...       ...       ...\n",
       "2020-08-07     -0.014506  0.00000  0.000521 -0.014506  0.000521\n",
       "2020-08-10     -0.000801  0.00000  0.003188 -0.000801  0.003188\n",
       "2020-08-11     -0.019462  0.00000 -0.008075 -0.019462 -0.008075\n",
       "2020-08-12      0.042312  0.00000  0.013700  0.042312  0.013700\n",
       "2020-08-13      0.019231  0.00000 -0.001709  0.019231 -0.001709\n",
       "\n",
       "[539 rows x 5 columns]"
      ]
     },
     "execution_count": 65,
     "metadata": {},
     "output_type": "execute_result"
    }
   ],
   "source": [
    "daily_factors"
   ]
  },
  {
   "cell_type": "code",
   "execution_count": null,
   "id": "13cdefd7",
   "metadata": {},
   "outputs": [
    {
     "name": "stderr",
     "output_type": "stream",
     "text": [
      "100%|██████████| 5000/5000 [00:26<00:00, 191.23it/s]"
     ]
    },
    {
     "name": "stdout",
     "output_type": "stream",
     "text": [
      "γ̂_GMM = 1.0971\n",
      "95% CI = [-6.5266, 12.1093]\n"
     ]
    },
    {
     "name": "stderr",
     "output_type": "stream",
     "text": [
      "\n"
     ]
    }
   ],
   "source": [
    "df_gmm = daily_factors\n",
    "\n",
    "import numpy as np\n",
    "from scipy.optimize import minimize_scalar\n",
    "from tqdm import trange\n",
    "\n",
    "B = 5_000\n",
    "n = len(df_gmm)\n",
    "gamma_boot = np.empty(B)\n",
    "\n",
    "for b in trange(B):\n",
    "    # 1) bootstrap sample\n",
    "    sample = df_gmm.sample(n, replace=True)\n",
    "    rp_b   = sample['rh_portfolio']\n",
    "    rf_b   = sample['rf']\n",
    "    bar_rf = rf_b.mean()\n",
    "\n",
    "    # 2) define moment for this draw\n",
    "    def moment_b(g):\n",
    "        m = (1.0 / (1.0 + bar_rf)) * (1.0 + rp_b) ** (-g)\n",
    "        return (m * (1.0 + rp_b)).mean() - 1.0\n",
    "\n",
    "    # 3) minimize squared moment\n",
    "    obj = lambda g: moment_b(g)**2\n",
    "    sol = minimize_scalar(obj, bounds=(-50, 50), method='bounded')\n",
    "\n",
    "    gamma_boot[b] = sol.x if sol.success else np.nan\n",
    "\n",
    "# drop failed solves\n",
    "gamma_boot = gamma_boot[~np.isnan(gamma_boot)]\n",
    "\n",
    "# point estimate & 95% CI\n",
    "gamma_hat = gamma_boot.mean()\n",
    "lower, upper = np.percentile(gamma_boot, [2.5, 97.5])\n",
    "\n",
    "print(f\"γ̂^GMM = {gamma_hat:.4f}\")\n",
    "print(f\"95% CI = [{lower:.4f}, {upper:.4f}]\")\n"
   ]
  },
  {
   "attachments": {
    "image.png": {
     "image/png": "[encoded data removed]"
    }
   },
   "cell_type": "markdown",
   "id": "18b61ebb",
   "metadata": {},
   "source": [
    "![image.png](attachment:image.png)"
   ]
  },
  {
   "cell_type": "code",
   "execution_count": null,
   "id": "07d67f4d",
   "metadata": {},
   "outputs": [
    {
     "name": "stdout",
     "output_type": "stream",
     "text": [
      "γ̂_GMM = 2.6863\n",
      "2\n",
      "95% BCa CI = [0.4156, 20.6930]\n"
     ]
    }
   ],
   "source": [
    "from scipy.stats import bootstrap\n",
    "import pandas as pd\n",
    "\n",
    "# Full‐sample estimate\n",
    "gamma_hat = rt.estimate_euler_gamma()  # or your_class.estimate_euler_gamma(df_gmm)\n",
    "print(f\"γ̂^GMM = {gamma_hat:.4f}\")\n",
    "\n",
    "# Prepare data for bootstrap\n",
    "rp = daily_factors[\"rh_portfolio\"]\n",
    "rf = daily_factors[\"rf\"]\n",
    "data = (rp, rf)\n",
    "\n",
    "# Statistic function using your exact solver\n",
    "def gmm_stat(rp, rf):\n",
    "    # recompute bar_rf inside the solver\n",
    "    data = pd.DataFrame({\"rh_portfolio\":rp,\n",
    "                         \"rf\":rf})\n",
    "    return rt.estimate_euler_gamma(df_returns=data)\n",
    "\n",
    "\n",
    "\n",
    "# Run BCa bootstrap\n",
    "res = bootstrap(\n",
    "    data,\n",
    "    statistic=gmm_stat,\n",
    "    paired=True,\n",
    "    vectorized=False,\n",
    "    n_resamples=5000,\n",
    "    method='bca',\n",
    "    confidence_level=0.95\n",
    ")\n",
    "\n",
    "ci = res.confidence_interval\n",
    "print(f\"95% BCa CI = [{ci.low:.4f}, {ci.high:.4f}]\")\n"
   ]
  },
  {
   "cell_type": "code",
   "execution_count": 13,
   "id": "3e0ea73d",
   "metadata": {},
   "outputs": [
    {
     "ename": "TypeError",
     "evalue": "RiskTests.bootstrap_gamma.<locals>.gmm_stat() takes 1 positional argument but 2 were given",
     "output_type": "error",
     "traceback": [
      "\u001b[1;31m---------------------------------------------------------------------------\u001b[0m",
      "\u001b[1;31mTypeError\u001b[0m                                 Traceback (most recent call last)",
      "Cell \u001b[1;32mIn[13], line 1\u001b[0m\n\u001b[1;32m----> 1\u001b[0m \u001b[43mrt\u001b[49m\u001b[38;5;241;43m.\u001b[39;49m\u001b[43mbootstrap_gamma\u001b[49m\u001b[43m(\u001b[49m\u001b[43mdaily_factors\u001b[49m\u001b[43m)\u001b[49m\n",
      "File \u001b[1;32md:\\uni\\bocconi\\thesis\\robinhood_data\\src\\risk_tests.py:299\u001b[0m, in \u001b[0;36mRiskTests.bootstrap_gamma\u001b[1;34m(self, df_returns, portfolio_name, n_resamples, confidence_level)\u001b[0m\n\u001b[0;32m    296\u001b[0m data \u001b[38;5;241m=\u001b[39m (rp, rf)\n\u001b[0;32m    298\u001b[0m \u001b[38;5;66;03m# Run BCa bootstrap\u001b[39;00m\n\u001b[1;32m--> 299\u001b[0m res \u001b[38;5;241m=\u001b[39m \u001b[43mbootstrap\u001b[49m\u001b[43m(\u001b[49m\n\u001b[0;32m    300\u001b[0m \u001b[43m    \u001b[49m\u001b[43mdata\u001b[49m\u001b[43m,\u001b[49m\n\u001b[0;32m    301\u001b[0m \u001b[43m    \u001b[49m\u001b[43mstatistic\u001b[49m\u001b[38;5;241;43m=\u001b[39;49m\u001b[43mgmm_stat\u001b[49m\u001b[43m,\u001b[49m\n\u001b[0;32m    302\u001b[0m \u001b[43m    \u001b[49m\u001b[43mpaired\u001b[49m\u001b[38;5;241;43m=\u001b[39;49m\u001b[38;5;28;43;01mTrue\u001b[39;49;00m\u001b[43m,\u001b[49m\n\u001b[0;32m    303\u001b[0m \u001b[43m    \u001b[49m\u001b[43mvectorized\u001b[49m\u001b[38;5;241;43m=\u001b[39;49m\u001b[38;5;28;43;01mFalse\u001b[39;49;00m\u001b[43m,\u001b[49m\n\u001b[0;32m    304\u001b[0m \u001b[43m    \u001b[49m\u001b[43mn_resamples\u001b[49m\u001b[38;5;241;43m=\u001b[39;49m\u001b[43mn_resamples\u001b[49m\u001b[43m,\u001b[49m\n\u001b[0;32m    305\u001b[0m \u001b[43m    \u001b[49m\u001b[43mmethod\u001b[49m\u001b[38;5;241;43m=\u001b[39;49m\u001b[38;5;124;43m'\u001b[39;49m\u001b[38;5;124;43mbca\u001b[39;49m\u001b[38;5;124;43m'\u001b[39;49m\u001b[43m,\u001b[49m\n\u001b[0;32m    306\u001b[0m \u001b[43m    \u001b[49m\u001b[43mconfidence_level\u001b[49m\u001b[38;5;241;43m=\u001b[39;49m\u001b[43mconfidence_level\u001b[49m\n\u001b[0;32m    307\u001b[0m \u001b[43m\u001b[49m\u001b[43m)\u001b[49m\n\u001b[0;32m    309\u001b[0m ci \u001b[38;5;241m=\u001b[39m res\u001b[38;5;241m.\u001b[39mconfidence_interval\n\u001b[0;32m    311\u001b[0m \u001b[38;5;66;03m# Return results as a dictionary\u001b[39;00m\n",
      "File \u001b[1;32md:\\Uni\\Bocconi\\Thesis\\Robinhood_data\\venv\\Lib\\site-packages\\scipy\\_lib\\_util.py:440\u001b[0m, in \u001b[0;36m_transition_to_rng.<locals>.decorator.<locals>.wrapper\u001b[1;34m(*args, **kwargs)\u001b[0m\n\u001b[0;32m    433\u001b[0m     message \u001b[38;5;241m=\u001b[39m (\n\u001b[0;32m    434\u001b[0m         \u001b[38;5;124m\"\u001b[39m\u001b[38;5;124mThe NumPy global RNG was seeded by calling \u001b[39m\u001b[38;5;124m\"\u001b[39m\n\u001b[0;32m    435\u001b[0m         \u001b[38;5;124mf\u001b[39m\u001b[38;5;124m\"\u001b[39m\u001b[38;5;124m`np.random.seed`. Beginning in \u001b[39m\u001b[38;5;132;01m{\u001b[39;00mend_version\u001b[38;5;132;01m}\u001b[39;00m\u001b[38;5;124m, this \u001b[39m\u001b[38;5;124m\"\u001b[39m\n\u001b[0;32m    436\u001b[0m         \u001b[38;5;124m\"\u001b[39m\u001b[38;5;124mfunction will no longer use the global RNG.\u001b[39m\u001b[38;5;124m\"\u001b[39m\n\u001b[0;32m    437\u001b[0m     ) \u001b[38;5;241m+\u001b[39m cmn_msg\n\u001b[0;32m    438\u001b[0m     warnings\u001b[38;5;241m.\u001b[39mwarn(message, \u001b[38;5;167;01mFutureWarning\u001b[39;00m, stacklevel\u001b[38;5;241m=\u001b[39m\u001b[38;5;241m2\u001b[39m)\n\u001b[1;32m--> 440\u001b[0m \u001b[38;5;28;01mreturn\u001b[39;00m \u001b[43mfun\u001b[49m\u001b[43m(\u001b[49m\u001b[38;5;241;43m*\u001b[39;49m\u001b[43margs\u001b[49m\u001b[43m,\u001b[49m\u001b[43m \u001b[49m\u001b[38;5;241;43m*\u001b[39;49m\u001b[38;5;241;43m*\u001b[39;49m\u001b[43mkwargs\u001b[49m\u001b[43m)\u001b[49m\n",
      "File \u001b[1;32md:\\Uni\\Bocconi\\Thesis\\Robinhood_data\\venv\\Lib\\site-packages\\scipy\\stats\\_resampling.py:650\u001b[0m, in \u001b[0;36mbootstrap\u001b[1;34m(data, statistic, n_resamples, batch, vectorized, paired, axis, confidence_level, alternative, method, bootstrap_result, rng)\u001b[0m\n\u001b[0;32m    647\u001b[0m         resampled_data\u001b[38;5;241m.\u001b[39mappend(resample)\n\u001b[0;32m    649\u001b[0m     \u001b[38;5;66;03m# Compute bootstrap distribution of statistic\u001b[39;00m\n\u001b[1;32m--> 650\u001b[0m     theta_hat_b\u001b[38;5;241m.\u001b[39mappend(\u001b[43mstatistic\u001b[49m\u001b[43m(\u001b[49m\u001b[38;5;241;43m*\u001b[39;49m\u001b[43mresampled_data\u001b[49m\u001b[43m,\u001b[49m\u001b[43m \u001b[49m\u001b[43maxis\u001b[49m\u001b[38;5;241;43m=\u001b[39;49m\u001b[38;5;241;43m-\u001b[39;49m\u001b[38;5;241;43m1\u001b[39;49m\u001b[43m)\u001b[49m)\n\u001b[0;32m    651\u001b[0m theta_hat_b \u001b[38;5;241m=\u001b[39m np\u001b[38;5;241m.\u001b[39mconcatenate(theta_hat_b, axis\u001b[38;5;241m=\u001b[39m\u001b[38;5;241m-\u001b[39m\u001b[38;5;241m1\u001b[39m)\n\u001b[0;32m    653\u001b[0m \u001b[38;5;66;03m# Calculate percentile interval\u001b[39;00m\n",
      "File \u001b[1;32md:\\Uni\\Bocconi\\Thesis\\Robinhood_data\\venv\\Lib\\site-packages\\scipy\\stats\\_resampling.py:224\u001b[0m, in \u001b[0;36m_bootstrap_iv.<locals>.statistic\u001b[1;34m(i, axis, data, unpaired_statistic)\u001b[0m\n\u001b[0;32m    222\u001b[0m \u001b[38;5;28;01mdef\u001b[39;00m\u001b[38;5;250m \u001b[39m\u001b[38;5;21mstatistic\u001b[39m(i, axis\u001b[38;5;241m=\u001b[39m\u001b[38;5;241m-\u001b[39m\u001b[38;5;241m1\u001b[39m, data\u001b[38;5;241m=\u001b[39mdata_iv, unpaired_statistic\u001b[38;5;241m=\u001b[39mstatistic):\n\u001b[0;32m    223\u001b[0m     data \u001b[38;5;241m=\u001b[39m [sample[\u001b[38;5;241m.\u001b[39m\u001b[38;5;241m.\u001b[39m\u001b[38;5;241m.\u001b[39m, i] \u001b[38;5;28;01mfor\u001b[39;00m sample \u001b[38;5;129;01min\u001b[39;00m data]\n\u001b[1;32m--> 224\u001b[0m     \u001b[38;5;28;01mreturn\u001b[39;00m \u001b[43munpaired_statistic\u001b[49m\u001b[43m(\u001b[49m\u001b[38;5;241;43m*\u001b[39;49m\u001b[43mdata\u001b[49m\u001b[43m,\u001b[49m\u001b[43m \u001b[49m\u001b[43maxis\u001b[49m\u001b[38;5;241;43m=\u001b[39;49m\u001b[43maxis\u001b[49m\u001b[43m)\u001b[49m\n",
      "File \u001b[1;32md:\\Uni\\Bocconi\\Thesis\\Robinhood_data\\venv\\Lib\\site-packages\\scipy\\stats\\_resampling.py:38\u001b[0m, in \u001b[0;36m_vectorize_statistic.<locals>.stat_nd\u001b[1;34m(axis, *data)\u001b[0m\n\u001b[0;32m     35\u001b[0m     data \u001b[38;5;241m=\u001b[39m np\u001b[38;5;241m.\u001b[39msplit(z, split_indices)\n\u001b[0;32m     36\u001b[0m     \u001b[38;5;28;01mreturn\u001b[39;00m statistic(\u001b[38;5;241m*\u001b[39mdata)\n\u001b[1;32m---> 38\u001b[0m \u001b[38;5;28;01mreturn\u001b[39;00m \u001b[43mnp\u001b[49m\u001b[38;5;241;43m.\u001b[39;49m\u001b[43mapply_along_axis\u001b[49m\u001b[43m(\u001b[49m\u001b[43mstat_1d\u001b[49m\u001b[43m,\u001b[49m\u001b[43m \u001b[49m\u001b[38;5;241;43m0\u001b[39;49m\u001b[43m,\u001b[49m\u001b[43m \u001b[49m\u001b[43mz\u001b[49m\u001b[43m)\u001b[49m[()]\n",
      "File \u001b[1;32md:\\Uni\\Bocconi\\Thesis\\Robinhood_data\\venv\\Lib\\site-packages\\numpy\\lib\\_shape_base_impl.py:393\u001b[0m, in \u001b[0;36mapply_along_axis\u001b[1;34m(func1d, axis, arr, *args, **kwargs)\u001b[0m\n\u001b[0;32m    389\u001b[0m \u001b[38;5;28;01mexcept\u001b[39;00m \u001b[38;5;167;01mStopIteration\u001b[39;00m:\n\u001b[0;32m    390\u001b[0m     \u001b[38;5;28;01mraise\u001b[39;00m \u001b[38;5;167;01mValueError\u001b[39;00m(\n\u001b[0;32m    391\u001b[0m         \u001b[38;5;124m'\u001b[39m\u001b[38;5;124mCannot apply_along_axis when any iteration dimensions are 0\u001b[39m\u001b[38;5;124m'\u001b[39m\n\u001b[0;32m    392\u001b[0m     ) \u001b[38;5;28;01mfrom\u001b[39;00m\u001b[38;5;250m \u001b[39m\u001b[38;5;28;01mNone\u001b[39;00m\n\u001b[1;32m--> 393\u001b[0m res \u001b[38;5;241m=\u001b[39m asanyarray(\u001b[43mfunc1d\u001b[49m\u001b[43m(\u001b[49m\u001b[43minarr_view\u001b[49m\u001b[43m[\u001b[49m\u001b[43mind0\u001b[49m\u001b[43m]\u001b[49m\u001b[43m,\u001b[49m\u001b[43m \u001b[49m\u001b[38;5;241;43m*\u001b[39;49m\u001b[43margs\u001b[49m\u001b[43m,\u001b[49m\u001b[43m \u001b[49m\u001b[38;5;241;43m*\u001b[39;49m\u001b[38;5;241;43m*\u001b[39;49m\u001b[43mkwargs\u001b[49m\u001b[43m)\u001b[49m)\n\u001b[0;32m    395\u001b[0m \u001b[38;5;66;03m# build a buffer for storing evaluations of func1d.\u001b[39;00m\n\u001b[0;32m    396\u001b[0m \u001b[38;5;66;03m# remove the requested axis, and add the new ones on the end.\u001b[39;00m\n\u001b[0;32m    397\u001b[0m \u001b[38;5;66;03m# laid out so that each write is contiguous.\u001b[39;00m\n\u001b[0;32m    398\u001b[0m \u001b[38;5;66;03m# for a tuple index inds, buff[inds] = func1d(inarr_view[inds])\u001b[39;00m\n\u001b[0;32m    399\u001b[0m \u001b[38;5;28;01mif\u001b[39;00m \u001b[38;5;129;01mnot\u001b[39;00m \u001b[38;5;28misinstance\u001b[39m(res, matrix):\n",
      "File \u001b[1;32md:\\Uni\\Bocconi\\Thesis\\Robinhood_data\\venv\\Lib\\site-packages\\scipy\\stats\\_resampling.py:36\u001b[0m, in \u001b[0;36m_vectorize_statistic.<locals>.stat_nd.<locals>.stat_1d\u001b[1;34m(z)\u001b[0m\n\u001b[0;32m     34\u001b[0m \u001b[38;5;28;01mdef\u001b[39;00m\u001b[38;5;250m \u001b[39m\u001b[38;5;21mstat_1d\u001b[39m(z):\n\u001b[0;32m     35\u001b[0m     data \u001b[38;5;241m=\u001b[39m np\u001b[38;5;241m.\u001b[39msplit(z, split_indices)\n\u001b[1;32m---> 36\u001b[0m     \u001b[38;5;28;01mreturn\u001b[39;00m \u001b[43mstatistic\u001b[49m\u001b[43m(\u001b[49m\u001b[38;5;241;43m*\u001b[39;49m\u001b[43mdata\u001b[49m\u001b[43m)\u001b[49m\n",
      "\u001b[1;31mTypeError\u001b[0m: RiskTests.bootstrap_gamma.<locals>.gmm_stat() takes 1 positional argument but 2 were given"
     ]
    }
   ],
   "source": [
    "rt.bootstrap_gamma(daily_factors)"
   ]
  },
  {
   "cell_type": "code",
   "execution_count": 51,
   "id": "463d46c8",
   "metadata": {},
   "outputs": [
    {
     "data": {
      "image/png": "[encoded data removed]",
      "text/plain": [
       "<Figure size 1400x600 with 2 Axes>"
      ]
     },
     "metadata": {},
     "output_type": "display_data"
    },
    {
     "data": {
      "text/plain": [
       "np.True_"
      ]
     },
     "execution_count": 51,
     "metadata": {},
     "output_type": "execute_result"
    }
   ],
   "source": [
    "from src.visuals.plotter import Plotter, ReturnSeries\n",
    "\n",
    "\n",
    "plotter = Plotter([ReturnSeries(label=\"GMM\", df=df_gmm, horizons=[])])\n",
    "plotter.plot_ssd_comparison(df_gmm[\"mkt\"], df_gmm[\"rh_portfolio\"], \"xmkt\", \"xr\")"
   ]
  }
 ],
 "metadata": {
  "kernelspec": {
   "display_name": "venv",
   "language": "python",
   "name": "python3"
  },
  "language_info": {
   "codemirror_mode": {
    "name": "ipython",
    "version": 3
   },
   "file_extension": ".py",
   "mimetype": "text/x-python",
   "name": "python",
   "nbconvert_exporter": "python",
   "pygments_lexer": "ipython3",
   "version": "3.11.1"
  }
 },
 "nbformat": 4,
 "nbformat_minor": 5
}
