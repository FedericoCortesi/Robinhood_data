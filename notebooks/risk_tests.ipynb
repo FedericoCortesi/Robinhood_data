{
 "cells": [
  {
   "cell_type": "code",
   "execution_count": 1,
   "id": "c44be699",
   "metadata": {},
   "outputs": [],
   "source": [
    "%load_ext autoreload\n",
    "%autoreload 2"
   ]
  },
  {
   "cell_type": "code",
   "execution_count": 2,
   "id": "f0909e6a",
   "metadata": {},
   "outputs": [],
   "source": [
    "import logging\n",
    "from src.utils.custom_formatter import setup_custom_logger\n",
    "logger = setup_custom_logger(__name__, level=logging.DEBUG)"
   ]
  },
  {
   "cell_type": "markdown",
   "id": "2a40624f",
   "metadata": {},
   "source": [
    "- Load dataset to have actual returns and market returns"
   ]
  },
  {
   "cell_type": "code",
   "execution_count": 3,
   "id": "149393dd",
   "metadata": {},
   "outputs": [
    {
     "name": "stderr",
     "output_type": "stream",
     "text": [
      "\u001b[38;20m2025-04-30 20:41:30,778 - src.analyzer - INFO - ############################## Analysis Started ############################## (analyzer.py:80)\u001b[0m\n",
      "\u001b[33;20m2025-04-30 20:41:39,801 - src.analyzer - WARNING - Empty dataframe produced for tickers: [] (analyzer.py:172)\u001b[0m\n"
     ]
    },
    {
     "data": {
      "application/vnd.microsoft.datawrangler.viewer.v0+json": {
       "columns": [
        {
         "name": "date",
         "rawType": "datetime64[ns]",
         "type": "datetime"
        },
        {
         "name": "rh_portfolio",
         "rawType": "float64",
         "type": "float"
        }
       ],
       "conversionMethod": "pd.DataFrame",
       "ref": "9a21af7e-f31b-4180-bc03-b83ce362aafa",
       "rows": [
        [
         "2018-05-03 00:00:00",
         "-0.6027449786679018"
        ],
        [
         "2018-05-04 00:00:00",
         "1.6831617379601482"
        ],
        [
         "2018-05-07 00:00:00",
         "0.8523299198677892"
        ],
        [
         "2018-05-08 00:00:00",
         "0.4133298025815524"
        ],
        [
         "2018-05-09 00:00:00",
         "1.028846300932429"
        ],
        [
         "2018-05-10 00:00:00",
         "0.7781732131851404"
        ],
        [
         "2018-05-11 00:00:00",
         "0.09818888909871593"
        ],
        [
         "2018-05-14 00:00:00",
         "0.3002320307563533"
        ],
        [
         "2018-05-15 00:00:00",
         "-0.40252147169371755"
        ],
        [
         "2018-05-16 00:00:00",
         "0.789473793117712"
        ],
        [
         "2018-05-17 00:00:00",
         "-0.03640765398689183"
        ],
        [
         "2018-05-18 00:00:00",
         "-0.41107704837265446"
        ],
        [
         "2018-05-21 00:00:00",
         "0.6725534946249834"
        ],
        [
         "2018-05-22 00:00:00",
         "-0.44496890300599334"
        ],
        [
         "2018-05-23 00:00:00",
         "0.3724844129062932"
        ],
        [
         "2018-05-24 00:00:00",
         "0.16800753381884803"
        ],
        [
         "2018-05-25 00:00:00",
         "-0.0055948595419574865"
        ],
        [
         "2018-05-29 00:00:00",
         "-0.575179581107732"
        ],
        [
         "2018-05-30 00:00:00",
         "1.2817397749160797"
        ],
        [
         "2018-05-31 00:00:00",
         "-0.3325931212497468"
        ],
        [
         "2018-06-01 00:00:00",
         "1.2836946964869922"
        ],
        [
         "2018-06-04 00:00:00",
         "0.79789566275974"
        ],
        [
         "2018-06-05 00:00:00",
         "0.766696692467006"
        ],
        [
         "2018-06-06 00:00:00",
         "0.9566548392276664"
        ],
        [
         "2018-06-07 00:00:00",
         "-0.4559101860602599"
        ],
        [
         "2018-06-08 00:00:00",
         "0.347463104253376"
        ],
        [
         "2018-06-11 00:00:00",
         "0.7348001542567539"
        ],
        [
         "2018-06-12 00:00:00",
         "0.8143432564813979"
        ],
        [
         "2018-06-13 00:00:00",
         "-0.06753245415543896"
        ],
        [
         "2018-06-14 00:00:00",
         "0.6711715280115271"
        ],
        [
         "2018-06-15 00:00:00",
         "-0.2619219740046863"
        ],
        [
         "2018-06-18 00:00:00",
         "0.7453900335855135"
        ],
        [
         "2018-06-19 00:00:00",
         "-0.8453917133883215"
        ],
        [
         "2018-06-20 00:00:00",
         "0.6229305711595634"
        ],
        [
         "2018-06-21 00:00:00",
         "-1.2924797996134996"
        ],
        [
         "2018-06-22 00:00:00",
         "0.00817064834173209"
        ],
        [
         "2018-06-25 00:00:00",
         "-2.4453559779373912"
        ],
        [
         "2018-06-26 00:00:00",
         "0.9528151591860823"
        ],
        [
         "2018-06-27 00:00:00",
         "-1.6147218561460175"
        ],
        [
         "2018-06-28 00:00:00",
         "0.8589124451778174"
        ],
        [
         "2018-06-29 00:00:00",
         "-0.26402925176266523"
        ],
        [
         "2018-07-02 00:00:00",
         "0.6406424636631991"
        ],
        [
         "2018-07-03 00:00:00",
         "-0.5458134053743846"
        ],
        [
         "2018-07-05 00:00:00",
         "0.9993596198057286"
        ],
        [
         "2018-07-06 00:00:00",
         "1.311566459557123"
        ],
        [
         "2018-07-09 00:00:00",
         "0.8808136421405655"
        ],
        [
         "2018-07-10 00:00:00",
         "-0.2225900378629797"
        ],
        [
         "2018-07-11 00:00:00",
         "-0.8315717168457026"
        ],
        [
         "2018-07-12 00:00:00",
         "1.1374871766059558"
        ],
        [
         "2018-07-13 00:00:00",
         "-0.2422676417241698"
        ]
       ],
       "shape": {
        "columns": 1,
        "rows": 429
       }
      },
      "text/html": [
       "<div>\n",
       "<style scoped>\n",
       "    .dataframe tbody tr th:only-of-type {\n",
       "        vertical-align: middle;\n",
       "    }\n",
       "\n",
       "    .dataframe tbody tr th {\n",
       "        vertical-align: top;\n",
       "    }\n",
       "\n",
       "    .dataframe thead th {\n",
       "        text-align: right;\n",
       "    }\n",
       "</style>\n",
       "<table border=\"1\" class=\"dataframe\">\n",
       "  <thead>\n",
       "    <tr style=\"text-align: right;\">\n",
       "      <th></th>\n",
       "      <th>rh_portfolio</th>\n",
       "    </tr>\n",
       "    <tr>\n",
       "      <th>date</th>\n",
       "      <th></th>\n",
       "    </tr>\n",
       "  </thead>\n",
       "  <tbody>\n",
       "    <tr>\n",
       "      <th>2018-05-03</th>\n",
       "      <td>-0.602745</td>\n",
       "    </tr>\n",
       "    <tr>\n",
       "      <th>2018-05-04</th>\n",
       "      <td>1.683162</td>\n",
       "    </tr>\n",
       "    <tr>\n",
       "      <th>2018-05-07</th>\n",
       "      <td>0.852330</td>\n",
       "    </tr>\n",
       "    <tr>\n",
       "      <th>2018-05-08</th>\n",
       "      <td>0.413330</td>\n",
       "    </tr>\n",
       "    <tr>\n",
       "      <th>2018-05-09</th>\n",
       "      <td>1.028846</td>\n",
       "    </tr>\n",
       "    <tr>\n",
       "      <th>...</th>\n",
       "      <td>...</td>\n",
       "    </tr>\n",
       "    <tr>\n",
       "      <th>2020-01-28</th>\n",
       "      <td>1.713913</td>\n",
       "    </tr>\n",
       "    <tr>\n",
       "      <th>2020-01-29</th>\n",
       "      <td>-0.579647</td>\n",
       "    </tr>\n",
       "    <tr>\n",
       "      <th>2020-01-30</th>\n",
       "      <td>-0.322621</td>\n",
       "    </tr>\n",
       "    <tr>\n",
       "      <th>2020-01-31</th>\n",
       "      <td>-1.829561</td>\n",
       "    </tr>\n",
       "    <tr>\n",
       "      <th>2020-02-03</th>\n",
       "      <td>1.156818</td>\n",
       "    </tr>\n",
       "  </tbody>\n",
       "</table>\n",
       "<p>429 rows × 1 columns</p>\n",
       "</div>"
      ],
      "text/plain": [
       "            rh_portfolio\n",
       "date                    \n",
       "2018-05-03     -0.602745\n",
       "2018-05-04      1.683162\n",
       "2018-05-07      0.852330\n",
       "2018-05-08      0.413330\n",
       "2018-05-09      1.028846\n",
       "...                  ...\n",
       "2020-01-28      1.713913\n",
       "2020-01-29     -0.579647\n",
       "2020-01-30     -0.322621\n",
       "2020-01-31     -1.829561\n",
       "2020-02-03      1.156818\n",
       "\n",
       "[429 rows x 1 columns]"
      ]
     },
     "execution_count": 3,
     "metadata": {},
     "output_type": "execute_result"
    }
   ],
   "source": [
    "from src import Analyzer\n",
    "from src.utils.params import ReturnParams\n",
    "\n",
    "import numpy as np\n",
    "\n",
    "return_params = ReturnParams(\n",
    "    horizons={},  \n",
    "    start_date=None,\n",
    "    end_date=\"2020-02-03\",\n",
    "    cumulative=False,\n",
    "    append_start=False\n",
    ")\n",
    "\n",
    "an = Analyzer(compare_tickers=[], return_params=return_params, stocks_only=False, weights_application=\"wealth\", dl_kwargs={\"weights_method\":\"dollar\"})\n",
    "\n",
    "\n",
    "ret, hor = an.build_returns()\n",
    "\n",
    "ret = (np.exp(ret) -1)*100\n",
    "ret"
   ]
  },
  {
   "cell_type": "code",
   "execution_count": 4,
   "id": "a4359e74",
   "metadata": {},
   "outputs": [
    {
     "data": {
      "application/vnd.microsoft.datawrangler.viewer.v0+json": {
       "columns": [
        {
         "name": "index",
         "rawType": "datetime64[ns]",
         "type": "datetime"
        },
        {
         "name": "xr",
         "rawType": "float64",
         "type": "float"
        },
        {
         "name": "xmkt",
         "rawType": "float64",
         "type": "float"
        }
       ],
       "conversionMethod": "pd.DataFrame",
       "ref": "806e648e-e528-40e6-92a9-4e65df697f20",
       "rows": [
        [
         "2018-06-04 00:00:00",
         "1.0079189566275975",
         "1.0048"
        ],
        [
         "2018-06-05 00:00:00",
         "1.0076069669246701",
         "1.0016"
        ],
        [
         "2018-06-06 00:00:00",
         "1.0095065483922767",
         "1.0086"
        ],
        [
         "2018-06-07 00:00:00",
         "0.9953808981393975",
         "0.9986"
        ],
        [
         "2018-06-08 00:00:00",
         "1.0034146310425338",
         "1.0031"
        ],
        [
         "2018-06-11 00:00:00",
         "1.0072880015425676",
         "1.0012"
        ],
        [
         "2018-06-12 00:00:00",
         "1.008083432564814",
         "1.0023"
        ],
        [
         "2018-06-13 00:00:00",
         "0.9992646754584457",
         "0.9967"
        ],
        [
         "2018-06-14 00:00:00",
         "1.0066517152801153",
         "1.0027"
        ],
        [
         "2018-06-15 00:00:00",
         "0.9973207802599532",
         "0.9992"
        ],
        [
         "2018-06-18 00:00:00",
         "1.0073939003358552",
         "0.9991"
        ],
        [
         "2018-06-19 00:00:00",
         "0.9914860828661168",
         "0.9962"
        ],
        [
         "2018-06-20 00:00:00",
         "1.0061693057115957",
         "1.0023"
        ],
        [
         "2018-06-21 00:00:00",
         "0.987015202003865",
         "0.9927"
        ],
        [
         "2018-06-22 00:00:00",
         "1.0000217064834174",
         "1.0011"
        ],
        [
         "2018-06-25 00:00:00",
         "0.9754864402206261",
         "0.9852"
        ],
        [
         "2018-06-26 00:00:00",
         "1.0094681515918609",
         "1.0027"
        ],
        [
         "2018-06-27 00:00:00",
         "0.9837927814385399",
         "0.9898"
        ],
        [
         "2018-06-28 00:00:00",
         "1.0085291244517782",
         "1.0058"
        ],
        [
         "2018-06-29 00:00:00",
         "0.9972997074823734",
         "1.0007"
        ],
        [
         "2018-07-02 00:00:00",
         "1.006326424636632",
         "1.0036"
        ],
        [
         "2018-07-03 00:00:00",
         "0.9944618659462562",
         "0.9956"
        ],
        [
         "2018-07-05 00:00:00",
         "1.0099135961980572",
         "1.0087"
        ],
        [
         "2018-07-06 00:00:00",
         "1.0130356645955712",
         "1.0088"
        ],
        [
         "2018-07-09 00:00:00",
         "1.0087281364214056",
         "1.0093"
        ],
        [
         "2018-07-10 00:00:00",
         "0.9976940996213702",
         "1.0021"
        ],
        [
         "2018-07-11 00:00:00",
         "0.991604282831543",
         "0.9931"
        ],
        [
         "2018-07-12 00:00:00",
         "1.0112948717660595",
         "1.0086"
        ],
        [
         "2018-07-13 00:00:00",
         "0.9974973235827583",
         "1.0008"
        ],
        [
         "2018-07-16 00:00:00",
         "0.9957604907886554",
         "0.9984"
        ],
        [
         "2018-07-17 00:00:00",
         "1.005770137202771",
         "1.0048"
        ],
        [
         "2018-07-18 00:00:00",
         "0.9992596816735199",
         "1.0027"
        ],
        [
         "2018-07-19 00:00:00",
         "0.9970501403849312",
         "0.9966"
        ],
        [
         "2018-07-20 00:00:00",
         "0.992408682141699",
         "0.999"
        ],
        [
         "2018-07-23 00:00:00",
         "0.9996782150207657",
         "1.0015"
        ],
        [
         "2018-07-24 00:00:00",
         "0.9937482896567358",
         "1.0022"
        ],
        [
         "2018-07-25 00:00:00",
         "1.0105605067366945",
         "1.0083"
        ],
        [
         "2018-07-26 00:00:00",
         "0.9974471645621661",
         "0.998"
        ],
        [
         "2018-07-27 00:00:00",
         "0.9818924660105124",
         "0.9918"
        ],
        [
         "2018-07-30 00:00:00",
         "0.9861145116712784",
         "0.993"
        ],
        [
         "2018-07-31 00:00:00",
         "1.0063507356778019",
         "1.0051"
        ],
        [
         "2018-08-01 00:00:00",
         "1.000479039029362",
         "0.9987"
        ],
        [
         "2018-08-02 00:00:00",
         "1.0088083981067797",
         "1.0067"
        ],
        [
         "2018-08-03 00:00:00",
         "1.001271850232699",
         "1.0031"
        ],
        [
         "2018-08-06 00:00:00",
         "1.0064692943202025",
         "1.0046"
        ],
        [
         "2018-08-07 00:00:00",
         "1.00322523691758",
         "1.0029"
        ],
        [
         "2018-08-08 00:00:00",
         "0.9973858229877555",
         "0.9996"
        ],
        [
         "2018-08-13 00:00:00",
         "0.9931099382526583",
         "0.9954"
        ],
        [
         "2018-08-14 00:00:00",
         "1.0019590652832575",
         "1.0069"
        ],
        [
         "2018-08-15 00:00:00",
         "0.9867622789056583",
         "0.9909"
        ]
       ],
       "shape": {
        "columns": 2,
        "rows": 405
       }
      },
      "text/html": [
       "<div>\n",
       "<style scoped>\n",
       "    .dataframe tbody tr th:only-of-type {\n",
       "        vertical-align: middle;\n",
       "    }\n",
       "\n",
       "    .dataframe tbody tr th {\n",
       "        vertical-align: top;\n",
       "    }\n",
       "\n",
       "    .dataframe thead th {\n",
       "        text-align: right;\n",
       "    }\n",
       "</style>\n",
       "<table border=\"1\" class=\"dataframe\">\n",
       "  <thead>\n",
       "    <tr style=\"text-align: right;\">\n",
       "      <th></th>\n",
       "      <th>xr</th>\n",
       "      <th>xmkt</th>\n",
       "    </tr>\n",
       "  </thead>\n",
       "  <tbody>\n",
       "    <tr>\n",
       "      <th>2018-06-04</th>\n",
       "      <td>1.007919</td>\n",
       "      <td>1.0048</td>\n",
       "    </tr>\n",
       "    <tr>\n",
       "      <th>2018-06-05</th>\n",
       "      <td>1.007607</td>\n",
       "      <td>1.0016</td>\n",
       "    </tr>\n",
       "    <tr>\n",
       "      <th>2018-06-06</th>\n",
       "      <td>1.009507</td>\n",
       "      <td>1.0086</td>\n",
       "    </tr>\n",
       "    <tr>\n",
       "      <th>2018-06-07</th>\n",
       "      <td>0.995381</td>\n",
       "      <td>0.9986</td>\n",
       "    </tr>\n",
       "    <tr>\n",
       "      <th>2018-06-08</th>\n",
       "      <td>1.003415</td>\n",
       "      <td>1.0031</td>\n",
       "    </tr>\n",
       "    <tr>\n",
       "      <th>...</th>\n",
       "      <td>...</td>\n",
       "      <td>...</td>\n",
       "    </tr>\n",
       "    <tr>\n",
       "      <th>2020-01-28</th>\n",
       "      <td>1.017079</td>\n",
       "      <td>1.0102</td>\n",
       "    </tr>\n",
       "    <tr>\n",
       "      <th>2020-01-29</th>\n",
       "      <td>0.994144</td>\n",
       "      <td>0.9990</td>\n",
       "    </tr>\n",
       "    <tr>\n",
       "      <th>2020-01-30</th>\n",
       "      <td>0.996714</td>\n",
       "      <td>1.0034</td>\n",
       "    </tr>\n",
       "    <tr>\n",
       "      <th>2020-01-31</th>\n",
       "      <td>0.981644</td>\n",
       "      <td>0.9826</td>\n",
       "    </tr>\n",
       "    <tr>\n",
       "      <th>2020-02-03</th>\n",
       "      <td>1.011508</td>\n",
       "      <td>1.0084</td>\n",
       "    </tr>\n",
       "  </tbody>\n",
       "</table>\n",
       "<p>405 rows × 2 columns</p>\n",
       "</div>"
      ],
      "text/plain": [
       "                  xr    xmkt\n",
       "2018-06-04  1.007919  1.0048\n",
       "2018-06-05  1.007607  1.0016\n",
       "2018-06-06  1.009507  1.0086\n",
       "2018-06-07  0.995381  0.9986\n",
       "2018-06-08  1.003415  1.0031\n",
       "...              ...     ...\n",
       "2020-01-28  1.017079  1.0102\n",
       "2020-01-29  0.994144  0.9990\n",
       "2020-01-30  0.996714  1.0034\n",
       "2020-01-31  0.981644  0.9826\n",
       "2020-02-03  1.011508  1.0084\n",
       "\n",
       "[405 rows x 2 columns]"
      ]
     },
     "execution_count": 4,
     "metadata": {},
     "output_type": "execute_result"
    }
   ],
   "source": [
    "import pandas as pd\n",
    "from config.constants import PROJECT_ROOT\n",
    "\n",
    "daily_factors = pd.read_csv(f\"{PROJECT_ROOT}/jf-datashare/gabriel-cuevas/data/18_rwarh_d_1.csv\", index_col=0)\n",
    "daily_factors.index = pd.to_datetime(daily_factors.index, format=\"%Y%m%d\")\n",
    "daily_factors[[\"pfioret100\", \"xmkt\", \"rf\"]]\n",
    "\n",
    "\n",
    "\n",
    "daily_factors = daily_factors.merge(ret[\"rh_portfolio\"], left_index=True, right_index=True, how=\"inner\")\n",
    "daily_factors /= 100 \n",
    "\n",
    "daily_factors[\"xr\"] = daily_factors[\"rh_portfolio\"] - daily_factors[\"rf\"]\n",
    "daily_factors += 1\n",
    "\n",
    "daily_factors = daily_factors[[\"xr\", \"xmkt\"]]\n",
    "daily_factors\n"
   ]
  },
  {
   "cell_type": "code",
   "execution_count": 5,
   "id": "de74912f",
   "metadata": {},
   "outputs": [
    {
     "data": {
      "application/vnd.microsoft.datawrangler.viewer.v0+json": {
       "columns": [
        {
         "name": "index",
         "rawType": "datetime64[ns]",
         "type": "datetime"
        },
        {
         "name": "xr",
         "rawType": "float64",
         "type": "float"
        },
        {
         "name": "xmkt",
         "rawType": "float64",
         "type": "float"
        }
       ],
       "conversionMethod": "pd.DataFrame",
       "ref": "9184e873-2c49-404b-813e-9bc14de3eb95",
       "rows": [
        [
         "2018-06-30 00:00:00",
         "1.0082362896506436",
         "0.9941279328539568"
        ],
        [
         "2018-07-31 00:00:00",
         "0.9958741922341571",
         "1.0321743998803463"
        ],
        [
         "2018-08-31 00:00:00",
         "1.0709415854701694",
         "1.0411841968307067"
        ],
        [
         "2018-09-30 00:00:00",
         "1.0060361338504018",
         "1.0008710142474015"
        ],
        [
         "2018-10-31 00:00:00",
         "0.8931393230040328",
         "0.923332636181443"
        ],
        [
         "2018-11-30 00:00:00",
         "0.9999904521203391",
         "1.0169959335867849"
        ],
        [
         "2018-12-31 00:00:00",
         "0.8906038147843354",
         "0.9047173998749777"
        ],
        [
         "2019-01-31 00:00:00",
         "1.131084229407665",
         "1.0664207623398392"
        ],
        [
         "2019-02-28 00:00:00",
         "1.0549404735304615",
         "1.0338776256185285"
        ],
        [
         "2019-03-31 00:00:00",
         "1.0088456662405567",
         "1.0108077323315248"
        ],
        [
         "2019-04-30 00:00:00",
         "1.0284592520480313",
         "1.0394409307905605"
        ],
        [
         "2019-05-31 00:00:00",
         "0.9073716078755323",
         "0.9307417626581141"
        ],
        [
         "2019-06-30 00:00:00",
         "1.069796469884897",
         "1.0694033714025206"
        ],
        [
         "2019-07-31 00:00:00",
         "0.9836477071211068",
         "1.0122592781266846"
        ],
        [
         "2019-08-31 00:00:00",
         "0.9333254981407565",
         "0.9744240598985753"
        ],
        [
         "2019-09-30 00:00:00",
         "0.9915085771544249",
         "1.0141291896377103"
        ],
        [
         "2019-10-31 00:00:00",
         "1.002177359153638",
         "1.0206134485108098"
        ],
        [
         "2019-11-30 00:00:00",
         "1.030156210268638",
         "1.0387516490201925"
        ],
        [
         "2019-12-31 00:00:00",
         "1.0385825431834488",
         "1.027623501156025"
        ],
        [
         "2020-01-31 00:00:00",
         "0.9575302570669055",
         "0.9764254552612704"
        ],
        [
         "2020-02-29 00:00:00",
         "1.011508176393569",
         "1.0084"
        ]
       ],
       "shape": {
        "columns": 2,
        "rows": 21
       }
      },
      "text/html": [
       "<div>\n",
       "<style scoped>\n",
       "    .dataframe tbody tr th:only-of-type {\n",
       "        vertical-align: middle;\n",
       "    }\n",
       "\n",
       "    .dataframe tbody tr th {\n",
       "        vertical-align: top;\n",
       "    }\n",
       "\n",
       "    .dataframe thead th {\n",
       "        text-align: right;\n",
       "    }\n",
       "</style>\n",
       "<table border=\"1\" class=\"dataframe\">\n",
       "  <thead>\n",
       "    <tr style=\"text-align: right;\">\n",
       "      <th></th>\n",
       "      <th>xr</th>\n",
       "      <th>xmkt</th>\n",
       "    </tr>\n",
       "  </thead>\n",
       "  <tbody>\n",
       "    <tr>\n",
       "      <th>2018-06-30</th>\n",
       "      <td>1.008236</td>\n",
       "      <td>0.994128</td>\n",
       "    </tr>\n",
       "    <tr>\n",
       "      <th>2018-07-31</th>\n",
       "      <td>0.995874</td>\n",
       "      <td>1.032174</td>\n",
       "    </tr>\n",
       "    <tr>\n",
       "      <th>2018-08-31</th>\n",
       "      <td>1.070942</td>\n",
       "      <td>1.041184</td>\n",
       "    </tr>\n",
       "    <tr>\n",
       "      <th>2018-09-30</th>\n",
       "      <td>1.006036</td>\n",
       "      <td>1.000871</td>\n",
       "    </tr>\n",
       "    <tr>\n",
       "      <th>2018-10-31</th>\n",
       "      <td>0.893139</td>\n",
       "      <td>0.923333</td>\n",
       "    </tr>\n",
       "    <tr>\n",
       "      <th>2018-11-30</th>\n",
       "      <td>0.999990</td>\n",
       "      <td>1.016996</td>\n",
       "    </tr>\n",
       "    <tr>\n",
       "      <th>2018-12-31</th>\n",
       "      <td>0.890604</td>\n",
       "      <td>0.904717</td>\n",
       "    </tr>\n",
       "    <tr>\n",
       "      <th>2019-01-31</th>\n",
       "      <td>1.131084</td>\n",
       "      <td>1.066421</td>\n",
       "    </tr>\n",
       "    <tr>\n",
       "      <th>2019-02-28</th>\n",
       "      <td>1.054940</td>\n",
       "      <td>1.033878</td>\n",
       "    </tr>\n",
       "    <tr>\n",
       "      <th>2019-03-31</th>\n",
       "      <td>1.008846</td>\n",
       "      <td>1.010808</td>\n",
       "    </tr>\n",
       "    <tr>\n",
       "      <th>2019-04-30</th>\n",
       "      <td>1.028459</td>\n",
       "      <td>1.039441</td>\n",
       "    </tr>\n",
       "    <tr>\n",
       "      <th>2019-05-31</th>\n",
       "      <td>0.907372</td>\n",
       "      <td>0.930742</td>\n",
       "    </tr>\n",
       "    <tr>\n",
       "      <th>2019-06-30</th>\n",
       "      <td>1.069796</td>\n",
       "      <td>1.069403</td>\n",
       "    </tr>\n",
       "    <tr>\n",
       "      <th>2019-07-31</th>\n",
       "      <td>0.983648</td>\n",
       "      <td>1.012259</td>\n",
       "    </tr>\n",
       "    <tr>\n",
       "      <th>2019-08-31</th>\n",
       "      <td>0.933325</td>\n",
       "      <td>0.974424</td>\n",
       "    </tr>\n",
       "    <tr>\n",
       "      <th>2019-09-30</th>\n",
       "      <td>0.991509</td>\n",
       "      <td>1.014129</td>\n",
       "    </tr>\n",
       "    <tr>\n",
       "      <th>2019-10-31</th>\n",
       "      <td>1.002177</td>\n",
       "      <td>1.020613</td>\n",
       "    </tr>\n",
       "    <tr>\n",
       "      <th>2019-11-30</th>\n",
       "      <td>1.030156</td>\n",
       "      <td>1.038752</td>\n",
       "    </tr>\n",
       "    <tr>\n",
       "      <th>2019-12-31</th>\n",
       "      <td>1.038583</td>\n",
       "      <td>1.027624</td>\n",
       "    </tr>\n",
       "    <tr>\n",
       "      <th>2020-01-31</th>\n",
       "      <td>0.957530</td>\n",
       "      <td>0.976425</td>\n",
       "    </tr>\n",
       "    <tr>\n",
       "      <th>2020-02-29</th>\n",
       "      <td>1.011508</td>\n",
       "      <td>1.008400</td>\n",
       "    </tr>\n",
       "  </tbody>\n",
       "</table>\n",
       "</div>"
      ],
      "text/plain": [
       "                  xr      xmkt\n",
       "2018-06-30  1.008236  0.994128\n",
       "2018-07-31  0.995874  1.032174\n",
       "2018-08-31  1.070942  1.041184\n",
       "2018-09-30  1.006036  1.000871\n",
       "2018-10-31  0.893139  0.923333\n",
       "2018-11-30  0.999990  1.016996\n",
       "2018-12-31  0.890604  0.904717\n",
       "2019-01-31  1.131084  1.066421\n",
       "2019-02-28  1.054940  1.033878\n",
       "2019-03-31  1.008846  1.010808\n",
       "2019-04-30  1.028459  1.039441\n",
       "2019-05-31  0.907372  0.930742\n",
       "2019-06-30  1.069796  1.069403\n",
       "2019-07-31  0.983648  1.012259\n",
       "2019-08-31  0.933325  0.974424\n",
       "2019-09-30  0.991509  1.014129\n",
       "2019-10-31  1.002177  1.020613\n",
       "2019-11-30  1.030156  1.038752\n",
       "2019-12-31  1.038583  1.027624\n",
       "2020-01-31  0.957530  0.976425\n",
       "2020-02-29  1.011508  1.008400"
      ]
     },
     "execution_count": 5,
     "metadata": {},
     "output_type": "execute_result"
    }
   ],
   "source": [
    "#monthly_factors = pd.read_csv(f\"{PROJECT_ROOT}/jf-datashare/gabriel-cuevas/data/20_rwarh_m_1.csv\", index_col=0)\n",
    "#monthly_factors[\"xr\"] = monthly_factors[\"pfioret100\"] - monthly_factors[\"rf\"]\n",
    "#monthly_factors = monthly_factors[[\"xr\", \"xmkt\"]]\n",
    "#monthly_factors.index = pd.to_datetime(monthly_factors.index, format=\"%Y%m\")\n",
    "monthly_returns = (daily_factors).resample(\"M\").prod() - 1\n",
    "monthly_returns += 1\n",
    "monthly_returns\n",
    "\n"
   ]
  },
  {
   "cell_type": "code",
   "execution_count": 6,
   "id": "3a7fd741",
   "metadata": {},
   "outputs": [
    {
     "name": "stdout",
     "output_type": "stream",
     "text": [
      "Gamma: -7.0344\n"
     ]
    },
    {
     "data": {
      "image/png": "[encoded data removed]",
      "text/plain": [
       "<Figure size 1800x1000 with 1 Axes>"
      ]
     },
     "metadata": {},
     "output_type": "display_data"
    }
   ],
   "source": [
    "from src.utils.metrics import find_gamma_certainty_equivalent, paramteric_expected_utility_crra, compute_crra_utility\n",
    "\n",
    "\n",
    "df = monthly_returns\n",
    "parametric = False\n",
    "\n",
    "\n",
    "\n",
    "import numpy as np\n",
    "import matplotlib.pyplot as plt\n",
    "\n",
    "# keep the scalar returned by the CE condition\n",
    "gamma_hat = find_gamma_certainty_equivalent(df[\"xr\"],\n",
    "                                            df[\"xmkt\"],\n",
    "                                            parametric=parametric)\n",
    "\n",
    "print(f\"Gamma: {gamma_hat:.4f}\")\n",
    "\n",
    "gap = 5\n",
    "gammas = np.linspace(-11, 11, 1000)\n",
    "\n",
    "if parametric:\n",
    "    utilities_xr   = [paramteric_expected_utility_crra(g, df[\"xr\"].values)   for g in gammas]\n",
    "    utilities_xmkt = [paramteric_expected_utility_crra(g, df[\"xmkt\"].values) for g in gammas]\n",
    "    plt.figure(figsize=(10, 6))\n",
    "    plt.plot(gammas, utilities_xr,   label='Portfolio')\n",
    "    plt.plot(gammas, utilities_xmkt, label='Market')\n",
    "    plt.axvline(gamma_hat, color='red', linestyle='--', alpha=0.6,\n",
    "                label=f'γ* = {gamma_hat:.3f}')\n",
    "    plt.xlabel('Gamma (relative risk-aversion parameter)')\n",
    "    plt.ylabel('Expected CRRA utility')\n",
    "    plt.title('Expected utility as a function of gamma')\n",
    "    plt.legend()\n",
    "    plt.grid(True)\n",
    "    plt.show()\n",
    "else:\n",
    "    utilities_xr   = [compute_crra_utility(df[\"xr\"],   g, confint=True) for g in gammas]\n",
    "    utilities_xmkt = [compute_crra_utility(df[\"xmkt\"], g, confint=True) for g in gammas]\n",
    "\n",
    "    means_xr, lo_xr, hi_xr = zip(*utilities_xr)\n",
    "    means_mk, lo_mk, hi_mk = zip(*utilities_xmkt)\n",
    "\n",
    "    # Plot\n",
    "    import matplotlib.pyplot as plt\n",
    "\n",
    "    plt.figure(figsize=(18,10))\n",
    "    plt.plot(gammas, means_xr, label='XR mean utility', color='C0')\n",
    "    plt.fill_between(gammas, lo_xr, hi_xr, color='C0', alpha=0.2)\n",
    "\n",
    "    plt.plot(gammas, means_mk, label='MKT mean utility', color='C1')\n",
    "    plt.fill_between(gammas, lo_mk, hi_mk, color='C1', alpha=0.2)\n",
    "\n",
    "    plt.axvline(gamma_hat, color='red', linestyle='--', label=f'γ* = {gamma_hat:.2f}')\n",
    "    plt.xlabel('Gamma')\n",
    "    plt.xlim((-10,10))\n",
    "    plt.ylabel('Expected utility')\n",
    "    plt.title('Expected utility vs gamma with 95% CI')\n",
    "    plt.legend()\n",
    "    plt.grid(True)\n",
    "    plt.show()\n",
    "\n",
    "\n"
   ]
  },
  {
   "cell_type": "markdown",
   "id": "98841972",
   "metadata": {},
   "source": [
    "### All possible timeframes"
   ]
  },
  {
   "cell_type": "code",
   "execution_count": 1,
   "id": "b1084ca4",
   "metadata": {},
   "outputs": [],
   "source": [
    "%load_ext autoreload\n",
    "%autoreload 2"
   ]
  },
  {
   "cell_type": "code",
   "execution_count": null,
   "id": "d1561ffa",
   "metadata": {},
   "outputs": [
    {
     "name": "stderr",
     "output_type": "stream",
     "text": [
      "\u001b[38;20m2025-05-02 02:07:17,883 - src.analyzer - INFO - ############################## Analysis Started ############################## (analyzer.py:80)\u001b[0m\n",
      "\u001b[33;20m2025-05-02 02:07:21,178 - src.analyzer - WARNING - Empty dataframe produced for tickers: [] (analyzer.py:172)\u001b[0m\n",
      "\u001b[33;20m2025-05-02 02:07:21,508 - src.analyzer - WARNING - Empty dataframe produced for tickers: [] (analyzer.py:172)\u001b[0m\n"
     ]
    }
   ],
   "source": [
    "from src import Analyzer\n",
    "from src import RiskTests\n",
    "from src.utils.params import ReturnParams\n",
    "\n",
    "import numpy as np\n",
    "\n",
    "return_params = ReturnParams(\n",
    "    horizons={},  \n",
    "    start_date=None,\n",
    "#    end_date=\"2020-02-03\",\n",
    "    cumulative=False,\n",
    "    append_start=False\n",
    ")\n",
    "\n",
    "an = Analyzer(compare_tickers=[], return_params=return_params, stocks_only=False, weights_application=\"wealth\", dl_kwargs={\"weights_method\":\"dollar\"})\n",
    "\n",
    "\n",
    "rt = RiskTests(an)\n",
    "\n"
   ]
  },
  {
   "cell_type": "code",
   "execution_count": 11,
   "id": "25ff407c",
   "metadata": {},
   "outputs": [
    {
     "name": "stderr",
     "output_type": "stream",
     "text": [
      "100%|██████████| 144991/144991 [00:18<00:00, 8031.76it/s] \n"
     ]
    },
    {
     "data": {
      "application/vnd.microsoft.datawrangler.viewer.v0+json": {
       "columns": [
        {
         "name": "index",
         "rawType": "object",
         "type": "string"
        },
        {
         "name": "rh_portfolio",
         "rawType": "float64",
         "type": "float"
        },
        {
         "name": "rf",
         "rawType": "float64",
         "type": "float"
        },
        {
         "name": "mkt",
         "rawType": "float64",
         "type": "float"
        },
        {
         "name": "xr",
         "rawType": "float64",
         "type": "float"
        },
        {
         "name": "xmkt",
         "rawType": "float64",
         "type": "float"
        },
        {
         "name": "date_difference",
         "rawType": "float64",
         "type": "float"
        }
       ],
       "conversionMethod": "pd.DataFrame",
       "ref": "a07cdf2d-f717-4c6f-971d-9f593de71de3",
       "rows": [
        [
         "count",
         "144991.0",
         "144991.0",
         "144991.0",
         "144991.0",
         "144991.0",
         "144991.0"
        ],
        [
         "mean",
         "1.004985960931773",
         "1.013605458859031",
         "1.0425311581452092",
         "0.9917615885157137",
         "1.028400038497446",
         "269.7547985737046"
        ],
        [
         "std",
         "0.13899086394333102",
         "0.01003139022946907",
         "0.0957390326940622",
         "0.13889215685273218",
         "0.09236457873720066",
         "190.27812602375653"
        ],
        [
         "min",
         "0.5766506327006746",
         "1.0",
         "0.657316641516223",
         "0.5601966825658892",
         "0.6563923269160014",
         "1.0"
        ],
        [
         "25%",
         "0.9345327989982418",
         "1.0048415302717892",
         "0.990825222923488",
         "0.9214852022773263",
         "0.9795906043929397",
         "109.0"
        ],
        [
         "50%",
         "0.9969949643489303",
         "1.011879465144767",
         "1.0417989263283103",
         "0.9849857342992184",
         "1.029788030314006",
         "238.0"
        ],
        [
         "75%",
         "1.0697548441067708",
         "1.021333524002808",
         "1.1009160282954598",
         "1.057227711618733",
         "1.0834840278994102",
         "403.0"
        ],
        [
         "max",
         "2.0287483925245358",
         "1.0359703777068832",
         "1.5497800086546747",
         "2.0276768102322653",
         "1.5492346445297394",
         "801.0"
        ]
       ],
       "shape": {
        "columns": 6,
        "rows": 8
       }
      },
      "text/html": [
       "<div>\n",
       "<style scoped>\n",
       "    .dataframe tbody tr th:only-of-type {\n",
       "        vertical-align: middle;\n",
       "    }\n",
       "\n",
       "    .dataframe tbody tr th {\n",
       "        vertical-align: top;\n",
       "    }\n",
       "\n",
       "    .dataframe thead th {\n",
       "        text-align: right;\n",
       "    }\n",
       "</style>\n",
       "<table border=\"1\" class=\"dataframe\">\n",
       "  <thead>\n",
       "    <tr style=\"text-align: right;\">\n",
       "      <th></th>\n",
       "      <th>rh_portfolio</th>\n",
       "      <th>rf</th>\n",
       "      <th>mkt</th>\n",
       "      <th>xr</th>\n",
       "      <th>xmkt</th>\n",
       "      <th>date_difference</th>\n",
       "    </tr>\n",
       "  </thead>\n",
       "  <tbody>\n",
       "    <tr>\n",
       "      <th>count</th>\n",
       "      <td>144991.000000</td>\n",
       "      <td>144991.000000</td>\n",
       "      <td>144991.000000</td>\n",
       "      <td>144991.000000</td>\n",
       "      <td>144991.000000</td>\n",
       "      <td>144991.000000</td>\n",
       "    </tr>\n",
       "    <tr>\n",
       "      <th>mean</th>\n",
       "      <td>1.004986</td>\n",
       "      <td>1.013605</td>\n",
       "      <td>1.042531</td>\n",
       "      <td>0.991762</td>\n",
       "      <td>1.028400</td>\n",
       "      <td>269.754799</td>\n",
       "    </tr>\n",
       "    <tr>\n",
       "      <th>std</th>\n",
       "      <td>0.138991</td>\n",
       "      <td>0.010031</td>\n",
       "      <td>0.095739</td>\n",
       "      <td>0.138892</td>\n",
       "      <td>0.092365</td>\n",
       "      <td>190.278126</td>\n",
       "    </tr>\n",
       "    <tr>\n",
       "      <th>min</th>\n",
       "      <td>0.576651</td>\n",
       "      <td>1.000000</td>\n",
       "      <td>0.657317</td>\n",
       "      <td>0.560197</td>\n",
       "      <td>0.656392</td>\n",
       "      <td>1.000000</td>\n",
       "    </tr>\n",
       "    <tr>\n",
       "      <th>25%</th>\n",
       "      <td>0.934533</td>\n",
       "      <td>1.004842</td>\n",
       "      <td>0.990825</td>\n",
       "      <td>0.921485</td>\n",
       "      <td>0.979591</td>\n",
       "      <td>109.000000</td>\n",
       "    </tr>\n",
       "    <tr>\n",
       "      <th>50%</th>\n",
       "      <td>0.996995</td>\n",
       "      <td>1.011879</td>\n",
       "      <td>1.041799</td>\n",
       "      <td>0.984986</td>\n",
       "      <td>1.029788</td>\n",
       "      <td>238.000000</td>\n",
       "    </tr>\n",
       "    <tr>\n",
       "      <th>75%</th>\n",
       "      <td>1.069755</td>\n",
       "      <td>1.021334</td>\n",
       "      <td>1.100916</td>\n",
       "      <td>1.057228</td>\n",
       "      <td>1.083484</td>\n",
       "      <td>403.000000</td>\n",
       "    </tr>\n",
       "    <tr>\n",
       "      <th>max</th>\n",
       "      <td>2.028748</td>\n",
       "      <td>1.035970</td>\n",
       "      <td>1.549780</td>\n",
       "      <td>2.027677</td>\n",
       "      <td>1.549235</td>\n",
       "      <td>801.000000</td>\n",
       "    </tr>\n",
       "  </tbody>\n",
       "</table>\n",
       "</div>"
      ],
      "text/plain": [
       "        rh_portfolio             rf            mkt             xr  \\\n",
       "count  144991.000000  144991.000000  144991.000000  144991.000000   \n",
       "mean        1.004986       1.013605       1.042531       0.991762   \n",
       "std         0.138991       0.010031       0.095739       0.138892   \n",
       "min         0.576651       1.000000       0.657317       0.560197   \n",
       "25%         0.934533       1.004842       0.990825       0.921485   \n",
       "50%         0.996995       1.011879       1.041799       0.984986   \n",
       "75%         1.069755       1.021334       1.100916       1.057228   \n",
       "max         2.028748       1.035970       1.549780       2.027677   \n",
       "\n",
       "                xmkt  date_difference  \n",
       "count  144991.000000    144991.000000  \n",
       "mean        1.028400       269.754799  \n",
       "std         0.092365       190.278126  \n",
       "min         0.656392         1.000000  \n",
       "25%         0.979591       109.000000  \n",
       "50%         1.029788       238.000000  \n",
       "75%         1.083484       403.000000  \n",
       "max         1.549235       801.000000  "
      ]
     },
     "execution_count": 11,
     "metadata": {},
     "output_type": "execute_result"
    }
   ],
   "source": [
    "all_ret_df = rt.build_all_pairs_dataframe()\n",
    "all_ret_df.describe()"
   ]
  },
  {
   "cell_type": "code",
   "execution_count": 12,
   "id": "44216ac8",
   "metadata": {},
   "outputs": [
    {
     "name": "stdout",
     "output_type": "stream",
     "text": [
      "Gamma: -5.23917\n"
     ]
    },
    {
     "data": {
      "image/png": "[encoded data removed]",
      "text/plain": [
       "<Figure size 1800x1000 with 1 Axes>"
      ]
     },
     "metadata": {},
     "output_type": "display_data"
    },
    {
     "data": {
      "text/plain": [
       "np.float64(-5.239166788859051)"
      ]
     },
     "execution_count": 12,
     "metadata": {},
     "output_type": "execute_result"
    }
   ],
   "source": [
    "rt.find_cutoff_gamma(df_returns=all_ret_df-1, bounds=(-8,2))"
   ]
  },
  {
   "cell_type": "code",
   "execution_count": 7,
   "id": "03a587cb",
   "metadata": {},
   "outputs": [
    {
     "data": {
      "image/png": "[encoded data removed]",
      "text/plain": [
       "<Figure size 1400x600 with 2 Axes>"
      ]
     },
     "metadata": {},
     "output_type": "display_data"
    },
    {
     "data": {
      "text/plain": [
       "np.True_"
      ]
     },
     "execution_count": 7,
     "metadata": {},
     "output_type": "execute_result"
    }
   ],
   "source": [
    "from src.visuals.plotter import Plotter, ReturnSeries\n",
    "\n",
    "\n",
    "plotter = Plotter([ReturnSeries(label=\"GMM\", df=all_ret_df, horizons=[1])])\n",
    "plotter.plot_ssd_comparison(all_ret_df[\"xmkt\"], all_ret_df[\"xr\"], \"Market\", \"Robinhood\")"
   ]
  },
  {
   "cell_type": "markdown",
   "id": "a57f5fb2",
   "metadata": {},
   "source": [
    "**Can't do bootstrapping as it assumes independent samples**"
   ]
  },
  {
   "cell_type": "markdown",
   "id": "8e52a10e",
   "metadata": {},
   "source": [
    "## Euler"
   ]
  },
  {
   "cell_type": "code",
   "execution_count": 2,
   "id": "eff18bb0",
   "metadata": {},
   "outputs": [],
   "source": [
    "%load_ext autoreload\n",
    "%autoreload 2"
   ]
  },
  {
   "cell_type": "code",
   "execution_count": 1,
   "id": "ccb5ce40",
   "metadata": {},
   "outputs": [
    {
     "name": "stderr",
     "output_type": "stream",
     "text": [
      "\u001b[38;20m2025-05-01 23:54:06,481 - src.analyzer - INFO - ############################## Analysis Started ############################## (analyzer.py:80)\u001b[0m\n"
     ]
    },
    {
     "data": {
      "application/vnd.microsoft.datawrangler.viewer.v0+json": {
       "columns": [
        {
         "name": "index",
         "rawType": "object",
         "type": "string"
        },
        {
         "name": "rh_portfolio",
         "rawType": "float64",
         "type": "float"
        },
        {
         "name": "rf",
         "rawType": "float64",
         "type": "float"
        },
        {
         "name": "mkt",
         "rawType": "float64",
         "type": "float"
        },
        {
         "name": "xr",
         "rawType": "float64",
         "type": "float"
        },
        {
         "name": "xmkt",
         "rawType": "float64",
         "type": "float"
        }
       ],
       "conversionMethod": "pd.DataFrame",
       "ref": "0e52c185-d270-46e1-88a2-27006356f7f8",
       "rows": [
        [
         "count",
         "539.0",
         "539.0",
         "539.0",
         "539.0",
         "539.0"
        ],
        [
         "mean",
         "0.0006094647375278619",
         "6.567717996289425e-05",
         "0.0002247725906411723",
         "0.0005437875575649677",
         "0.00015909541067827786"
        ],
        [
         "std",
         "0.020191841438043544",
         "3.277238811127258e-05",
         "0.01517414106376116",
         "0.020194661745983042",
         "0.01517604293206872"
        ],
        [
         "min",
         "-0.11782827052885869",
         "0.0",
         "-0.11641104294478533",
         "-0.1178882705288587",
         "-0.11647104294478533"
        ],
        [
         "25%",
         "-0.006982579891428309",
         "6e-05",
         "-0.004675735820301508",
         "-0.007064821368389571",
         "-0.004755735820301508"
        ],
        [
         "50%",
         "0.0007251056470649608",
         "7.000000000000001e-05",
         "0.0008863003291972316",
         "0.0006351056470649608",
         "0.000821719745222952"
        ],
        [
         "75%",
         "0.008793757464702456",
         "8.999999999999999e-05",
         "0.005888276863417197",
         "0.008703757464702457",
         "0.005793276863417197"
        ],
        [
         "max",
         "0.10295747379017639",
         "0.0001",
         "0.09140969162995605",
         "0.10289747379017639",
         "0.09134969162995604"
        ]
       ],
       "shape": {
        "columns": 5,
        "rows": 8
       }
      },
      "text/html": [
       "<div>\n",
       "<style scoped>\n",
       "    .dataframe tbody tr th:only-of-type {\n",
       "        vertical-align: middle;\n",
       "    }\n",
       "\n",
       "    .dataframe tbody tr th {\n",
       "        vertical-align: top;\n",
       "    }\n",
       "\n",
       "    .dataframe thead th {\n",
       "        text-align: right;\n",
       "    }\n",
       "</style>\n",
       "<table border=\"1\" class=\"dataframe\">\n",
       "  <thead>\n",
       "    <tr style=\"text-align: right;\">\n",
       "      <th></th>\n",
       "      <th>rh_portfolio</th>\n",
       "      <th>rf</th>\n",
       "      <th>mkt</th>\n",
       "      <th>xr</th>\n",
       "      <th>xmkt</th>\n",
       "    </tr>\n",
       "  </thead>\n",
       "  <tbody>\n",
       "    <tr>\n",
       "      <th>count</th>\n",
       "      <td>539.000000</td>\n",
       "      <td>539.000000</td>\n",
       "      <td>539.000000</td>\n",
       "      <td>539.000000</td>\n",
       "      <td>539.000000</td>\n",
       "    </tr>\n",
       "    <tr>\n",
       "      <th>mean</th>\n",
       "      <td>0.000609</td>\n",
       "      <td>0.000066</td>\n",
       "      <td>0.000225</td>\n",
       "      <td>0.000544</td>\n",
       "      <td>0.000159</td>\n",
       "    </tr>\n",
       "    <tr>\n",
       "      <th>std</th>\n",
       "      <td>0.020192</td>\n",
       "      <td>0.000033</td>\n",
       "      <td>0.015174</td>\n",
       "      <td>0.020195</td>\n",
       "      <td>0.015176</td>\n",
       "    </tr>\n",
       "    <tr>\n",
       "      <th>min</th>\n",
       "      <td>-0.117828</td>\n",
       "      <td>0.000000</td>\n",
       "      <td>-0.116411</td>\n",
       "      <td>-0.117888</td>\n",
       "      <td>-0.116471</td>\n",
       "    </tr>\n",
       "    <tr>\n",
       "      <th>25%</th>\n",
       "      <td>-0.006983</td>\n",
       "      <td>0.000060</td>\n",
       "      <td>-0.004676</td>\n",
       "      <td>-0.007065</td>\n",
       "      <td>-0.004756</td>\n",
       "    </tr>\n",
       "    <tr>\n",
       "      <th>50%</th>\n",
       "      <td>0.000725</td>\n",
       "      <td>0.000070</td>\n",
       "      <td>0.000886</td>\n",
       "      <td>0.000635</td>\n",
       "      <td>0.000822</td>\n",
       "    </tr>\n",
       "    <tr>\n",
       "      <th>75%</th>\n",
       "      <td>0.008794</td>\n",
       "      <td>0.000090</td>\n",
       "      <td>0.005888</td>\n",
       "      <td>0.008704</td>\n",
       "      <td>0.005793</td>\n",
       "    </tr>\n",
       "    <tr>\n",
       "      <th>max</th>\n",
       "      <td>0.102957</td>\n",
       "      <td>0.000100</td>\n",
       "      <td>0.091410</td>\n",
       "      <td>0.102897</td>\n",
       "      <td>0.091350</td>\n",
       "    </tr>\n",
       "  </tbody>\n",
       "</table>\n",
       "</div>"
      ],
      "text/plain": [
       "       rh_portfolio          rf         mkt          xr        xmkt\n",
       "count    539.000000  539.000000  539.000000  539.000000  539.000000\n",
       "mean       0.000609    0.000066    0.000225    0.000544    0.000159\n",
       "std        0.020192    0.000033    0.015174    0.020195    0.015176\n",
       "min       -0.117828    0.000000   -0.116411   -0.117888   -0.116471\n",
       "25%       -0.006983    0.000060   -0.004676   -0.007065   -0.004756\n",
       "50%        0.000725    0.000070    0.000886    0.000635    0.000822\n",
       "75%        0.008794    0.000090    0.005888    0.008704    0.005793\n",
       "max        0.102957    0.000100    0.091410    0.102897    0.091350"
      ]
     },
     "execution_count": 1,
     "metadata": {},
     "output_type": "execute_result"
    }
   ],
   "source": [
    "from src import Analyzer\n",
    "from src import RiskTests\n",
    "from src.utils.params import ReturnParams\n",
    "\n",
    "import numpy as np\n",
    "\n",
    "return_params = ReturnParams(\n",
    "    horizons={},  \n",
    "    start_date=None,\n",
    "#    end_date=\"2020-02-03\",\n",
    "    cumulative=False,\n",
    "    append_start=False\n",
    ")\n",
    "\n",
    "an = Analyzer(compare_tickers=[\"VT\"], return_params=return_params, stocks_only=False, weights_application=\"wealth\", dl_kwargs={\"weights_method\":\"dollar\"})\n",
    "\n",
    "\n",
    "rt = RiskTests(an)\n",
    "daily_factors = rt.factors\n",
    "daily_factors.describe()"
   ]
  },
  {
   "cell_type": "code",
   "execution_count": 51,
   "id": "fb56960e",
   "metadata": {},
   "outputs": [
    {
     "data": {
      "application/vnd.microsoft.datawrangler.viewer.v0+json": {
       "columns": [
        {
         "name": "index",
         "rawType": "datetime64[ns]",
         "type": "datetime"
        },
        {
         "name": "rh_portfolio",
         "rawType": "float64",
         "type": "float"
        },
        {
         "name": "rf",
         "rawType": "float64",
         "type": "float"
        },
        {
         "name": "mkt",
         "rawType": "float64",
         "type": "float"
        },
        {
         "name": "xr",
         "rawType": "float64",
         "type": "float"
        },
        {
         "name": "xmkt",
         "rawType": "float64",
         "type": "float"
        }
       ],
       "conversionMethod": "pd.DataFrame",
       "ref": "ea0aea5a-4acf-42d2-9921-a35c7058acad",
       "rows": [
        [
         "2018-06-30 00:00:00",
         "0.009446420950522505",
         "0.0012006842463021528",
         "-0.007557416172785492",
         "0.008236289650643602",
         "-0.008748133817250592"
        ],
        [
         "2018-07-31 00:00:00",
         "-0.002451011611780518",
         "0.0016813446812071753",
         "0.035629835903564055",
         "-0.004125807765842926",
         "0.03389423905686351"
        ],
        [
         "2018-08-31 00:00:00",
         "0.0725118817129573",
         "0.0014710294563338167",
         "0.04057104291252056",
         "0.07094158547016938",
         "0.0390453514910305"
        ],
        [
         "2018-09-30 00:00:00",
         "0.007565961552266742",
         "0.0015210948962884885",
         "0.0012372150569885942",
         "0.006036133850401804",
         "-0.0002834824660810087"
        ],
        [
         "2018-10-31 00:00:00",
         "-0.10520744468833687",
         "0.0018416201071167482",
         "-0.06837671104200371",
         "-0.10686067699596724",
         "-0.07009482683894164"
        ],
        [
         "2018-11-30 00:00:00",
         "0.001672036682294653",
         "0.0016813446812071753",
         "0.01885128095386812",
         "-9.547879660898317e-06",
         "0.017142385601111476"
        ],
        [
         "2018-12-31 00:00:00",
         "-0.10769178854430372",
         "0.0019017109693872936",
         "-0.09338014833517416",
         "-0.10939618521566463",
         "-0.09511036846436172"
        ],
        [
         "2019-01-31 00:00:00",
         "0.13288165793012285",
         "0.0016012005601815371",
         "0.06190827886258865",
         "0.13108422940766506",
         "0.060216737194218384"
        ],
        [
         "2019-02-28 00:00:00",
         "0.05694106520840747",
         "0.0019017109693872936",
         "0.03249877152126013",
         "0.0549404735304615",
         "0.03054205700642254"
        ],
        [
         "2019-03-31 00:00:00",
         "0.01075341103738614",
         "0.0018917019699613569",
         "0.013550981624126601",
         "0.008845666240556715",
         "0.011638272304586916"
        ],
        [
         "2019-04-30 00:00:00",
         "0.030618335876479774",
         "0.002102101330598183",
         "0.040340601050296465",
         "0.028459252048031347",
         "0.03816215650132615"
        ],
        [
         "2019-05-31 00:00:00",
         "-0.09082197294864058",
         "0.0019818722231386143",
         "-0.06347916508725038",
         "-0.09262839212446772",
         "-0.06533732254823132"
        ],
        [
         "2019-06-30 00:00:00",
         "0.071717356227196",
         "0.0018015398313766529",
         "0.06438086763949857",
         "0.06979646988489696",
         "0.06247253502707717"
        ],
        [
         "2019-07-31 00:00:00",
         "-0.014401328294148752",
         "0.0019818722231386143",
         "0.01460152385664193",
         "-0.01635229287889317",
         "0.012595803821262352"
        ],
        [
         "2019-08-31 00:00:00",
         "-0.06523139682468337",
         "0.0015411324283958194",
         "-0.016405376314829856",
         "-0.0666745018592435",
         "-0.017920289838225356"
        ],
        [
         "2019-09-30 00:00:00",
         "-0.00670432045574898",
         "0.0018015398313766529",
         "0.014892032208040362",
         "-0.008491422845575136",
         "0.013068106709437144"
        ],
        [
         "2019-10-31 00:00:00",
         "0.003792042719693134",
         "0.0016112403076657955",
         "0.021826778362920685",
         "0.0021773591536380366",
         "0.020184392351193292"
        ],
        [
         "2019-11-30 00:00:00",
         "0.031391313266048826",
         "0.0012006842463021528",
         "0.03625920072730948",
         "0.030156210268637906",
         "0.03501860065473705"
        ],
        [
         "2019-12-31 00:00:00",
         "0.040107611663745546",
         "0.0014710294563338167",
         "0.02477048414240346",
         "0.03858254318344878",
         "0.02326686031872205"
        ],
        [
         "2020-01-31 00:00:00",
         "-0.04172005647374155",
         "0.0007802808617849433",
         "-0.022335152314017614",
         "-0.04246974293309447",
         "-0.023098808650962144"
        ],
        [
         "2020-02-29 00:00:00",
         "-0.061820217056055005",
         "0.0011406158093536511",
         "-0.08099702391017594",
         "-0.06289291166128452",
         "-0.08204891068222575"
        ],
        [
         "2020-03-31 00:00:00",
         "-0.17080255863626548",
         "0.0013208319327340234",
         "-0.12850511991260472",
         "-0.17190784098817646",
         "-0.1296639279374321"
        ],
        [
         "2020-04-30 00:00:00",
         "0.2014668760710978",
         "0.0",
         "0.1278608171665896",
         "0.2014668760710978",
         "0.1278608171665896"
        ],
        [
         "2020-05-31 00:00:00",
         "0.09686752723506897",
         "0.0",
         "0.04736049991162483",
         "0.09686752723506897",
         "0.04736049991162483"
        ],
        [
         "2020-06-30 00:00:00",
         "0.11111180867619885",
         "0.0",
         "0.013154566577300963",
         "0.11111180867619885",
         "0.013154566577300963"
        ],
        [
         "2020-07-31 00:00:00",
         "0.03613134985630739",
         "0.0",
         "0.058815300385115066",
         "0.03613134985630739",
         "0.058815300385115066"
        ],
        [
         "2020-08-31 00:00:00",
         "0.05444761047515656",
         "0.0",
         "0.03135621355027629",
         "0.05444761047515656",
         "0.03135621355027629"
        ]
       ],
       "shape": {
        "columns": 5,
        "rows": 27
       }
      },
      "text/html": [
       "<div>\n",
       "<style scoped>\n",
       "    .dataframe tbody tr th:only-of-type {\n",
       "        vertical-align: middle;\n",
       "    }\n",
       "\n",
       "    .dataframe tbody tr th {\n",
       "        vertical-align: top;\n",
       "    }\n",
       "\n",
       "    .dataframe thead th {\n",
       "        text-align: right;\n",
       "    }\n",
       "</style>\n",
       "<table border=\"1\" class=\"dataframe\">\n",
       "  <thead>\n",
       "    <tr style=\"text-align: right;\">\n",
       "      <th></th>\n",
       "      <th>rh_portfolio</th>\n",
       "      <th>rf</th>\n",
       "      <th>mkt</th>\n",
       "      <th>xr</th>\n",
       "      <th>xmkt</th>\n",
       "    </tr>\n",
       "  </thead>\n",
       "  <tbody>\n",
       "    <tr>\n",
       "      <th>2018-06-30</th>\n",
       "      <td>0.009446</td>\n",
       "      <td>0.001201</td>\n",
       "      <td>-0.007557</td>\n",
       "      <td>0.008236</td>\n",
       "      <td>-0.008748</td>\n",
       "    </tr>\n",
       "    <tr>\n",
       "      <th>2018-07-31</th>\n",
       "      <td>-0.002451</td>\n",
       "      <td>0.001681</td>\n",
       "      <td>0.035630</td>\n",
       "      <td>-0.004126</td>\n",
       "      <td>0.033894</td>\n",
       "    </tr>\n",
       "    <tr>\n",
       "      <th>2018-08-31</th>\n",
       "      <td>0.072512</td>\n",
       "      <td>0.001471</td>\n",
       "      <td>0.040571</td>\n",
       "      <td>0.070942</td>\n",
       "      <td>0.039045</td>\n",
       "    </tr>\n",
       "    <tr>\n",
       "      <th>2018-09-30</th>\n",
       "      <td>0.007566</td>\n",
       "      <td>0.001521</td>\n",
       "      <td>0.001237</td>\n",
       "      <td>0.006036</td>\n",
       "      <td>-0.000283</td>\n",
       "    </tr>\n",
       "    <tr>\n",
       "      <th>2018-10-31</th>\n",
       "      <td>-0.105207</td>\n",
       "      <td>0.001842</td>\n",
       "      <td>-0.068377</td>\n",
       "      <td>-0.106861</td>\n",
       "      <td>-0.070095</td>\n",
       "    </tr>\n",
       "    <tr>\n",
       "      <th>2018-11-30</th>\n",
       "      <td>0.001672</td>\n",
       "      <td>0.001681</td>\n",
       "      <td>0.018851</td>\n",
       "      <td>-0.000010</td>\n",
       "      <td>0.017142</td>\n",
       "    </tr>\n",
       "    <tr>\n",
       "      <th>2018-12-31</th>\n",
       "      <td>-0.107692</td>\n",
       "      <td>0.001902</td>\n",
       "      <td>-0.093380</td>\n",
       "      <td>-0.109396</td>\n",
       "      <td>-0.095110</td>\n",
       "    </tr>\n",
       "    <tr>\n",
       "      <th>2019-01-31</th>\n",
       "      <td>0.132882</td>\n",
       "      <td>0.001601</td>\n",
       "      <td>0.061908</td>\n",
       "      <td>0.131084</td>\n",
       "      <td>0.060217</td>\n",
       "    </tr>\n",
       "    <tr>\n",
       "      <th>2019-02-28</th>\n",
       "      <td>0.056941</td>\n",
       "      <td>0.001902</td>\n",
       "      <td>0.032499</td>\n",
       "      <td>0.054940</td>\n",
       "      <td>0.030542</td>\n",
       "    </tr>\n",
       "    <tr>\n",
       "      <th>2019-03-31</th>\n",
       "      <td>0.010753</td>\n",
       "      <td>0.001892</td>\n",
       "      <td>0.013551</td>\n",
       "      <td>0.008846</td>\n",
       "      <td>0.011638</td>\n",
       "    </tr>\n",
       "    <tr>\n",
       "      <th>2019-04-30</th>\n",
       "      <td>0.030618</td>\n",
       "      <td>0.002102</td>\n",
       "      <td>0.040341</td>\n",
       "      <td>0.028459</td>\n",
       "      <td>0.038162</td>\n",
       "    </tr>\n",
       "    <tr>\n",
       "      <th>2019-05-31</th>\n",
       "      <td>-0.090822</td>\n",
       "      <td>0.001982</td>\n",
       "      <td>-0.063479</td>\n",
       "      <td>-0.092628</td>\n",
       "      <td>-0.065337</td>\n",
       "    </tr>\n",
       "    <tr>\n",
       "      <th>2019-06-30</th>\n",
       "      <td>0.071717</td>\n",
       "      <td>0.001802</td>\n",
       "      <td>0.064381</td>\n",
       "      <td>0.069796</td>\n",
       "      <td>0.062473</td>\n",
       "    </tr>\n",
       "    <tr>\n",
       "      <th>2019-07-31</th>\n",
       "      <td>-0.014401</td>\n",
       "      <td>0.001982</td>\n",
       "      <td>0.014602</td>\n",
       "      <td>-0.016352</td>\n",
       "      <td>0.012596</td>\n",
       "    </tr>\n",
       "    <tr>\n",
       "      <th>2019-08-31</th>\n",
       "      <td>-0.065231</td>\n",
       "      <td>0.001541</td>\n",
       "      <td>-0.016405</td>\n",
       "      <td>-0.066675</td>\n",
       "      <td>-0.017920</td>\n",
       "    </tr>\n",
       "    <tr>\n",
       "      <th>2019-09-30</th>\n",
       "      <td>-0.006704</td>\n",
       "      <td>0.001802</td>\n",
       "      <td>0.014892</td>\n",
       "      <td>-0.008491</td>\n",
       "      <td>0.013068</td>\n",
       "    </tr>\n",
       "    <tr>\n",
       "      <th>2019-10-31</th>\n",
       "      <td>0.003792</td>\n",
       "      <td>0.001611</td>\n",
       "      <td>0.021827</td>\n",
       "      <td>0.002177</td>\n",
       "      <td>0.020184</td>\n",
       "    </tr>\n",
       "    <tr>\n",
       "      <th>2019-11-30</th>\n",
       "      <td>0.031391</td>\n",
       "      <td>0.001201</td>\n",
       "      <td>0.036259</td>\n",
       "      <td>0.030156</td>\n",
       "      <td>0.035019</td>\n",
       "    </tr>\n",
       "    <tr>\n",
       "      <th>2019-12-31</th>\n",
       "      <td>0.040108</td>\n",
       "      <td>0.001471</td>\n",
       "      <td>0.024770</td>\n",
       "      <td>0.038583</td>\n",
       "      <td>0.023267</td>\n",
       "    </tr>\n",
       "    <tr>\n",
       "      <th>2020-01-31</th>\n",
       "      <td>-0.041720</td>\n",
       "      <td>0.000780</td>\n",
       "      <td>-0.022335</td>\n",
       "      <td>-0.042470</td>\n",
       "      <td>-0.023099</td>\n",
       "    </tr>\n",
       "    <tr>\n",
       "      <th>2020-02-29</th>\n",
       "      <td>-0.061820</td>\n",
       "      <td>0.001141</td>\n",
       "      <td>-0.080997</td>\n",
       "      <td>-0.062893</td>\n",
       "      <td>-0.082049</td>\n",
       "    </tr>\n",
       "    <tr>\n",
       "      <th>2020-03-31</th>\n",
       "      <td>-0.170803</td>\n",
       "      <td>0.001321</td>\n",
       "      <td>-0.128505</td>\n",
       "      <td>-0.171908</td>\n",
       "      <td>-0.129664</td>\n",
       "    </tr>\n",
       "    <tr>\n",
       "      <th>2020-04-30</th>\n",
       "      <td>0.201467</td>\n",
       "      <td>0.000000</td>\n",
       "      <td>0.127861</td>\n",
       "      <td>0.201467</td>\n",
       "      <td>0.127861</td>\n",
       "    </tr>\n",
       "    <tr>\n",
       "      <th>2020-05-31</th>\n",
       "      <td>0.096868</td>\n",
       "      <td>0.000000</td>\n",
       "      <td>0.047360</td>\n",
       "      <td>0.096868</td>\n",
       "      <td>0.047360</td>\n",
       "    </tr>\n",
       "    <tr>\n",
       "      <th>2020-06-30</th>\n",
       "      <td>0.111112</td>\n",
       "      <td>0.000000</td>\n",
       "      <td>0.013155</td>\n",
       "      <td>0.111112</td>\n",
       "      <td>0.013155</td>\n",
       "    </tr>\n",
       "    <tr>\n",
       "      <th>2020-07-31</th>\n",
       "      <td>0.036131</td>\n",
       "      <td>0.000000</td>\n",
       "      <td>0.058815</td>\n",
       "      <td>0.036131</td>\n",
       "      <td>0.058815</td>\n",
       "    </tr>\n",
       "    <tr>\n",
       "      <th>2020-08-31</th>\n",
       "      <td>0.054448</td>\n",
       "      <td>0.000000</td>\n",
       "      <td>0.031356</td>\n",
       "      <td>0.054448</td>\n",
       "      <td>0.031356</td>\n",
       "    </tr>\n",
       "  </tbody>\n",
       "</table>\n",
       "</div>"
      ],
      "text/plain": [
       "            rh_portfolio        rf       mkt        xr      xmkt\n",
       "2018-06-30      0.009446  0.001201 -0.007557  0.008236 -0.008748\n",
       "2018-07-31     -0.002451  0.001681  0.035630 -0.004126  0.033894\n",
       "2018-08-31      0.072512  0.001471  0.040571  0.070942  0.039045\n",
       "2018-09-30      0.007566  0.001521  0.001237  0.006036 -0.000283\n",
       "2018-10-31     -0.105207  0.001842 -0.068377 -0.106861 -0.070095\n",
       "2018-11-30      0.001672  0.001681  0.018851 -0.000010  0.017142\n",
       "2018-12-31     -0.107692  0.001902 -0.093380 -0.109396 -0.095110\n",
       "2019-01-31      0.132882  0.001601  0.061908  0.131084  0.060217\n",
       "2019-02-28      0.056941  0.001902  0.032499  0.054940  0.030542\n",
       "2019-03-31      0.010753  0.001892  0.013551  0.008846  0.011638\n",
       "2019-04-30      0.030618  0.002102  0.040341  0.028459  0.038162\n",
       "2019-05-31     -0.090822  0.001982 -0.063479 -0.092628 -0.065337\n",
       "2019-06-30      0.071717  0.001802  0.064381  0.069796  0.062473\n",
       "2019-07-31     -0.014401  0.001982  0.014602 -0.016352  0.012596\n",
       "2019-08-31     -0.065231  0.001541 -0.016405 -0.066675 -0.017920\n",
       "2019-09-30     -0.006704  0.001802  0.014892 -0.008491  0.013068\n",
       "2019-10-31      0.003792  0.001611  0.021827  0.002177  0.020184\n",
       "2019-11-30      0.031391  0.001201  0.036259  0.030156  0.035019\n",
       "2019-12-31      0.040108  0.001471  0.024770  0.038583  0.023267\n",
       "2020-01-31     -0.041720  0.000780 -0.022335 -0.042470 -0.023099\n",
       "2020-02-29     -0.061820  0.001141 -0.080997 -0.062893 -0.082049\n",
       "2020-03-31     -0.170803  0.001321 -0.128505 -0.171908 -0.129664\n",
       "2020-04-30      0.201467  0.000000  0.127861  0.201467  0.127861\n",
       "2020-05-31      0.096868  0.000000  0.047360  0.096868  0.047360\n",
       "2020-06-30      0.111112  0.000000  0.013155  0.111112  0.013155\n",
       "2020-07-31      0.036131  0.000000  0.058815  0.036131  0.058815\n",
       "2020-08-31      0.054448  0.000000  0.031356  0.054448  0.031356"
      ]
     },
     "execution_count": 51,
     "metadata": {},
     "output_type": "execute_result"
    }
   ],
   "source": [
    "monnthly_factors = rt.resample_factors()\n",
    "monnthly_factors"
   ]
  },
  {
   "cell_type": "code",
   "execution_count": 4,
   "id": "15272c5b",
   "metadata": {},
   "outputs": [
    {
     "data": {
      "text/plain": [
       "np.float64(3.0714922378400455)"
      ]
     },
     "execution_count": 4,
     "metadata": {},
     "output_type": "execute_result"
    }
   ],
   "source": [
    "gamma_gmm = rt.estimate_euler_gamma(df_returns=daily_factors)\n",
    "gamma_gmm"
   ]
  },
  {
   "cell_type": "code",
   "execution_count": 65,
   "id": "aea6cb55",
   "metadata": {},
   "outputs": [
    {
     "name": "stdout",
     "output_type": "stream",
     "text": [
      "Gamma: 4.2207\n"
     ]
    },
    {
     "data": {
      "image/png": "[encoded data removed]",
      "text/plain": [
       "<Figure size 1800x1000 with 1 Axes>"
      ]
     },
     "metadata": {},
     "output_type": "display_data"
    },
    {
     "data": {
      "text/plain": [
       "np.float64(4.22068367107366)"
      ]
     },
     "execution_count": 65,
     "metadata": {},
     "output_type": "execute_result"
    }
   ],
   "source": [
    "rt.find_cutoff_gamma()"
   ]
  },
  {
   "cell_type": "code",
   "execution_count": 3,
   "id": "7da7cf04",
   "metadata": {},
   "outputs": [
    {
     "data": {
      "application/vnd.microsoft.datawrangler.viewer.v0+json": {
       "columns": [
        {
         "name": "index",
         "rawType": "datetime64[ns]",
         "type": "datetime"
        },
        {
         "name": "rh_portfolio",
         "rawType": "float64",
         "type": "float"
        },
        {
         "name": "rf",
         "rawType": "float64",
         "type": "float"
        },
        {
         "name": "mkt",
         "rawType": "float64",
         "type": "float"
        },
        {
         "name": "xr",
         "rawType": "float64",
         "type": "float"
        },
        {
         "name": "xmkt",
         "rawType": "float64",
         "type": "float"
        }
       ],
       "conversionMethod": "pd.DataFrame",
       "ref": "947e6bb3-c0e4-485b-ad19-4c1771bc0b74",
       "rows": [
        [
         "2018-06-04 00:00:00",
         "1.0079789566275974",
         "1.00006",
         "1.0050612679808204",
         "1.0079189566275975",
         "1.0050012679808205"
        ],
        [
         "2018-06-05 00:00:00",
         "1.00766696692467",
         "1.00006",
         "0.9997349589186324",
         "1.0076069669246701",
         "0.9996749589186325"
        ],
        [
         "2018-06-06 00:00:00",
         "1.0095665483922767",
         "1.00006",
         "1.008748674443266",
         "1.0095065483922767",
         "1.0086886744432662"
        ],
        [
         "2018-06-07 00:00:00",
         "0.9954408981393974",
         "1.00006",
         "0.9965834428383706",
         "0.9953808981393975",
         "0.9965234428383707"
        ],
        [
         "2018-06-08 00:00:00",
         "1.0034746310425338",
         "1.00006",
         "1.0022415611814346",
         "1.0034146310425338",
         "1.0021815611814346"
        ],
        [
         "2018-06-11 00:00:00",
         "1.0073480015425675",
         "1.00006",
         "1.0024996710959084",
         "1.0072880015425676",
         "1.0024396710959085"
        ],
        [
         "2018-06-12 00:00:00",
         "1.008143432564814",
         "1.00006",
         "0.9989501312335958",
         "1.008083432564814",
         "0.9988901312335958"
        ],
        [
         "2018-06-13 00:00:00",
         "0.9993246754584456",
         "1.00006",
         "0.9969784550709405",
         "0.9992646754584457",
         "0.9969184550709406"
        ],
        [
         "2018-06-14 00:00:00",
         "1.0067117152801153",
         "1.00006",
         "1.0010541573329819",
         "1.0066517152801153",
         "1.000994157332982"
        ],
        [
         "2018-06-15 00:00:00",
         "0.9973807802599531",
         "1.00006",
         "0.9957878109780177",
         "0.9973207802599532",
         "0.9957278109780178"
        ],
        [
         "2018-06-18 00:00:00",
         "1.0074539003358551",
         "1.00006",
         "0.9952412425644415",
         "1.0073939003358552",
         "0.9951812425644415"
        ],
        [
         "2018-06-19 00:00:00",
         "0.9915460828661168",
         "1.00006",
         "0.993226192057378",
         "0.9914860828661168",
         "0.9931661920573781"
        ],
        [
         "2018-06-20 00:00:00",
         "1.0062293057115956",
         "1.00006",
         "1.0034768654720514",
         "1.0061693057115957",
         "1.0034168654720514"
        ],
        [
         "2018-06-21 00:00:00",
         "0.987075202003865",
         "1.00006",
         "0.9917377398720681",
         "0.987015202003865",
         "0.9916777398720682"
        ],
        [
         "2018-06-22 00:00:00",
         "1.0000817064834173",
         "1.00006",
         "0.9985219027143241",
         "1.0000217064834174",
         "0.9984619027143241"
        ],
        [
         "2018-06-25 00:00:00",
         "0.9755464402206261",
         "1.00006",
         "0.9857354326470192",
         "0.9754864402206261",
         "0.9856754326470193"
        ],
        [
         "2018-06-26 00:00:00",
         "1.0095281515918608",
         "1.00006",
         "1.0010921501706485",
         "1.0094681515918609",
         "1.0010321501706485"
        ],
        [
         "2018-06-27 00:00:00",
         "0.9838527814385398",
         "1.00006",
         "0.9905904813855175",
         "0.9837927814385399",
         "0.9905304813855176"
        ],
        [
         "2018-06-28 00:00:00",
         "1.0085891244517782",
         "1.00006",
         "1.0050936123348018",
         "1.0085291244517782",
         "1.0050336123348018"
        ],
        [
         "2018-06-29 00:00:00",
         "0.9973597074823733",
         "1.00006",
         "1.00493083139296",
         "0.9972997074823734",
         "1.00487083139296"
        ],
        [
         "2018-07-02 00:00:00",
         "1.006406424636632",
         "1.00008",
         "0.9964563172958975",
         "1.006326424636632",
         "0.9963763172958975"
        ],
        [
         "2018-07-03 00:00:00",
         "0.9945418659462562",
         "1.00008",
         "0.998905758446177",
         "0.9944618659462562",
         "0.998825758446177"
        ],
        [
         "2018-07-05 00:00:00",
         "1.0099935961980573",
         "1.00008",
         "1.0079419416678077",
         "1.0099135961980572",
         "1.0078619416678076"
        ],
        [
         "2018-07-06 00:00:00",
         "1.0131156645955712",
         "1.00008",
         "1.0063850020377665",
         "1.0130356645955712",
         "1.0063050020377664"
        ],
        [
         "2018-07-09 00:00:00",
         "1.0088081364214057",
         "1.00008",
         "1.0099892008639308",
         "1.0087281364214056",
         "1.0099092008639308"
        ],
        [
         "2018-07-10 00:00:00",
         "0.9977740996213702",
         "1.00008",
         "1.0017375033413527",
         "0.9976940996213702",
         "1.0016575033413526"
        ],
        [
         "2018-07-11 00:00:00",
         "0.991684282831543",
         "1.00008",
         "0.9889259506337559",
         "0.991604282831543",
         "0.9888459506337559"
        ],
        [
         "2018-07-12 00:00:00",
         "1.0113748717660596",
         "1.00008",
         "1.007825148407987",
         "1.0112948717660595",
         "1.007745148407987"
        ],
        [
         "2018-07-13 00:00:00",
         "0.9975773235827583",
         "1.00008",
         "1.0012048192771086",
         "0.9974973235827583",
         "1.0011248192771085"
        ],
        [
         "2018-07-16 00:00:00",
         "0.9958404907886553",
         "1.00008",
         "0.9986629228506484",
         "0.9957604907886554",
         "0.9985829228506484"
        ],
        [
         "2018-07-17 00:00:00",
         "1.005850137202771",
         "1.00008",
         "1.0038827152229215",
         "1.005770137202771",
         "1.0038027152229214"
        ],
        [
         "2018-07-18 00:00:00",
         "0.9993396816735198",
         "1.00008",
         "1.0006668444918645",
         "0.9992596816735199",
         "1.0005868444918644"
        ],
        [
         "2018-07-19 00:00:00",
         "0.9971301403849312",
         "1.00008",
         "0.9962681594029055",
         "0.9970501403849312",
         "0.9961881594029055"
        ],
        [
         "2018-07-20 00:00:00",
         "0.9924886821416989",
         "1.00008",
         "1.0018729096989967",
         "0.992408682141699",
         "1.0017929096989966"
        ],
        [
         "2018-07-23 00:00:00",
         "0.9997582150207657",
         "1.00008",
         "1.0",
         "0.9996782150207657",
         "0.99992"
        ],
        [
         "2018-07-24 00:00:00",
         "0.9938282896567358",
         "1.00008",
         "1.0044064628121245",
         "0.9937482896567358",
         "1.0043264628121245"
        ],
        [
         "2018-07-25 00:00:00",
         "1.0106405067366946",
         "1.00008",
         "1.0103695825578303",
         "1.0105605067366945",
         "1.0102895825578302"
        ],
        [
         "2018-07-26 00:00:00",
         "0.9975271645621661",
         "1.00008",
         "0.9957894736842107",
         "0.9974471645621661",
         "0.9957094736842107"
        ],
        [
         "2018-07-27 00:00:00",
         "0.9819724660105124",
         "1.00008",
         "0.99696088794926",
         "0.9818924660105124",
         "0.99688088794926"
        ],
        [
         "2018-07-30 00:00:00",
         "0.9861945116712784",
         "1.00008",
         "0.9965540092776672",
         "0.9861145116712784",
         "0.9964740092776673"
        ],
        [
         "2018-07-31 00:00:00",
         "1.006430735677802",
         "1.00008",
         "1.0038568958638117",
         "1.0063507356778019",
         "1.0037768958638116"
        ],
        [
         "2018-08-01 00:00:00",
         "1.000549039029362",
         "1.00007",
         "0.9964228934817169",
         "1.000479039029362",
         "0.9963528934817169"
        ],
        [
         "2018-08-02 00:00:00",
         "1.0088783981067797",
         "1.00007",
         "1.0001329610424146",
         "1.0088083981067797",
         "1.0000629610424145"
        ],
        [
         "2018-08-03 00:00:00",
         "1.001341850232699",
         "1.00007",
         "1.0034565275192768",
         "1.001271850232699",
         "1.0033865275192768"
        ],
        [
         "2018-08-06 00:00:00",
         "1.0065392943202025",
         "1.00007",
         "1.0",
         "1.0064692943202025",
         "0.99993"
        ],
        [
         "2018-08-07 00:00:00",
         "1.00329523691758",
         "1.00007",
         "1.0038420773714891",
         "1.00322523691758",
         "1.003772077371489"
        ],
        [
         "2018-08-08 00:00:00",
         "0.9974558229877555",
         "1.00007",
         "0.9993401082222516",
         "0.9973858229877555",
         "0.9992701082222516"
        ],
        [
         "2018-08-13 00:00:00",
         "0.9931799382526583",
         "1.00007",
         "0.9946452476572958",
         "0.9931099382526583",
         "0.9945752476572958"
        ],
        [
         "2018-08-14 00:00:00",
         "1.0020290652832575",
         "1.00007",
         "1.0047106325706596",
         "1.0019590652832575",
         "1.0046406325706596"
        ],
        [
         "2018-08-15 00:00:00",
         "0.9868322789056583",
         "1.00007",
         "0.9888814467515069",
         "0.9867622789056583",
         "0.9888114467515069"
        ]
       ],
       "shape": {
        "columns": 5,
        "rows": 539
       }
      },
      "text/html": [
       "<div>\n",
       "<style scoped>\n",
       "    .dataframe tbody tr th:only-of-type {\n",
       "        vertical-align: middle;\n",
       "    }\n",
       "\n",
       "    .dataframe tbody tr th {\n",
       "        vertical-align: top;\n",
       "    }\n",
       "\n",
       "    .dataframe thead th {\n",
       "        text-align: right;\n",
       "    }\n",
       "</style>\n",
       "<table border=\"1\" class=\"dataframe\">\n",
       "  <thead>\n",
       "    <tr style=\"text-align: right;\">\n",
       "      <th></th>\n",
       "      <th>rh_portfolio</th>\n",
       "      <th>rf</th>\n",
       "      <th>mkt</th>\n",
       "      <th>xr</th>\n",
       "      <th>xmkt</th>\n",
       "    </tr>\n",
       "  </thead>\n",
       "  <tbody>\n",
       "    <tr>\n",
       "      <th>2018-06-04</th>\n",
       "      <td>1.007979</td>\n",
       "      <td>1.00006</td>\n",
       "      <td>1.005061</td>\n",
       "      <td>1.007919</td>\n",
       "      <td>1.005001</td>\n",
       "    </tr>\n",
       "    <tr>\n",
       "      <th>2018-06-05</th>\n",
       "      <td>1.007667</td>\n",
       "      <td>1.00006</td>\n",
       "      <td>0.999735</td>\n",
       "      <td>1.007607</td>\n",
       "      <td>0.999675</td>\n",
       "    </tr>\n",
       "    <tr>\n",
       "      <th>2018-06-06</th>\n",
       "      <td>1.009567</td>\n",
       "      <td>1.00006</td>\n",
       "      <td>1.008749</td>\n",
       "      <td>1.009507</td>\n",
       "      <td>1.008689</td>\n",
       "    </tr>\n",
       "    <tr>\n",
       "      <th>2018-06-07</th>\n",
       "      <td>0.995441</td>\n",
       "      <td>1.00006</td>\n",
       "      <td>0.996583</td>\n",
       "      <td>0.995381</td>\n",
       "      <td>0.996523</td>\n",
       "    </tr>\n",
       "    <tr>\n",
       "      <th>2018-06-08</th>\n",
       "      <td>1.003475</td>\n",
       "      <td>1.00006</td>\n",
       "      <td>1.002242</td>\n",
       "      <td>1.003415</td>\n",
       "      <td>1.002182</td>\n",
       "    </tr>\n",
       "    <tr>\n",
       "      <th>...</th>\n",
       "      <td>...</td>\n",
       "      <td>...</td>\n",
       "      <td>...</td>\n",
       "      <td>...</td>\n",
       "      <td>...</td>\n",
       "    </tr>\n",
       "    <tr>\n",
       "      <th>2020-08-07</th>\n",
       "      <td>0.996141</td>\n",
       "      <td>1.00000</td>\n",
       "      <td>0.996542</td>\n",
       "      <td>0.996141</td>\n",
       "      <td>0.996542</td>\n",
       "    </tr>\n",
       "    <tr>\n",
       "      <th>2020-08-10</th>\n",
       "      <td>1.019014</td>\n",
       "      <td>1.00000</td>\n",
       "      <td>1.002726</td>\n",
       "      <td>1.019014</td>\n",
       "      <td>1.002726</td>\n",
       "    </tr>\n",
       "    <tr>\n",
       "      <th>2020-08-11</th>\n",
       "      <td>0.980078</td>\n",
       "      <td>1.00000</td>\n",
       "      <td>0.996910</td>\n",
       "      <td>0.980078</td>\n",
       "      <td>0.996910</td>\n",
       "    </tr>\n",
       "    <tr>\n",
       "      <th>2020-08-12</th>\n",
       "      <td>1.006672</td>\n",
       "      <td>1.00000</td>\n",
       "      <td>1.015001</td>\n",
       "      <td>1.006672</td>\n",
       "      <td>1.015001</td>\n",
       "    </tr>\n",
       "    <tr>\n",
       "      <th>2020-08-13</th>\n",
       "      <td>1.004269</td>\n",
       "      <td>1.00000</td>\n",
       "      <td>0.997313</td>\n",
       "      <td>1.004269</td>\n",
       "      <td>0.997313</td>\n",
       "    </tr>\n",
       "  </tbody>\n",
       "</table>\n",
       "<p>539 rows × 5 columns</p>\n",
       "</div>"
      ],
      "text/plain": [
       "            rh_portfolio       rf       mkt        xr      xmkt\n",
       "2018-06-04      1.007979  1.00006  1.005061  1.007919  1.005001\n",
       "2018-06-05      1.007667  1.00006  0.999735  1.007607  0.999675\n",
       "2018-06-06      1.009567  1.00006  1.008749  1.009507  1.008689\n",
       "2018-06-07      0.995441  1.00006  0.996583  0.995381  0.996523\n",
       "2018-06-08      1.003475  1.00006  1.002242  1.003415  1.002182\n",
       "...                  ...      ...       ...       ...       ...\n",
       "2020-08-07      0.996141  1.00000  0.996542  0.996141  0.996542\n",
       "2020-08-10      1.019014  1.00000  1.002726  1.019014  1.002726\n",
       "2020-08-11      0.980078  1.00000  0.996910  0.980078  0.996910\n",
       "2020-08-12      1.006672  1.00000  1.015001  1.006672  1.015001\n",
       "2020-08-13      1.004269  1.00000  0.997313  1.004269  0.997313\n",
       "\n",
       "[539 rows x 5 columns]"
      ]
     },
     "execution_count": 3,
     "metadata": {},
     "output_type": "execute_result"
    }
   ],
   "source": [
    "df = daily_factors +1\n",
    "df"
   ]
  },
  {
   "cell_type": "code",
   "execution_count": 14,
   "id": "6adb5f65",
   "metadata": {},
   "outputs": [
    {
     "name": "stdout",
     "output_type": "stream",
     "text": [
      "ΔU (xmkt - rh_portfolio) at γ=3.071: -0.00017 [-0.00097, 0.00061]\n"
     ]
    },
    {
     "data": {
      "text/plain": [
       "(np.float64(-0.00017284581852384324),\n",
       " np.float64(-0.0009742359888587294),\n",
       " np.float64(0.0006114926814635308))"
      ]
     },
     "execution_count": 14,
     "metadata": {},
     "output_type": "execute_result"
    }
   ],
   "source": [
    "rt.bootstrap_difference_utility(df_returns=df, gamma0=gamma_gmm)"
   ]
  },
  {
   "attachments": {
    "image.png": {
     "image/png": "[encoded data removed]"
    }
   },
   "cell_type": "markdown",
   "id": "74949396",
   "metadata": {},
   "source": [
    "![image.png](attachment:image.png)"
   ]
  },
  {
   "cell_type": "code",
   "execution_count": 39,
   "id": "e9044f28",
   "metadata": {},
   "outputs": [
    {
     "data": {
      "application/vnd.microsoft.datawrangler.viewer.v0+json": {
       "columns": [
        {
         "name": "index",
         "rawType": "datetime64[ns]",
         "type": "datetime"
        },
        {
         "name": "rh_portfolio",
         "rawType": "float64",
         "type": "float"
        },
        {
         "name": "rf",
         "rawType": "float64",
         "type": "float"
        },
        {
         "name": "mkt",
         "rawType": "float64",
         "type": "float"
        },
        {
         "name": "xr",
         "rawType": "float64",
         "type": "float"
        },
        {
         "name": "xmkt",
         "rawType": "float64",
         "type": "float"
        }
       ],
       "conversionMethod": "pd.DataFrame",
       "ref": "5819656d-aaa1-4e2a-81ac-e49b680c26b7",
       "rows": [
        [
         "2018-06-04 00:00:00",
         "0.0079789566275974",
         "6e-05",
         "0.005061267980820405",
         "0.0079189566275974",
         "0.005001267980820405"
        ],
        [
         "2018-06-05 00:00:00",
         "0.00766696692467006",
         "6e-05",
         "-0.00026504108136760074",
         "0.00760696692467006",
         "-0.00032504108136760073"
        ],
        [
         "2018-06-06 00:00:00",
         "0.009566548392276664",
         "6e-05",
         "0.008748674443266102",
         "0.009506548392276664",
         "0.008688674443266103"
        ],
        [
         "2018-06-07 00:00:00",
         "-0.004559101860602599",
         "6e-05",
         "-0.0034165571616293633",
         "-0.004619101860602599",
         "-0.0034765571616293635"
        ],
        [
         "2018-06-08 00:00:00",
         "0.00347463104253376",
         "6e-05",
         "0.0022415611814345926",
         "0.00341463104253376",
         "0.0021815611814345924"
        ],
        [
         "2018-06-11 00:00:00",
         "0.007348001542567539",
         "6e-05",
         "0.002499671095908429",
         "0.007288001542567539",
         "0.002439671095908429"
        ],
        [
         "2018-06-12 00:00:00",
         "0.00814343256481398",
         "6e-05",
         "-0.0010498687664042272",
         "0.00808343256481398",
         "-0.0011098687664042272"
        ],
        [
         "2018-06-13 00:00:00",
         "-0.0006753245415543896",
         "6e-05",
         "-0.003021544929059483",
         "-0.0007353245415543896",
         "-0.0030815449290594833"
        ],
        [
         "2018-06-14 00:00:00",
         "0.006711715280115271",
         "6e-05",
         "0.0010541573329818643",
         "0.006651715280115271",
         "0.0009941573329818644"
        ],
        [
         "2018-06-15 00:00:00",
         "-0.002619219740046863",
         "6e-05",
         "-0.004212189021982282",
         "-0.0026792197400468632",
         "-0.004272189021982282"
        ],
        [
         "2018-06-18 00:00:00",
         "0.007453900335855135",
         "6e-05",
         "-0.004758757435558536",
         "0.007393900335855135",
         "-0.004818757435558536"
        ],
        [
         "2018-06-19 00:00:00",
         "-0.008453917133883215",
         "6e-05",
         "-0.0067738079426219455",
         "-0.008513917133883215",
         "-0.006833807942621946"
        ],
        [
         "2018-06-20 00:00:00",
         "0.006229305711595634",
         "6e-05",
         "0.0034768654720513936",
         "0.006169305711595634",
         "0.0034168654720513935"
        ],
        [
         "2018-06-21 00:00:00",
         "-0.012924797996134996",
         "6e-05",
         "-0.008262260127931853",
         "-0.012984797996134995",
         "-0.008322260127931852"
        ],
        [
         "2018-06-22 00:00:00",
         "8.17064834173209e-05",
         "6e-05",
         "-0.001478097285675939",
         "2.1706483417320895e-05",
         "-0.0015380972856759388"
        ],
        [
         "2018-06-25 00:00:00",
         "-0.024453559779373912",
         "6e-05",
         "-0.014264567352980762",
         "-0.024513559779373913",
         "-0.01432456735298076"
        ],
        [
         "2018-06-26 00:00:00",
         "0.009528151591860823",
         "6e-05",
         "0.0010921501706484538",
         "0.009468151591860824",
         "0.0010321501706484538"
        ],
        [
         "2018-06-27 00:00:00",
         "-0.016147218561460175",
         "6e-05",
         "-0.00940951861448247",
         "-0.016207218561460176",
         "-0.00946951861448247"
        ],
        [
         "2018-06-28 00:00:00",
         "0.008589124451778174",
         "6e-05",
         "0.005093612334801767",
         "0.008529124451778175",
         "0.005033612334801767"
        ],
        [
         "2018-06-29 00:00:00",
         "-0.0026402925176266523",
         "6e-05",
         "0.004930831392959911",
         "-0.0027002925176266524",
         "0.004870831392959911"
        ],
        [
         "2018-07-02 00:00:00",
         "0.006406424636631991",
         "8e-05",
         "-0.0035436827041025465",
         "0.006326424636631991",
         "-0.0036236827041025467"
        ],
        [
         "2018-07-03 00:00:00",
         "-0.005458134053743846",
         "8e-05",
         "-0.0010942415538229833",
         "-0.005538134053743846",
         "-0.0011742415538229833"
        ],
        [
         "2018-07-05 00:00:00",
         "0.009993596198057286",
         "8e-05",
         "0.007941941667807706",
         "0.009913596198057286",
         "0.007861941667807706"
        ],
        [
         "2018-07-06 00:00:00",
         "0.01311566459557123",
         "8e-05",
         "0.006385002037766485",
         "0.01303566459557123",
         "0.006305002037766485"
        ],
        [
         "2018-07-09 00:00:00",
         "0.008808136421405655",
         "8e-05",
         "0.009989200863930847",
         "0.008728136421405654",
         "0.009909200863930847"
        ],
        [
         "2018-07-10 00:00:00",
         "-0.002225900378629797",
         "8e-05",
         "0.0017375033413526975",
         "-0.0023059003786297973",
         "0.0016575033413526975"
        ],
        [
         "2018-07-11 00:00:00",
         "-0.008315717168457026",
         "8e-05",
         "-0.01107404936624412",
         "-0.008395717168457027",
         "-0.011154049366244121"
        ],
        [
         "2018-07-12 00:00:00",
         "0.011374871766059558",
         "8e-05",
         "0.007825148407986982",
         "0.011294871766059558",
         "0.007745148407986981"
        ],
        [
         "2018-07-13 00:00:00",
         "-0.002422676417241698",
         "8e-05",
         "0.001204819277108582",
         "-0.0025026764172416983",
         "0.001124819277108582"
        ],
        [
         "2018-07-16 00:00:00",
         "-0.00415950921134467",
         "8e-05",
         "-0.0013370771493516065",
         "-0.00423950921134467",
         "-0.0014170771493516065"
        ],
        [
         "2018-07-17 00:00:00",
         "0.005850137202771055",
         "8e-05",
         "0.0038827152229214956",
         "0.005770137202771055",
         "0.0038027152229214954"
        ],
        [
         "2018-07-18 00:00:00",
         "-0.0006603183264801693",
         "8e-05",
         "0.0006668444918644933",
         "-0.0007403183264801693",
         "0.0005868444918644934"
        ],
        [
         "2018-07-19 00:00:00",
         "-0.002869859615068804",
         "8e-05",
         "-0.0037318405970945268",
         "-0.002949859615068804",
         "-0.003811840597094527"
        ],
        [
         "2018-07-20 00:00:00",
         "-0.007511317858301059",
         "8e-05",
         "0.001872909698996672",
         "-0.007591317858301059",
         "0.001792909698996672"
        ],
        [
         "2018-07-23 00:00:00",
         "-0.0002417849792343274",
         "8e-05",
         "0.0",
         "-0.0003217849792343274",
         "-8e-05"
        ],
        [
         "2018-07-24 00:00:00",
         "-0.006171710343264247",
         "8e-05",
         "0.004406462812124534",
         "-0.0062517103432642475",
         "0.004326462812124534"
        ],
        [
         "2018-07-25 00:00:00",
         "0.010640506736694588",
         "8e-05",
         "0.01036958255783027",
         "0.010560506736694588",
         "0.01028958255783027"
        ],
        [
         "2018-07-26 00:00:00",
         "-0.0024728354378339423",
         "8e-05",
         "-0.004210526315789331",
         "-0.0025528354378339425",
         "-0.0042905263157893316"
        ],
        [
         "2018-07-27 00:00:00",
         "-0.018027533989487643",
         "8e-05",
         "-0.0030391120507400338",
         "-0.018107533989487643",
         "-0.003119112050740034"
        ],
        [
         "2018-07-30 00:00:00",
         "-0.013805488328721638",
         "8e-05",
         "-0.003445990722332759",
         "-0.013885488328721638",
         "-0.0035259907223327593"
        ],
        [
         "2018-07-31 00:00:00",
         "0.0064307356778019464",
         "8e-05",
         "0.00385689586381166",
         "0.006350735677801946",
         "0.00377689586381166"
        ],
        [
         "2018-08-01 00:00:00",
         "0.0005490390293620973",
         "7.000000000000001e-05",
         "-0.003577106518283135",
         "0.00047903902936209723",
         "-0.0036471065182831354"
        ],
        [
         "2018-08-02 00:00:00",
         "0.008878398106779706",
         "7.000000000000001e-05",
         "0.00013296104241455886",
         "0.008808398106779705",
         "6.296104241455885e-05"
        ],
        [
         "2018-08-03 00:00:00",
         "0.001341850232698949",
         "7.000000000000001e-05",
         "0.0034565275192768308",
         "0.001271850232698949",
         "0.0033865275192768306"
        ],
        [
         "2018-08-06 00:00:00",
         "0.0065392943202025045",
         "7.000000000000001e-05",
         "0.0",
         "0.006469294320202505",
         "-7.000000000000001e-05"
        ],
        [
         "2018-08-07 00:00:00",
         "0.0032952369175800467",
         "7.000000000000001e-05",
         "0.0038420773714891165",
         "0.0032252369175800465",
         "0.0037720773714891164"
        ],
        [
         "2018-08-08 00:00:00",
         "-0.0025441770122445195",
         "7.000000000000001e-05",
         "-0.0006598917777483893",
         "-0.0026141770122445197",
         "-0.0007298917777483892"
        ],
        [
         "2018-08-13 00:00:00",
         "-0.006820061747341732",
         "7.000000000000001e-05",
         "-0.0053547523427042165",
         "-0.006890061747341732",
         "-0.005424752342704216"
        ],
        [
         "2018-08-14 00:00:00",
         "0.002029065283257525",
         "7.000000000000001e-05",
         "0.004710632570659623",
         "0.001959065283257525",
         "0.004640632570659623"
        ],
        [
         "2018-08-15 00:00:00",
         "-0.013167721094341722",
         "7.000000000000001e-05",
         "-0.01111855324849309",
         "-0.013237721094341723",
         "-0.011188553248493091"
        ]
       ],
       "shape": {
        "columns": 5,
        "rows": 539
       }
      },
      "text/html": [
       "<div>\n",
       "<style scoped>\n",
       "    .dataframe tbody tr th:only-of-type {\n",
       "        vertical-align: middle;\n",
       "    }\n",
       "\n",
       "    .dataframe tbody tr th {\n",
       "        vertical-align: top;\n",
       "    }\n",
       "\n",
       "    .dataframe thead th {\n",
       "        text-align: right;\n",
       "    }\n",
       "</style>\n",
       "<table border=\"1\" class=\"dataframe\">\n",
       "  <thead>\n",
       "    <tr style=\"text-align: right;\">\n",
       "      <th></th>\n",
       "      <th>rh_portfolio</th>\n",
       "      <th>rf</th>\n",
       "      <th>mkt</th>\n",
       "      <th>xr</th>\n",
       "      <th>xmkt</th>\n",
       "    </tr>\n",
       "  </thead>\n",
       "  <tbody>\n",
       "    <tr>\n",
       "      <th>2018-06-04</th>\n",
       "      <td>0.007979</td>\n",
       "      <td>0.00006</td>\n",
       "      <td>0.005061</td>\n",
       "      <td>0.007919</td>\n",
       "      <td>0.005001</td>\n",
       "    </tr>\n",
       "    <tr>\n",
       "      <th>2018-06-05</th>\n",
       "      <td>0.007667</td>\n",
       "      <td>0.00006</td>\n",
       "      <td>-0.000265</td>\n",
       "      <td>0.007607</td>\n",
       "      <td>-0.000325</td>\n",
       "    </tr>\n",
       "    <tr>\n",
       "      <th>2018-06-06</th>\n",
       "      <td>0.009567</td>\n",
       "      <td>0.00006</td>\n",
       "      <td>0.008749</td>\n",
       "      <td>0.009507</td>\n",
       "      <td>0.008689</td>\n",
       "    </tr>\n",
       "    <tr>\n",
       "      <th>2018-06-07</th>\n",
       "      <td>-0.004559</td>\n",
       "      <td>0.00006</td>\n",
       "      <td>-0.003417</td>\n",
       "      <td>-0.004619</td>\n",
       "      <td>-0.003477</td>\n",
       "    </tr>\n",
       "    <tr>\n",
       "      <th>2018-06-08</th>\n",
       "      <td>0.003475</td>\n",
       "      <td>0.00006</td>\n",
       "      <td>0.002242</td>\n",
       "      <td>0.003415</td>\n",
       "      <td>0.002182</td>\n",
       "    </tr>\n",
       "    <tr>\n",
       "      <th>...</th>\n",
       "      <td>...</td>\n",
       "      <td>...</td>\n",
       "      <td>...</td>\n",
       "      <td>...</td>\n",
       "      <td>...</td>\n",
       "    </tr>\n",
       "    <tr>\n",
       "      <th>2020-08-07</th>\n",
       "      <td>-0.003859</td>\n",
       "      <td>0.00000</td>\n",
       "      <td>-0.003458</td>\n",
       "      <td>-0.003859</td>\n",
       "      <td>-0.003458</td>\n",
       "    </tr>\n",
       "    <tr>\n",
       "      <th>2020-08-10</th>\n",
       "      <td>0.019014</td>\n",
       "      <td>0.00000</td>\n",
       "      <td>0.002726</td>\n",
       "      <td>0.019014</td>\n",
       "      <td>0.002726</td>\n",
       "    </tr>\n",
       "    <tr>\n",
       "      <th>2020-08-11</th>\n",
       "      <td>-0.019922</td>\n",
       "      <td>0.00000</td>\n",
       "      <td>-0.003090</td>\n",
       "      <td>-0.019922</td>\n",
       "      <td>-0.003090</td>\n",
       "    </tr>\n",
       "    <tr>\n",
       "      <th>2020-08-12</th>\n",
       "      <td>0.006672</td>\n",
       "      <td>0.00000</td>\n",
       "      <td>0.015001</td>\n",
       "      <td>0.006672</td>\n",
       "      <td>0.015001</td>\n",
       "    </tr>\n",
       "    <tr>\n",
       "      <th>2020-08-13</th>\n",
       "      <td>0.004269</td>\n",
       "      <td>0.00000</td>\n",
       "      <td>-0.002687</td>\n",
       "      <td>0.004269</td>\n",
       "      <td>-0.002687</td>\n",
       "    </tr>\n",
       "  </tbody>\n",
       "</table>\n",
       "<p>539 rows × 5 columns</p>\n",
       "</div>"
      ],
      "text/plain": [
       "            rh_portfolio       rf       mkt        xr      xmkt\n",
       "2018-06-04      0.007979  0.00006  0.005061  0.007919  0.005001\n",
       "2018-06-05      0.007667  0.00006 -0.000265  0.007607 -0.000325\n",
       "2018-06-06      0.009567  0.00006  0.008749  0.009507  0.008689\n",
       "2018-06-07     -0.004559  0.00006 -0.003417 -0.004619 -0.003477\n",
       "2018-06-08      0.003475  0.00006  0.002242  0.003415  0.002182\n",
       "...                  ...      ...       ...       ...       ...\n",
       "2020-08-07     -0.003859  0.00000 -0.003458 -0.003859 -0.003458\n",
       "2020-08-10      0.019014  0.00000  0.002726  0.019014  0.002726\n",
       "2020-08-11     -0.019922  0.00000 -0.003090 -0.019922 -0.003090\n",
       "2020-08-12      0.006672  0.00000  0.015001  0.006672  0.015001\n",
       "2020-08-13      0.004269  0.00000 -0.002687  0.004269 -0.002687\n",
       "\n",
       "[539 rows x 5 columns]"
      ]
     },
     "execution_count": 39,
     "metadata": {},
     "output_type": "execute_result"
    }
   ],
   "source": [
    "daily_factors"
   ]
  },
  {
   "cell_type": "code",
   "execution_count": 114,
   "id": "3e0ea73d",
   "metadata": {},
   "outputs": [
    {
     "name": "stdout",
     "output_type": "stream",
     "text": [
      "γ̂^GMM = 3.0715\n",
      "95% BCa CI = [0.9072, 19.8172]\n"
     ]
    },
    {
     "data": {
      "text/plain": [
       "{'gamma_estimate': np.float64(3.0714922378400455),\n",
       " 'ci_lower': np.float64(0.9072428346440041),\n",
       " 'ci_upper': np.float64(19.817195964133305),\n",
       " 'confidence_level': 0.95,\n",
       " 'n_resamples': 5000}"
      ]
     },
     "execution_count": 114,
     "metadata": {},
     "output_type": "execute_result"
    }
   ],
   "source": [
    "rt.bootstrap_gamma(daily_factors)"
   ]
  },
  {
   "cell_type": "code",
   "execution_count": 45,
   "id": "463d46c8",
   "metadata": {},
   "outputs": [
    {
     "data": {
      "image/png": "[encoded data removed]",
      "text/plain": [
       "<Figure size 1400x600 with 2 Axes>"
      ]
     },
     "metadata": {},
     "output_type": "display_data"
    },
    {
     "data": {
      "text/plain": [
       "np.True_"
      ]
     },
     "execution_count": 45,
     "metadata": {},
     "output_type": "execute_result"
    }
   ],
   "source": [
    "from src.visuals.plotter import Plotter, ReturnSeries\n",
    "\n",
    "\n",
    "plotter = Plotter([ReturnSeries(label=\"GMM\", df=daily_factors, horizons=[])])\n",
    "plotter.plot_ssd_comparison(daily_factors[\"mkt\"], daily_factors[\"rh_portfolio\"], \"Market\", \"Robinhood\")"
   ]
  }
 ],
 "metadata": {
  "kernelspec": {
   "display_name": "venv",
   "language": "python",
   "name": "python3"
  },
  "language_info": {
   "codemirror_mode": {
    "name": "ipython",
    "version": 3
   },
   "file_extension": ".py",
   "mimetype": "text/x-python",
   "name": "python",
   "nbconvert_exporter": "python",
   "pygments_lexer": "ipython3",
   "version": "3.11.1"
  }
 },
 "nbformat": 4,
 "nbformat_minor": 5
}
