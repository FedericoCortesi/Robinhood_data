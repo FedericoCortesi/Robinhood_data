{
 "cells": [
  {
   "cell_type": "code",
   "execution_count": 1,
   "id": "c44be699",
   "metadata": {},
   "outputs": [],
   "source": [
    "%load_ext autoreload\n",
    "%autoreload 2"
   ]
  },
  {
   "cell_type": "code",
   "execution_count": 2,
   "id": "f0909e6a",
   "metadata": {},
   "outputs": [],
   "source": [
    "import logging\n",
    "from src.utils.custom_formatter import setup_custom_logger\n",
    "logger = setup_custom_logger(__name__, level=logging.DEBUG)"
   ]
  },
  {
   "cell_type": "markdown",
   "id": "2a40624f",
   "metadata": {},
   "source": [
    "- Load dataset to have actual returns and market returns"
   ]
  },
  {
   "cell_type": "code",
   "execution_count": 3,
   "id": "149393dd",
   "metadata": {},
   "outputs": [
    {
     "name": "stderr",
     "output_type": "stream",
     "text": [
      "\u001b[38;20m2025-04-30 20:41:30,778 - src.analyzer - INFO - ############################## Analysis Started ############################## (analyzer.py:80)\u001b[0m\n",
      "\u001b[33;20m2025-04-30 20:41:39,801 - src.analyzer - WARNING - Empty dataframe produced for tickers: [] (analyzer.py:172)\u001b[0m\n"
     ]
    },
    {
     "data": {
      "application/vnd.microsoft.datawrangler.viewer.v0+json": {
       "columns": [
        {
         "name": "date",
         "rawType": "datetime64[ns]",
         "type": "datetime"
        },
        {
         "name": "rh_portfolio",
         "rawType": "float64",
         "type": "float"
        }
       ],
       "conversionMethod": "pd.DataFrame",
       "ref": "9a21af7e-f31b-4180-bc03-b83ce362aafa",
       "rows": [
        [
         "2018-05-03 00:00:00",
         "-0.6027449786679018"
        ],
        [
         "2018-05-04 00:00:00",
         "1.6831617379601482"
        ],
        [
         "2018-05-07 00:00:00",
         "0.8523299198677892"
        ],
        [
         "2018-05-08 00:00:00",
         "0.4133298025815524"
        ],
        [
         "2018-05-09 00:00:00",
         "1.028846300932429"
        ],
        [
         "2018-05-10 00:00:00",
         "0.7781732131851404"
        ],
        [
         "2018-05-11 00:00:00",
         "0.09818888909871593"
        ],
        [
         "2018-05-14 00:00:00",
         "0.3002320307563533"
        ],
        [
         "2018-05-15 00:00:00",
         "-0.40252147169371755"
        ],
        [
         "2018-05-16 00:00:00",
         "0.789473793117712"
        ],
        [
         "2018-05-17 00:00:00",
         "-0.03640765398689183"
        ],
        [
         "2018-05-18 00:00:00",
         "-0.41107704837265446"
        ],
        [
         "2018-05-21 00:00:00",
         "0.6725534946249834"
        ],
        [
         "2018-05-22 00:00:00",
         "-0.44496890300599334"
        ],
        [
         "2018-05-23 00:00:00",
         "0.3724844129062932"
        ],
        [
         "2018-05-24 00:00:00",
         "0.16800753381884803"
        ],
        [
         "2018-05-25 00:00:00",
         "-0.0055948595419574865"
        ],
        [
         "2018-05-29 00:00:00",
         "-0.575179581107732"
        ],
        [
         "2018-05-30 00:00:00",
         "1.2817397749160797"
        ],
        [
         "2018-05-31 00:00:00",
         "-0.3325931212497468"
        ],
        [
         "2018-06-01 00:00:00",
         "1.2836946964869922"
        ],
        [
         "2018-06-04 00:00:00",
         "0.79789566275974"
        ],
        [
         "2018-06-05 00:00:00",
         "0.766696692467006"
        ],
        [
         "2018-06-06 00:00:00",
         "0.9566548392276664"
        ],
        [
         "2018-06-07 00:00:00",
         "-0.4559101860602599"
        ],
        [
         "2018-06-08 00:00:00",
         "0.347463104253376"
        ],
        [
         "2018-06-11 00:00:00",
         "0.7348001542567539"
        ],
        [
         "2018-06-12 00:00:00",
         "0.8143432564813979"
        ],
        [
         "2018-06-13 00:00:00",
         "-0.06753245415543896"
        ],
        [
         "2018-06-14 00:00:00",
         "0.6711715280115271"
        ],
        [
         "2018-06-15 00:00:00",
         "-0.2619219740046863"
        ],
        [
         "2018-06-18 00:00:00",
         "0.7453900335855135"
        ],
        [
         "2018-06-19 00:00:00",
         "-0.8453917133883215"
        ],
        [
         "2018-06-20 00:00:00",
         "0.6229305711595634"
        ],
        [
         "2018-06-21 00:00:00",
         "-1.2924797996134996"
        ],
        [
         "2018-06-22 00:00:00",
         "0.00817064834173209"
        ],
        [
         "2018-06-25 00:00:00",
         "-2.4453559779373912"
        ],
        [
         "2018-06-26 00:00:00",
         "0.9528151591860823"
        ],
        [
         "2018-06-27 00:00:00",
         "-1.6147218561460175"
        ],
        [
         "2018-06-28 00:00:00",
         "0.8589124451778174"
        ],
        [
         "2018-06-29 00:00:00",
         "-0.26402925176266523"
        ],
        [
         "2018-07-02 00:00:00",
         "0.6406424636631991"
        ],
        [
         "2018-07-03 00:00:00",
         "-0.5458134053743846"
        ],
        [
         "2018-07-05 00:00:00",
         "0.9993596198057286"
        ],
        [
         "2018-07-06 00:00:00",
         "1.311566459557123"
        ],
        [
         "2018-07-09 00:00:00",
         "0.8808136421405655"
        ],
        [
         "2018-07-10 00:00:00",
         "-0.2225900378629797"
        ],
        [
         "2018-07-11 00:00:00",
         "-0.8315717168457026"
        ],
        [
         "2018-07-12 00:00:00",
         "1.1374871766059558"
        ],
        [
         "2018-07-13 00:00:00",
         "-0.2422676417241698"
        ]
       ],
       "shape": {
        "columns": 1,
        "rows": 429
       }
      },
      "text/html": [
       "<div>\n",
       "<style scoped>\n",
       "    .dataframe tbody tr th:only-of-type {\n",
       "        vertical-align: middle;\n",
       "    }\n",
       "\n",
       "    .dataframe tbody tr th {\n",
       "        vertical-align: top;\n",
       "    }\n",
       "\n",
       "    .dataframe thead th {\n",
       "        text-align: right;\n",
       "    }\n",
       "</style>\n",
       "<table border=\"1\" class=\"dataframe\">\n",
       "  <thead>\n",
       "    <tr style=\"text-align: right;\">\n",
       "      <th></th>\n",
       "      <th>rh_portfolio</th>\n",
       "    </tr>\n",
       "    <tr>\n",
       "      <th>date</th>\n",
       "      <th></th>\n",
       "    </tr>\n",
       "  </thead>\n",
       "  <tbody>\n",
       "    <tr>\n",
       "      <th>2018-05-03</th>\n",
       "      <td>-0.602745</td>\n",
       "    </tr>\n",
       "    <tr>\n",
       "      <th>2018-05-04</th>\n",
       "      <td>1.683162</td>\n",
       "    </tr>\n",
       "    <tr>\n",
       "      <th>2018-05-07</th>\n",
       "      <td>0.852330</td>\n",
       "    </tr>\n",
       "    <tr>\n",
       "      <th>2018-05-08</th>\n",
       "      <td>0.413330</td>\n",
       "    </tr>\n",
       "    <tr>\n",
       "      <th>2018-05-09</th>\n",
       "      <td>1.028846</td>\n",
       "    </tr>\n",
       "    <tr>\n",
       "      <th>...</th>\n",
       "      <td>...</td>\n",
       "    </tr>\n",
       "    <tr>\n",
       "      <th>2020-01-28</th>\n",
       "      <td>1.713913</td>\n",
       "    </tr>\n",
       "    <tr>\n",
       "      <th>2020-01-29</th>\n",
       "      <td>-0.579647</td>\n",
       "    </tr>\n",
       "    <tr>\n",
       "      <th>2020-01-30</th>\n",
       "      <td>-0.322621</td>\n",
       "    </tr>\n",
       "    <tr>\n",
       "      <th>2020-01-31</th>\n",
       "      <td>-1.829561</td>\n",
       "    </tr>\n",
       "    <tr>\n",
       "      <th>2020-02-03</th>\n",
       "      <td>1.156818</td>\n",
       "    </tr>\n",
       "  </tbody>\n",
       "</table>\n",
       "<p>429 rows × 1 columns</p>\n",
       "</div>"
      ],
      "text/plain": [
       "            rh_portfolio\n",
       "date                    \n",
       "2018-05-03     -0.602745\n",
       "2018-05-04      1.683162\n",
       "2018-05-07      0.852330\n",
       "2018-05-08      0.413330\n",
       "2018-05-09      1.028846\n",
       "...                  ...\n",
       "2020-01-28      1.713913\n",
       "2020-01-29     -0.579647\n",
       "2020-01-30     -0.322621\n",
       "2020-01-31     -1.829561\n",
       "2020-02-03      1.156818\n",
       "\n",
       "[429 rows x 1 columns]"
      ]
     },
     "execution_count": 3,
     "metadata": {},
     "output_type": "execute_result"
    }
   ],
   "source": [
    "from src import Analyzer\n",
    "from src.utils.params import ReturnParams\n",
    "\n",
    "import numpy as np\n",
    "\n",
    "return_params = ReturnParams(\n",
    "    horizons={},  \n",
    "    start_date=None,\n",
    "    end_date=\"2020-02-03\",\n",
    "    cumulative=False,\n",
    "    append_start=False\n",
    ")\n",
    "\n",
    "an = Analyzer(compare_tickers=[], return_params=return_params, stocks_only=False, weights_application=\"wealth\", dl_kwargs={\"weights_method\":\"dollar\"})\n",
    "\n",
    "\n",
    "ret, hor = an.build_returns()\n",
    "\n",
    "ret = (np.exp(ret) -1)*100\n",
    "ret"
   ]
  },
  {
   "cell_type": "code",
   "execution_count": 4,
   "id": "a4359e74",
   "metadata": {},
   "outputs": [
    {
     "data": {
      "application/vnd.microsoft.datawrangler.viewer.v0+json": {
       "columns": [
        {
         "name": "index",
         "rawType": "datetime64[ns]",
         "type": "datetime"
        },
        {
         "name": "xr",
         "rawType": "float64",
         "type": "float"
        },
        {
         "name": "xmkt",
         "rawType": "float64",
         "type": "float"
        }
       ],
       "conversionMethod": "pd.DataFrame",
       "ref": "806e648e-e528-40e6-92a9-4e65df697f20",
       "rows": [
        [
         "2018-06-04 00:00:00",
         "1.0079189566275975",
         "1.0048"
        ],
        [
         "2018-06-05 00:00:00",
         "1.0076069669246701",
         "1.0016"
        ],
        [
         "2018-06-06 00:00:00",
         "1.0095065483922767",
         "1.0086"
        ],
        [
         "2018-06-07 00:00:00",
         "0.9953808981393975",
         "0.9986"
        ],
        [
         "2018-06-08 00:00:00",
         "1.0034146310425338",
         "1.0031"
        ],
        [
         "2018-06-11 00:00:00",
         "1.0072880015425676",
         "1.0012"
        ],
        [
         "2018-06-12 00:00:00",
         "1.008083432564814",
         "1.0023"
        ],
        [
         "2018-06-13 00:00:00",
         "0.9992646754584457",
         "0.9967"
        ],
        [
         "2018-06-14 00:00:00",
         "1.0066517152801153",
         "1.0027"
        ],
        [
         "2018-06-15 00:00:00",
         "0.9973207802599532",
         "0.9992"
        ],
        [
         "2018-06-18 00:00:00",
         "1.0073939003358552",
         "0.9991"
        ],
        [
         "2018-06-19 00:00:00",
         "0.9914860828661168",
         "0.9962"
        ],
        [
         "2018-06-20 00:00:00",
         "1.0061693057115957",
         "1.0023"
        ],
        [
         "2018-06-21 00:00:00",
         "0.987015202003865",
         "0.9927"
        ],
        [
         "2018-06-22 00:00:00",
         "1.0000217064834174",
         "1.0011"
        ],
        [
         "2018-06-25 00:00:00",
         "0.9754864402206261",
         "0.9852"
        ],
        [
         "2018-06-26 00:00:00",
         "1.0094681515918609",
         "1.0027"
        ],
        [
         "2018-06-27 00:00:00",
         "0.9837927814385399",
         "0.9898"
        ],
        [
         "2018-06-28 00:00:00",
         "1.0085291244517782",
         "1.0058"
        ],
        [
         "2018-06-29 00:00:00",
         "0.9972997074823734",
         "1.0007"
        ],
        [
         "2018-07-02 00:00:00",
         "1.006326424636632",
         "1.0036"
        ],
        [
         "2018-07-03 00:00:00",
         "0.9944618659462562",
         "0.9956"
        ],
        [
         "2018-07-05 00:00:00",
         "1.0099135961980572",
         "1.0087"
        ],
        [
         "2018-07-06 00:00:00",
         "1.0130356645955712",
         "1.0088"
        ],
        [
         "2018-07-09 00:00:00",
         "1.0087281364214056",
         "1.0093"
        ],
        [
         "2018-07-10 00:00:00",
         "0.9976940996213702",
         "1.0021"
        ],
        [
         "2018-07-11 00:00:00",
         "0.991604282831543",
         "0.9931"
        ],
        [
         "2018-07-12 00:00:00",
         "1.0112948717660595",
         "1.0086"
        ],
        [
         "2018-07-13 00:00:00",
         "0.9974973235827583",
         "1.0008"
        ],
        [
         "2018-07-16 00:00:00",
         "0.9957604907886554",
         "0.9984"
        ],
        [
         "2018-07-17 00:00:00",
         "1.005770137202771",
         "1.0048"
        ],
        [
         "2018-07-18 00:00:00",
         "0.9992596816735199",
         "1.0027"
        ],
        [
         "2018-07-19 00:00:00",
         "0.9970501403849312",
         "0.9966"
        ],
        [
         "2018-07-20 00:00:00",
         "0.992408682141699",
         "0.999"
        ],
        [
         "2018-07-23 00:00:00",
         "0.9996782150207657",
         "1.0015"
        ],
        [
         "2018-07-24 00:00:00",
         "0.9937482896567358",
         "1.0022"
        ],
        [
         "2018-07-25 00:00:00",
         "1.0105605067366945",
         "1.0083"
        ],
        [
         "2018-07-26 00:00:00",
         "0.9974471645621661",
         "0.998"
        ],
        [
         "2018-07-27 00:00:00",
         "0.9818924660105124",
         "0.9918"
        ],
        [
         "2018-07-30 00:00:00",
         "0.9861145116712784",
         "0.993"
        ],
        [
         "2018-07-31 00:00:00",
         "1.0063507356778019",
         "1.0051"
        ],
        [
         "2018-08-01 00:00:00",
         "1.000479039029362",
         "0.9987"
        ],
        [
         "2018-08-02 00:00:00",
         "1.0088083981067797",
         "1.0067"
        ],
        [
         "2018-08-03 00:00:00",
         "1.001271850232699",
         "1.0031"
        ],
        [
         "2018-08-06 00:00:00",
         "1.0064692943202025",
         "1.0046"
        ],
        [
         "2018-08-07 00:00:00",
         "1.00322523691758",
         "1.0029"
        ],
        [
         "2018-08-08 00:00:00",
         "0.9973858229877555",
         "0.9996"
        ],
        [
         "2018-08-13 00:00:00",
         "0.9931099382526583",
         "0.9954"
        ],
        [
         "2018-08-14 00:00:00",
         "1.0019590652832575",
         "1.0069"
        ],
        [
         "2018-08-15 00:00:00",
         "0.9867622789056583",
         "0.9909"
        ]
       ],
       "shape": {
        "columns": 2,
        "rows": 405
       }
      },
      "text/html": [
       "<div>\n",
       "<style scoped>\n",
       "    .dataframe tbody tr th:only-of-type {\n",
       "        vertical-align: middle;\n",
       "    }\n",
       "\n",
       "    .dataframe tbody tr th {\n",
       "        vertical-align: top;\n",
       "    }\n",
       "\n",
       "    .dataframe thead th {\n",
       "        text-align: right;\n",
       "    }\n",
       "</style>\n",
       "<table border=\"1\" class=\"dataframe\">\n",
       "  <thead>\n",
       "    <tr style=\"text-align: right;\">\n",
       "      <th></th>\n",
       "      <th>xr</th>\n",
       "      <th>xmkt</th>\n",
       "    </tr>\n",
       "  </thead>\n",
       "  <tbody>\n",
       "    <tr>\n",
       "      <th>2018-06-04</th>\n",
       "      <td>1.007919</td>\n",
       "      <td>1.0048</td>\n",
       "    </tr>\n",
       "    <tr>\n",
       "      <th>2018-06-05</th>\n",
       "      <td>1.007607</td>\n",
       "      <td>1.0016</td>\n",
       "    </tr>\n",
       "    <tr>\n",
       "      <th>2018-06-06</th>\n",
       "      <td>1.009507</td>\n",
       "      <td>1.0086</td>\n",
       "    </tr>\n",
       "    <tr>\n",
       "      <th>2018-06-07</th>\n",
       "      <td>0.995381</td>\n",
       "      <td>0.9986</td>\n",
       "    </tr>\n",
       "    <tr>\n",
       "      <th>2018-06-08</th>\n",
       "      <td>1.003415</td>\n",
       "      <td>1.0031</td>\n",
       "    </tr>\n",
       "    <tr>\n",
       "      <th>...</th>\n",
       "      <td>...</td>\n",
       "      <td>...</td>\n",
       "    </tr>\n",
       "    <tr>\n",
       "      <th>2020-01-28</th>\n",
       "      <td>1.017079</td>\n",
       "      <td>1.0102</td>\n",
       "    </tr>\n",
       "    <tr>\n",
       "      <th>2020-01-29</th>\n",
       "      <td>0.994144</td>\n",
       "      <td>0.9990</td>\n",
       "    </tr>\n",
       "    <tr>\n",
       "      <th>2020-01-30</th>\n",
       "      <td>0.996714</td>\n",
       "      <td>1.0034</td>\n",
       "    </tr>\n",
       "    <tr>\n",
       "      <th>2020-01-31</th>\n",
       "      <td>0.981644</td>\n",
       "      <td>0.9826</td>\n",
       "    </tr>\n",
       "    <tr>\n",
       "      <th>2020-02-03</th>\n",
       "      <td>1.011508</td>\n",
       "      <td>1.0084</td>\n",
       "    </tr>\n",
       "  </tbody>\n",
       "</table>\n",
       "<p>405 rows × 2 columns</p>\n",
       "</div>"
      ],
      "text/plain": [
       "                  xr    xmkt\n",
       "2018-06-04  1.007919  1.0048\n",
       "2018-06-05  1.007607  1.0016\n",
       "2018-06-06  1.009507  1.0086\n",
       "2018-06-07  0.995381  0.9986\n",
       "2018-06-08  1.003415  1.0031\n",
       "...              ...     ...\n",
       "2020-01-28  1.017079  1.0102\n",
       "2020-01-29  0.994144  0.9990\n",
       "2020-01-30  0.996714  1.0034\n",
       "2020-01-31  0.981644  0.9826\n",
       "2020-02-03  1.011508  1.0084\n",
       "\n",
       "[405 rows x 2 columns]"
      ]
     },
     "execution_count": 4,
     "metadata": {},
     "output_type": "execute_result"
    }
   ],
   "source": [
    "import pandas as pd\n",
    "from config.constants import PROJECT_ROOT\n",
    "\n",
    "daily_factors = pd.read_csv(f\"{PROJECT_ROOT}/jf-datashare/gabriel-cuevas/data/18_rwarh_d_1.csv\", index_col=0)\n",
    "daily_factors.index = pd.to_datetime(daily_factors.index, format=\"%Y%m%d\")\n",
    "daily_factors[[\"pfioret100\", \"xmkt\", \"rf\"]]\n",
    "\n",
    "\n",
    "\n",
    "daily_factors = daily_factors.merge(ret[\"rh_portfolio\"], left_index=True, right_index=True, how=\"inner\")\n",
    "daily_factors /= 100 \n",
    "\n",
    "daily_factors[\"xr\"] = daily_factors[\"rh_portfolio\"] - daily_factors[\"rf\"]\n",
    "daily_factors += 1\n",
    "\n",
    "daily_factors = daily_factors[[\"xr\", \"xmkt\"]]\n",
    "daily_factors\n"
   ]
  },
  {
   "cell_type": "code",
   "execution_count": 5,
   "id": "de74912f",
   "metadata": {},
   "outputs": [
    {
     "data": {
      "application/vnd.microsoft.datawrangler.viewer.v0+json": {
       "columns": [
        {
         "name": "index",
         "rawType": "datetime64[ns]",
         "type": "datetime"
        },
        {
         "name": "xr",
         "rawType": "float64",
         "type": "float"
        },
        {
         "name": "xmkt",
         "rawType": "float64",
         "type": "float"
        }
       ],
       "conversionMethod": "pd.DataFrame",
       "ref": "9184e873-2c49-404b-813e-9bc14de3eb95",
       "rows": [
        [
         "2018-06-30 00:00:00",
         "1.0082362896506436",
         "0.9941279328539568"
        ],
        [
         "2018-07-31 00:00:00",
         "0.9958741922341571",
         "1.0321743998803463"
        ],
        [
         "2018-08-31 00:00:00",
         "1.0709415854701694",
         "1.0411841968307067"
        ],
        [
         "2018-09-30 00:00:00",
         "1.0060361338504018",
         "1.0008710142474015"
        ],
        [
         "2018-10-31 00:00:00",
         "0.8931393230040328",
         "0.923332636181443"
        ],
        [
         "2018-11-30 00:00:00",
         "0.9999904521203391",
         "1.0169959335867849"
        ],
        [
         "2018-12-31 00:00:00",
         "0.8906038147843354",
         "0.9047173998749777"
        ],
        [
         "2019-01-31 00:00:00",
         "1.131084229407665",
         "1.0664207623398392"
        ],
        [
         "2019-02-28 00:00:00",
         "1.0549404735304615",
         "1.0338776256185285"
        ],
        [
         "2019-03-31 00:00:00",
         "1.0088456662405567",
         "1.0108077323315248"
        ],
        [
         "2019-04-30 00:00:00",
         "1.0284592520480313",
         "1.0394409307905605"
        ],
        [
         "2019-05-31 00:00:00",
         "0.9073716078755323",
         "0.9307417626581141"
        ],
        [
         "2019-06-30 00:00:00",
         "1.069796469884897",
         "1.0694033714025206"
        ],
        [
         "2019-07-31 00:00:00",
         "0.9836477071211068",
         "1.0122592781266846"
        ],
        [
         "2019-08-31 00:00:00",
         "0.9333254981407565",
         "0.9744240598985753"
        ],
        [
         "2019-09-30 00:00:00",
         "0.9915085771544249",
         "1.0141291896377103"
        ],
        [
         "2019-10-31 00:00:00",
         "1.002177359153638",
         "1.0206134485108098"
        ],
        [
         "2019-11-30 00:00:00",
         "1.030156210268638",
         "1.0387516490201925"
        ],
        [
         "2019-12-31 00:00:00",
         "1.0385825431834488",
         "1.027623501156025"
        ],
        [
         "2020-01-31 00:00:00",
         "0.9575302570669055",
         "0.9764254552612704"
        ],
        [
         "2020-02-29 00:00:00",
         "1.011508176393569",
         "1.0084"
        ]
       ],
       "shape": {
        "columns": 2,
        "rows": 21
       }
      },
      "text/html": [
       "<div>\n",
       "<style scoped>\n",
       "    .dataframe tbody tr th:only-of-type {\n",
       "        vertical-align: middle;\n",
       "    }\n",
       "\n",
       "    .dataframe tbody tr th {\n",
       "        vertical-align: top;\n",
       "    }\n",
       "\n",
       "    .dataframe thead th {\n",
       "        text-align: right;\n",
       "    }\n",
       "</style>\n",
       "<table border=\"1\" class=\"dataframe\">\n",
       "  <thead>\n",
       "    <tr style=\"text-align: right;\">\n",
       "      <th></th>\n",
       "      <th>xr</th>\n",
       "      <th>xmkt</th>\n",
       "    </tr>\n",
       "  </thead>\n",
       "  <tbody>\n",
       "    <tr>\n",
       "      <th>2018-06-30</th>\n",
       "      <td>1.008236</td>\n",
       "      <td>0.994128</td>\n",
       "    </tr>\n",
       "    <tr>\n",
       "      <th>2018-07-31</th>\n",
       "      <td>0.995874</td>\n",
       "      <td>1.032174</td>\n",
       "    </tr>\n",
       "    <tr>\n",
       "      <th>2018-08-31</th>\n",
       "      <td>1.070942</td>\n",
       "      <td>1.041184</td>\n",
       "    </tr>\n",
       "    <tr>\n",
       "      <th>2018-09-30</th>\n",
       "      <td>1.006036</td>\n",
       "      <td>1.000871</td>\n",
       "    </tr>\n",
       "    <tr>\n",
       "      <th>2018-10-31</th>\n",
       "      <td>0.893139</td>\n",
       "      <td>0.923333</td>\n",
       "    </tr>\n",
       "    <tr>\n",
       "      <th>2018-11-30</th>\n",
       "      <td>0.999990</td>\n",
       "      <td>1.016996</td>\n",
       "    </tr>\n",
       "    <tr>\n",
       "      <th>2018-12-31</th>\n",
       "      <td>0.890604</td>\n",
       "      <td>0.904717</td>\n",
       "    </tr>\n",
       "    <tr>\n",
       "      <th>2019-01-31</th>\n",
       "      <td>1.131084</td>\n",
       "      <td>1.066421</td>\n",
       "    </tr>\n",
       "    <tr>\n",
       "      <th>2019-02-28</th>\n",
       "      <td>1.054940</td>\n",
       "      <td>1.033878</td>\n",
       "    </tr>\n",
       "    <tr>\n",
       "      <th>2019-03-31</th>\n",
       "      <td>1.008846</td>\n",
       "      <td>1.010808</td>\n",
       "    </tr>\n",
       "    <tr>\n",
       "      <th>2019-04-30</th>\n",
       "      <td>1.028459</td>\n",
       "      <td>1.039441</td>\n",
       "    </tr>\n",
       "    <tr>\n",
       "      <th>2019-05-31</th>\n",
       "      <td>0.907372</td>\n",
       "      <td>0.930742</td>\n",
       "    </tr>\n",
       "    <tr>\n",
       "      <th>2019-06-30</th>\n",
       "      <td>1.069796</td>\n",
       "      <td>1.069403</td>\n",
       "    </tr>\n",
       "    <tr>\n",
       "      <th>2019-07-31</th>\n",
       "      <td>0.983648</td>\n",
       "      <td>1.012259</td>\n",
       "    </tr>\n",
       "    <tr>\n",
       "      <th>2019-08-31</th>\n",
       "      <td>0.933325</td>\n",
       "      <td>0.974424</td>\n",
       "    </tr>\n",
       "    <tr>\n",
       "      <th>2019-09-30</th>\n",
       "      <td>0.991509</td>\n",
       "      <td>1.014129</td>\n",
       "    </tr>\n",
       "    <tr>\n",
       "      <th>2019-10-31</th>\n",
       "      <td>1.002177</td>\n",
       "      <td>1.020613</td>\n",
       "    </tr>\n",
       "    <tr>\n",
       "      <th>2019-11-30</th>\n",
       "      <td>1.030156</td>\n",
       "      <td>1.038752</td>\n",
       "    </tr>\n",
       "    <tr>\n",
       "      <th>2019-12-31</th>\n",
       "      <td>1.038583</td>\n",
       "      <td>1.027624</td>\n",
       "    </tr>\n",
       "    <tr>\n",
       "      <th>2020-01-31</th>\n",
       "      <td>0.957530</td>\n",
       "      <td>0.976425</td>\n",
       "    </tr>\n",
       "    <tr>\n",
       "      <th>2020-02-29</th>\n",
       "      <td>1.011508</td>\n",
       "      <td>1.008400</td>\n",
       "    </tr>\n",
       "  </tbody>\n",
       "</table>\n",
       "</div>"
      ],
      "text/plain": [
       "                  xr      xmkt\n",
       "2018-06-30  1.008236  0.994128\n",
       "2018-07-31  0.995874  1.032174\n",
       "2018-08-31  1.070942  1.041184\n",
       "2018-09-30  1.006036  1.000871\n",
       "2018-10-31  0.893139  0.923333\n",
       "2018-11-30  0.999990  1.016996\n",
       "2018-12-31  0.890604  0.904717\n",
       "2019-01-31  1.131084  1.066421\n",
       "2019-02-28  1.054940  1.033878\n",
       "2019-03-31  1.008846  1.010808\n",
       "2019-04-30  1.028459  1.039441\n",
       "2019-05-31  0.907372  0.930742\n",
       "2019-06-30  1.069796  1.069403\n",
       "2019-07-31  0.983648  1.012259\n",
       "2019-08-31  0.933325  0.974424\n",
       "2019-09-30  0.991509  1.014129\n",
       "2019-10-31  1.002177  1.020613\n",
       "2019-11-30  1.030156  1.038752\n",
       "2019-12-31  1.038583  1.027624\n",
       "2020-01-31  0.957530  0.976425\n",
       "2020-02-29  1.011508  1.008400"
      ]
     },
     "execution_count": 5,
     "metadata": {},
     "output_type": "execute_result"
    }
   ],
   "source": [
    "#monthly_factors = pd.read_csv(f\"{PROJECT_ROOT}/jf-datashare/gabriel-cuevas/data/20_rwarh_m_1.csv\", index_col=0)\n",
    "#monthly_factors[\"xr\"] = monthly_factors[\"pfioret100\"] - monthly_factors[\"rf\"]\n",
    "#monthly_factors = monthly_factors[[\"xr\", \"xmkt\"]]\n",
    "#monthly_factors.index = pd.to_datetime(monthly_factors.index, format=\"%Y%m\")\n",
    "monthly_returns = (daily_factors).resample(\"M\").prod() - 1\n",
    "monthly_returns += 1\n",
    "monthly_returns\n",
    "\n"
   ]
  },
  {
   "cell_type": "code",
   "execution_count": 6,
   "id": "3a7fd741",
   "metadata": {},
   "outputs": [
    {
     "name": "stdout",
     "output_type": "stream",
     "text": [
      "Gamma: -7.0344\n"
     ]
    },
    {
     "data": {
      "image/png": "[encoded data removed]",
      "text/plain": [
       "<Figure size 1800x1000 with 1 Axes>"
      ]
     },
     "metadata": {},
     "output_type": "display_data"
    }
   ],
   "source": [
    "from src.utils.metrics import find_gamma_certainty_equivalent, paramteric_expected_utility_crra, compute_crra_utility\n",
    "\n",
    "\n",
    "df = monthly_returns\n",
    "parametric = False\n",
    "\n",
    "\n",
    "\n",
    "import numpy as np\n",
    "import matplotlib.pyplot as plt\n",
    "\n",
    "# keep the scalar returned by the CE condition\n",
    "gamma_hat = find_gamma_certainty_equivalent(df[\"xr\"],\n",
    "                                            df[\"xmkt\"],\n",
    "                                            parametric=parametric)\n",
    "\n",
    "print(f\"Gamma: {gamma_hat:.4f}\")\n",
    "\n",
    "gap = 5\n",
    "gammas = np.linspace(-11, 11, 1000)\n",
    "\n",
    "if parametric:\n",
    "    utilities_xr   = [paramteric_expected_utility_crra(g, df[\"xr\"].values)   for g in gammas]\n",
    "    utilities_xmkt = [paramteric_expected_utility_crra(g, df[\"xmkt\"].values) for g in gammas]\n",
    "    plt.figure(figsize=(10, 6))\n",
    "    plt.plot(gammas, utilities_xr,   label='Portfolio')\n",
    "    plt.plot(gammas, utilities_xmkt, label='Market')\n",
    "    plt.axvline(gamma_hat, color='red', linestyle='--', alpha=0.6,\n",
    "                label=f'γ* = {gamma_hat:.3f}')\n",
    "    plt.xlabel('Gamma (relative risk-aversion parameter)')\n",
    "    plt.ylabel('Expected CRRA utility')\n",
    "    plt.title('Expected utility as a function of gamma')\n",
    "    plt.legend()\n",
    "    plt.grid(True)\n",
    "    plt.show()\n",
    "else:\n",
    "    utilities_xr   = [compute_crra_utility(df[\"xr\"],   g, confint=True) for g in gammas]\n",
    "    utilities_xmkt = [compute_crra_utility(df[\"xmkt\"], g, confint=True) for g in gammas]\n",
    "\n",
    "    means_xr, lo_xr, hi_xr = zip(*utilities_xr)\n",
    "    means_mk, lo_mk, hi_mk = zip(*utilities_xmkt)\n",
    "\n",
    "    # Plot\n",
    "    import matplotlib.pyplot as plt\n",
    "\n",
    "    plt.figure(figsize=(18,10))\n",
    "    plt.plot(gammas, means_xr, label='XR mean utility', color='C0')\n",
    "    plt.fill_between(gammas, lo_xr, hi_xr, color='C0', alpha=0.2)\n",
    "\n",
    "    plt.plot(gammas, means_mk, label='MKT mean utility', color='C1')\n",
    "    plt.fill_between(gammas, lo_mk, hi_mk, color='C1', alpha=0.2)\n",
    "\n",
    "    plt.axvline(gamma_hat, color='red', linestyle='--', label=f'γ* = {gamma_hat:.2f}')\n",
    "    plt.xlabel('Gamma')\n",
    "    plt.xlim((-10,10))\n",
    "    plt.ylabel('Expected utility')\n",
    "    plt.title('Expected utility vs gamma with 95% CI')\n",
    "    plt.legend()\n",
    "    plt.grid(True)\n",
    "    plt.show()\n",
    "\n",
    "\n"
   ]
  },
  {
   "cell_type": "markdown",
   "id": "98841972",
   "metadata": {},
   "source": [
    "### All possible timeframes"
   ]
  },
  {
   "cell_type": "code",
   "execution_count": 1,
   "id": "b1084ca4",
   "metadata": {},
   "outputs": [],
   "source": [
    "%load_ext autoreload\n",
    "%autoreload 2"
   ]
  },
  {
   "cell_type": "code",
   "execution_count": 44,
   "id": "d1561ffa",
   "metadata": {},
   "outputs": [
    {
     "name": "stderr",
     "output_type": "stream",
     "text": [
      "\u001b[38;20m2025-05-02 12:41:07,298 - src.analyzer - INFO - ############################## Analysis Started ############################## (analyzer.py:80)\u001b[0m\n",
      "\u001b[33;20m2025-05-02 12:41:13,687 - src.analyzer - WARNING - Empty dataframe produced for tickers: [] (analyzer.py:172)\u001b[0m\n"
     ]
    }
   ],
   "source": [
    "from src import Analyzer\n",
    "from src import RiskTests\n",
    "from src.utils.params import ReturnParams\n",
    "\n",
    "return_params = ReturnParams(\n",
    "    horizons={},  \n",
    "    start_date=None,\n",
    "#    end_date=\"2020-02-03\",\n",
    "    cumulative=False,\n",
    "    append_start=False\n",
    ")\n",
    "\n",
    "an = Analyzer(compare_tickers=[], return_params=return_params, stocks_only=False, weights_application=\"number\", dl_kwargs={\"weights_method\":\"dollar\"})\n",
    "\n",
    "\n",
    "rt = RiskTests(an)\n",
    "\n"
   ]
  },
  {
   "cell_type": "code",
   "execution_count": 45,
   "id": "44216ac8",
   "metadata": {},
   "outputs": [
    {
     "name": "stderr",
     "output_type": "stream",
     "text": [
      "100%|██████████| 144991/144991 [00:19<00:00, 7497.32it/s] \n"
     ]
    }
   ],
   "source": [
    "all_ret_df = rt.build_all_pairs_dataframe()\n"
   ]
  },
  {
   "cell_type": "code",
   "execution_count": 46,
   "id": "5a821b26",
   "metadata": {},
   "outputs": [
    {
     "name": "stdout",
     "output_type": "stream",
     "text": [
      "Gamma: -5.43728\n"
     ]
    },
    {
     "data": {
      "image/png": "[encoded data removed]",
      "text/plain": [
       "<Figure size 1800x1000 with 1 Axes>"
      ]
     },
     "metadata": {},
     "output_type": "display_data"
    },
    {
     "data": {
      "text/plain": [
       "np.float64(-5.437281299436248)"
      ]
     },
     "execution_count": 46,
     "metadata": {},
     "output_type": "execute_result"
    }
   ],
   "source": [
    "\n",
    "rt.find_cutoff_gamma(df_returns=all_ret_df-1)"
   ]
  },
  {
   "cell_type": "code",
   "execution_count": 33,
   "id": "03a587cb",
   "metadata": {},
   "outputs": [
    {
     "data": {
      "image/png": "[encoded data removed]",
      "text/plain": [
       "<Figure size 1400x600 with 2 Axes>"
      ]
     },
     "metadata": {},
     "output_type": "display_data"
    },
    {
     "data": {
      "text/plain": [
       "np.True_"
      ]
     },
     "execution_count": 33,
     "metadata": {},
     "output_type": "execute_result"
    }
   ],
   "source": [
    "from src.visuals.plotter import Plotter, ReturnSeries\n",
    "\n",
    "\n",
    "plotter = Plotter([ReturnSeries(label=\"GMM\", df=all_ret_df, horizons=[1])])\n",
    "plotter.plot_ssd_comparison(all_ret_df[\"xmkt\"], all_ret_df[\"xr\"], \"Market\", \"Robinhood\")"
   ]
  },
  {
   "cell_type": "markdown",
   "id": "a57f5fb2",
   "metadata": {},
   "source": [
    "**Can't do bootstrapping as it assumes independent samples**"
   ]
  },
  {
   "cell_type": "markdown",
   "id": "8e52a10e",
   "metadata": {},
   "source": [
    "## Euler"
   ]
  },
  {
   "cell_type": "code",
   "execution_count": 2,
   "id": "eff18bb0",
   "metadata": {},
   "outputs": [],
   "source": [
    "%load_ext autoreload\n",
    "%autoreload 2"
   ]
  },
  {
   "cell_type": "code",
   "execution_count": 53,
   "id": "ccb5ce40",
   "metadata": {},
   "outputs": [
    {
     "name": "stderr",
     "output_type": "stream",
     "text": [
      "\u001b[38;20m2025-05-02 12:52:16,464 - src.analyzer - INFO - ############################## Analysis Started ############################## (analyzer.py:80)\u001b[0m\n",
      "\u001b[33;20m2025-05-02 12:52:18,424 - src.analyzer - WARNING - Empty dataframe produced for tickers: [] (analyzer.py:172)\u001b[0m\n"
     ]
    },
    {
     "data": {
      "application/vnd.microsoft.datawrangler.viewer.v0+json": {
       "columns": [
        {
         "name": "index",
         "rawType": "object",
         "type": "string"
        },
        {
         "name": "rh_portfolio",
         "rawType": "float64",
         "type": "float"
        },
        {
         "name": "rf",
         "rawType": "float64",
         "type": "float"
        },
        {
         "name": "mkt",
         "rawType": "float64",
         "type": "float"
        },
        {
         "name": "xr",
         "rawType": "float64",
         "type": "float"
        },
        {
         "name": "xmkt",
         "rawType": "float64",
         "type": "float"
        }
       ],
       "conversionMethod": "pd.DataFrame",
       "ref": "205ae7ec-ed3b-4ed6-9c45-f908c2b78e18",
       "rows": [
        [
         "count",
         "539.0",
         "539.0",
         "539.0",
         "539.0",
         "539.0"
        ],
        [
         "mean",
         "0.0006094647375278619",
         "6.567717996289425e-05",
         "0.000525974025974026",
         "0.0005437875575649677",
         "0.0004602968460111319"
        ],
        [
         "std",
         "0.020191841438043544",
         "3.277238811127258e-05",
         "0.016151525712205576",
         "0.020194661745983042",
         "0.016153474562216167"
        ],
        [
         "min",
         "-0.11782827052885869",
         "0.0",
         "-0.11993999999999999",
         "-0.1178882705288587",
         "-0.12"
        ],
        [
         "25%",
         "-0.006982579891428309",
         "6e-05",
         "-0.004024999999999999",
         "-0.007064821368389571",
         "-0.0040999999999999995"
        ],
        [
         "50%",
         "0.0007251056470649608",
         "7.000000000000001e-05",
         "0.0012799999999999999",
         "0.0006351056470649608",
         "0.0012"
        ],
        [
         "75%",
         "0.008793757464702456",
         "8.999999999999999e-05",
         "0.00689",
         "0.008703757464702457",
         "0.0068000000000000005"
        ],
        [
         "max",
         "0.10295747379017639",
         "0.0001",
         "0.09346",
         "0.10289747379017639",
         "0.0934"
        ]
       ],
       "shape": {
        "columns": 5,
        "rows": 8
       }
      },
      "text/html": [
       "<div>\n",
       "<style scoped>\n",
       "    .dataframe tbody tr th:only-of-type {\n",
       "        vertical-align: middle;\n",
       "    }\n",
       "\n",
       "    .dataframe tbody tr th {\n",
       "        vertical-align: top;\n",
       "    }\n",
       "\n",
       "    .dataframe thead th {\n",
       "        text-align: right;\n",
       "    }\n",
       "</style>\n",
       "<table border=\"1\" class=\"dataframe\">\n",
       "  <thead>\n",
       "    <tr style=\"text-align: right;\">\n",
       "      <th></th>\n",
       "      <th>rh_portfolio</th>\n",
       "      <th>rf</th>\n",
       "      <th>mkt</th>\n",
       "      <th>xr</th>\n",
       "      <th>xmkt</th>\n",
       "    </tr>\n",
       "  </thead>\n",
       "  <tbody>\n",
       "    <tr>\n",
       "      <th>count</th>\n",
       "      <td>539.000000</td>\n",
       "      <td>539.000000</td>\n",
       "      <td>539.000000</td>\n",
       "      <td>539.000000</td>\n",
       "      <td>539.000000</td>\n",
       "    </tr>\n",
       "    <tr>\n",
       "      <th>mean</th>\n",
       "      <td>0.000609</td>\n",
       "      <td>0.000066</td>\n",
       "      <td>0.000526</td>\n",
       "      <td>0.000544</td>\n",
       "      <td>0.000460</td>\n",
       "    </tr>\n",
       "    <tr>\n",
       "      <th>std</th>\n",
       "      <td>0.020192</td>\n",
       "      <td>0.000033</td>\n",
       "      <td>0.016152</td>\n",
       "      <td>0.020195</td>\n",
       "      <td>0.016153</td>\n",
       "    </tr>\n",
       "    <tr>\n",
       "      <th>min</th>\n",
       "      <td>-0.117828</td>\n",
       "      <td>0.000000</td>\n",
       "      <td>-0.119940</td>\n",
       "      <td>-0.117888</td>\n",
       "      <td>-0.120000</td>\n",
       "    </tr>\n",
       "    <tr>\n",
       "      <th>25%</th>\n",
       "      <td>-0.006983</td>\n",
       "      <td>0.000060</td>\n",
       "      <td>-0.004025</td>\n",
       "      <td>-0.007065</td>\n",
       "      <td>-0.004100</td>\n",
       "    </tr>\n",
       "    <tr>\n",
       "      <th>50%</th>\n",
       "      <td>0.000725</td>\n",
       "      <td>0.000070</td>\n",
       "      <td>0.001280</td>\n",
       "      <td>0.000635</td>\n",
       "      <td>0.001200</td>\n",
       "    </tr>\n",
       "    <tr>\n",
       "      <th>75%</th>\n",
       "      <td>0.008794</td>\n",
       "      <td>0.000090</td>\n",
       "      <td>0.006890</td>\n",
       "      <td>0.008704</td>\n",
       "      <td>0.006800</td>\n",
       "    </tr>\n",
       "    <tr>\n",
       "      <th>max</th>\n",
       "      <td>0.102957</td>\n",
       "      <td>0.000100</td>\n",
       "      <td>0.093460</td>\n",
       "      <td>0.102897</td>\n",
       "      <td>0.093400</td>\n",
       "    </tr>\n",
       "  </tbody>\n",
       "</table>\n",
       "</div>"
      ],
      "text/plain": [
       "       rh_portfolio          rf         mkt          xr        xmkt\n",
       "count    539.000000  539.000000  539.000000  539.000000  539.000000\n",
       "mean       0.000609    0.000066    0.000526    0.000544    0.000460\n",
       "std        0.020192    0.000033    0.016152    0.020195    0.016153\n",
       "min       -0.117828    0.000000   -0.119940   -0.117888   -0.120000\n",
       "25%       -0.006983    0.000060   -0.004025   -0.007065   -0.004100\n",
       "50%        0.000725    0.000070    0.001280    0.000635    0.001200\n",
       "75%        0.008794    0.000090    0.006890    0.008704    0.006800\n",
       "max        0.102957    0.000100    0.093460    0.102897    0.093400"
      ]
     },
     "execution_count": 53,
     "metadata": {},
     "output_type": "execute_result"
    }
   ],
   "source": [
    "from src import Analyzer\n",
    "from src import RiskTests\n",
    "from src.utils.params import ReturnParams\n",
    "\n",
    "import numpy as np\n",
    "\n",
    "return_params = ReturnParams(\n",
    "    horizons={},  \n",
    "    start_date=None,\n",
    "#    end_date=\"2020-02-03\",\n",
    "    cumulative=False,\n",
    "    append_start=False\n",
    ")\n",
    "\n",
    "an = Analyzer(compare_tickers=[], return_params=return_params, stocks_only=False, weights_application=\"wealth\", dl_kwargs={\"weights_method\":\"dollar\"})\n",
    "\n",
    "\n",
    "rt = RiskTests(an)\n",
    "daily_factors = rt.factors\n",
    "daily_factors.describe()"
   ]
  },
  {
   "cell_type": "code",
   "execution_count": 54,
   "id": "fb56960e",
   "metadata": {},
   "outputs": [
    {
     "data": {
      "application/vnd.microsoft.datawrangler.viewer.v0+json": {
       "columns": [
        {
         "name": "index",
         "rawType": "datetime64[ns]",
         "type": "datetime"
        },
        {
         "name": "rh_portfolio",
         "rawType": "float64",
         "type": "float"
        },
        {
         "name": "rf",
         "rawType": "float64",
         "type": "float"
        },
        {
         "name": "mkt",
         "rawType": "float64",
         "type": "float"
        },
        {
         "name": "xr",
         "rawType": "float64",
         "type": "float"
        },
        {
         "name": "xmkt",
         "rawType": "float64",
         "type": "float"
        }
       ],
       "conversionMethod": "pd.DataFrame",
       "ref": "e3ee0143-bb61-40c3-a078-99ef903750be",
       "rows": [
        [
         "2018-06-30 00:00:00",
         "0.009446420950522505",
         "0.0012006842463021528",
         "-0.004678064354094569",
         "0.008236289650643602",
         "-0.005872067146043158"
        ],
        [
         "2018-07-31 00:00:00",
         "-0.002451011611780518",
         "0.0016813446812071753",
         "0.03390724913445897",
         "-0.004125807765842926",
         "0.032174399880346316"
        ],
        [
         "2018-08-31 00:00:00",
         "0.0725118817129573",
         "0.0014710294563338167",
         "0.042712881453023765",
         "0.07094158547016938",
         "0.04118419683070673"
        ],
        [
         "2018-09-30 00:00:00",
         "0.007565961552266742",
         "0.0015210948962884885",
         "0.0023933745943398588",
         "0.006036133850401804",
         "0.000871014247401547"
        ],
        [
         "2018-10-31 00:00:00",
         "-0.10520744468833687",
         "0.0018416201071167482",
         "-0.07496084930311098",
         "-0.10686067699596724",
         "-0.07666736381855699"
        ],
        [
         "2018-11-30 00:00:00",
         "0.001672036682294653",
         "0.0016813446812071753",
         "0.018704606781559274",
         "-9.547879660898317e-06",
         "0.01699593358678486"
        ],
        [
         "2018-12-31 00:00:00",
         "-0.10769178854430372",
         "0.0019017109693872936",
         "-0.09355269382623632",
         "-0.10939618521566463",
         "-0.09528260012502232"
        ],
        [
         "2019-01-31 00:00:00",
         "0.13288165793012285",
         "0.0016012005601815371",
         "0.06812159524880279",
         "0.13108422940766506",
         "0.06642076233983918"
        ],
        [
         "2019-02-28 00:00:00",
         "0.05694106520840747",
         "0.0019017109693872936",
         "0.03584034057045882",
         "0.0549404735304615",
         "0.03387762561852847"
        ],
        [
         "2019-03-31 00:00:00",
         "0.01075341103738614",
         "0.0018917019699613569",
         "0.012718959047942402",
         "0.008845666240556715",
         "0.010807732331524766"
        ],
        [
         "2019-04-30 00:00:00",
         "0.030618335876479774",
         "0.002102101330598183",
         "0.0416219345396629",
         "0.028459252048031347",
         "0.03944093079056055"
        ],
        [
         "2019-05-31 00:00:00",
         "-0.09082197294864058",
         "0.0019818722231386143",
         "-0.0674075116044347",
         "-0.09262839212446772",
         "-0.06925823734188585"
        ],
        [
         "2019-06-30 00:00:00",
         "0.071717356227196",
         "0.0018015398313766529",
         "0.0713235321860759",
         "0.06979646988489696",
         "0.06940337140252062"
        ],
        [
         "2019-07-31 00:00:00",
         "-0.014401328294148752",
         "0.0019818722231386143",
         "0.014264363275698688",
         "-0.01635229287889317",
         "0.012259278126684592"
        ],
        [
         "2019-08-31 00:00:00",
         "-0.06523139682468337",
         "0.0015411324283958194",
         "-0.024072294705580033",
         "-0.0666745018592435",
         "-0.02557594010142472"
        ],
        [
         "2019-09-30 00:00:00",
         "-0.00670432045574898",
         "0.0018015398313766529",
         "0.015954934712609115",
         "-0.008491422845575136",
         "0.01412918963771026"
        ],
        [
         "2019-10-31 00:00:00",
         "0.003792042719693134",
         "0.0016112403076657955",
         "0.022256499145534736",
         "0.0021773591536380366",
         "0.020613448510809818"
        ],
        [
         "2019-11-30 00:00:00",
         "0.031391313266048826",
         "0.0012006842463021528",
         "0.03999650068140115",
         "0.030156210268637906",
         "0.03875164902019246"
        ],
        [
         "2019-12-31 00:00:00",
         "0.040107611663745546",
         "0.0014710294563338167",
         "0.029133220802508575",
         "0.03858254318344878",
         "0.027623501156025076"
        ],
        [
         "2020-01-31 00:00:00",
         "-0.04172005647374155",
         "0.0007802808617849433",
         "-0.022811233012835053",
         "-0.04246974293309447",
         "-0.023574544738729553"
        ],
        [
         "2020-02-29 00:00:00",
         "-0.061820217056055005",
         "0.0011406158093536511",
         "-0.08016039992860102",
         "-0.06289291166128452",
         "-0.08121319231404278"
        ],
        [
         "2020-03-31 00:00:00",
         "-0.17080255863626548",
         "0.0013208319327340234",
         "-0.13254674633067665",
         "-0.17190784098817646",
         "-0.13370040138103156"
        ],
        [
         "2020-04-30 00:00:00",
         "0.2014668760710978",
         "0.0",
         "0.13564368887633727",
         "0.2014668760710978",
         "0.13564368887633727"
        ],
        [
         "2020-05-31 00:00:00",
         "0.09686752723506897",
         "0.0",
         "0.05599206632409581",
         "0.09686752723506897",
         "0.05599206632409581"
        ],
        [
         "2020-06-30 00:00:00",
         "0.11111180867619885",
         "0.0",
         "0.025069617505734554",
         "0.11111180867619885",
         "0.025069617505734554"
        ],
        [
         "2020-07-31 00:00:00",
         "0.03613134985630739",
         "0.0",
         "0.05758358683597353",
         "0.03613134985630739",
         "0.05758358683597353"
        ],
        [
         "2020-08-31 00:00:00",
         "0.05444761047515656",
         "0.0",
         "0.03517094047056335",
         "0.05444761047515656",
         "0.03517094047056335"
        ]
       ],
       "shape": {
        "columns": 5,
        "rows": 27
       }
      },
      "text/html": [
       "<div>\n",
       "<style scoped>\n",
       "    .dataframe tbody tr th:only-of-type {\n",
       "        vertical-align: middle;\n",
       "    }\n",
       "\n",
       "    .dataframe tbody tr th {\n",
       "        vertical-align: top;\n",
       "    }\n",
       "\n",
       "    .dataframe thead th {\n",
       "        text-align: right;\n",
       "    }\n",
       "</style>\n",
       "<table border=\"1\" class=\"dataframe\">\n",
       "  <thead>\n",
       "    <tr style=\"text-align: right;\">\n",
       "      <th></th>\n",
       "      <th>rh_portfolio</th>\n",
       "      <th>rf</th>\n",
       "      <th>mkt</th>\n",
       "      <th>xr</th>\n",
       "      <th>xmkt</th>\n",
       "    </tr>\n",
       "  </thead>\n",
       "  <tbody>\n",
       "    <tr>\n",
       "      <th>2018-06-30</th>\n",
       "      <td>0.009446</td>\n",
       "      <td>0.001201</td>\n",
       "      <td>-0.004678</td>\n",
       "      <td>0.008236</td>\n",
       "      <td>-0.005872</td>\n",
       "    </tr>\n",
       "    <tr>\n",
       "      <th>2018-07-31</th>\n",
       "      <td>-0.002451</td>\n",
       "      <td>0.001681</td>\n",
       "      <td>0.033907</td>\n",
       "      <td>-0.004126</td>\n",
       "      <td>0.032174</td>\n",
       "    </tr>\n",
       "    <tr>\n",
       "      <th>2018-08-31</th>\n",
       "      <td>0.072512</td>\n",
       "      <td>0.001471</td>\n",
       "      <td>0.042713</td>\n",
       "      <td>0.070942</td>\n",
       "      <td>0.041184</td>\n",
       "    </tr>\n",
       "    <tr>\n",
       "      <th>2018-09-30</th>\n",
       "      <td>0.007566</td>\n",
       "      <td>0.001521</td>\n",
       "      <td>0.002393</td>\n",
       "      <td>0.006036</td>\n",
       "      <td>0.000871</td>\n",
       "    </tr>\n",
       "    <tr>\n",
       "      <th>2018-10-31</th>\n",
       "      <td>-0.105207</td>\n",
       "      <td>0.001842</td>\n",
       "      <td>-0.074961</td>\n",
       "      <td>-0.106861</td>\n",
       "      <td>-0.076667</td>\n",
       "    </tr>\n",
       "    <tr>\n",
       "      <th>2018-11-30</th>\n",
       "      <td>0.001672</td>\n",
       "      <td>0.001681</td>\n",
       "      <td>0.018705</td>\n",
       "      <td>-0.000010</td>\n",
       "      <td>0.016996</td>\n",
       "    </tr>\n",
       "    <tr>\n",
       "      <th>2018-12-31</th>\n",
       "      <td>-0.107692</td>\n",
       "      <td>0.001902</td>\n",
       "      <td>-0.093553</td>\n",
       "      <td>-0.109396</td>\n",
       "      <td>-0.095283</td>\n",
       "    </tr>\n",
       "    <tr>\n",
       "      <th>2019-01-31</th>\n",
       "      <td>0.132882</td>\n",
       "      <td>0.001601</td>\n",
       "      <td>0.068122</td>\n",
       "      <td>0.131084</td>\n",
       "      <td>0.066421</td>\n",
       "    </tr>\n",
       "    <tr>\n",
       "      <th>2019-02-28</th>\n",
       "      <td>0.056941</td>\n",
       "      <td>0.001902</td>\n",
       "      <td>0.035840</td>\n",
       "      <td>0.054940</td>\n",
       "      <td>0.033878</td>\n",
       "    </tr>\n",
       "    <tr>\n",
       "      <th>2019-03-31</th>\n",
       "      <td>0.010753</td>\n",
       "      <td>0.001892</td>\n",
       "      <td>0.012719</td>\n",
       "      <td>0.008846</td>\n",
       "      <td>0.010808</td>\n",
       "    </tr>\n",
       "    <tr>\n",
       "      <th>2019-04-30</th>\n",
       "      <td>0.030618</td>\n",
       "      <td>0.002102</td>\n",
       "      <td>0.041622</td>\n",
       "      <td>0.028459</td>\n",
       "      <td>0.039441</td>\n",
       "    </tr>\n",
       "    <tr>\n",
       "      <th>2019-05-31</th>\n",
       "      <td>-0.090822</td>\n",
       "      <td>0.001982</td>\n",
       "      <td>-0.067408</td>\n",
       "      <td>-0.092628</td>\n",
       "      <td>-0.069258</td>\n",
       "    </tr>\n",
       "    <tr>\n",
       "      <th>2019-06-30</th>\n",
       "      <td>0.071717</td>\n",
       "      <td>0.001802</td>\n",
       "      <td>0.071324</td>\n",
       "      <td>0.069796</td>\n",
       "      <td>0.069403</td>\n",
       "    </tr>\n",
       "    <tr>\n",
       "      <th>2019-07-31</th>\n",
       "      <td>-0.014401</td>\n",
       "      <td>0.001982</td>\n",
       "      <td>0.014264</td>\n",
       "      <td>-0.016352</td>\n",
       "      <td>0.012259</td>\n",
       "    </tr>\n",
       "    <tr>\n",
       "      <th>2019-08-31</th>\n",
       "      <td>-0.065231</td>\n",
       "      <td>0.001541</td>\n",
       "      <td>-0.024072</td>\n",
       "      <td>-0.066675</td>\n",
       "      <td>-0.025576</td>\n",
       "    </tr>\n",
       "    <tr>\n",
       "      <th>2019-09-30</th>\n",
       "      <td>-0.006704</td>\n",
       "      <td>0.001802</td>\n",
       "      <td>0.015955</td>\n",
       "      <td>-0.008491</td>\n",
       "      <td>0.014129</td>\n",
       "    </tr>\n",
       "    <tr>\n",
       "      <th>2019-10-31</th>\n",
       "      <td>0.003792</td>\n",
       "      <td>0.001611</td>\n",
       "      <td>0.022256</td>\n",
       "      <td>0.002177</td>\n",
       "      <td>0.020613</td>\n",
       "    </tr>\n",
       "    <tr>\n",
       "      <th>2019-11-30</th>\n",
       "      <td>0.031391</td>\n",
       "      <td>0.001201</td>\n",
       "      <td>0.039997</td>\n",
       "      <td>0.030156</td>\n",
       "      <td>0.038752</td>\n",
       "    </tr>\n",
       "    <tr>\n",
       "      <th>2019-12-31</th>\n",
       "      <td>0.040108</td>\n",
       "      <td>0.001471</td>\n",
       "      <td>0.029133</td>\n",
       "      <td>0.038583</td>\n",
       "      <td>0.027624</td>\n",
       "    </tr>\n",
       "    <tr>\n",
       "      <th>2020-01-31</th>\n",
       "      <td>-0.041720</td>\n",
       "      <td>0.000780</td>\n",
       "      <td>-0.022811</td>\n",
       "      <td>-0.042470</td>\n",
       "      <td>-0.023575</td>\n",
       "    </tr>\n",
       "    <tr>\n",
       "      <th>2020-02-29</th>\n",
       "      <td>-0.061820</td>\n",
       "      <td>0.001141</td>\n",
       "      <td>-0.080160</td>\n",
       "      <td>-0.062893</td>\n",
       "      <td>-0.081213</td>\n",
       "    </tr>\n",
       "    <tr>\n",
       "      <th>2020-03-31</th>\n",
       "      <td>-0.170803</td>\n",
       "      <td>0.001321</td>\n",
       "      <td>-0.132547</td>\n",
       "      <td>-0.171908</td>\n",
       "      <td>-0.133700</td>\n",
       "    </tr>\n",
       "    <tr>\n",
       "      <th>2020-04-30</th>\n",
       "      <td>0.201467</td>\n",
       "      <td>0.000000</td>\n",
       "      <td>0.135644</td>\n",
       "      <td>0.201467</td>\n",
       "      <td>0.135644</td>\n",
       "    </tr>\n",
       "    <tr>\n",
       "      <th>2020-05-31</th>\n",
       "      <td>0.096868</td>\n",
       "      <td>0.000000</td>\n",
       "      <td>0.055992</td>\n",
       "      <td>0.096868</td>\n",
       "      <td>0.055992</td>\n",
       "    </tr>\n",
       "    <tr>\n",
       "      <th>2020-06-30</th>\n",
       "      <td>0.111112</td>\n",
       "      <td>0.000000</td>\n",
       "      <td>0.025070</td>\n",
       "      <td>0.111112</td>\n",
       "      <td>0.025070</td>\n",
       "    </tr>\n",
       "    <tr>\n",
       "      <th>2020-07-31</th>\n",
       "      <td>0.036131</td>\n",
       "      <td>0.000000</td>\n",
       "      <td>0.057584</td>\n",
       "      <td>0.036131</td>\n",
       "      <td>0.057584</td>\n",
       "    </tr>\n",
       "    <tr>\n",
       "      <th>2020-08-31</th>\n",
       "      <td>0.054448</td>\n",
       "      <td>0.000000</td>\n",
       "      <td>0.035171</td>\n",
       "      <td>0.054448</td>\n",
       "      <td>0.035171</td>\n",
       "    </tr>\n",
       "  </tbody>\n",
       "</table>\n",
       "</div>"
      ],
      "text/plain": [
       "            rh_portfolio        rf       mkt        xr      xmkt\n",
       "2018-06-30      0.009446  0.001201 -0.004678  0.008236 -0.005872\n",
       "2018-07-31     -0.002451  0.001681  0.033907 -0.004126  0.032174\n",
       "2018-08-31      0.072512  0.001471  0.042713  0.070942  0.041184\n",
       "2018-09-30      0.007566  0.001521  0.002393  0.006036  0.000871\n",
       "2018-10-31     -0.105207  0.001842 -0.074961 -0.106861 -0.076667\n",
       "2018-11-30      0.001672  0.001681  0.018705 -0.000010  0.016996\n",
       "2018-12-31     -0.107692  0.001902 -0.093553 -0.109396 -0.095283\n",
       "2019-01-31      0.132882  0.001601  0.068122  0.131084  0.066421\n",
       "2019-02-28      0.056941  0.001902  0.035840  0.054940  0.033878\n",
       "2019-03-31      0.010753  0.001892  0.012719  0.008846  0.010808\n",
       "2019-04-30      0.030618  0.002102  0.041622  0.028459  0.039441\n",
       "2019-05-31     -0.090822  0.001982 -0.067408 -0.092628 -0.069258\n",
       "2019-06-30      0.071717  0.001802  0.071324  0.069796  0.069403\n",
       "2019-07-31     -0.014401  0.001982  0.014264 -0.016352  0.012259\n",
       "2019-08-31     -0.065231  0.001541 -0.024072 -0.066675 -0.025576\n",
       "2019-09-30     -0.006704  0.001802  0.015955 -0.008491  0.014129\n",
       "2019-10-31      0.003792  0.001611  0.022256  0.002177  0.020613\n",
       "2019-11-30      0.031391  0.001201  0.039997  0.030156  0.038752\n",
       "2019-12-31      0.040108  0.001471  0.029133  0.038583  0.027624\n",
       "2020-01-31     -0.041720  0.000780 -0.022811 -0.042470 -0.023575\n",
       "2020-02-29     -0.061820  0.001141 -0.080160 -0.062893 -0.081213\n",
       "2020-03-31     -0.170803  0.001321 -0.132547 -0.171908 -0.133700\n",
       "2020-04-30      0.201467  0.000000  0.135644  0.201467  0.135644\n",
       "2020-05-31      0.096868  0.000000  0.055992  0.096868  0.055992\n",
       "2020-06-30      0.111112  0.000000  0.025070  0.111112  0.025070\n",
       "2020-07-31      0.036131  0.000000  0.057584  0.036131  0.057584\n",
       "2020-08-31      0.054448  0.000000  0.035171  0.054448  0.035171"
      ]
     },
     "execution_count": 54,
     "metadata": {},
     "output_type": "execute_result"
    }
   ],
   "source": [
    "monnthly_factors = rt.resample_factors()\n",
    "monnthly_factors"
   ]
  },
  {
   "cell_type": "code",
   "execution_count": 55,
   "id": "15272c5b",
   "metadata": {},
   "outputs": [
    {
     "data": {
      "text/plain": [
       "np.float64(3.0714922378400455)"
      ]
     },
     "execution_count": 55,
     "metadata": {},
     "output_type": "execute_result"
    }
   ],
   "source": [
    "gamma_gmm = rt.estimate_euler_gamma(df_returns=daily_factors)\n",
    "gamma_gmm"
   ]
  },
  {
   "cell_type": "code",
   "execution_count": 58,
   "id": "aea6cb55",
   "metadata": {},
   "outputs": [
    {
     "name": "stdout",
     "output_type": "stream",
     "text": [
      "Gamma: 1.12160\n"
     ]
    },
    {
     "data": {
      "image/png": "[encoded data removed]",
      "text/plain": [
       "<Figure size 1800x1000 with 1 Axes>"
      ]
     },
     "metadata": {},
     "output_type": "display_data"
    },
    {
     "data": {
      "text/plain": [
       "np.float64(1.1216008776527822)"
      ]
     },
     "execution_count": 58,
     "metadata": {},
     "output_type": "execute_result"
    }
   ],
   "source": [
    "rt.find_cutoff_gamma(bounds=(-20,20))"
   ]
  },
  {
   "cell_type": "code",
   "execution_count": 3,
   "id": "7da7cf04",
   "metadata": {},
   "outputs": [
    {
     "data": {
      "application/vnd.microsoft.datawrangler.viewer.v0+json": {
       "columns": [
        {
         "name": "index",
         "rawType": "datetime64[ns]",
         "type": "datetime"
        },
        {
         "name": "rh_portfolio",
         "rawType": "float64",
         "type": "float"
        },
        {
         "name": "rf",
         "rawType": "float64",
         "type": "float"
        },
        {
         "name": "mkt",
         "rawType": "float64",
         "type": "float"
        },
        {
         "name": "xr",
         "rawType": "float64",
         "type": "float"
        },
        {
         "name": "xmkt",
         "rawType": "float64",
         "type": "float"
        }
       ],
       "conversionMethod": "pd.DataFrame",
       "ref": "947e6bb3-c0e4-485b-ad19-4c1771bc0b74",
       "rows": [
        [
         "2018-06-04 00:00:00",
         "1.0079789566275974",
         "1.00006",
         "1.0050612679808204",
         "1.0079189566275975",
         "1.0050012679808205"
        ],
        [
         "2018-06-05 00:00:00",
         "1.00766696692467",
         "1.00006",
         "0.9997349589186324",
         "1.0076069669246701",
         "0.9996749589186325"
        ],
        [
         "2018-06-06 00:00:00",
         "1.0095665483922767",
         "1.00006",
         "1.008748674443266",
         "1.0095065483922767",
         "1.0086886744432662"
        ],
        [
         "2018-06-07 00:00:00",
         "0.9954408981393974",
         "1.00006",
         "0.9965834428383706",
         "0.9953808981393975",
         "0.9965234428383707"
        ],
        [
         "2018-06-08 00:00:00",
         "1.0034746310425338",
         "1.00006",
         "1.0022415611814346",
         "1.0034146310425338",
         "1.0021815611814346"
        ],
        [
         "2018-06-11 00:00:00",
         "1.0073480015425675",
         "1.00006",
         "1.0024996710959084",
         "1.0072880015425676",
         "1.0024396710959085"
        ],
        [
         "2018-06-12 00:00:00",
         "1.008143432564814",
         "1.00006",
         "0.9989501312335958",
         "1.008083432564814",
         "0.9988901312335958"
        ],
        [
         "2018-06-13 00:00:00",
         "0.9993246754584456",
         "1.00006",
         "0.9969784550709405",
         "0.9992646754584457",
         "0.9969184550709406"
        ],
        [
         "2018-06-14 00:00:00",
         "1.0067117152801153",
         "1.00006",
         "1.0010541573329819",
         "1.0066517152801153",
         "1.000994157332982"
        ],
        [
         "2018-06-15 00:00:00",
         "0.9973807802599531",
         "1.00006",
         "0.9957878109780177",
         "0.9973207802599532",
         "0.9957278109780178"
        ],
        [
         "2018-06-18 00:00:00",
         "1.0074539003358551",
         "1.00006",
         "0.9952412425644415",
         "1.0073939003358552",
         "0.9951812425644415"
        ],
        [
         "2018-06-19 00:00:00",
         "0.9915460828661168",
         "1.00006",
         "0.993226192057378",
         "0.9914860828661168",
         "0.9931661920573781"
        ],
        [
         "2018-06-20 00:00:00",
         "1.0062293057115956",
         "1.00006",
         "1.0034768654720514",
         "1.0061693057115957",
         "1.0034168654720514"
        ],
        [
         "2018-06-21 00:00:00",
         "0.987075202003865",
         "1.00006",
         "0.9917377398720681",
         "0.987015202003865",
         "0.9916777398720682"
        ],
        [
         "2018-06-22 00:00:00",
         "1.0000817064834173",
         "1.00006",
         "0.9985219027143241",
         "1.0000217064834174",
         "0.9984619027143241"
        ],
        [
         "2018-06-25 00:00:00",
         "0.9755464402206261",
         "1.00006",
         "0.9857354326470192",
         "0.9754864402206261",
         "0.9856754326470193"
        ],
        [
         "2018-06-26 00:00:00",
         "1.0095281515918608",
         "1.00006",
         "1.0010921501706485",
         "1.0094681515918609",
         "1.0010321501706485"
        ],
        [
         "2018-06-27 00:00:00",
         "0.9838527814385398",
         "1.00006",
         "0.9905904813855175",
         "0.9837927814385399",
         "0.9905304813855176"
        ],
        [
         "2018-06-28 00:00:00",
         "1.0085891244517782",
         "1.00006",
         "1.0050936123348018",
         "1.0085291244517782",
         "1.0050336123348018"
        ],
        [
         "2018-06-29 00:00:00",
         "0.9973597074823733",
         "1.00006",
         "1.00493083139296",
         "0.9972997074823734",
         "1.00487083139296"
        ],
        [
         "2018-07-02 00:00:00",
         "1.006406424636632",
         "1.00008",
         "0.9964563172958975",
         "1.006326424636632",
         "0.9963763172958975"
        ],
        [
         "2018-07-03 00:00:00",
         "0.9945418659462562",
         "1.00008",
         "0.998905758446177",
         "0.9944618659462562",
         "0.998825758446177"
        ],
        [
         "2018-07-05 00:00:00",
         "1.0099935961980573",
         "1.00008",
         "1.0079419416678077",
         "1.0099135961980572",
         "1.0078619416678076"
        ],
        [
         "2018-07-06 00:00:00",
         "1.0131156645955712",
         "1.00008",
         "1.0063850020377665",
         "1.0130356645955712",
         "1.0063050020377664"
        ],
        [
         "2018-07-09 00:00:00",
         "1.0088081364214057",
         "1.00008",
         "1.0099892008639308",
         "1.0087281364214056",
         "1.0099092008639308"
        ],
        [
         "2018-07-10 00:00:00",
         "0.9977740996213702",
         "1.00008",
         "1.0017375033413527",
         "0.9976940996213702",
         "1.0016575033413526"
        ],
        [
         "2018-07-11 00:00:00",
         "0.991684282831543",
         "1.00008",
         "0.9889259506337559",
         "0.991604282831543",
         "0.9888459506337559"
        ],
        [
         "2018-07-12 00:00:00",
         "1.0113748717660596",
         "1.00008",
         "1.007825148407987",
         "1.0112948717660595",
         "1.007745148407987"
        ],
        [
         "2018-07-13 00:00:00",
         "0.9975773235827583",
         "1.00008",
         "1.0012048192771086",
         "0.9974973235827583",
         "1.0011248192771085"
        ],
        [
         "2018-07-16 00:00:00",
         "0.9958404907886553",
         "1.00008",
         "0.9986629228506484",
         "0.9957604907886554",
         "0.9985829228506484"
        ],
        [
         "2018-07-17 00:00:00",
         "1.005850137202771",
         "1.00008",
         "1.0038827152229215",
         "1.005770137202771",
         "1.0038027152229214"
        ],
        [
         "2018-07-18 00:00:00",
         "0.9993396816735198",
         "1.00008",
         "1.0006668444918645",
         "0.9992596816735199",
         "1.0005868444918644"
        ],
        [
         "2018-07-19 00:00:00",
         "0.9971301403849312",
         "1.00008",
         "0.9962681594029055",
         "0.9970501403849312",
         "0.9961881594029055"
        ],
        [
         "2018-07-20 00:00:00",
         "0.9924886821416989",
         "1.00008",
         "1.0018729096989967",
         "0.992408682141699",
         "1.0017929096989966"
        ],
        [
         "2018-07-23 00:00:00",
         "0.9997582150207657",
         "1.00008",
         "1.0",
         "0.9996782150207657",
         "0.99992"
        ],
        [
         "2018-07-24 00:00:00",
         "0.9938282896567358",
         "1.00008",
         "1.0044064628121245",
         "0.9937482896567358",
         "1.0043264628121245"
        ],
        [
         "2018-07-25 00:00:00",
         "1.0106405067366946",
         "1.00008",
         "1.0103695825578303",
         "1.0105605067366945",
         "1.0102895825578302"
        ],
        [
         "2018-07-26 00:00:00",
         "0.9975271645621661",
         "1.00008",
         "0.9957894736842107",
         "0.9974471645621661",
         "0.9957094736842107"
        ],
        [
         "2018-07-27 00:00:00",
         "0.9819724660105124",
         "1.00008",
         "0.99696088794926",
         "0.9818924660105124",
         "0.99688088794926"
        ],
        [
         "2018-07-30 00:00:00",
         "0.9861945116712784",
         "1.00008",
         "0.9965540092776672",
         "0.9861145116712784",
         "0.9964740092776673"
        ],
        [
         "2018-07-31 00:00:00",
         "1.006430735677802",
         "1.00008",
         "1.0038568958638117",
         "1.0063507356778019",
         "1.0037768958638116"
        ],
        [
         "2018-08-01 00:00:00",
         "1.000549039029362",
         "1.00007",
         "0.9964228934817169",
         "1.000479039029362",
         "0.9963528934817169"
        ],
        [
         "2018-08-02 00:00:00",
         "1.0088783981067797",
         "1.00007",
         "1.0001329610424146",
         "1.0088083981067797",
         "1.0000629610424145"
        ],
        [
         "2018-08-03 00:00:00",
         "1.001341850232699",
         "1.00007",
         "1.0034565275192768",
         "1.001271850232699",
         "1.0033865275192768"
        ],
        [
         "2018-08-06 00:00:00",
         "1.0065392943202025",
         "1.00007",
         "1.0",
         "1.0064692943202025",
         "0.99993"
        ],
        [
         "2018-08-07 00:00:00",
         "1.00329523691758",
         "1.00007",
         "1.0038420773714891",
         "1.00322523691758",
         "1.003772077371489"
        ],
        [
         "2018-08-08 00:00:00",
         "0.9974558229877555",
         "1.00007",
         "0.9993401082222516",
         "0.9973858229877555",
         "0.9992701082222516"
        ],
        [
         "2018-08-13 00:00:00",
         "0.9931799382526583",
         "1.00007",
         "0.9946452476572958",
         "0.9931099382526583",
         "0.9945752476572958"
        ],
        [
         "2018-08-14 00:00:00",
         "1.0020290652832575",
         "1.00007",
         "1.0047106325706596",
         "1.0019590652832575",
         "1.0046406325706596"
        ],
        [
         "2018-08-15 00:00:00",
         "0.9868322789056583",
         "1.00007",
         "0.9888814467515069",
         "0.9867622789056583",
         "0.9888114467515069"
        ]
       ],
       "shape": {
        "columns": 5,
        "rows": 539
       }
      },
      "text/html": [
       "<div>\n",
       "<style scoped>\n",
       "    .dataframe tbody tr th:only-of-type {\n",
       "        vertical-align: middle;\n",
       "    }\n",
       "\n",
       "    .dataframe tbody tr th {\n",
       "        vertical-align: top;\n",
       "    }\n",
       "\n",
       "    .dataframe thead th {\n",
       "        text-align: right;\n",
       "    }\n",
       "</style>\n",
       "<table border=\"1\" class=\"dataframe\">\n",
       "  <thead>\n",
       "    <tr style=\"text-align: right;\">\n",
       "      <th></th>\n",
       "      <th>rh_portfolio</th>\n",
       "      <th>rf</th>\n",
       "      <th>mkt</th>\n",
       "      <th>xr</th>\n",
       "      <th>xmkt</th>\n",
       "    </tr>\n",
       "  </thead>\n",
       "  <tbody>\n",
       "    <tr>\n",
       "      <th>2018-06-04</th>\n",
       "      <td>1.007979</td>\n",
       "      <td>1.00006</td>\n",
       "      <td>1.005061</td>\n",
       "      <td>1.007919</td>\n",
       "      <td>1.005001</td>\n",
       "    </tr>\n",
       "    <tr>\n",
       "      <th>2018-06-05</th>\n",
       "      <td>1.007667</td>\n",
       "      <td>1.00006</td>\n",
       "      <td>0.999735</td>\n",
       "      <td>1.007607</td>\n",
       "      <td>0.999675</td>\n",
       "    </tr>\n",
       "    <tr>\n",
       "      <th>2018-06-06</th>\n",
       "      <td>1.009567</td>\n",
       "      <td>1.00006</td>\n",
       "      <td>1.008749</td>\n",
       "      <td>1.009507</td>\n",
       "      <td>1.008689</td>\n",
       "    </tr>\n",
       "    <tr>\n",
       "      <th>2018-06-07</th>\n",
       "      <td>0.995441</td>\n",
       "      <td>1.00006</td>\n",
       "      <td>0.996583</td>\n",
       "      <td>0.995381</td>\n",
       "      <td>0.996523</td>\n",
       "    </tr>\n",
       "    <tr>\n",
       "      <th>2018-06-08</th>\n",
       "      <td>1.003475</td>\n",
       "      <td>1.00006</td>\n",
       "      <td>1.002242</td>\n",
       "      <td>1.003415</td>\n",
       "      <td>1.002182</td>\n",
       "    </tr>\n",
       "    <tr>\n",
       "      <th>...</th>\n",
       "      <td>...</td>\n",
       "      <td>...</td>\n",
       "      <td>...</td>\n",
       "      <td>...</td>\n",
       "      <td>...</td>\n",
       "    </tr>\n",
       "    <tr>\n",
       "      <th>2020-08-07</th>\n",
       "      <td>0.996141</td>\n",
       "      <td>1.00000</td>\n",
       "      <td>0.996542</td>\n",
       "      <td>0.996141</td>\n",
       "      <td>0.996542</td>\n",
       "    </tr>\n",
       "    <tr>\n",
       "      <th>2020-08-10</th>\n",
       "      <td>1.019014</td>\n",
       "      <td>1.00000</td>\n",
       "      <td>1.002726</td>\n",
       "      <td>1.019014</td>\n",
       "      <td>1.002726</td>\n",
       "    </tr>\n",
       "    <tr>\n",
       "      <th>2020-08-11</th>\n",
       "      <td>0.980078</td>\n",
       "      <td>1.00000</td>\n",
       "      <td>0.996910</td>\n",
       "      <td>0.980078</td>\n",
       "      <td>0.996910</td>\n",
       "    </tr>\n",
       "    <tr>\n",
       "      <th>2020-08-12</th>\n",
       "      <td>1.006672</td>\n",
       "      <td>1.00000</td>\n",
       "      <td>1.015001</td>\n",
       "      <td>1.006672</td>\n",
       "      <td>1.015001</td>\n",
       "    </tr>\n",
       "    <tr>\n",
       "      <th>2020-08-13</th>\n",
       "      <td>1.004269</td>\n",
       "      <td>1.00000</td>\n",
       "      <td>0.997313</td>\n",
       "      <td>1.004269</td>\n",
       "      <td>0.997313</td>\n",
       "    </tr>\n",
       "  </tbody>\n",
       "</table>\n",
       "<p>539 rows × 5 columns</p>\n",
       "</div>"
      ],
      "text/plain": [
       "            rh_portfolio       rf       mkt        xr      xmkt\n",
       "2018-06-04      1.007979  1.00006  1.005061  1.007919  1.005001\n",
       "2018-06-05      1.007667  1.00006  0.999735  1.007607  0.999675\n",
       "2018-06-06      1.009567  1.00006  1.008749  1.009507  1.008689\n",
       "2018-06-07      0.995441  1.00006  0.996583  0.995381  0.996523\n",
       "2018-06-08      1.003475  1.00006  1.002242  1.003415  1.002182\n",
       "...                  ...      ...       ...       ...       ...\n",
       "2020-08-07      0.996141  1.00000  0.996542  0.996141  0.996542\n",
       "2020-08-10      1.019014  1.00000  1.002726  1.019014  1.002726\n",
       "2020-08-11      0.980078  1.00000  0.996910  0.980078  0.996910\n",
       "2020-08-12      1.006672  1.00000  1.015001  1.006672  1.015001\n",
       "2020-08-13      1.004269  1.00000  0.997313  1.004269  0.997313\n",
       "\n",
       "[539 rows x 5 columns]"
      ]
     },
     "execution_count": 3,
     "metadata": {},
     "output_type": "execute_result"
    }
   ],
   "source": [
    "df = daily_factors +1\n",
    "df"
   ]
  },
  {
   "cell_type": "code",
   "execution_count": 14,
   "id": "6adb5f65",
   "metadata": {},
   "outputs": [
    {
     "name": "stdout",
     "output_type": "stream",
     "text": [
      "ΔU (xmkt - rh_portfolio) at γ=3.071: -0.00017 [-0.00097, 0.00061]\n"
     ]
    },
    {
     "data": {
      "text/plain": [
       "(np.float64(-0.00017284581852384324),\n",
       " np.float64(-0.0009742359888587294),\n",
       " np.float64(0.0006114926814635308))"
      ]
     },
     "execution_count": 14,
     "metadata": {},
     "output_type": "execute_result"
    }
   ],
   "source": [
    "rt.bootstrap_difference_utility(df_returns=df, gamma0=gamma_gmm)"
   ]
  },
  {
   "cell_type": "code",
   "execution_count": 39,
   "id": "e9044f28",
   "metadata": {},
   "outputs": [
    {
     "data": {
      "application/vnd.microsoft.datawrangler.viewer.v0+json": {
       "columns": [
        {
         "name": "index",
         "rawType": "datetime64[ns]",
         "type": "datetime"
        },
        {
         "name": "rh_portfolio",
         "rawType": "float64",
         "type": "float"
        },
        {
         "name": "rf",
         "rawType": "float64",
         "type": "float"
        },
        {
         "name": "mkt",
         "rawType": "float64",
         "type": "float"
        },
        {
         "name": "xr",
         "rawType": "float64",
         "type": "float"
        },
        {
         "name": "xmkt",
         "rawType": "float64",
         "type": "float"
        }
       ],
       "conversionMethod": "pd.DataFrame",
       "ref": "5819656d-aaa1-4e2a-81ac-e49b680c26b7",
       "rows": [
        [
         "2018-06-04 00:00:00",
         "0.0079789566275974",
         "6e-05",
         "0.005061267980820405",
         "0.0079189566275974",
         "0.005001267980820405"
        ],
        [
         "2018-06-05 00:00:00",
         "0.00766696692467006",
         "6e-05",
         "-0.00026504108136760074",
         "0.00760696692467006",
         "-0.00032504108136760073"
        ],
        [
         "2018-06-06 00:00:00",
         "0.009566548392276664",
         "6e-05",
         "0.008748674443266102",
         "0.009506548392276664",
         "0.008688674443266103"
        ],
        [
         "2018-06-07 00:00:00",
         "-0.004559101860602599",
         "6e-05",
         "-0.0034165571616293633",
         "-0.004619101860602599",
         "-0.0034765571616293635"
        ],
        [
         "2018-06-08 00:00:00",
         "0.00347463104253376",
         "6e-05",
         "0.0022415611814345926",
         "0.00341463104253376",
         "0.0021815611814345924"
        ],
        [
         "2018-06-11 00:00:00",
         "0.007348001542567539",
         "6e-05",
         "0.002499671095908429",
         "0.007288001542567539",
         "0.002439671095908429"
        ],
        [
         "2018-06-12 00:00:00",
         "0.00814343256481398",
         "6e-05",
         "-0.0010498687664042272",
         "0.00808343256481398",
         "-0.0011098687664042272"
        ],
        [
         "2018-06-13 00:00:00",
         "-0.0006753245415543896",
         "6e-05",
         "-0.003021544929059483",
         "-0.0007353245415543896",
         "-0.0030815449290594833"
        ],
        [
         "2018-06-14 00:00:00",
         "0.006711715280115271",
         "6e-05",
         "0.0010541573329818643",
         "0.006651715280115271",
         "0.0009941573329818644"
        ],
        [
         "2018-06-15 00:00:00",
         "-0.002619219740046863",
         "6e-05",
         "-0.004212189021982282",
         "-0.0026792197400468632",
         "-0.004272189021982282"
        ],
        [
         "2018-06-18 00:00:00",
         "0.007453900335855135",
         "6e-05",
         "-0.004758757435558536",
         "0.007393900335855135",
         "-0.004818757435558536"
        ],
        [
         "2018-06-19 00:00:00",
         "-0.008453917133883215",
         "6e-05",
         "-0.0067738079426219455",
         "-0.008513917133883215",
         "-0.006833807942621946"
        ],
        [
         "2018-06-20 00:00:00",
         "0.006229305711595634",
         "6e-05",
         "0.0034768654720513936",
         "0.006169305711595634",
         "0.0034168654720513935"
        ],
        [
         "2018-06-21 00:00:00",
         "-0.012924797996134996",
         "6e-05",
         "-0.008262260127931853",
         "-0.012984797996134995",
         "-0.008322260127931852"
        ],
        [
         "2018-06-22 00:00:00",
         "8.17064834173209e-05",
         "6e-05",
         "-0.001478097285675939",
         "2.1706483417320895e-05",
         "-0.0015380972856759388"
        ],
        [
         "2018-06-25 00:00:00",
         "-0.024453559779373912",
         "6e-05",
         "-0.014264567352980762",
         "-0.024513559779373913",
         "-0.01432456735298076"
        ],
        [
         "2018-06-26 00:00:00",
         "0.009528151591860823",
         "6e-05",
         "0.0010921501706484538",
         "0.009468151591860824",
         "0.0010321501706484538"
        ],
        [
         "2018-06-27 00:00:00",
         "-0.016147218561460175",
         "6e-05",
         "-0.00940951861448247",
         "-0.016207218561460176",
         "-0.00946951861448247"
        ],
        [
         "2018-06-28 00:00:00",
         "0.008589124451778174",
         "6e-05",
         "0.005093612334801767",
         "0.008529124451778175",
         "0.005033612334801767"
        ],
        [
         "2018-06-29 00:00:00",
         "-0.0026402925176266523",
         "6e-05",
         "0.004930831392959911",
         "-0.0027002925176266524",
         "0.004870831392959911"
        ],
        [
         "2018-07-02 00:00:00",
         "0.006406424636631991",
         "8e-05",
         "-0.0035436827041025465",
         "0.006326424636631991",
         "-0.0036236827041025467"
        ],
        [
         "2018-07-03 00:00:00",
         "-0.005458134053743846",
         "8e-05",
         "-0.0010942415538229833",
         "-0.005538134053743846",
         "-0.0011742415538229833"
        ],
        [
         "2018-07-05 00:00:00",
         "0.009993596198057286",
         "8e-05",
         "0.007941941667807706",
         "0.009913596198057286",
         "0.007861941667807706"
        ],
        [
         "2018-07-06 00:00:00",
         "0.01311566459557123",
         "8e-05",
         "0.006385002037766485",
         "0.01303566459557123",
         "0.006305002037766485"
        ],
        [
         "2018-07-09 00:00:00",
         "0.008808136421405655",
         "8e-05",
         "0.009989200863930847",
         "0.008728136421405654",
         "0.009909200863930847"
        ],
        [
         "2018-07-10 00:00:00",
         "-0.002225900378629797",
         "8e-05",
         "0.0017375033413526975",
         "-0.0023059003786297973",
         "0.0016575033413526975"
        ],
        [
         "2018-07-11 00:00:00",
         "-0.008315717168457026",
         "8e-05",
         "-0.01107404936624412",
         "-0.008395717168457027",
         "-0.011154049366244121"
        ],
        [
         "2018-07-12 00:00:00",
         "0.011374871766059558",
         "8e-05",
         "0.007825148407986982",
         "0.011294871766059558",
         "0.007745148407986981"
        ],
        [
         "2018-07-13 00:00:00",
         "-0.002422676417241698",
         "8e-05",
         "0.001204819277108582",
         "-0.0025026764172416983",
         "0.001124819277108582"
        ],
        [
         "2018-07-16 00:00:00",
         "-0.00415950921134467",
         "8e-05",
         "-0.0013370771493516065",
         "-0.00423950921134467",
         "-0.0014170771493516065"
        ],
        [
         "2018-07-17 00:00:00",
         "0.005850137202771055",
         "8e-05",
         "0.0038827152229214956",
         "0.005770137202771055",
         "0.0038027152229214954"
        ],
        [
         "2018-07-18 00:00:00",
         "-0.0006603183264801693",
         "8e-05",
         "0.0006668444918644933",
         "-0.0007403183264801693",
         "0.0005868444918644934"
        ],
        [
         "2018-07-19 00:00:00",
         "-0.002869859615068804",
         "8e-05",
         "-0.0037318405970945268",
         "-0.002949859615068804",
         "-0.003811840597094527"
        ],
        [
         "2018-07-20 00:00:00",
         "-0.007511317858301059",
         "8e-05",
         "0.001872909698996672",
         "-0.007591317858301059",
         "0.001792909698996672"
        ],
        [
         "2018-07-23 00:00:00",
         "-0.0002417849792343274",
         "8e-05",
         "0.0",
         "-0.0003217849792343274",
         "-8e-05"
        ],
        [
         "2018-07-24 00:00:00",
         "-0.006171710343264247",
         "8e-05",
         "0.004406462812124534",
         "-0.0062517103432642475",
         "0.004326462812124534"
        ],
        [
         "2018-07-25 00:00:00",
         "0.010640506736694588",
         "8e-05",
         "0.01036958255783027",
         "0.010560506736694588",
         "0.01028958255783027"
        ],
        [
         "2018-07-26 00:00:00",
         "-0.0024728354378339423",
         "8e-05",
         "-0.004210526315789331",
         "-0.0025528354378339425",
         "-0.0042905263157893316"
        ],
        [
         "2018-07-27 00:00:00",
         "-0.018027533989487643",
         "8e-05",
         "-0.0030391120507400338",
         "-0.018107533989487643",
         "-0.003119112050740034"
        ],
        [
         "2018-07-30 00:00:00",
         "-0.013805488328721638",
         "8e-05",
         "-0.003445990722332759",
         "-0.013885488328721638",
         "-0.0035259907223327593"
        ],
        [
         "2018-07-31 00:00:00",
         "0.0064307356778019464",
         "8e-05",
         "0.00385689586381166",
         "0.006350735677801946",
         "0.00377689586381166"
        ],
        [
         "2018-08-01 00:00:00",
         "0.0005490390293620973",
         "7.000000000000001e-05",
         "-0.003577106518283135",
         "0.00047903902936209723",
         "-0.0036471065182831354"
        ],
        [
         "2018-08-02 00:00:00",
         "0.008878398106779706",
         "7.000000000000001e-05",
         "0.00013296104241455886",
         "0.008808398106779705",
         "6.296104241455885e-05"
        ],
        [
         "2018-08-03 00:00:00",
         "0.001341850232698949",
         "7.000000000000001e-05",
         "0.0034565275192768308",
         "0.001271850232698949",
         "0.0033865275192768306"
        ],
        [
         "2018-08-06 00:00:00",
         "0.0065392943202025045",
         "7.000000000000001e-05",
         "0.0",
         "0.006469294320202505",
         "-7.000000000000001e-05"
        ],
        [
         "2018-08-07 00:00:00",
         "0.0032952369175800467",
         "7.000000000000001e-05",
         "0.0038420773714891165",
         "0.0032252369175800465",
         "0.0037720773714891164"
        ],
        [
         "2018-08-08 00:00:00",
         "-0.0025441770122445195",
         "7.000000000000001e-05",
         "-0.0006598917777483893",
         "-0.0026141770122445197",
         "-0.0007298917777483892"
        ],
        [
         "2018-08-13 00:00:00",
         "-0.006820061747341732",
         "7.000000000000001e-05",
         "-0.0053547523427042165",
         "-0.006890061747341732",
         "-0.005424752342704216"
        ],
        [
         "2018-08-14 00:00:00",
         "0.002029065283257525",
         "7.000000000000001e-05",
         "0.004710632570659623",
         "0.001959065283257525",
         "0.004640632570659623"
        ],
        [
         "2018-08-15 00:00:00",
         "-0.013167721094341722",
         "7.000000000000001e-05",
         "-0.01111855324849309",
         "-0.013237721094341723",
         "-0.011188553248493091"
        ]
       ],
       "shape": {
        "columns": 5,
        "rows": 539
       }
      },
      "text/html": [
       "<div>\n",
       "<style scoped>\n",
       "    .dataframe tbody tr th:only-of-type {\n",
       "        vertical-align: middle;\n",
       "    }\n",
       "\n",
       "    .dataframe tbody tr th {\n",
       "        vertical-align: top;\n",
       "    }\n",
       "\n",
       "    .dataframe thead th {\n",
       "        text-align: right;\n",
       "    }\n",
       "</style>\n",
       "<table border=\"1\" class=\"dataframe\">\n",
       "  <thead>\n",
       "    <tr style=\"text-align: right;\">\n",
       "      <th></th>\n",
       "      <th>rh_portfolio</th>\n",
       "      <th>rf</th>\n",
       "      <th>mkt</th>\n",
       "      <th>xr</th>\n",
       "      <th>xmkt</th>\n",
       "    </tr>\n",
       "  </thead>\n",
       "  <tbody>\n",
       "    <tr>\n",
       "      <th>2018-06-04</th>\n",
       "      <td>0.007979</td>\n",
       "      <td>0.00006</td>\n",
       "      <td>0.005061</td>\n",
       "      <td>0.007919</td>\n",
       "      <td>0.005001</td>\n",
       "    </tr>\n",
       "    <tr>\n",
       "      <th>2018-06-05</th>\n",
       "      <td>0.007667</td>\n",
       "      <td>0.00006</td>\n",
       "      <td>-0.000265</td>\n",
       "      <td>0.007607</td>\n",
       "      <td>-0.000325</td>\n",
       "    </tr>\n",
       "    <tr>\n",
       "      <th>2018-06-06</th>\n",
       "      <td>0.009567</td>\n",
       "      <td>0.00006</td>\n",
       "      <td>0.008749</td>\n",
       "      <td>0.009507</td>\n",
       "      <td>0.008689</td>\n",
       "    </tr>\n",
       "    <tr>\n",
       "      <th>2018-06-07</th>\n",
       "      <td>-0.004559</td>\n",
       "      <td>0.00006</td>\n",
       "      <td>-0.003417</td>\n",
       "      <td>-0.004619</td>\n",
       "      <td>-0.003477</td>\n",
       "    </tr>\n",
       "    <tr>\n",
       "      <th>2018-06-08</th>\n",
       "      <td>0.003475</td>\n",
       "      <td>0.00006</td>\n",
       "      <td>0.002242</td>\n",
       "      <td>0.003415</td>\n",
       "      <td>0.002182</td>\n",
       "    </tr>\n",
       "    <tr>\n",
       "      <th>...</th>\n",
       "      <td>...</td>\n",
       "      <td>...</td>\n",
       "      <td>...</td>\n",
       "      <td>...</td>\n",
       "      <td>...</td>\n",
       "    </tr>\n",
       "    <tr>\n",
       "      <th>2020-08-07</th>\n",
       "      <td>-0.003859</td>\n",
       "      <td>0.00000</td>\n",
       "      <td>-0.003458</td>\n",
       "      <td>-0.003859</td>\n",
       "      <td>-0.003458</td>\n",
       "    </tr>\n",
       "    <tr>\n",
       "      <th>2020-08-10</th>\n",
       "      <td>0.019014</td>\n",
       "      <td>0.00000</td>\n",
       "      <td>0.002726</td>\n",
       "      <td>0.019014</td>\n",
       "      <td>0.002726</td>\n",
       "    </tr>\n",
       "    <tr>\n",
       "      <th>2020-08-11</th>\n",
       "      <td>-0.019922</td>\n",
       "      <td>0.00000</td>\n",
       "      <td>-0.003090</td>\n",
       "      <td>-0.019922</td>\n",
       "      <td>-0.003090</td>\n",
       "    </tr>\n",
       "    <tr>\n",
       "      <th>2020-08-12</th>\n",
       "      <td>0.006672</td>\n",
       "      <td>0.00000</td>\n",
       "      <td>0.015001</td>\n",
       "      <td>0.006672</td>\n",
       "      <td>0.015001</td>\n",
       "    </tr>\n",
       "    <tr>\n",
       "      <th>2020-08-13</th>\n",
       "      <td>0.004269</td>\n",
       "      <td>0.00000</td>\n",
       "      <td>-0.002687</td>\n",
       "      <td>0.004269</td>\n",
       "      <td>-0.002687</td>\n",
       "    </tr>\n",
       "  </tbody>\n",
       "</table>\n",
       "<p>539 rows × 5 columns</p>\n",
       "</div>"
      ],
      "text/plain": [
       "            rh_portfolio       rf       mkt        xr      xmkt\n",
       "2018-06-04      0.007979  0.00006  0.005061  0.007919  0.005001\n",
       "2018-06-05      0.007667  0.00006 -0.000265  0.007607 -0.000325\n",
       "2018-06-06      0.009567  0.00006  0.008749  0.009507  0.008689\n",
       "2018-06-07     -0.004559  0.00006 -0.003417 -0.004619 -0.003477\n",
       "2018-06-08      0.003475  0.00006  0.002242  0.003415  0.002182\n",
       "...                  ...      ...       ...       ...       ...\n",
       "2020-08-07     -0.003859  0.00000 -0.003458 -0.003859 -0.003458\n",
       "2020-08-10      0.019014  0.00000  0.002726  0.019014  0.002726\n",
       "2020-08-11     -0.019922  0.00000 -0.003090 -0.019922 -0.003090\n",
       "2020-08-12      0.006672  0.00000  0.015001  0.006672  0.015001\n",
       "2020-08-13      0.004269  0.00000 -0.002687  0.004269 -0.002687\n",
       "\n",
       "[539 rows x 5 columns]"
      ]
     },
     "execution_count": 39,
     "metadata": {},
     "output_type": "execute_result"
    }
   ],
   "source": [
    "daily_factors"
   ]
  },
  {
   "cell_type": "code",
   "execution_count": 114,
   "id": "3e0ea73d",
   "metadata": {},
   "outputs": [
    {
     "name": "stdout",
     "output_type": "stream",
     "text": [
      "γ̂^GMM = 3.0715\n",
      "95% BCa CI = [0.9072, 19.8172]\n"
     ]
    },
    {
     "data": {
      "text/plain": [
       "{'gamma_estimate': np.float64(3.0714922378400455),\n",
       " 'ci_lower': np.float64(0.9072428346440041),\n",
       " 'ci_upper': np.float64(19.817195964133305),\n",
       " 'confidence_level': 0.95,\n",
       " 'n_resamples': 5000}"
      ]
     },
     "execution_count": 114,
     "metadata": {},
     "output_type": "execute_result"
    }
   ],
   "source": [
    "rt.bootstrap_gamma(daily_factors)"
   ]
  },
  {
   "cell_type": "code",
   "execution_count": 45,
   "id": "463d46c8",
   "metadata": {},
   "outputs": [
    {
     "data": {
      "image/png": "[encoded data removed]",
      "text/plain": [
       "<Figure size 1400x600 with 2 Axes>"
      ]
     },
     "metadata": {},
     "output_type": "display_data"
    },
    {
     "data": {
      "text/plain": [
       "np.True_"
      ]
     },
     "execution_count": 45,
     "metadata": {},
     "output_type": "execute_result"
    }
   ],
   "source": [
    "from src.visuals.plotter import Plotter, ReturnSeries\n",
    "\n",
    "\n",
    "plotter = Plotter([ReturnSeries(label=\"GMM\", df=daily_factors, horizons=[])])\n",
    "plotter.plot_ssd_comparison(daily_factors[\"mkt\"], daily_factors[\"rh_portfolio\"], \"Market\", \"Robinhood\")"
   ]
  },
  {
   "cell_type": "markdown",
   "id": "8b178690",
   "metadata": {},
   "source": [
    "## Factors tests"
   ]
  },
  {
   "cell_type": "code",
   "execution_count": 66,
   "id": "3b55a56b",
   "metadata": {},
   "outputs": [],
   "source": [
    "import pandas as pd\n",
    "from src.utils.helpers import load_factors\n",
    "df_replication = load_factors()\n",
    "df_download = pd.read_csv(\"../data/models/F-F_Research_Data_5_Factors_2x3_daily.csv\", skiprows=2, index_col=0)\n"
   ]
  },
  {
   "cell_type": "code",
   "execution_count": 59,
   "id": "91756ae7",
   "metadata": {},
   "outputs": [
    {
     "data": {
      "application/vnd.microsoft.datawrangler.viewer.v0+json": {
       "columns": [
        {
         "name": "yyyymmdd",
         "rawType": "int64",
         "type": "integer"
        },
        {
         "name": "pfioret100",
         "rawType": "float64",
         "type": "float"
        },
        {
         "name": "xmkt",
         "rawType": "float64",
         "type": "float"
        },
        {
         "name": "smb",
         "rawType": "float64",
         "type": "float"
        },
        {
         "name": "hml",
         "rawType": "float64",
         "type": "float"
        },
        {
         "name": "rmw",
         "rawType": "float64",
         "type": "float"
        },
        {
         "name": "cma",
         "rawType": "float64",
         "type": "float"
        },
        {
         "name": "rf",
         "rawType": "float64",
         "type": "float"
        },
        {
         "name": "umd",
         "rawType": "float64",
         "type": "float"
        },
        {
         "name": "mkt",
         "rawType": "float64",
         "type": "float"
        }
       ],
       "conversionMethod": "pd.DataFrame",
       "ref": "2ec4042b-7c97-4443-9c08-57497b28b021",
       "rows": [
        [
         "20180604",
         "0.801442143731424",
         "0.48",
         "0.15",
         "-0.46",
         "1.06",
         "-0.3",
         "0.006",
         "0.17",
         "0.486"
        ],
        [
         "20180605",
         "0.83887455371097",
         "0.16",
         "0.79",
         "-0.43",
         "0.23",
         "0.11",
         "0.006",
         "0.29",
         "0.166"
        ],
        [
         "20180606",
         "0.909019378360017",
         "0.86",
         "-0.28",
         "0.19",
         "-0.02",
         "0.15",
         "0.006",
         "-0.01",
         "0.866"
        ],
        [
         "20180607",
         "-0.440410376581281",
         "-0.14",
         "-0.24",
         "0.91",
         "0.17",
         "0.59",
         "0.006",
         "-0.91",
         "-0.134"
        ],
        [
         "20180608",
         "0.341545918126502",
         "0.31",
         "0.05",
         "-0.41",
         "0.27",
         "-0.19",
         "0.006",
         "-0.13",
         "0.316"
        ],
        [
         "20180611",
         "0.908463529569872",
         "0.12",
         "0.15",
         "-0.17",
         "0.22",
         "0.23",
         "0.006",
         "-0.64",
         "0.126"
        ],
        [
         "20180612",
         "1.01163283835386",
         "0.23",
         "0.2",
         "-0.63",
         "0.09",
         "-0.17",
         "0.006",
         "0.14",
         "0.23600000000000002"
        ],
        [
         "20180613",
         "-0.0353873527282123",
         "-0.33",
         "0.04",
         "-0.18",
         "-0.53",
         "-0.18",
         "0.006",
         "0.23",
         "-0.324"
        ],
        [
         "20180614",
         "0.615799467135196",
         "0.27",
         "0.19",
         "-0.99",
         "0.0",
         "-0.6",
         "0.006",
         "-0.24",
         "0.276"
        ],
        [
         "20180615",
         "-0.194282754361953",
         "-0.08",
         "0.1",
         "-0.24",
         "0.68",
         "-0.15",
         "0.006",
         "-0.9",
         "-0.074"
        ],
        [
         "20180618",
         "0.836572175614045",
         "-0.09",
         "0.75",
         "0.08",
         "-0.45",
         "0.05",
         "0.006",
         "0.72",
         "-0.08399999999999999"
        ],
        [
         "20180619",
         "-0.78151023418784",
         "-0.38",
         "0.52",
         "-0.15",
         "-0.24",
         "-0.36",
         "0.006",
         "-0.67",
         "-0.374"
        ],
        [
         "20180620",
         "0.515214352670744",
         "0.23",
         "0.66",
         "-0.49",
         "-0.14",
         "0.08",
         "0.006",
         "0.31",
         "0.23600000000000002"
        ],
        [
         "20180621",
         "-1.31602642557719",
         "-0.73",
         "-0.57",
         "0.34",
         "0.45",
         "0.1",
         "0.006",
         "-0.33",
         "-0.724"
        ],
        [
         "20180622",
         "0.045432057488779",
         "0.11",
         "-0.05",
         "0.46",
         "-0.55",
         "0.86",
         "0.006",
         "-0.62",
         "0.116"
        ],
        [
         "20180625",
         "-2.39575953696782",
         "-1.48",
         "-0.47",
         "0.57",
         "0.62",
         "0.15",
         "0.006",
         "-1.15",
         "-1.474"
        ],
        [
         "20180626",
         "1.01149600786718",
         "0.27",
         "0.52",
         "-0.24",
         "-0.5",
         "0.1",
         "0.006",
         "0.45",
         "0.276"
        ],
        [
         "20180627",
         "-1.30290155104122",
         "-1.02",
         "-0.98",
         "0.37",
         "-0.08",
         "0.52",
         "0.006",
         "-0.3",
         "-1.014"
        ],
        [
         "20180628",
         "0.790710540005944",
         "0.58",
         "-0.19",
         "-0.5",
         "-0.17",
         "-0.56",
         "0.006",
         "0.45",
         "0.586"
        ],
        [
         "20180629",
         "-0.424644300536511",
         "0.07",
         "-0.24",
         "-0.24",
         "-0.24",
         "0.02",
         "0.006",
         "0.01",
         "0.07600000000000001"
        ],
        [
         "20180702",
         "0.756335922409232",
         "0.36",
         "0.42",
         "-0.23",
         "-0.07",
         "-0.56",
         "0.008",
         "0.55",
         "0.368"
        ],
        [
         "20180703",
         "-0.729293553171821",
         "-0.44",
         "0.76",
         "0.0",
         "-0.31",
         "0.46",
         "0.008",
         "-0.65",
         "-0.432"
        ],
        [
         "20180705",
         "1.16379425563575",
         "0.87",
         "0.39",
         "-0.44",
         "0.35",
         "-0.17",
         "0.008",
         "-0.33",
         "0.878"
        ],
        [
         "20180706",
         "1.49098421467829",
         "0.88",
         "-0.02",
         "-0.31",
         "-0.25",
         "-0.12",
         "0.008",
         "0.09",
         "0.888"
        ],
        [
         "20180709",
         "0.88254297565941",
         "0.93",
         "-0.29",
         "0.84",
         "0.01",
         "-0.19",
         "0.008",
         "0.46",
         "0.9380000000000001"
        ],
        [
         "20180710",
         "-0.255849187576413",
         "0.21",
         "-0.83",
         "-0.15",
         "0.1",
         "0.27",
         "0.008",
         "-0.18",
         "0.218"
        ],
        [
         "20180711",
         "-0.822341694377323",
         "-0.69",
         "-0.06",
         "-0.45",
         "-0.1",
         "-0.32",
         "0.008",
         "0.01",
         "-0.6819999999999999"
        ],
        [
         "20180712",
         "1.03791709030894",
         "0.86",
         "-0.41",
         "-1.09",
         "-0.04",
         "-0.49",
         "0.008",
         "0.56",
         "0.868"
        ],
        [
         "20180713",
         "-0.229259651440735",
         "0.08",
         "-0.17",
         "-0.27",
         "0.34",
         "0.19",
         "0.008",
         "0.21",
         "0.088"
        ],
        [
         "20180716",
         "-0.418219623378345",
         "-0.16",
         "-0.63",
         "0.96",
         "-0.21",
         "-0.16",
         "0.008",
         "0.39",
         "-0.152"
        ],
        [
         "20180717",
         "0.65311257479379",
         "0.48",
         "0.16",
         "-0.75",
         "0.14",
         "-0.23",
         "0.008",
         "0.39",
         "0.488"
        ],
        [
         "20180718",
         "-0.0311918260176216",
         "0.27",
         "-0.15",
         "0.65",
         "-0.17",
         "-0.14",
         "0.008",
         "0.38",
         "0.278"
        ],
        [
         "20180719",
         "-0.183062254151774",
         "-0.34",
         "0.93",
         "-0.36",
         "0.23",
         "0.05",
         "0.008",
         "-0.1",
         "-0.332"
        ],
        [
         "20180720",
         "-0.931335775833914",
         "-0.1",
         "-0.16",
         "0.12",
         "0.09",
         "-0.24",
         "0.008",
         "0.26",
         "-0.092"
        ],
        [
         "20180723",
         "0.0305332011091808",
         "0.15",
         "-0.19",
         "0.53",
         "-0.2",
         "-0.19",
         "0.008",
         "0.38",
         "0.158"
        ],
        [
         "20180724",
         "-0.679585818723297",
         "0.22",
         "-1.32",
         "0.41",
         "0.46",
         "0.11",
         "0.008",
         "-0.36",
         "0.228"
        ],
        [
         "20180725",
         "0.992861130358457",
         "0.83",
         "-0.59",
         "-1.04",
         "0.06",
         "-0.31",
         "0.008",
         "1.09",
         "0.838"
        ],
        [
         "20180726",
         "-0.155184358458613",
         "-0.2",
         "0.76",
         "0.56",
         "-0.02",
         "0.61",
         "0.008",
         "-0.97",
         "-0.192"
        ],
        [
         "20180727",
         "-2.10704854618462",
         "-0.82",
         "-1.2",
         "1.08",
         "0.48",
         "0.51",
         "0.008",
         "-1.33",
         "-0.8119999999999999"
        ],
        [
         "20180730",
         "-1.47817377910049",
         "-0.7",
         "-0.01",
         "1.58",
         "0.27",
         "1.02",
         "0.008",
         "-1.42",
         "-0.692"
        ],
        [
         "20180731",
         "0.628774424485145",
         "0.51",
         "0.71",
         "-1.11",
         "0.33",
         "0.27",
         "0.008",
         "0.04",
         "0.518"
        ],
        [
         "20180801",
         "0.1858771809886",
         "-0.13",
         "0.0",
         "-0.2",
         "-0.17",
         "-0.74",
         "0.007",
         "1.03",
         "-0.123"
        ],
        [
         "20180802",
         "1.19654435791644",
         "0.67",
         "0.2",
         "-0.69",
         "0.01",
         "-0.56",
         "0.007",
         "0.84",
         "0.677"
        ],
        [
         "20180803",
         "0.261514996756579",
         "0.31",
         "-0.93",
         "0.53",
         "0.61",
         "0.37",
         "0.007",
         "-0.81",
         "0.317"
        ],
        [
         "20180806",
         "0.820140689612267",
         "0.46",
         "0.22",
         "-0.33",
         "-0.29",
         "-0.22",
         "0.007",
         "0.38",
         "0.467"
        ],
        [
         "20180807",
         "0.374918674009993",
         "0.29",
         "-0.04",
         "-0.16",
         "-0.3",
         "-0.11",
         "0.007",
         "0.32",
         "0.297"
        ],
        [
         "20180808",
         "-0.251942217680035",
         "-0.04",
         "-0.13",
         "0.28",
         "-0.06",
         "-0.06",
         "0.007",
         "0.41",
         "-0.033"
        ],
        [
         "20180809",
         "0.0439488995595854",
         "-0.05",
         "0.35",
         "-0.37",
         "0.06",
         "-0.26",
         "0.007",
         "0.09",
         "-0.043000000000000003"
        ],
        [
         "20180813",
         "-0.497217192173271",
         "-0.46",
         "-0.22",
         "-0.29",
         "0.3",
         "-0.01",
         "0.007",
         "-0.01",
         "-0.453"
        ],
        [
         "20180814",
         "0.503395132763998",
         "0.69",
         "0.31",
         "0.24",
         "0.36",
         "0.19",
         "0.007",
         "0.41",
         "0.697"
        ]
       ],
       "shape": {
        "columns": 9,
        "rows": 543
       }
      },
      "text/html": [
       "<div>\n",
       "<style scoped>\n",
       "    .dataframe tbody tr th:only-of-type {\n",
       "        vertical-align: middle;\n",
       "    }\n",
       "\n",
       "    .dataframe tbody tr th {\n",
       "        vertical-align: top;\n",
       "    }\n",
       "\n",
       "    .dataframe thead th {\n",
       "        text-align: right;\n",
       "    }\n",
       "</style>\n",
       "<table border=\"1\" class=\"dataframe\">\n",
       "  <thead>\n",
       "    <tr style=\"text-align: right;\">\n",
       "      <th></th>\n",
       "      <th>pfioret100</th>\n",
       "      <th>xmkt</th>\n",
       "      <th>smb</th>\n",
       "      <th>hml</th>\n",
       "      <th>rmw</th>\n",
       "      <th>cma</th>\n",
       "      <th>rf</th>\n",
       "      <th>umd</th>\n",
       "      <th>mkt</th>\n",
       "    </tr>\n",
       "    <tr>\n",
       "      <th>yyyymmdd</th>\n",
       "      <th></th>\n",
       "      <th></th>\n",
       "      <th></th>\n",
       "      <th></th>\n",
       "      <th></th>\n",
       "      <th></th>\n",
       "      <th></th>\n",
       "      <th></th>\n",
       "      <th></th>\n",
       "    </tr>\n",
       "  </thead>\n",
       "  <tbody>\n",
       "    <tr>\n",
       "      <th>20180604</th>\n",
       "      <td>0.801442</td>\n",
       "      <td>0.48</td>\n",
       "      <td>0.15</td>\n",
       "      <td>-0.46</td>\n",
       "      <td>1.06</td>\n",
       "      <td>-0.30</td>\n",
       "      <td>0.006</td>\n",
       "      <td>0.17</td>\n",
       "      <td>0.486</td>\n",
       "    </tr>\n",
       "    <tr>\n",
       "      <th>20180605</th>\n",
       "      <td>0.838875</td>\n",
       "      <td>0.16</td>\n",
       "      <td>0.79</td>\n",
       "      <td>-0.43</td>\n",
       "      <td>0.23</td>\n",
       "      <td>0.11</td>\n",
       "      <td>0.006</td>\n",
       "      <td>0.29</td>\n",
       "      <td>0.166</td>\n",
       "    </tr>\n",
       "    <tr>\n",
       "      <th>20180606</th>\n",
       "      <td>0.909019</td>\n",
       "      <td>0.86</td>\n",
       "      <td>-0.28</td>\n",
       "      <td>0.19</td>\n",
       "      <td>-0.02</td>\n",
       "      <td>0.15</td>\n",
       "      <td>0.006</td>\n",
       "      <td>-0.01</td>\n",
       "      <td>0.866</td>\n",
       "    </tr>\n",
       "    <tr>\n",
       "      <th>20180607</th>\n",
       "      <td>-0.440410</td>\n",
       "      <td>-0.14</td>\n",
       "      <td>-0.24</td>\n",
       "      <td>0.91</td>\n",
       "      <td>0.17</td>\n",
       "      <td>0.59</td>\n",
       "      <td>0.006</td>\n",
       "      <td>-0.91</td>\n",
       "      <td>-0.134</td>\n",
       "    </tr>\n",
       "    <tr>\n",
       "      <th>20180608</th>\n",
       "      <td>0.341546</td>\n",
       "      <td>0.31</td>\n",
       "      <td>0.05</td>\n",
       "      <td>-0.41</td>\n",
       "      <td>0.27</td>\n",
       "      <td>-0.19</td>\n",
       "      <td>0.006</td>\n",
       "      <td>-0.13</td>\n",
       "      <td>0.316</td>\n",
       "    </tr>\n",
       "    <tr>\n",
       "      <th>...</th>\n",
       "      <td>...</td>\n",
       "      <td>...</td>\n",
       "      <td>...</td>\n",
       "      <td>...</td>\n",
       "      <td>...</td>\n",
       "      <td>...</td>\n",
       "      <td>...</td>\n",
       "      <td>...</td>\n",
       "      <td>...</td>\n",
       "    </tr>\n",
       "    <tr>\n",
       "      <th>20200810</th>\n",
       "      <td>1.828497</td>\n",
       "      <td>0.24</td>\n",
       "      <td>1.27</td>\n",
       "      <td>1.66</td>\n",
       "      <td>0.86</td>\n",
       "      <td>1.24</td>\n",
       "      <td>0.000</td>\n",
       "      <td>-2.82</td>\n",
       "      <td>0.240</td>\n",
       "    </tr>\n",
       "    <tr>\n",
       "      <th>20200811</th>\n",
       "      <td>-2.154837</td>\n",
       "      <td>-0.83</td>\n",
       "      <td>0.18</td>\n",
       "      <td>1.57</td>\n",
       "      <td>0.89</td>\n",
       "      <td>0.07</td>\n",
       "      <td>0.000</td>\n",
       "      <td>-2.21</td>\n",
       "      <td>-0.830</td>\n",
       "    </tr>\n",
       "    <tr>\n",
       "      <th>20200812</th>\n",
       "      <td>0.948135</td>\n",
       "      <td>1.40</td>\n",
       "      <td>-0.81</td>\n",
       "      <td>-1.30</td>\n",
       "      <td>0.95</td>\n",
       "      <td>-0.14</td>\n",
       "      <td>0.000</td>\n",
       "      <td>1.87</td>\n",
       "      <td>1.400</td>\n",
       "    </tr>\n",
       "    <tr>\n",
       "      <th>20200813</th>\n",
       "      <td>0.382559</td>\n",
       "      <td>-0.01</td>\n",
       "      <td>-0.12</td>\n",
       "      <td>-1.30</td>\n",
       "      <td>-0.63</td>\n",
       "      <td>-0.55</td>\n",
       "      <td>0.000</td>\n",
       "      <td>1.55</td>\n",
       "      <td>-0.010</td>\n",
       "    </tr>\n",
       "    <tr>\n",
       "      <th>20200814</th>\n",
       "      <td>-0.222865</td>\n",
       "      <td>-0.04</td>\n",
       "      <td>0.04</td>\n",
       "      <td>1.03</td>\n",
       "      <td>0.40</td>\n",
       "      <td>0.17</td>\n",
       "      <td>0.000</td>\n",
       "      <td>-1.19</td>\n",
       "      <td>-0.040</td>\n",
       "    </tr>\n",
       "  </tbody>\n",
       "</table>\n",
       "<p>543 rows × 9 columns</p>\n",
       "</div>"
      ],
      "text/plain": [
       "          pfioret100  xmkt   smb   hml   rmw   cma     rf   umd    mkt\n",
       "yyyymmdd                                                              \n",
       "20180604    0.801442  0.48  0.15 -0.46  1.06 -0.30  0.006  0.17  0.486\n",
       "20180605    0.838875  0.16  0.79 -0.43  0.23  0.11  0.006  0.29  0.166\n",
       "20180606    0.909019  0.86 -0.28  0.19 -0.02  0.15  0.006 -0.01  0.866\n",
       "20180607   -0.440410 -0.14 -0.24  0.91  0.17  0.59  0.006 -0.91 -0.134\n",
       "20180608    0.341546  0.31  0.05 -0.41  0.27 -0.19  0.006 -0.13  0.316\n",
       "...              ...   ...   ...   ...   ...   ...    ...   ...    ...\n",
       "20200810    1.828497  0.24  1.27  1.66  0.86  1.24  0.000 -2.82  0.240\n",
       "20200811   -2.154837 -0.83  0.18  1.57  0.89  0.07  0.000 -2.21 -0.830\n",
       "20200812    0.948135  1.40 -0.81 -1.30  0.95 -0.14  0.000  1.87  1.400\n",
       "20200813    0.382559 -0.01 -0.12 -1.30 -0.63 -0.55  0.000  1.55 -0.010\n",
       "20200814   -0.222865 -0.04  0.04  1.03  0.40  0.17  0.000 -1.19 -0.040\n",
       "\n",
       "[543 rows x 9 columns]"
      ]
     },
     "execution_count": 59,
     "metadata": {},
     "output_type": "execute_result"
    }
   ],
   "source": [
    "df_replication[\"mkt\"] = df_replication[\"xmkt\"] + df_replication[\"rf\"]\n",
    "df_replication"
   ]
  },
  {
   "cell_type": "code",
   "execution_count": 71,
   "id": "3dec7885",
   "metadata": {},
   "outputs": [
    {
     "data": {
      "application/vnd.microsoft.datawrangler.viewer.v0+json": {
       "columns": [
        {
         "name": "index",
         "rawType": "datetime64[ns]",
         "type": "datetime"
        },
        {
         "name": "xmkt",
         "rawType": "float64",
         "type": "float"
        },
        {
         "name": "smb",
         "rawType": "float64",
         "type": "float"
        },
        {
         "name": "hml",
         "rawType": "float64",
         "type": "float"
        },
        {
         "name": "rmw",
         "rawType": "float64",
         "type": "float"
        },
        {
         "name": "cma",
         "rawType": "float64",
         "type": "float"
        },
        {
         "name": "rf",
         "rawType": "float64",
         "type": "float"
        },
        {
         "name": "mkt",
         "rawType": "float64",
         "type": "float"
        }
       ],
       "conversionMethod": "pd.DataFrame",
       "ref": "cae9361c-a50c-49e2-931e-e52fe295b52c",
       "rows": [
        [
         "1963-07-01 00:00:00",
         "-0.0067",
         "0.0002",
         "-0.0034999999999999996",
         "0.0003",
         "0.0013",
         "0.00012",
         "-0.00658"
        ],
        [
         "1963-07-02 00:00:00",
         "0.0079",
         "-0.0028000000000000004",
         "0.0028000000000000004",
         "-0.0008",
         "-0.0021",
         "0.00012",
         "0.008020000000000001"
        ],
        [
         "1963-07-03 00:00:00",
         "0.0063",
         "-0.0018",
         "-0.001",
         "0.0013",
         "-0.0025",
         "0.00012",
         "0.00642"
        ],
        [
         "1963-07-05 00:00:00",
         "0.004",
         "0.0009",
         "-0.0028000000000000004",
         "0.0007000000000000001",
         "-0.003",
         "0.00012",
         "0.00412"
        ],
        [
         "1963-07-08 00:00:00",
         "-0.0063",
         "0.0007000000000000001",
         "-0.002",
         "-0.0027",
         "0.0006",
         "0.00012",
         "-0.00618"
        ],
        [
         "1963-07-09 00:00:00",
         "0.0045000000000000005",
         "0.0",
         "0.0009",
         "0.0015",
         "-0.0001",
         "0.00012",
         "0.00462"
        ],
        [
         "1963-07-10 00:00:00",
         "-0.0018",
         "0.002",
         "0.0",
         "0.0005",
         "-0.0009",
         "0.00012",
         "-0.0016799999999999999"
        ],
        [
         "1963-07-11 00:00:00",
         "-0.0016",
         "0.0012",
         "-0.0029",
         "-0.0003",
         "0.0007000000000000001",
         "0.00012",
         "-0.00148"
        ],
        [
         "1963-07-12 00:00:00",
         "-0.0012",
         "0.0001",
         "-0.0009",
         "0.0009",
         "0.0008",
         "0.00012",
         "-0.00108"
        ],
        [
         "1963-07-15 00:00:00",
         "-0.0062",
         "0.0007000000000000001",
         "-0.0003",
         "0.0015",
         "-0.001",
         "0.00012",
         "-0.0060799999999999995"
        ],
        [
         "1963-07-16 00:00:00",
         "-0.0007000000000000001",
         "-0.0006",
         "0.0013",
         "-0.0004",
         "-0.001",
         "0.00012",
         "-0.0005800000000000001"
        ],
        [
         "1963-07-17 00:00:00",
         "-0.0033",
         "-0.0008",
         "0.0012",
         "0.0004",
         "0.0008",
         "0.00012",
         "-0.00318"
        ],
        [
         "1963-07-18 00:00:00",
         "-0.0054",
         "0.0026",
         "0.0007000000000000001",
         "-0.0007000000000000001",
         "0.0021",
         "0.00012",
         "-0.00528"
        ],
        [
         "1963-07-19 00:00:00",
         "-0.0023",
         "-0.0003",
         "-0.0006",
         "0.0016",
         "-0.0034000000000000002",
         "0.00012",
         "-0.00218"
        ],
        [
         "1963-07-22 00:00:00",
         "-0.006999999999999999",
         "-0.001",
         "-0.0034999999999999996",
         "0.0003",
         "-0.0014000000000000002",
         "0.00012",
         "-0.00688"
        ],
        [
         "1963-07-23 00:00:00",
         "0.0001",
         "-0.001",
         "-0.0019",
         "0.0003",
         "-0.0009",
         "0.00012",
         "0.00021999999999999998"
        ],
        [
         "1963-07-24 00:00:00",
         "0.0046",
         "-0.0011",
         "-0.0003",
         "-0.0012",
         "-0.0025",
         "0.00012",
         "0.00472"
        ],
        [
         "1963-07-25 00:00:00",
         "-0.0004",
         "0.0014000000000000002",
         "0.0028000000000000004",
         "-0.0015",
         "0.0013",
         "0.00012",
         "-0.00028000000000000003"
        ],
        [
         "1963-07-26 00:00:00",
         "0.0034999999999999996",
         "-0.0013",
         "0.0007000000000000001",
         "0.0",
         "-0.0014000000000000002",
         "0.00012",
         "0.00362"
        ],
        [
         "1963-07-29 00:00:00",
         "0.0011",
         "-0.0018",
         "0.0024",
         "0.0003",
         "-0.0003",
         "0.00012",
         "0.00122"
        ],
        [
         "1963-07-30 00:00:00",
         "0.0084",
         "-0.0027",
         "-0.0026",
         "0.0048",
         "-0.0032",
         "0.00012",
         "0.00852"
        ],
        [
         "1963-07-31 00:00:00",
         "-0.0013",
         "0.0011",
         "-0.0003",
         "-0.0013",
         "0.003",
         "0.00012",
         "-0.00118"
        ],
        [
         "1963-08-01 00:00:00",
         "-0.0008",
         "-0.0012",
         "-0.0013",
         "0.0013",
         "-0.0008",
         "0.00010999999999999999",
         "-0.0006900000000000001"
        ],
        [
         "1963-08-02 00:00:00",
         "0.0029",
         "-0.0014000000000000002",
         "0.0016",
         "-0.0005",
         "0.0003",
         "0.00010999999999999999",
         "0.00301"
        ],
        [
         "1963-08-05 00:00:00",
         "0.005699999999999999",
         "-0.0042",
         "0.0016",
         "0.0001",
         "0.0008",
         "0.00010999999999999999",
         "0.005809999999999999"
        ],
        [
         "1963-08-06 00:00:00",
         "0.006",
         "-0.0036",
         "0.0025",
         "-0.0002",
         "-0.0004",
         "0.00010999999999999999",
         "0.00611"
        ],
        [
         "1963-08-07 00:00:00",
         "-0.0019",
         "0.0001",
         "0.0018",
         "-0.0016",
         "0.0014000000000000002",
         "0.00010999999999999999",
         "-0.00179"
        ],
        [
         "1963-08-08 00:00:00",
         "0.0014000000000000002",
         "-0.0002",
         "-0.0024",
         "0.0025",
         "-0.0022",
         "0.00010999999999999999",
         "0.0015100000000000003"
        ],
        [
         "1963-08-09 00:00:00",
         "0.006",
         "-0.001",
         "-0.0002",
         "0.0015",
         "-0.0002",
         "0.00010999999999999999",
         "0.00611"
        ],
        [
         "1963-08-12 00:00:00",
         "0.0024",
         "0.002",
         "0.0045000000000000005",
         "-0.0009",
         "0.0034999999999999996",
         "0.00010999999999999999",
         "0.00251"
        ],
        [
         "1963-08-13 00:00:00",
         "0.0027",
         "-0.0024",
         "0.0001",
         "0.0005",
         "-0.0004",
         "0.00010999999999999999",
         "0.0028100000000000004"
        ],
        [
         "1963-08-14 00:00:00",
         "0.003",
         "-0.0006",
         "0.0021",
         "-0.0019",
         "0.0009",
         "0.00010999999999999999",
         "0.00311"
        ],
        [
         "1963-08-15 00:00:00",
         "0.0043",
         "-0.0029",
         "0.0037",
         "-0.0016",
         "0.0",
         "0.00010999999999999999",
         "0.00441"
        ],
        [
         "1963-08-16 00:00:00",
         "0.0015",
         "0.0007000000000000001",
         "0.0009",
         "0.0009",
         "-0.0019",
         "0.00010999999999999999",
         "0.00161"
        ],
        [
         "1963-08-19 00:00:00",
         "-0.0005",
         "-0.0001",
         "-0.0009",
         "-0.0008",
         "0.0",
         "0.00010999999999999999",
         "-0.00039000000000000005"
        ],
        [
         "1963-08-20 00:00:00",
         "-0.0005",
         "0.0001",
         "-0.0024",
         "0.0003",
         "0.0009",
         "0.00010999999999999999",
         "-0.00039000000000000005"
        ],
        [
         "1963-08-21 00:00:00",
         "-0.0011",
         "0.0034000000000000002",
         "-0.001",
         "-0.0005",
         "0.0008",
         "0.00010999999999999999",
         "-0.00099"
        ],
        [
         "1963-08-22 00:00:00",
         "0.0039000000000000003",
         "0.0008",
         "0.0012",
         "-0.0012",
         "-0.0026",
         "0.00010999999999999999",
         "0.0040100000000000005"
        ],
        [
         "1963-08-23 00:00:00",
         "0.0034000000000000002",
         "-0.0002",
         "0.0011",
         "0.0004",
         "-0.0002",
         "0.00010999999999999999",
         "0.0035100000000000005"
        ],
        [
         "1963-08-26 00:00:00",
         "0.0018",
         "-0.0012",
         "0.0017000000000000001",
         "0.0009",
         "-0.0022",
         "0.00010999999999999999",
         "0.00191"
        ],
        [
         "1963-08-27 00:00:00",
         "-0.0044",
         "0.0009",
         "-0.001",
         "0.0004",
         "0.0009",
         "0.00010999999999999999",
         "-0.0042899999999999995"
        ],
        [
         "1963-08-28 00:00:00",
         "0.0077",
         "0.0008",
         "0.0043",
         "0.0006",
         "0.0022",
         "0.00010999999999999999",
         "0.00781"
        ],
        [
         "1963-08-29 00:00:00",
         "0.0018",
         "0.0013",
         "0.0",
         "0.001",
         "0.0005",
         "0.00010999999999999999",
         "0.00191"
        ],
        [
         "1963-08-30 00:00:00",
         "0.0044",
         "0.0015",
         "-0.0013",
         "0.0015",
         "-0.0021",
         "0.00010999999999999999",
         "0.00451"
        ],
        [
         "1963-09-03 00:00:00",
         "0.0023",
         "0.0007000000000000001",
         "0.0007000000000000001",
         "-0.0001",
         "0.0017000000000000001",
         "0.00014000000000000001",
         "0.0024400000000000003"
        ],
        [
         "1963-09-04 00:00:00",
         "-0.0001",
         "0.0006",
         "-0.0006",
         "-0.0034999999999999996",
         "0.0001",
         "0.00014000000000000001",
         "4e-05"
        ],
        [
         "1963-09-05 00:00:00",
         "0.004699999999999999",
         "-0.0009",
         "0.0014000000000000002",
         "-0.0009",
         "0.0",
         "0.00014000000000000001",
         "0.00484"
        ],
        [
         "1963-09-06 00:00:00",
         "-0.0027",
         "-0.0017000000000000001",
         "0.0001",
         "0.0014000000000000002",
         "0.0002",
         "0.00014000000000000001",
         "-0.00256"
        ],
        [
         "1963-09-09 00:00:00",
         "-0.0036",
         "-0.0025",
         "-0.0004",
         "0.0009",
         "0.0012",
         "0.00014000000000000001",
         "-0.0034599999999999995"
        ],
        [
         "1963-09-10 00:00:00",
         "0.0052",
         "-0.0013",
         "0.0043",
         "-0.0001",
         "-0.0016",
         "0.00014000000000000001",
         "0.00534"
        ]
       ],
       "shape": {
        "columns": 7,
        "rows": 15481
       }
      },
      "text/html": [
       "<div>\n",
       "<style scoped>\n",
       "    .dataframe tbody tr th:only-of-type {\n",
       "        vertical-align: middle;\n",
       "    }\n",
       "\n",
       "    .dataframe tbody tr th {\n",
       "        vertical-align: top;\n",
       "    }\n",
       "\n",
       "    .dataframe thead th {\n",
       "        text-align: right;\n",
       "    }\n",
       "</style>\n",
       "<table border=\"1\" class=\"dataframe\">\n",
       "  <thead>\n",
       "    <tr style=\"text-align: right;\">\n",
       "      <th></th>\n",
       "      <th>xmkt</th>\n",
       "      <th>smb</th>\n",
       "      <th>hml</th>\n",
       "      <th>rmw</th>\n",
       "      <th>cma</th>\n",
       "      <th>rf</th>\n",
       "      <th>mkt</th>\n",
       "    </tr>\n",
       "  </thead>\n",
       "  <tbody>\n",
       "    <tr>\n",
       "      <th>1963-07-01</th>\n",
       "      <td>-0.0067</td>\n",
       "      <td>0.0002</td>\n",
       "      <td>-0.0035</td>\n",
       "      <td>0.0003</td>\n",
       "      <td>0.0013</td>\n",
       "      <td>0.00012</td>\n",
       "      <td>-0.00658</td>\n",
       "    </tr>\n",
       "    <tr>\n",
       "      <th>1963-07-02</th>\n",
       "      <td>0.0079</td>\n",
       "      <td>-0.0028</td>\n",
       "      <td>0.0028</td>\n",
       "      <td>-0.0008</td>\n",
       "      <td>-0.0021</td>\n",
       "      <td>0.00012</td>\n",
       "      <td>0.00802</td>\n",
       "    </tr>\n",
       "    <tr>\n",
       "      <th>1963-07-03</th>\n",
       "      <td>0.0063</td>\n",
       "      <td>-0.0018</td>\n",
       "      <td>-0.0010</td>\n",
       "      <td>0.0013</td>\n",
       "      <td>-0.0025</td>\n",
       "      <td>0.00012</td>\n",
       "      <td>0.00642</td>\n",
       "    </tr>\n",
       "    <tr>\n",
       "      <th>1963-07-05</th>\n",
       "      <td>0.0040</td>\n",
       "      <td>0.0009</td>\n",
       "      <td>-0.0028</td>\n",
       "      <td>0.0007</td>\n",
       "      <td>-0.0030</td>\n",
       "      <td>0.00012</td>\n",
       "      <td>0.00412</td>\n",
       "    </tr>\n",
       "    <tr>\n",
       "      <th>1963-07-08</th>\n",
       "      <td>-0.0063</td>\n",
       "      <td>0.0007</td>\n",
       "      <td>-0.0020</td>\n",
       "      <td>-0.0027</td>\n",
       "      <td>0.0006</td>\n",
       "      <td>0.00012</td>\n",
       "      <td>-0.00618</td>\n",
       "    </tr>\n",
       "    <tr>\n",
       "      <th>...</th>\n",
       "      <td>...</td>\n",
       "      <td>...</td>\n",
       "      <td>...</td>\n",
       "      <td>...</td>\n",
       "      <td>...</td>\n",
       "      <td>...</td>\n",
       "      <td>...</td>\n",
       "    </tr>\n",
       "    <tr>\n",
       "      <th>2024-12-24</th>\n",
       "      <td>0.0111</td>\n",
       "      <td>-0.0012</td>\n",
       "      <td>-0.0005</td>\n",
       "      <td>-0.0013</td>\n",
       "      <td>-0.0037</td>\n",
       "      <td>0.00017</td>\n",
       "      <td>0.01127</td>\n",
       "    </tr>\n",
       "    <tr>\n",
       "      <th>2024-12-26</th>\n",
       "      <td>0.0002</td>\n",
       "      <td>0.0109</td>\n",
       "      <td>-0.0019</td>\n",
       "      <td>-0.0044</td>\n",
       "      <td>0.0035</td>\n",
       "      <td>0.00017</td>\n",
       "      <td>0.00037</td>\n",
       "    </tr>\n",
       "    <tr>\n",
       "      <th>2024-12-27</th>\n",
       "      <td>-0.0117</td>\n",
       "      <td>-0.0044</td>\n",
       "      <td>0.0056</td>\n",
       "      <td>0.0041</td>\n",
       "      <td>0.0003</td>\n",
       "      <td>0.00017</td>\n",
       "      <td>-0.01153</td>\n",
       "    </tr>\n",
       "    <tr>\n",
       "      <th>2024-12-30</th>\n",
       "      <td>-0.0109</td>\n",
       "      <td>0.0024</td>\n",
       "      <td>0.0074</td>\n",
       "      <td>0.0055</td>\n",
       "      <td>0.0014</td>\n",
       "      <td>0.00017</td>\n",
       "      <td>-0.01073</td>\n",
       "    </tr>\n",
       "    <tr>\n",
       "      <th>2024-12-31</th>\n",
       "      <td>-0.0046</td>\n",
       "      <td>0.0031</td>\n",
       "      <td>0.0071</td>\n",
       "      <td>0.0033</td>\n",
       "      <td>0.0000</td>\n",
       "      <td>0.00017</td>\n",
       "      <td>-0.00443</td>\n",
       "    </tr>\n",
       "  </tbody>\n",
       "</table>\n",
       "<p>15481 rows × 7 columns</p>\n",
       "</div>"
      ],
      "text/plain": [
       "              xmkt     smb     hml     rmw     cma       rf      mkt\n",
       "1963-07-01 -0.0067  0.0002 -0.0035  0.0003  0.0013  0.00012 -0.00658\n",
       "1963-07-02  0.0079 -0.0028  0.0028 -0.0008 -0.0021  0.00012  0.00802\n",
       "1963-07-03  0.0063 -0.0018 -0.0010  0.0013 -0.0025  0.00012  0.00642\n",
       "1963-07-05  0.0040  0.0009 -0.0028  0.0007 -0.0030  0.00012  0.00412\n",
       "1963-07-08 -0.0063  0.0007 -0.0020 -0.0027  0.0006  0.00012 -0.00618\n",
       "...            ...     ...     ...     ...     ...      ...      ...\n",
       "2024-12-24  0.0111 -0.0012 -0.0005 -0.0013 -0.0037  0.00017  0.01127\n",
       "2024-12-26  0.0002  0.0109 -0.0019 -0.0044  0.0035  0.00017  0.00037\n",
       "2024-12-27 -0.0117 -0.0044  0.0056  0.0041  0.0003  0.00017 -0.01153\n",
       "2024-12-30 -0.0109  0.0024  0.0074  0.0055  0.0014  0.00017 -0.01073\n",
       "2024-12-31 -0.0046  0.0031  0.0071  0.0033  0.0000  0.00017 -0.00443\n",
       "\n",
       "[15481 rows x 7 columns]"
      ]
     },
     "execution_count": 71,
     "metadata": {},
     "output_type": "execute_result"
    }
   ],
   "source": [
    "df_download = df_download.rename(columns={\"Mkt-RF\":\"xmkt\"}) \n",
    "df_download.columns = [f\"{col.lower()}\" for col in df_download.columns]\n",
    "df_download[\"mkt\"] = df_download[\"xmkt\"] + df_download[\"rf\"]\n",
    "df_download.index = pd.to_datetime(df_download.index, format=\"%Y%m%d\") \n",
    "df_download /=100\n",
    "df_download"
   ]
  },
  {
   "cell_type": "code",
   "execution_count": 72,
   "id": "227cda1a",
   "metadata": {},
   "outputs": [],
   "source": [
    "df_download.to_parquet(\"../data/ff_market.parquet\")"
   ]
  },
  {
   "cell_type": "code",
   "execution_count": 48,
   "id": "3abfc012",
   "metadata": {},
   "outputs": [],
   "source": [
    "\n",
    "#df_mergeed = df_replication.merge(df_download, right_index=True, left_index=True)\n",
    "#df_mergeed"
   ]
  }
 ],
 "metadata": {
  "kernelspec": {
   "display_name": "venv",
   "language": "python",
   "name": "python3"
  },
  "language_info": {
   "codemirror_mode": {
    "name": "ipython",
    "version": 3
   },
   "file_extension": ".py",
   "mimetype": "text/x-python",
   "name": "python",
   "nbconvert_exporter": "python",
   "pygments_lexer": "ipython3",
   "version": "3.11.1"
  }
 },
 "nbformat": 4,
 "nbformat_minor": 5
}
