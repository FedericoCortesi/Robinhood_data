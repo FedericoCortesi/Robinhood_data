{
 "cells": [
  {
   "cell_type": "code",
   "execution_count": 4,
   "metadata": {},
   "outputs": [],
   "source": [
    "import zstandard\n",
    "import io\n",
    "import json\n",
    "import time\n",
    "import threading\n",
    "\n",
    "from tqdm import tqdm\n",
    "\n",
    "filepath = \"D:\\\\Torrents\\\\Subreddits\\\\reddit\\\\subreddits24\\\\investing_discussion_submissions.zst\"\n",
    "\n",
    "def process_zst_file(filepath, stop_flag):\n",
    "    with open(filepath, 'rb') as compressed_file:\n",
    "        dctx = zstandard.ZstdDecompressor()\n",
    "        with dctx.stream_reader(compressed_file) as reader:\n",
    "            # Use io.TextIOWrapper to treat the decompressed stream as text\n",
    "            text_reader = io.TextIOWrapper(reader, encoding='utf-8')  # Adjust encoding if needed\n",
    "\n",
    "            i = 0  # Initialize count\n",
    "            out_list = []\n",
    "            unique_subreddits = set()\n",
    "            for line in tqdm(text_reader):\n",
    "                if stop_flag.is_set():\n",
    "                    print(\"Processing interrupted!\")\n",
    "                    return unique_subreddits, out_list  # Return partial results\n",
    "\n",
    "                try:\n",
    "                    data = json.loads(line)  # Parse the JSON string into a dictionary\n",
    "                    subreddit = data[\"subreddit\"]\n",
    "                    if subreddit == \"WallStreetBets\":\n",
    "                        print(\"here\")\n",
    "                        out_list.append(data)\n",
    "                    else:\n",
    "                        unique_subreddits.add(subreddit)\n",
    "                        i += 1\n",
    "                        out_list.append(data)\n",
    "                        # No need for the fixed count break here\n",
    "\n",
    "                except json.JSONDecodeError as e:\n",
    "                    print(f\"Error decoding JSON on line: {line.strip()}. Error: {e}\")\n",
    "                    # Handle the error, maybe skip the line or log it\n",
    "                    continue\n",
    "            print(\"Finished processing the entire file.\")\n",
    "            return unique_subreddits, out_list\n",
    "\n"
   ]
  },
  {
   "cell_type": "code",
   "execution_count": 5,
   "metadata": {},
   "outputs": [
    {
     "name": "stderr",
     "output_type": "stream",
     "text": [
      "0it [00:00, ?it/s]"
     ]
    },
    {
     "name": "stderr",
     "output_type": "stream",
     "text": [
      "26923it [00:01, 15733.94it/s]\n"
     ]
    },
    {
     "name": "stdout",
     "output_type": "stream",
     "text": [
      "Finished processing the entire file.\n"
     ]
    }
   ],
   "source": [
    "stop_event = threading.Event()\n",
    "results = None\n",
    "\n",
    "def run_processor():\n",
    "    global results\n",
    "    results = process_zst_file(filepath, stop_event)\n",
    "\n",
    "processor_thread = threading.Thread(target=run_processor)\n",
    "processor_thread.start()\n"
   ]
  },
  {
   "cell_type": "code",
   "execution_count": null,
   "metadata": {},
   "outputs": [
    {
     "name": "stdout",
     "output_type": "stream",
     "text": [
      "Sending interrupt signal...\n",
      "\n",
      "Results after interruption:\n",
      "Number of unique subreddits found: 6823\n",
      "Number of data entries collected: 24628\n"
     ]
    }
   ],
   "source": [
    "\n",
    "# Simulate some time passing, then decide to interrupt\n",
    "print(\"Sending interrupt signal...\")\n",
    "stop_event.set()\n",
    "processor_thread.join()  # Wait for the thread to finish (gracefully)\n",
    "\n",
    "if results:\n",
    "    unique_subs, data_list = results\n",
    "    print(\"\\\\nResults after interruption:\")\n",
    "    print(f\"Number of unique subreddits found: {len(unique_subs)}\")\n",
    "    print(f\"Number of data entries collected: {len(data_list)}\")\n",
    "else:\n",
    "    print(\"\\\\nNo results obtained (function might have been interrupted very early).\")"
   ]
  },
  {
   "cell_type": "code",
   "execution_count": 7,
   "metadata": {},
   "outputs": [
    {
     "data": {
      "text/plain": [
       "{'_meta': {'removal_type': 'reddit',\n",
       "  'retrieved_2nd_on': 1735812366,\n",
       "  'was_deleted_later': True},\n",
       " 'all_awardings': [],\n",
       " 'allow_live_comments': False,\n",
       " 'approved_at_utc': None,\n",
       " 'approved_by': None,\n",
       " 'archived': False,\n",
       " 'author': 'Dripbydaylight',\n",
       " 'author_flair_background_color': None,\n",
       " 'author_flair_css_class': None,\n",
       " 'author_flair_richtext': [],\n",
       " 'author_flair_template_id': None,\n",
       " 'author_flair_text': None,\n",
       " 'author_flair_text_color': None,\n",
       " 'author_flair_type': 'text',\n",
       " 'author_fullname': 't2_dfluy9hv',\n",
       " 'author_is_blocked': False,\n",
       " 'author_patreon_flair': False,\n",
       " 'author_premium': False,\n",
       " 'awarders': [],\n",
       " 'banned_at_utc': None,\n",
       " 'banned_by': None,\n",
       " 'can_gild': False,\n",
       " 'can_mod_post': False,\n",
       " 'category': None,\n",
       " 'clicked': False,\n",
       " 'content_categories': None,\n",
       " 'contest_mode': False,\n",
       " 'created': 1735682751.0,\n",
       " 'created_utc': 1735682751.0,\n",
       " 'discussion_type': None,\n",
       " 'distinguished': None,\n",
       " 'domain': 'self.investing_discussion',\n",
       " 'downs': 0,\n",
       " 'edited': False,\n",
       " 'gilded': 0,\n",
       " 'gildings': {},\n",
       " 'hidden': False,\n",
       " 'hide_score': False,\n",
       " 'id': '1hqp6v8',\n",
       " 'is_created_from_ads_ui': False,\n",
       " 'is_crosspostable': True,\n",
       " 'is_meta': False,\n",
       " 'is_original_content': False,\n",
       " 'is_reddit_media_domain': False,\n",
       " 'is_robot_indexable': True,\n",
       " 'is_self': True,\n",
       " 'is_video': False,\n",
       " 'likes': None,\n",
       " 'link_flair_background_color': '',\n",
       " 'link_flair_css_class': None,\n",
       " 'link_flair_richtext': [],\n",
       " 'link_flair_text': None,\n",
       " 'link_flair_text_color': 'dark',\n",
       " 'link_flair_type': 'text',\n",
       " 'locked': False,\n",
       " 'media': None,\n",
       " 'media_embed': {},\n",
       " 'media_only': False,\n",
       " 'mod_note': None,\n",
       " 'mod_reason_by': None,\n",
       " 'mod_reason_title': None,\n",
       " 'mod_reports': [],\n",
       " 'name': 't3_1hqp6v8',\n",
       " 'no_follow': True,\n",
       " 'num_comments': 4,\n",
       " 'num_crossposts': 0,\n",
       " 'num_reports': 0,\n",
       " 'over_18': False,\n",
       " 'permalink': '/r/investing_discussion/comments/1hqp6v8/ready_to_start_investing_but_dont_know_how/',\n",
       " 'pinned': False,\n",
       " 'pwls': 6,\n",
       " 'quarantine': False,\n",
       " 'removal_reason': None,\n",
       " 'removed_by': None,\n",
       " 'removed_by_category': None,\n",
       " 'report_reasons': [],\n",
       " 'retrieved_on': 1735682775,\n",
       " 'saved': False,\n",
       " 'score': 1,\n",
       " 'secure_media': None,\n",
       " 'secure_media_embed': {},\n",
       " 'selftext': 'Our step-by-step investing ebook is the perfect guide for beginners! Learn:\\n\\t•\\tWhat stocks to buy\\n\\t•\\tWhich app to use\\n\\t•\\tStrategies to grow your money\\n\\nCreated by expert financial advisors, this guide is built to thrive in any market. Whether you’re just starting out or looking to sharpen your skills, this ebook has everything you need to take control of your financial future.\\n\\nStart investing with confidence today. Click here to get your copy: https://stockmasterclass.co.uk/\\n\\nShare this with anyone looking to grow their wealth.',\n",
       " 'send_replies': True,\n",
       " 'spoiler': False,\n",
       " 'stickied': False,\n",
       " 'subreddit': 'investing_discussion',\n",
       " 'subreddit_id': 't5_2y4av',\n",
       " 'subreddit_name_prefixed': 'r/investing_discussion',\n",
       " 'subreddit_subscribers': 68045,\n",
       " 'subreddit_type': 'public',\n",
       " 'suggested_sort': 'confidence',\n",
       " 'thumbnail': 'self',\n",
       " 'thumbnail_height': None,\n",
       " 'thumbnail_width': None,\n",
       " 'title': 'Ready to Start Investing but Don’t Know How?',\n",
       " 'top_awarded_type': None,\n",
       " 'total_awards_received': 0,\n",
       " 'treatment_tags': [],\n",
       " 'updated_on': 1735682786,\n",
       " 'ups': 1,\n",
       " 'upvote_ratio': 0.6700000166893005,\n",
       " 'url': 'https://www.reddit.com/r/investing_discussion/comments/1hqp6v8/ready_to_start_investing_but_dont_know_how/',\n",
       " 'user_reports': [],\n",
       " 'view_count': None,\n",
       " 'visited': False,\n",
       " 'wls': 6}"
      ]
     },
     "execution_count": 7,
     "metadata": {},
     "output_type": "execute_result"
    }
   ],
   "source": [
    "results[1][-1]"
   ]
  },
  {
   "cell_type": "code",
   "execution_count": 20,
   "metadata": {},
   "outputs": [
    {
     "name": "stdout",
     "output_type": "stream",
     "text": [
      "Formatted UTC date: 2019-01-01 20:06:02 UTC+0000\n"
     ]
    }
   ],
   "source": [
    "import datetime\n",
    "import pytz\n",
    "\n",
    "utc_timestamp_seconds = 1546373162\n",
    "utc_timezone = pytz.utc\n",
    "utc_aware_datetime = datetime.datetime.fromtimestamp(utc_timestamp_seconds, tz=utc_timezone)\n",
    "\n",
    "# Format the datetime object\n",
    "formatted_date = utc_aware_datetime.strftime(\"%Y-%m-%d %H:%M:%S %Z%z\")\n",
    "print(f\"Formatted UTC date: {formatted_date}\")\n"
   ]
  }
 ],
 "metadata": {
  "kernelspec": {
   "display_name": "venv",
   "language": "python",
   "name": "python3"
  },
  "language_info": {
   "codemirror_mode": {
    "name": "ipython",
    "version": 3
   },
   "file_extension": ".py",
   "mimetype": "text/x-python",
   "name": "python",
   "nbconvert_exporter": "python",
   "pygments_lexer": "ipython3",
   "version": "3.11.1"
  }
 },
 "nbformat": 4,
 "nbformat_minor": 2
}
